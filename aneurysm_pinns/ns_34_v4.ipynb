{
 "cells": [
  {
   "cell_type": "code",
   "execution_count": null,
   "id": "1d6e88ef-bf96-4e62-9b47-8e1b112298db",
   "metadata": {},
   "outputs": [
    {
     "name": "stdout",
     "output_type": "stream",
     "text": [
      "Training parameters saved to ns_34_3_params.json\n",
      "Starting training on cuda:1...\n"
     ]
    },
    {
     "data": {
      "application/vnd.jupyter.widget-view+json": {
       "model_id": "f1b92b69ad64499c9c002b29224797d6",
       "version_major": 2,
       "version_minor": 0
      },
      "text/plain": [
       "Epoch 1/1000:   0%|          | 0/2 [00:00<?, ?it/s]"
      ]
     },
     "metadata": {},
     "output_type": "display_data"
    },
    {
     "name": "stdout",
     "output_type": "stream",
     "text": [
      "Epoch 1/1000\n",
      "  Avg Train Loss: 30.455685\n",
      "    Physics Loss: 28.099256\n",
      "    Data Loss   : 2.358552\n",
      "  Avg Val Loss  : 2.339360\n"
     ]
    },
    {
     "data": {
      "application/vnd.jupyter.widget-view+json": {
       "model_id": "4fbb05e8ad45425f98cd1b102b7e2523",
       "version_major": 2,
       "version_minor": 0
      },
      "text/plain": [
       "Epoch 2/1000:   0%|          | 0/2 [00:00<?, ?it/s]"
      ]
     },
     "metadata": {},
     "output_type": "display_data"
    },
    {
     "data": {
      "application/vnd.jupyter.widget-view+json": {
       "model_id": "763eba228ab94956ba9c1ccd78931b0c",
       "version_major": 2,
       "version_minor": 0
      },
      "text/plain": [
       "Epoch 3/1000:   0%|          | 0/2 [00:00<?, ?it/s]"
      ]
     },
     "metadata": {},
     "output_type": "display_data"
    },
    {
     "data": {
      "application/vnd.jupyter.widget-view+json": {
       "model_id": "6e0ec94e27084d64a00437b770426d31",
       "version_major": 2,
       "version_minor": 0
      },
      "text/plain": [
       "Epoch 4/1000:   0%|          | 0/2 [00:00<?, ?it/s]"
      ]
     },
     "metadata": {},
     "output_type": "display_data"
    },
    {
     "data": {
      "application/vnd.jupyter.widget-view+json": {
       "model_id": "63f2750fcfe4433a8e40f16841bf9573",
       "version_major": 2,
       "version_minor": 0
      },
      "text/plain": [
       "Epoch 5/1000:   0%|          | 0/2 [00:00<?, ?it/s]"
      ]
     },
     "metadata": {},
     "output_type": "display_data"
    },
    {
     "data": {
      "application/vnd.jupyter.widget-view+json": {
       "model_id": "c72b3379a3b24a6c8f87b7f1da97727d",
       "version_major": 2,
       "version_minor": 0
      },
      "text/plain": [
       "Epoch 6/1000:   0%|          | 0/2 [00:00<?, ?it/s]"
      ]
     },
     "metadata": {},
     "output_type": "display_data"
    },
    {
     "data": {
      "application/vnd.jupyter.widget-view+json": {
       "model_id": "7e6f687f8e40458ab45d1f57c1ae6e04",
       "version_major": 2,
       "version_minor": 0
      },
      "text/plain": [
       "Epoch 7/1000:   0%|          | 0/2 [00:00<?, ?it/s]"
      ]
     },
     "metadata": {},
     "output_type": "display_data"
    },
    {
     "data": {
      "application/vnd.jupyter.widget-view+json": {
       "model_id": "8613883980df4405a79a3e550f278a21",
       "version_major": 2,
       "version_minor": 0
      },
      "text/plain": [
       "Epoch 8/1000:   0%|          | 0/2 [00:00<?, ?it/s]"
      ]
     },
     "metadata": {},
     "output_type": "display_data"
    },
    {
     "data": {
      "application/vnd.jupyter.widget-view+json": {
       "model_id": "822d6741c93f4d4387358be7fcb1e650",
       "version_major": 2,
       "version_minor": 0
      },
      "text/plain": [
       "Epoch 9/1000:   0%|          | 0/2 [00:00<?, ?it/s]"
      ]
     },
     "metadata": {},
     "output_type": "display_data"
    },
    {
     "data": {
      "application/vnd.jupyter.widget-view+json": {
       "model_id": "fa2b2c88b0df4a488282e9bd41e287d7",
       "version_major": 2,
       "version_minor": 0
      },
      "text/plain": [
       "Epoch 10/1000:   0%|          | 0/2 [00:00<?, ?it/s]"
      ]
     },
     "metadata": {},
     "output_type": "display_data"
    },
    {
     "data": {
      "application/vnd.jupyter.widget-view+json": {
       "model_id": "b7b86bb4ca6048f6aaa97022b184cd3d",
       "version_major": 2,
       "version_minor": 0
      },
      "text/plain": [
       "Epoch 11/1000:   0%|          | 0/2 [00:00<?, ?it/s]"
      ]
     },
     "metadata": {},
     "output_type": "display_data"
    },
    {
     "data": {
      "application/vnd.jupyter.widget-view+json": {
       "model_id": "778019fc5e72401da32cf3f841fda962",
       "version_major": 2,
       "version_minor": 0
      },
      "text/plain": [
       "Epoch 12/1000:   0%|          | 0/2 [00:00<?, ?it/s]"
      ]
     },
     "metadata": {},
     "output_type": "display_data"
    },
    {
     "data": {
      "application/vnd.jupyter.widget-view+json": {
       "model_id": "07c32d4b9a244253beef0d25607ed16f",
       "version_major": 2,
       "version_minor": 0
      },
      "text/plain": [
       "Epoch 13/1000:   0%|          | 0/2 [00:00<?, ?it/s]"
      ]
     },
     "metadata": {},
     "output_type": "display_data"
    },
    {
     "data": {
      "application/vnd.jupyter.widget-view+json": {
       "model_id": "cd57d418a3cf4ccfb0ed03608e619197",
       "version_major": 2,
       "version_minor": 0
      },
      "text/plain": [
       "Epoch 14/1000:   0%|          | 0/2 [00:00<?, ?it/s]"
      ]
     },
     "metadata": {},
     "output_type": "display_data"
    },
    {
     "data": {
      "application/vnd.jupyter.widget-view+json": {
       "model_id": "99fb0ded65e2440b90feb7a455812830",
       "version_major": 2,
       "version_minor": 0
      },
      "text/plain": [
       "Epoch 15/1000:   0%|          | 0/2 [00:00<?, ?it/s]"
      ]
     },
     "metadata": {},
     "output_type": "display_data"
    },
    {
     "data": {
      "application/vnd.jupyter.widget-view+json": {
       "model_id": "d01dc916e99a4acdbda9871cb8172d0a",
       "version_major": 2,
       "version_minor": 0
      },
      "text/plain": [
       "Epoch 16/1000:   0%|          | 0/2 [00:00<?, ?it/s]"
      ]
     },
     "metadata": {},
     "output_type": "display_data"
    },
    {
     "data": {
      "application/vnd.jupyter.widget-view+json": {
       "model_id": "d3214fb1dbe54627ab00c6aaccee68c9",
       "version_major": 2,
       "version_minor": 0
      },
      "text/plain": [
       "Epoch 17/1000:   0%|          | 0/2 [00:00<?, ?it/s]"
      ]
     },
     "metadata": {},
     "output_type": "display_data"
    },
    {
     "data": {
      "application/vnd.jupyter.widget-view+json": {
       "model_id": "0ea49bc69b204360a9e2df46571fe48b",
       "version_major": 2,
       "version_minor": 0
      },
      "text/plain": [
       "Epoch 18/1000:   0%|          | 0/2 [00:00<?, ?it/s]"
      ]
     },
     "metadata": {},
     "output_type": "display_data"
    },
    {
     "data": {
      "application/vnd.jupyter.widget-view+json": {
       "model_id": "06e3bc4427194ca7bb1f4ffc1d8a0383",
       "version_major": 2,
       "version_minor": 0
      },
      "text/plain": [
       "Epoch 19/1000:   0%|          | 0/2 [00:00<?, ?it/s]"
      ]
     },
     "metadata": {},
     "output_type": "display_data"
    },
    {
     "data": {
      "application/vnd.jupyter.widget-view+json": {
       "model_id": "2b87981c10e14434a173106088b84890",
       "version_major": 2,
       "version_minor": 0
      },
      "text/plain": [
       "Epoch 20/1000:   0%|          | 0/2 [00:00<?, ?it/s]"
      ]
     },
     "metadata": {},
     "output_type": "display_data"
    },
    {
     "data": {
      "application/vnd.jupyter.widget-view+json": {
       "model_id": "2328bcb78a9a4b3b959826ece307f0c0",
       "version_major": 2,
       "version_minor": 0
      },
      "text/plain": [
       "Epoch 21/1000:   0%|          | 0/2 [00:00<?, ?it/s]"
      ]
     },
     "metadata": {},
     "output_type": "display_data"
    },
    {
     "data": {
      "application/vnd.jupyter.widget-view+json": {
       "model_id": "c5a2bf9dae08413f807178d68482761e",
       "version_major": 2,
       "version_minor": 0
      },
      "text/plain": [
       "Epoch 22/1000:   0%|          | 0/2 [00:00<?, ?it/s]"
      ]
     },
     "metadata": {},
     "output_type": "display_data"
    },
    {
     "data": {
      "application/vnd.jupyter.widget-view+json": {
       "model_id": "47119250ce774430911eb55e0c724a54",
       "version_major": 2,
       "version_minor": 0
      },
      "text/plain": [
       "Epoch 23/1000:   0%|          | 0/2 [00:00<?, ?it/s]"
      ]
     },
     "metadata": {},
     "output_type": "display_data"
    },
    {
     "data": {
      "application/vnd.jupyter.widget-view+json": {
       "model_id": "634007d7bc6240aba3f44a4acd9ce6d9",
       "version_major": 2,
       "version_minor": 0
      },
      "text/plain": [
       "Epoch 24/1000:   0%|          | 0/2 [00:00<?, ?it/s]"
      ]
     },
     "metadata": {},
     "output_type": "display_data"
    },
    {
     "data": {
      "application/vnd.jupyter.widget-view+json": {
       "model_id": "4f942892230b483b82aae649e3a73715",
       "version_major": 2,
       "version_minor": 0
      },
      "text/plain": [
       "Epoch 25/1000:   0%|          | 0/2 [00:00<?, ?it/s]"
      ]
     },
     "metadata": {},
     "output_type": "display_data"
    },
    {
     "data": {
      "application/vnd.jupyter.widget-view+json": {
       "model_id": "01e746a0541b45d3a1b88de13c7b38c3",
       "version_major": 2,
       "version_minor": 0
      },
      "text/plain": [
       "Epoch 26/1000:   0%|          | 0/2 [00:00<?, ?it/s]"
      ]
     },
     "metadata": {},
     "output_type": "display_data"
    },
    {
     "data": {
      "application/vnd.jupyter.widget-view+json": {
       "model_id": "7b7e9bea9f0c409ba158bad38951e491",
       "version_major": 2,
       "version_minor": 0
      },
      "text/plain": [
       "Epoch 27/1000:   0%|          | 0/2 [00:00<?, ?it/s]"
      ]
     },
     "metadata": {},
     "output_type": "display_data"
    },
    {
     "data": {
      "application/vnd.jupyter.widget-view+json": {
       "model_id": "661c561599514d049b21c14445fb3993",
       "version_major": 2,
       "version_minor": 0
      },
      "text/plain": [
       "Epoch 28/1000:   0%|          | 0/2 [00:00<?, ?it/s]"
      ]
     },
     "metadata": {},
     "output_type": "display_data"
    },
    {
     "data": {
      "application/vnd.jupyter.widget-view+json": {
       "model_id": "b35eb2b35da6487fb7d374da5df31ae1",
       "version_major": 2,
       "version_minor": 0
      },
      "text/plain": [
       "Epoch 29/1000:   0%|          | 0/2 [00:00<?, ?it/s]"
      ]
     },
     "metadata": {},
     "output_type": "display_data"
    },
    {
     "data": {
      "application/vnd.jupyter.widget-view+json": {
       "model_id": "9e049102fe114b7dabc5a723c99c0c71",
       "version_major": 2,
       "version_minor": 0
      },
      "text/plain": [
       "Epoch 30/1000:   0%|          | 0/2 [00:00<?, ?it/s]"
      ]
     },
     "metadata": {},
     "output_type": "display_data"
    },
    {
     "data": {
      "application/vnd.jupyter.widget-view+json": {
       "model_id": "5dfa74df5dbc4e3381929f976a5f93b9",
       "version_major": 2,
       "version_minor": 0
      },
      "text/plain": [
       "Epoch 31/1000:   0%|          | 0/2 [00:00<?, ?it/s]"
      ]
     },
     "metadata": {},
     "output_type": "display_data"
    },
    {
     "data": {
      "application/vnd.jupyter.widget-view+json": {
       "model_id": "a8830d410bdd4a75b4a2a8ed23b0583b",
       "version_major": 2,
       "version_minor": 0
      },
      "text/plain": [
       "Epoch 32/1000:   0%|          | 0/2 [00:00<?, ?it/s]"
      ]
     },
     "metadata": {},
     "output_type": "display_data"
    },
    {
     "data": {
      "application/vnd.jupyter.widget-view+json": {
       "model_id": "ea720e7b1b774b83b7f9ba3bbf3d5e09",
       "version_major": 2,
       "version_minor": 0
      },
      "text/plain": [
       "Epoch 33/1000:   0%|          | 0/2 [00:00<?, ?it/s]"
      ]
     },
     "metadata": {},
     "output_type": "display_data"
    },
    {
     "data": {
      "application/vnd.jupyter.widget-view+json": {
       "model_id": "ec09a1de36004c568523e54509ec05ee",
       "version_major": 2,
       "version_minor": 0
      },
      "text/plain": [
       "Epoch 34/1000:   0%|          | 0/2 [00:00<?, ?it/s]"
      ]
     },
     "metadata": {},
     "output_type": "display_data"
    },
    {
     "data": {
      "application/vnd.jupyter.widget-view+json": {
       "model_id": "2f1da713bf67442092d4cbb8bcc1f410",
       "version_major": 2,
       "version_minor": 0
      },
      "text/plain": [
       "Epoch 35/1000:   0%|          | 0/2 [00:00<?, ?it/s]"
      ]
     },
     "metadata": {},
     "output_type": "display_data"
    },
    {
     "data": {
      "application/vnd.jupyter.widget-view+json": {
       "model_id": "ea7f989ea8d14ab19564e47d95addda6",
       "version_major": 2,
       "version_minor": 0
      },
      "text/plain": [
       "Epoch 36/1000:   0%|          | 0/2 [00:00<?, ?it/s]"
      ]
     },
     "metadata": {},
     "output_type": "display_data"
    },
    {
     "data": {
      "application/vnd.jupyter.widget-view+json": {
       "model_id": "fd7eb37157c342a0b80119e3afd6b5de",
       "version_major": 2,
       "version_minor": 0
      },
      "text/plain": [
       "Epoch 37/1000:   0%|          | 0/2 [00:00<?, ?it/s]"
      ]
     },
     "metadata": {},
     "output_type": "display_data"
    },
    {
     "data": {
      "application/vnd.jupyter.widget-view+json": {
       "model_id": "e8ed900a19a64a7896bdadb843d5e2bd",
       "version_major": 2,
       "version_minor": 0
      },
      "text/plain": [
       "Epoch 38/1000:   0%|          | 0/2 [00:00<?, ?it/s]"
      ]
     },
     "metadata": {},
     "output_type": "display_data"
    },
    {
     "data": {
      "application/vnd.jupyter.widget-view+json": {
       "model_id": "c3c90cb9d9a4472ca429030da6c5dac2",
       "version_major": 2,
       "version_minor": 0
      },
      "text/plain": [
       "Epoch 39/1000:   0%|          | 0/2 [00:00<?, ?it/s]"
      ]
     },
     "metadata": {},
     "output_type": "display_data"
    },
    {
     "data": {
      "application/vnd.jupyter.widget-view+json": {
       "model_id": "03321d6f6575486aaeaca77d0824a84d",
       "version_major": 2,
       "version_minor": 0
      },
      "text/plain": [
       "Epoch 40/1000:   0%|          | 0/2 [00:00<?, ?it/s]"
      ]
     },
     "metadata": {},
     "output_type": "display_data"
    },
    {
     "data": {
      "application/vnd.jupyter.widget-view+json": {
       "model_id": "ea140ab494ed41f69be4d476671fa9b2",
       "version_major": 2,
       "version_minor": 0
      },
      "text/plain": [
       "Epoch 41/1000:   0%|          | 0/2 [00:00<?, ?it/s]"
      ]
     },
     "metadata": {},
     "output_type": "display_data"
    },
    {
     "data": {
      "application/vnd.jupyter.widget-view+json": {
       "model_id": "0c5c5accc00f486f80aa954784757c55",
       "version_major": 2,
       "version_minor": 0
      },
      "text/plain": [
       "Epoch 42/1000:   0%|          | 0/2 [00:00<?, ?it/s]"
      ]
     },
     "metadata": {},
     "output_type": "display_data"
    },
    {
     "data": {
      "application/vnd.jupyter.widget-view+json": {
       "model_id": "5dd4235f737147b480030b283d6231ea",
       "version_major": 2,
       "version_minor": 0
      },
      "text/plain": [
       "Epoch 43/1000:   0%|          | 0/2 [00:00<?, ?it/s]"
      ]
     },
     "metadata": {},
     "output_type": "display_data"
    },
    {
     "data": {
      "application/vnd.jupyter.widget-view+json": {
       "model_id": "e12885bb623946658214149db2c4b9fd",
       "version_major": 2,
       "version_minor": 0
      },
      "text/plain": [
       "Epoch 44/1000:   0%|          | 0/2 [00:00<?, ?it/s]"
      ]
     },
     "metadata": {},
     "output_type": "display_data"
    },
    {
     "data": {
      "application/vnd.jupyter.widget-view+json": {
       "model_id": "c2968e644e664b0dba823fa159659554",
       "version_major": 2,
       "version_minor": 0
      },
      "text/plain": [
       "Epoch 45/1000:   0%|          | 0/2 [00:00<?, ?it/s]"
      ]
     },
     "metadata": {},
     "output_type": "display_data"
    },
    {
     "data": {
      "application/vnd.jupyter.widget-view+json": {
       "model_id": "c573acc887a847cb9322ff4045e2f481",
       "version_major": 2,
       "version_minor": 0
      },
      "text/plain": [
       "Epoch 46/1000:   0%|          | 0/2 [00:00<?, ?it/s]"
      ]
     },
     "metadata": {},
     "output_type": "display_data"
    },
    {
     "data": {
      "application/vnd.jupyter.widget-view+json": {
       "model_id": "25b10345ebe546a49c23b2f2fe6bfe0c",
       "version_major": 2,
       "version_minor": 0
      },
      "text/plain": [
       "Epoch 47/1000:   0%|          | 0/2 [00:00<?, ?it/s]"
      ]
     },
     "metadata": {},
     "output_type": "display_data"
    },
    {
     "data": {
      "application/vnd.jupyter.widget-view+json": {
       "model_id": "a43289d88f9b41119f52a96b1921f2b6",
       "version_major": 2,
       "version_minor": 0
      },
      "text/plain": [
       "Epoch 48/1000:   0%|          | 0/2 [00:00<?, ?it/s]"
      ]
     },
     "metadata": {},
     "output_type": "display_data"
    },
    {
     "data": {
      "application/vnd.jupyter.widget-view+json": {
       "model_id": "01c7831e14224cb8bc162e289bae3176",
       "version_major": 2,
       "version_minor": 0
      },
      "text/plain": [
       "Epoch 49/1000:   0%|          | 0/2 [00:00<?, ?it/s]"
      ]
     },
     "metadata": {},
     "output_type": "display_data"
    },
    {
     "data": {
      "application/vnd.jupyter.widget-view+json": {
       "model_id": "2cf215161e0546b2bf6bcc265476484d",
       "version_major": 2,
       "version_minor": 0
      },
      "text/plain": [
       "Epoch 50/1000:   0%|          | 0/2 [00:00<?, ?it/s]"
      ]
     },
     "metadata": {},
     "output_type": "display_data"
    },
    {
     "name": "stdout",
     "output_type": "stream",
     "text": [
      "Epoch 50/1000\n",
      "  Avg Train Loss: 1.750977\n",
      "    Physics Loss: 0.000826\n",
      "    Data Loss   : 1.832619\n",
      "  Avg Val Loss  : 1.832748\n"
     ]
    },
    {
     "data": {
      "application/vnd.jupyter.widget-view+json": {
       "model_id": "392c8a7d6a0c473fb8b4e0763d26efd5",
       "version_major": 2,
       "version_minor": 0
      },
      "text/plain": [
       "Epoch 51/1000:   0%|          | 0/2 [00:00<?, ?it/s]"
      ]
     },
     "metadata": {},
     "output_type": "display_data"
    },
    {
     "data": {
      "application/vnd.jupyter.widget-view+json": {
       "model_id": "202a845240b64d9e97a195cfe0e359d0",
       "version_major": 2,
       "version_minor": 0
      },
      "text/plain": [
       "Epoch 52/1000:   0%|          | 0/2 [00:00<?, ?it/s]"
      ]
     },
     "metadata": {},
     "output_type": "display_data"
    },
    {
     "data": {
      "application/vnd.jupyter.widget-view+json": {
       "model_id": "ab0030a76dc045f58ed8b8e33884ed66",
       "version_major": 2,
       "version_minor": 0
      },
      "text/plain": [
       "Epoch 53/1000:   0%|          | 0/2 [00:00<?, ?it/s]"
      ]
     },
     "metadata": {},
     "output_type": "display_data"
    },
    {
     "data": {
      "application/vnd.jupyter.widget-view+json": {
       "model_id": "8fe2e5aa209d447aac9802f7d412b8f4",
       "version_major": 2,
       "version_minor": 0
      },
      "text/plain": [
       "Epoch 54/1000:   0%|          | 0/2 [00:00<?, ?it/s]"
      ]
     },
     "metadata": {},
     "output_type": "display_data"
    },
    {
     "data": {
      "application/vnd.jupyter.widget-view+json": {
       "model_id": "aa0e90af7cdc4cf2ac67a48a830ed9f6",
       "version_major": 2,
       "version_minor": 0
      },
      "text/plain": [
       "Epoch 55/1000:   0%|          | 0/2 [00:00<?, ?it/s]"
      ]
     },
     "metadata": {},
     "output_type": "display_data"
    },
    {
     "data": {
      "application/vnd.jupyter.widget-view+json": {
       "model_id": "4d6ba5040ad34bd1aeb01038c80ee449",
       "version_major": 2,
       "version_minor": 0
      },
      "text/plain": [
       "Epoch 56/1000:   0%|          | 0/2 [00:00<?, ?it/s]"
      ]
     },
     "metadata": {},
     "output_type": "display_data"
    },
    {
     "data": {
      "application/vnd.jupyter.widget-view+json": {
       "model_id": "1bb45fb7da6a4782a6d146c6e57c8f4e",
       "version_major": 2,
       "version_minor": 0
      },
      "text/plain": [
       "Epoch 57/1000:   0%|          | 0/2 [00:00<?, ?it/s]"
      ]
     },
     "metadata": {},
     "output_type": "display_data"
    },
    {
     "data": {
      "application/vnd.jupyter.widget-view+json": {
       "model_id": "d4cf82eb603d4f58855dfe875647ca1e",
       "version_major": 2,
       "version_minor": 0
      },
      "text/plain": [
       "Epoch 58/1000:   0%|          | 0/2 [00:00<?, ?it/s]"
      ]
     },
     "metadata": {},
     "output_type": "display_data"
    },
    {
     "data": {
      "application/vnd.jupyter.widget-view+json": {
       "model_id": "d450287e0e4048eb88cec3535a085c07",
       "version_major": 2,
       "version_minor": 0
      },
      "text/plain": [
       "Epoch 59/1000:   0%|          | 0/2 [00:00<?, ?it/s]"
      ]
     },
     "metadata": {},
     "output_type": "display_data"
    },
    {
     "data": {
      "application/vnd.jupyter.widget-view+json": {
       "model_id": "20a8e8d628fd43d5b5d5acf5ee898d77",
       "version_major": 2,
       "version_minor": 0
      },
      "text/plain": [
       "Epoch 60/1000:   0%|          | 0/2 [00:00<?, ?it/s]"
      ]
     },
     "metadata": {},
     "output_type": "display_data"
    },
    {
     "data": {
      "application/vnd.jupyter.widget-view+json": {
       "model_id": "964f2ff2f9e546dba523cdca1125448b",
       "version_major": 2,
       "version_minor": 0
      },
      "text/plain": [
       "Epoch 61/1000:   0%|          | 0/2 [00:00<?, ?it/s]"
      ]
     },
     "metadata": {},
     "output_type": "display_data"
    },
    {
     "data": {
      "application/vnd.jupyter.widget-view+json": {
       "model_id": "e903fca54c0d4e21bf511e8987735eb3",
       "version_major": 2,
       "version_minor": 0
      },
      "text/plain": [
       "Epoch 62/1000:   0%|          | 0/2 [00:00<?, ?it/s]"
      ]
     },
     "metadata": {},
     "output_type": "display_data"
    },
    {
     "data": {
      "application/vnd.jupyter.widget-view+json": {
       "model_id": "0d5dacfd12ac4752a0699d9297680f74",
       "version_major": 2,
       "version_minor": 0
      },
      "text/plain": [
       "Epoch 63/1000:   0%|          | 0/2 [00:00<?, ?it/s]"
      ]
     },
     "metadata": {},
     "output_type": "display_data"
    },
    {
     "data": {
      "application/vnd.jupyter.widget-view+json": {
       "model_id": "3e65f9fbb6a645c194359bdfd58b2f0b",
       "version_major": 2,
       "version_minor": 0
      },
      "text/plain": [
       "Epoch 64/1000:   0%|          | 0/2 [00:00<?, ?it/s]"
      ]
     },
     "metadata": {},
     "output_type": "display_data"
    },
    {
     "data": {
      "application/vnd.jupyter.widget-view+json": {
       "model_id": "2a20b7ebcf2b47b6bb7283f7bcf8e266",
       "version_major": 2,
       "version_minor": 0
      },
      "text/plain": [
       "Epoch 65/1000:   0%|          | 0/2 [00:00<?, ?it/s]"
      ]
     },
     "metadata": {},
     "output_type": "display_data"
    },
    {
     "data": {
      "application/vnd.jupyter.widget-view+json": {
       "model_id": "26a5ebfd27e34bf6a344bddf9e91819e",
       "version_major": 2,
       "version_minor": 0
      },
      "text/plain": [
       "Epoch 66/1000:   0%|          | 0/2 [00:00<?, ?it/s]"
      ]
     },
     "metadata": {},
     "output_type": "display_data"
    },
    {
     "data": {
      "application/vnd.jupyter.widget-view+json": {
       "model_id": "9356466ab8b944f5a73fef7ab7b14647",
       "version_major": 2,
       "version_minor": 0
      },
      "text/plain": [
       "Epoch 67/1000:   0%|          | 0/2 [00:00<?, ?it/s]"
      ]
     },
     "metadata": {},
     "output_type": "display_data"
    },
    {
     "data": {
      "application/vnd.jupyter.widget-view+json": {
       "model_id": "fff9844071aa41d7906293ed2e6756ac",
       "version_major": 2,
       "version_minor": 0
      },
      "text/plain": [
       "Epoch 68/1000:   0%|          | 0/2 [00:00<?, ?it/s]"
      ]
     },
     "metadata": {},
     "output_type": "display_data"
    },
    {
     "data": {
      "application/vnd.jupyter.widget-view+json": {
       "model_id": "8d8aa892207b41dda29b21d1a5019e50",
       "version_major": 2,
       "version_minor": 0
      },
      "text/plain": [
       "Epoch 69/1000:   0%|          | 0/2 [00:00<?, ?it/s]"
      ]
     },
     "metadata": {},
     "output_type": "display_data"
    },
    {
     "data": {
      "application/vnd.jupyter.widget-view+json": {
       "model_id": "7d853d1e9a2240a5943fa3ef4a5a62d8",
       "version_major": 2,
       "version_minor": 0
      },
      "text/plain": [
       "Epoch 70/1000:   0%|          | 0/2 [00:00<?, ?it/s]"
      ]
     },
     "metadata": {},
     "output_type": "display_data"
    },
    {
     "data": {
      "application/vnd.jupyter.widget-view+json": {
       "model_id": "c72b20f502dc44b88348bc6df27105d9",
       "version_major": 2,
       "version_minor": 0
      },
      "text/plain": [
       "Epoch 71/1000:   0%|          | 0/2 [00:00<?, ?it/s]"
      ]
     },
     "metadata": {},
     "output_type": "display_data"
    },
    {
     "data": {
      "application/vnd.jupyter.widget-view+json": {
       "model_id": "391c43f115524b19a2f336fc2b1fcb57",
       "version_major": 2,
       "version_minor": 0
      },
      "text/plain": [
       "Epoch 72/1000:   0%|          | 0/2 [00:00<?, ?it/s]"
      ]
     },
     "metadata": {},
     "output_type": "display_data"
    },
    {
     "data": {
      "application/vnd.jupyter.widget-view+json": {
       "model_id": "bea4a60ce71448179adf220141bcd3c6",
       "version_major": 2,
       "version_minor": 0
      },
      "text/plain": [
       "Epoch 73/1000:   0%|          | 0/2 [00:00<?, ?it/s]"
      ]
     },
     "metadata": {},
     "output_type": "display_data"
    },
    {
     "data": {
      "application/vnd.jupyter.widget-view+json": {
       "model_id": "5065190687814798b72124444effa914",
       "version_major": 2,
       "version_minor": 0
      },
      "text/plain": [
       "Epoch 74/1000:   0%|          | 0/2 [00:00<?, ?it/s]"
      ]
     },
     "metadata": {},
     "output_type": "display_data"
    },
    {
     "data": {
      "application/vnd.jupyter.widget-view+json": {
       "model_id": "b8fcff531475475089c4ac5e3dc99f21",
       "version_major": 2,
       "version_minor": 0
      },
      "text/plain": [
       "Epoch 75/1000:   0%|          | 0/2 [00:00<?, ?it/s]"
      ]
     },
     "metadata": {},
     "output_type": "display_data"
    },
    {
     "data": {
      "application/vnd.jupyter.widget-view+json": {
       "model_id": "f0c5ccafead6428d923841ff97cb72a7",
       "version_major": 2,
       "version_minor": 0
      },
      "text/plain": [
       "Epoch 76/1000:   0%|          | 0/2 [00:00<?, ?it/s]"
      ]
     },
     "metadata": {},
     "output_type": "display_data"
    },
    {
     "data": {
      "application/vnd.jupyter.widget-view+json": {
       "model_id": "2e9c74cf667d4f009fd15e136bf26aab",
       "version_major": 2,
       "version_minor": 0
      },
      "text/plain": [
       "Epoch 77/1000:   0%|          | 0/2 [00:00<?, ?it/s]"
      ]
     },
     "metadata": {},
     "output_type": "display_data"
    },
    {
     "data": {
      "application/vnd.jupyter.widget-view+json": {
       "model_id": "653236dba021403fae9238e3220f9788",
       "version_major": 2,
       "version_minor": 0
      },
      "text/plain": [
       "Epoch 78/1000:   0%|          | 0/2 [00:00<?, ?it/s]"
      ]
     },
     "metadata": {},
     "output_type": "display_data"
    },
    {
     "data": {
      "application/vnd.jupyter.widget-view+json": {
       "model_id": "f19e94e57cbd438eba3e92918e7fc3fd",
       "version_major": 2,
       "version_minor": 0
      },
      "text/plain": [
       "Epoch 79/1000:   0%|          | 0/2 [00:00<?, ?it/s]"
      ]
     },
     "metadata": {},
     "output_type": "display_data"
    },
    {
     "data": {
      "application/vnd.jupyter.widget-view+json": {
       "model_id": "fc64b6d3cee04196b77eaf82c0f10849",
       "version_major": 2,
       "version_minor": 0
      },
      "text/plain": [
       "Epoch 80/1000:   0%|          | 0/2 [00:00<?, ?it/s]"
      ]
     },
     "metadata": {},
     "output_type": "display_data"
    },
    {
     "data": {
      "application/vnd.jupyter.widget-view+json": {
       "model_id": "a35c5b546d924462b5fc4ac7d32b6d24",
       "version_major": 2,
       "version_minor": 0
      },
      "text/plain": [
       "Epoch 81/1000:   0%|          | 0/2 [00:00<?, ?it/s]"
      ]
     },
     "metadata": {},
     "output_type": "display_data"
    },
    {
     "data": {
      "application/vnd.jupyter.widget-view+json": {
       "model_id": "b9964043088e44f5bb3876c56726ab9b",
       "version_major": 2,
       "version_minor": 0
      },
      "text/plain": [
       "Epoch 82/1000:   0%|          | 0/2 [00:00<?, ?it/s]"
      ]
     },
     "metadata": {},
     "output_type": "display_data"
    },
    {
     "data": {
      "application/vnd.jupyter.widget-view+json": {
       "model_id": "22400c256437456aadcecbb611838ccc",
       "version_major": 2,
       "version_minor": 0
      },
      "text/plain": [
       "Epoch 83/1000:   0%|          | 0/2 [00:00<?, ?it/s]"
      ]
     },
     "metadata": {},
     "output_type": "display_data"
    },
    {
     "data": {
      "application/vnd.jupyter.widget-view+json": {
       "model_id": "bd5b7a69725640a3b8866f86a43ff3f8",
       "version_major": 2,
       "version_minor": 0
      },
      "text/plain": [
       "Epoch 84/1000:   0%|          | 0/2 [00:00<?, ?it/s]"
      ]
     },
     "metadata": {},
     "output_type": "display_data"
    },
    {
     "data": {
      "application/vnd.jupyter.widget-view+json": {
       "model_id": "cab4d7a1ae4d49b3963451ee1ec94cfd",
       "version_major": 2,
       "version_minor": 0
      },
      "text/plain": [
       "Epoch 85/1000:   0%|          | 0/2 [00:00<?, ?it/s]"
      ]
     },
     "metadata": {},
     "output_type": "display_data"
    },
    {
     "data": {
      "application/vnd.jupyter.widget-view+json": {
       "model_id": "a2253d4e916a493dad33cd0862281e34",
       "version_major": 2,
       "version_minor": 0
      },
      "text/plain": [
       "Epoch 86/1000:   0%|          | 0/2 [00:00<?, ?it/s]"
      ]
     },
     "metadata": {},
     "output_type": "display_data"
    },
    {
     "data": {
      "application/vnd.jupyter.widget-view+json": {
       "model_id": "a72e2b51b330428fb27d33bac806226f",
       "version_major": 2,
       "version_minor": 0
      },
      "text/plain": [
       "Epoch 87/1000:   0%|          | 0/2 [00:00<?, ?it/s]"
      ]
     },
     "metadata": {},
     "output_type": "display_data"
    },
    {
     "data": {
      "application/vnd.jupyter.widget-view+json": {
       "model_id": "2d1fe9273fcb41328888aadfc62129d2",
       "version_major": 2,
       "version_minor": 0
      },
      "text/plain": [
       "Epoch 88/1000:   0%|          | 0/2 [00:00<?, ?it/s]"
      ]
     },
     "metadata": {},
     "output_type": "display_data"
    },
    {
     "data": {
      "application/vnd.jupyter.widget-view+json": {
       "model_id": "c78fb600148b4877b55e36da8a7c4a6d",
       "version_major": 2,
       "version_minor": 0
      },
      "text/plain": [
       "Epoch 89/1000:   0%|          | 0/2 [00:00<?, ?it/s]"
      ]
     },
     "metadata": {},
     "output_type": "display_data"
    },
    {
     "data": {
      "application/vnd.jupyter.widget-view+json": {
       "model_id": "6fbf564e199a4f2b9b59e87d35bca704",
       "version_major": 2,
       "version_minor": 0
      },
      "text/plain": [
       "Epoch 90/1000:   0%|          | 0/2 [00:00<?, ?it/s]"
      ]
     },
     "metadata": {},
     "output_type": "display_data"
    },
    {
     "data": {
      "application/vnd.jupyter.widget-view+json": {
       "model_id": "ff26c5de135341c0939d31f47f23f8f9",
       "version_major": 2,
       "version_minor": 0
      },
      "text/plain": [
       "Epoch 91/1000:   0%|          | 0/2 [00:00<?, ?it/s]"
      ]
     },
     "metadata": {},
     "output_type": "display_data"
    },
    {
     "data": {
      "application/vnd.jupyter.widget-view+json": {
       "model_id": "e34b20d5132949efb5e675f8b72712ff",
       "version_major": 2,
       "version_minor": 0
      },
      "text/plain": [
       "Epoch 92/1000:   0%|          | 0/2 [00:00<?, ?it/s]"
      ]
     },
     "metadata": {},
     "output_type": "display_data"
    },
    {
     "data": {
      "application/vnd.jupyter.widget-view+json": {
       "model_id": "3fd0413e257a445986664a6ba76f86d1",
       "version_major": 2,
       "version_minor": 0
      },
      "text/plain": [
       "Epoch 93/1000:   0%|          | 0/2 [00:00<?, ?it/s]"
      ]
     },
     "metadata": {},
     "output_type": "display_data"
    },
    {
     "data": {
      "application/vnd.jupyter.widget-view+json": {
       "model_id": "94f6bef609314c7b80aa4fb0842723d2",
       "version_major": 2,
       "version_minor": 0
      },
      "text/plain": [
       "Epoch 94/1000:   0%|          | 0/2 [00:00<?, ?it/s]"
      ]
     },
     "metadata": {},
     "output_type": "display_data"
    },
    {
     "data": {
      "application/vnd.jupyter.widget-view+json": {
       "model_id": "6b0bef8bc58f4a07a50d590bd34ccf4b",
       "version_major": 2,
       "version_minor": 0
      },
      "text/plain": [
       "Epoch 95/1000:   0%|          | 0/2 [00:00<?, ?it/s]"
      ]
     },
     "metadata": {},
     "output_type": "display_data"
    },
    {
     "data": {
      "application/vnd.jupyter.widget-view+json": {
       "model_id": "b0fad86f94c54a719c5a3418bd1733f5",
       "version_major": 2,
       "version_minor": 0
      },
      "text/plain": [
       "Epoch 96/1000:   0%|          | 0/2 [00:00<?, ?it/s]"
      ]
     },
     "metadata": {},
     "output_type": "display_data"
    },
    {
     "data": {
      "application/vnd.jupyter.widget-view+json": {
       "model_id": "5af30888a3934277ac0c359599134e2c",
       "version_major": 2,
       "version_minor": 0
      },
      "text/plain": [
       "Epoch 97/1000:   0%|          | 0/2 [00:00<?, ?it/s]"
      ]
     },
     "metadata": {},
     "output_type": "display_data"
    },
    {
     "data": {
      "application/vnd.jupyter.widget-view+json": {
       "model_id": "0615755f46ba4feaba4666f455c0cd1b",
       "version_major": 2,
       "version_minor": 0
      },
      "text/plain": [
       "Epoch 98/1000:   0%|          | 0/2 [00:00<?, ?it/s]"
      ]
     },
     "metadata": {},
     "output_type": "display_data"
    },
    {
     "data": {
      "application/vnd.jupyter.widget-view+json": {
       "model_id": "6fb9eda1b3b44746a9bbde0a3a2ac919",
       "version_major": 2,
       "version_minor": 0
      },
      "text/plain": [
       "Epoch 99/1000:   0%|          | 0/2 [00:00<?, ?it/s]"
      ]
     },
     "metadata": {},
     "output_type": "display_data"
    },
    {
     "data": {
      "application/vnd.jupyter.widget-view+json": {
       "model_id": "28c91e65e083400dabd495b84a07187d",
       "version_major": 2,
       "version_minor": 0
      },
      "text/plain": [
       "Epoch 100/1000:   0%|          | 0/2 [00:00<?, ?it/s]"
      ]
     },
     "metadata": {},
     "output_type": "display_data"
    },
    {
     "name": "stdout",
     "output_type": "stream",
     "text": [
      "Epoch 100/1000\n",
      "  Avg Train Loss: 0.896923\n",
      "    Physics Loss: 0.000667\n",
      "    Data Loss   : 0.984896\n",
      "  Avg Val Loss  : 0.974779\n"
     ]
    },
    {
     "data": {
      "application/vnd.jupyter.widget-view+json": {
       "model_id": "499b8ba333904cb48ff58ac6f5445d02",
       "version_major": 2,
       "version_minor": 0
      },
      "text/plain": [
       "Epoch 101/1000:   0%|          | 0/2 [00:00<?, ?it/s]"
      ]
     },
     "metadata": {},
     "output_type": "display_data"
    },
    {
     "data": {
      "application/vnd.jupyter.widget-view+json": {
       "model_id": "e8f2ebb6d45343308840f73e58007efd",
       "version_major": 2,
       "version_minor": 0
      },
      "text/plain": [
       "Epoch 102/1000:   0%|          | 0/2 [00:00<?, ?it/s]"
      ]
     },
     "metadata": {},
     "output_type": "display_data"
    },
    {
     "data": {
      "application/vnd.jupyter.widget-view+json": {
       "model_id": "217857921553470b95285af7bf51d5be",
       "version_major": 2,
       "version_minor": 0
      },
      "text/plain": [
       "Epoch 103/1000:   0%|          | 0/2 [00:00<?, ?it/s]"
      ]
     },
     "metadata": {},
     "output_type": "display_data"
    },
    {
     "data": {
      "application/vnd.jupyter.widget-view+json": {
       "model_id": "c4264ff02497452b9da9228b10cd26a9",
       "version_major": 2,
       "version_minor": 0
      },
      "text/plain": [
       "Epoch 104/1000:   0%|          | 0/2 [00:00<?, ?it/s]"
      ]
     },
     "metadata": {},
     "output_type": "display_data"
    },
    {
     "data": {
      "application/vnd.jupyter.widget-view+json": {
       "model_id": "9b1cae7be9f44c0eb9b31347d5213fd7",
       "version_major": 2,
       "version_minor": 0
      },
      "text/plain": [
       "Epoch 105/1000:   0%|          | 0/2 [00:00<?, ?it/s]"
      ]
     },
     "metadata": {},
     "output_type": "display_data"
    },
    {
     "data": {
      "application/vnd.jupyter.widget-view+json": {
       "model_id": "0d88a461591644809aa337645d909d0b",
       "version_major": 2,
       "version_minor": 0
      },
      "text/plain": [
       "Epoch 106/1000:   0%|          | 0/2 [00:00<?, ?it/s]"
      ]
     },
     "metadata": {},
     "output_type": "display_data"
    },
    {
     "data": {
      "application/vnd.jupyter.widget-view+json": {
       "model_id": "710ab964cfa642bcbf4f815431e1c794",
       "version_major": 2,
       "version_minor": 0
      },
      "text/plain": [
       "Epoch 107/1000:   0%|          | 0/2 [00:00<?, ?it/s]"
      ]
     },
     "metadata": {},
     "output_type": "display_data"
    },
    {
     "data": {
      "application/vnd.jupyter.widget-view+json": {
       "model_id": "e4826e4cfbbd41968a224769812c5e07",
       "version_major": 2,
       "version_minor": 0
      },
      "text/plain": [
       "Epoch 108/1000:   0%|          | 0/2 [00:00<?, ?it/s]"
      ]
     },
     "metadata": {},
     "output_type": "display_data"
    },
    {
     "data": {
      "application/vnd.jupyter.widget-view+json": {
       "model_id": "ce6b6cf0ee6c45d18adbf0879442a342",
       "version_major": 2,
       "version_minor": 0
      },
      "text/plain": [
       "Epoch 109/1000:   0%|          | 0/2 [00:00<?, ?it/s]"
      ]
     },
     "metadata": {},
     "output_type": "display_data"
    },
    {
     "data": {
      "application/vnd.jupyter.widget-view+json": {
       "model_id": "66496adc86dc4a3699758bcc4e564ad4",
       "version_major": 2,
       "version_minor": 0
      },
      "text/plain": [
       "Epoch 110/1000:   0%|          | 0/2 [00:00<?, ?it/s]"
      ]
     },
     "metadata": {},
     "output_type": "display_data"
    },
    {
     "data": {
      "application/vnd.jupyter.widget-view+json": {
       "model_id": "b734ad96c89d490194c8a48c2e25db4a",
       "version_major": 2,
       "version_minor": 0
      },
      "text/plain": [
       "Epoch 111/1000:   0%|          | 0/2 [00:00<?, ?it/s]"
      ]
     },
     "metadata": {},
     "output_type": "display_data"
    },
    {
     "data": {
      "application/vnd.jupyter.widget-view+json": {
       "model_id": "69d5885618a14f3290c1a2744e895af3",
       "version_major": 2,
       "version_minor": 0
      },
      "text/plain": [
       "Epoch 112/1000:   0%|          | 0/2 [00:00<?, ?it/s]"
      ]
     },
     "metadata": {},
     "output_type": "display_data"
    },
    {
     "data": {
      "application/vnd.jupyter.widget-view+json": {
       "model_id": "dc872b8517524fc38a6e857ae5a18acf",
       "version_major": 2,
       "version_minor": 0
      },
      "text/plain": [
       "Epoch 113/1000:   0%|          | 0/2 [00:00<?, ?it/s]"
      ]
     },
     "metadata": {},
     "output_type": "display_data"
    },
    {
     "data": {
      "application/vnd.jupyter.widget-view+json": {
       "model_id": "0321739c4148409c9ceee3a7b364a05e",
       "version_major": 2,
       "version_minor": 0
      },
      "text/plain": [
       "Epoch 114/1000:   0%|          | 0/2 [00:00<?, ?it/s]"
      ]
     },
     "metadata": {},
     "output_type": "display_data"
    },
    {
     "data": {
      "application/vnd.jupyter.widget-view+json": {
       "model_id": "5671695381e74f7e835b51a89bed47ef",
       "version_major": 2,
       "version_minor": 0
      },
      "text/plain": [
       "Epoch 115/1000:   0%|          | 0/2 [00:00<?, ?it/s]"
      ]
     },
     "metadata": {},
     "output_type": "display_data"
    },
    {
     "data": {
      "application/vnd.jupyter.widget-view+json": {
       "model_id": "f834103a96aa4a1fa43f5682ed2b5602",
       "version_major": 2,
       "version_minor": 0
      },
      "text/plain": [
       "Epoch 116/1000:   0%|          | 0/2 [00:00<?, ?it/s]"
      ]
     },
     "metadata": {},
     "output_type": "display_data"
    },
    {
     "data": {
      "application/vnd.jupyter.widget-view+json": {
       "model_id": "05d21cd9bf9941bdb6d09a6c26f9a24a",
       "version_major": 2,
       "version_minor": 0
      },
      "text/plain": [
       "Epoch 117/1000:   0%|          | 0/2 [00:00<?, ?it/s]"
      ]
     },
     "metadata": {},
     "output_type": "display_data"
    },
    {
     "data": {
      "application/vnd.jupyter.widget-view+json": {
       "model_id": "45d94af9f5764698afeddb3aa17bc77f",
       "version_major": 2,
       "version_minor": 0
      },
      "text/plain": [
       "Epoch 118/1000:   0%|          | 0/2 [00:00<?, ?it/s]"
      ]
     },
     "metadata": {},
     "output_type": "display_data"
    },
    {
     "data": {
      "application/vnd.jupyter.widget-view+json": {
       "model_id": "694670ed472f42538e8adf0f8dcf5faa",
       "version_major": 2,
       "version_minor": 0
      },
      "text/plain": [
       "Epoch 119/1000:   0%|          | 0/2 [00:00<?, ?it/s]"
      ]
     },
     "metadata": {},
     "output_type": "display_data"
    },
    {
     "data": {
      "application/vnd.jupyter.widget-view+json": {
       "model_id": "1e525033a63e4b2a934f37b7e344b862",
       "version_major": 2,
       "version_minor": 0
      },
      "text/plain": [
       "Epoch 120/1000:   0%|          | 0/2 [00:00<?, ?it/s]"
      ]
     },
     "metadata": {},
     "output_type": "display_data"
    },
    {
     "data": {
      "application/vnd.jupyter.widget-view+json": {
       "model_id": "11b99b14737740f38e039a14325ed1cd",
       "version_major": 2,
       "version_minor": 0
      },
      "text/plain": [
       "Epoch 121/1000:   0%|          | 0/2 [00:00<?, ?it/s]"
      ]
     },
     "metadata": {},
     "output_type": "display_data"
    },
    {
     "data": {
      "application/vnd.jupyter.widget-view+json": {
       "model_id": "7cb086f230474c578ded55fb9a80e0cd",
       "version_major": 2,
       "version_minor": 0
      },
      "text/plain": [
       "Epoch 122/1000:   0%|          | 0/2 [00:00<?, ?it/s]"
      ]
     },
     "metadata": {},
     "output_type": "display_data"
    },
    {
     "data": {
      "application/vnd.jupyter.widget-view+json": {
       "model_id": "65a56f5680354c2ab958a6d0f47ebe3e",
       "version_major": 2,
       "version_minor": 0
      },
      "text/plain": [
       "Epoch 123/1000:   0%|          | 0/2 [00:00<?, ?it/s]"
      ]
     },
     "metadata": {},
     "output_type": "display_data"
    },
    {
     "data": {
      "application/vnd.jupyter.widget-view+json": {
       "model_id": "486cf5dc9c0c472aba3e9a3417112b85",
       "version_major": 2,
       "version_minor": 0
      },
      "text/plain": [
       "Epoch 124/1000:   0%|          | 0/2 [00:00<?, ?it/s]"
      ]
     },
     "metadata": {},
     "output_type": "display_data"
    },
    {
     "data": {
      "application/vnd.jupyter.widget-view+json": {
       "model_id": "ef48ec4bb9c142e1a2ff3ab0d42e7db9",
       "version_major": 2,
       "version_minor": 0
      },
      "text/plain": [
       "Epoch 125/1000:   0%|          | 0/2 [00:00<?, ?it/s]"
      ]
     },
     "metadata": {},
     "output_type": "display_data"
    },
    {
     "data": {
      "application/vnd.jupyter.widget-view+json": {
       "model_id": "5d05f50590fe425281ea4f4d87af8b77",
       "version_major": 2,
       "version_minor": 0
      },
      "text/plain": [
       "Epoch 126/1000:   0%|          | 0/2 [00:00<?, ?it/s]"
      ]
     },
     "metadata": {},
     "output_type": "display_data"
    },
    {
     "data": {
      "application/vnd.jupyter.widget-view+json": {
       "model_id": "1506c82006664aa49bb804617cb6920f",
       "version_major": 2,
       "version_minor": 0
      },
      "text/plain": [
       "Epoch 127/1000:   0%|          | 0/2 [00:00<?, ?it/s]"
      ]
     },
     "metadata": {},
     "output_type": "display_data"
    },
    {
     "data": {
      "application/vnd.jupyter.widget-view+json": {
       "model_id": "fae66960f9fe4b74a889f44be303fef5",
       "version_major": 2,
       "version_minor": 0
      },
      "text/plain": [
       "Epoch 128/1000:   0%|          | 0/2 [00:00<?, ?it/s]"
      ]
     },
     "metadata": {},
     "output_type": "display_data"
    },
    {
     "data": {
      "application/vnd.jupyter.widget-view+json": {
       "model_id": "4ab280bf0eee4c85b82292070fc0fa95",
       "version_major": 2,
       "version_minor": 0
      },
      "text/plain": [
       "Epoch 129/1000:   0%|          | 0/2 [00:00<?, ?it/s]"
      ]
     },
     "metadata": {},
     "output_type": "display_data"
    },
    {
     "data": {
      "application/vnd.jupyter.widget-view+json": {
       "model_id": "13058efac4504bc0bb8836df141a89bd",
       "version_major": 2,
       "version_minor": 0
      },
      "text/plain": [
       "Epoch 130/1000:   0%|          | 0/2 [00:00<?, ?it/s]"
      ]
     },
     "metadata": {},
     "output_type": "display_data"
    },
    {
     "data": {
      "application/vnd.jupyter.widget-view+json": {
       "model_id": "51c045b00cf14581ae88590b8d9f1f34",
       "version_major": 2,
       "version_minor": 0
      },
      "text/plain": [
       "Epoch 131/1000:   0%|          | 0/2 [00:00<?, ?it/s]"
      ]
     },
     "metadata": {},
     "output_type": "display_data"
    },
    {
     "data": {
      "application/vnd.jupyter.widget-view+json": {
       "model_id": "f5024dd4b1724587ac549b09e4e99ca0",
       "version_major": 2,
       "version_minor": 0
      },
      "text/plain": [
       "Epoch 132/1000:   0%|          | 0/2 [00:00<?, ?it/s]"
      ]
     },
     "metadata": {},
     "output_type": "display_data"
    },
    {
     "data": {
      "application/vnd.jupyter.widget-view+json": {
       "model_id": "1d277bfe4e4e43c1a9f548f37bd91a40",
       "version_major": 2,
       "version_minor": 0
      },
      "text/plain": [
       "Epoch 133/1000:   0%|          | 0/2 [00:00<?, ?it/s]"
      ]
     },
     "metadata": {},
     "output_type": "display_data"
    },
    {
     "data": {
      "application/vnd.jupyter.widget-view+json": {
       "model_id": "07922592850f4b1fa915227c13cad6c4",
       "version_major": 2,
       "version_minor": 0
      },
      "text/plain": [
       "Epoch 134/1000:   0%|          | 0/2 [00:00<?, ?it/s]"
      ]
     },
     "metadata": {},
     "output_type": "display_data"
    },
    {
     "data": {
      "application/vnd.jupyter.widget-view+json": {
       "model_id": "6ad68bd3e7af43ea8d3841e89d9deb0b",
       "version_major": 2,
       "version_minor": 0
      },
      "text/plain": [
       "Epoch 135/1000:   0%|          | 0/2 [00:00<?, ?it/s]"
      ]
     },
     "metadata": {},
     "output_type": "display_data"
    },
    {
     "data": {
      "application/vnd.jupyter.widget-view+json": {
       "model_id": "1767bc5c9f8a4c6e9b62559b6fd93881",
       "version_major": 2,
       "version_minor": 0
      },
      "text/plain": [
       "Epoch 136/1000:   0%|          | 0/2 [00:00<?, ?it/s]"
      ]
     },
     "metadata": {},
     "output_type": "display_data"
    },
    {
     "data": {
      "application/vnd.jupyter.widget-view+json": {
       "model_id": "7030c5998d5c4f9281c553d1740d1ebb",
       "version_major": 2,
       "version_minor": 0
      },
      "text/plain": [
       "Epoch 137/1000:   0%|          | 0/2 [00:00<?, ?it/s]"
      ]
     },
     "metadata": {},
     "output_type": "display_data"
    },
    {
     "data": {
      "application/vnd.jupyter.widget-view+json": {
       "model_id": "363f986c7b8a46bdbcce1ce5e31207bc",
       "version_major": 2,
       "version_minor": 0
      },
      "text/plain": [
       "Epoch 138/1000:   0%|          | 0/2 [00:00<?, ?it/s]"
      ]
     },
     "metadata": {},
     "output_type": "display_data"
    },
    {
     "data": {
      "application/vnd.jupyter.widget-view+json": {
       "model_id": "e52bd37bc5d34051b60d011c54bc9c47",
       "version_major": 2,
       "version_minor": 0
      },
      "text/plain": [
       "Epoch 139/1000:   0%|          | 0/2 [00:00<?, ?it/s]"
      ]
     },
     "metadata": {},
     "output_type": "display_data"
    },
    {
     "data": {
      "application/vnd.jupyter.widget-view+json": {
       "model_id": "b770b068dea44003872952e7f4d5e520",
       "version_major": 2,
       "version_minor": 0
      },
      "text/plain": [
       "Epoch 140/1000:   0%|          | 0/2 [00:00<?, ?it/s]"
      ]
     },
     "metadata": {},
     "output_type": "display_data"
    },
    {
     "data": {
      "application/vnd.jupyter.widget-view+json": {
       "model_id": "4e28ba9e67a24a76973792c41e8fffe3",
       "version_major": 2,
       "version_minor": 0
      },
      "text/plain": [
       "Epoch 141/1000:   0%|          | 0/2 [00:00<?, ?it/s]"
      ]
     },
     "metadata": {},
     "output_type": "display_data"
    },
    {
     "data": {
      "application/vnd.jupyter.widget-view+json": {
       "model_id": "921b0890e6fe44b78a618b1ccc58957c",
       "version_major": 2,
       "version_minor": 0
      },
      "text/plain": [
       "Epoch 142/1000:   0%|          | 0/2 [00:00<?, ?it/s]"
      ]
     },
     "metadata": {},
     "output_type": "display_data"
    },
    {
     "data": {
      "application/vnd.jupyter.widget-view+json": {
       "model_id": "703d4f24bd554387a66c6c4459ba6122",
       "version_major": 2,
       "version_minor": 0
      },
      "text/plain": [
       "Epoch 143/1000:   0%|          | 0/2 [00:00<?, ?it/s]"
      ]
     },
     "metadata": {},
     "output_type": "display_data"
    },
    {
     "data": {
      "application/vnd.jupyter.widget-view+json": {
       "model_id": "a23dec3257fc410a8b13ecbcb37ab52a",
       "version_major": 2,
       "version_minor": 0
      },
      "text/plain": [
       "Epoch 144/1000:   0%|          | 0/2 [00:00<?, ?it/s]"
      ]
     },
     "metadata": {},
     "output_type": "display_data"
    },
    {
     "data": {
      "application/vnd.jupyter.widget-view+json": {
       "model_id": "90a625f146b34b87822b7575312e9f4c",
       "version_major": 2,
       "version_minor": 0
      },
      "text/plain": [
       "Epoch 145/1000:   0%|          | 0/2 [00:00<?, ?it/s]"
      ]
     },
     "metadata": {},
     "output_type": "display_data"
    },
    {
     "data": {
      "application/vnd.jupyter.widget-view+json": {
       "model_id": "79da67fa469d492fbccbdec2233ac235",
       "version_major": 2,
       "version_minor": 0
      },
      "text/plain": [
       "Epoch 146/1000:   0%|          | 0/2 [00:00<?, ?it/s]"
      ]
     },
     "metadata": {},
     "output_type": "display_data"
    },
    {
     "data": {
      "application/vnd.jupyter.widget-view+json": {
       "model_id": "c6a7cff9c2424f7aa5c16a8f9c71e13f",
       "version_major": 2,
       "version_minor": 0
      },
      "text/plain": [
       "Epoch 147/1000:   0%|          | 0/2 [00:00<?, ?it/s]"
      ]
     },
     "metadata": {},
     "output_type": "display_data"
    },
    {
     "data": {
      "application/vnd.jupyter.widget-view+json": {
       "model_id": "a5833c58443e4691966bf7b97ad1c241",
       "version_major": 2,
       "version_minor": 0
      },
      "text/plain": [
       "Epoch 148/1000:   0%|          | 0/2 [00:00<?, ?it/s]"
      ]
     },
     "metadata": {},
     "output_type": "display_data"
    },
    {
     "data": {
      "application/vnd.jupyter.widget-view+json": {
       "model_id": "3297bdaa1b6747cf887ae68941cc9697",
       "version_major": 2,
       "version_minor": 0
      },
      "text/plain": [
       "Epoch 149/1000:   0%|          | 0/2 [00:00<?, ?it/s]"
      ]
     },
     "metadata": {},
     "output_type": "display_data"
    },
    {
     "data": {
      "application/vnd.jupyter.widget-view+json": {
       "model_id": "6259e457ae114e6f9740c110b7a97f1f",
       "version_major": 2,
       "version_minor": 0
      },
      "text/plain": [
       "Epoch 150/1000:   0%|          | 0/2 [00:00<?, ?it/s]"
      ]
     },
     "metadata": {},
     "output_type": "display_data"
    },
    {
     "name": "stdout",
     "output_type": "stream",
     "text": [
      "Epoch 150/1000\n",
      "  Avg Train Loss: 0.553857\n",
      "    Physics Loss: 0.000616\n",
      "    Data Loss   : 0.639586\n",
      "  Avg Val Loss  : 0.646871\n"
     ]
    },
    {
     "data": {
      "application/vnd.jupyter.widget-view+json": {
       "model_id": "b95f0d7145d84c84aa39f73c45523b01",
       "version_major": 2,
       "version_minor": 0
      },
      "text/plain": [
       "Epoch 151/1000:   0%|          | 0/2 [00:00<?, ?it/s]"
      ]
     },
     "metadata": {},
     "output_type": "display_data"
    },
    {
     "data": {
      "application/vnd.jupyter.widget-view+json": {
       "model_id": "1f214b4f0d9d4835b832f9e6f3c62a7f",
       "version_major": 2,
       "version_minor": 0
      },
      "text/plain": [
       "Epoch 152/1000:   0%|          | 0/2 [00:00<?, ?it/s]"
      ]
     },
     "metadata": {},
     "output_type": "display_data"
    },
    {
     "data": {
      "application/vnd.jupyter.widget-view+json": {
       "model_id": "8563a91b74964317bf0ff9e0b90c46e8",
       "version_major": 2,
       "version_minor": 0
      },
      "text/plain": [
       "Epoch 153/1000:   0%|          | 0/2 [00:00<?, ?it/s]"
      ]
     },
     "metadata": {},
     "output_type": "display_data"
    },
    {
     "data": {
      "application/vnd.jupyter.widget-view+json": {
       "model_id": "eb2caf7118d04e7cafb3d9bb1324170a",
       "version_major": 2,
       "version_minor": 0
      },
      "text/plain": [
       "Epoch 154/1000:   0%|          | 0/2 [00:00<?, ?it/s]"
      ]
     },
     "metadata": {},
     "output_type": "display_data"
    },
    {
     "data": {
      "application/vnd.jupyter.widget-view+json": {
       "model_id": "221a532e015e4197972348052b0ba356",
       "version_major": 2,
       "version_minor": 0
      },
      "text/plain": [
       "Epoch 155/1000:   0%|          | 0/2 [00:00<?, ?it/s]"
      ]
     },
     "metadata": {},
     "output_type": "display_data"
    },
    {
     "data": {
      "application/vnd.jupyter.widget-view+json": {
       "model_id": "f90d1b14ead54ceca453fbafd59b4ca1",
       "version_major": 2,
       "version_minor": 0
      },
      "text/plain": [
       "Epoch 156/1000:   0%|          | 0/2 [00:00<?, ?it/s]"
      ]
     },
     "metadata": {},
     "output_type": "display_data"
    },
    {
     "data": {
      "application/vnd.jupyter.widget-view+json": {
       "model_id": "6df55ccaf50a41d2bb23c0a3d0b77f35",
       "version_major": 2,
       "version_minor": 0
      },
      "text/plain": [
       "Epoch 157/1000:   0%|          | 0/2 [00:00<?, ?it/s]"
      ]
     },
     "metadata": {},
     "output_type": "display_data"
    },
    {
     "data": {
      "application/vnd.jupyter.widget-view+json": {
       "model_id": "a860f7aa1f3a4d7a9f0f265701292e60",
       "version_major": 2,
       "version_minor": 0
      },
      "text/plain": [
       "Epoch 158/1000:   0%|          | 0/2 [00:00<?, ?it/s]"
      ]
     },
     "metadata": {},
     "output_type": "display_data"
    },
    {
     "data": {
      "application/vnd.jupyter.widget-view+json": {
       "model_id": "c017aa82e0bd4951b457811a86020205",
       "version_major": 2,
       "version_minor": 0
      },
      "text/plain": [
       "Epoch 159/1000:   0%|          | 0/2 [00:00<?, ?it/s]"
      ]
     },
     "metadata": {},
     "output_type": "display_data"
    },
    {
     "data": {
      "application/vnd.jupyter.widget-view+json": {
       "model_id": "fab573d8914a42e9afdd9bd8e837e5d3",
       "version_major": 2,
       "version_minor": 0
      },
      "text/plain": [
       "Epoch 160/1000:   0%|          | 0/2 [00:00<?, ?it/s]"
      ]
     },
     "metadata": {},
     "output_type": "display_data"
    },
    {
     "data": {
      "application/vnd.jupyter.widget-view+json": {
       "model_id": "2240bb7d554d4177ad172bfc95a9818d",
       "version_major": 2,
       "version_minor": 0
      },
      "text/plain": [
       "Epoch 161/1000:   0%|          | 0/2 [00:00<?, ?it/s]"
      ]
     },
     "metadata": {},
     "output_type": "display_data"
    },
    {
     "data": {
      "application/vnd.jupyter.widget-view+json": {
       "model_id": "79a1b6756ec04b5dafc06565d32f6fa7",
       "version_major": 2,
       "version_minor": 0
      },
      "text/plain": [
       "Epoch 162/1000:   0%|          | 0/2 [00:00<?, ?it/s]"
      ]
     },
     "metadata": {},
     "output_type": "display_data"
    },
    {
     "data": {
      "application/vnd.jupyter.widget-view+json": {
       "model_id": "73975b4a00a2452585b74160d0c8ddc5",
       "version_major": 2,
       "version_minor": 0
      },
      "text/plain": [
       "Epoch 163/1000:   0%|          | 0/2 [00:00<?, ?it/s]"
      ]
     },
     "metadata": {},
     "output_type": "display_data"
    },
    {
     "data": {
      "application/vnd.jupyter.widget-view+json": {
       "model_id": "d795f28ed9584867a489e3253e323af9",
       "version_major": 2,
       "version_minor": 0
      },
      "text/plain": [
       "Epoch 164/1000:   0%|          | 0/2 [00:00<?, ?it/s]"
      ]
     },
     "metadata": {},
     "output_type": "display_data"
    },
    {
     "data": {
      "application/vnd.jupyter.widget-view+json": {
       "model_id": "bb2b976d221849feaa033ee788f12c8a",
       "version_major": 2,
       "version_minor": 0
      },
      "text/plain": [
       "Epoch 165/1000:   0%|          | 0/2 [00:00<?, ?it/s]"
      ]
     },
     "metadata": {},
     "output_type": "display_data"
    },
    {
     "data": {
      "application/vnd.jupyter.widget-view+json": {
       "model_id": "e30643da8c83432c8b8847cc4c74d36e",
       "version_major": 2,
       "version_minor": 0
      },
      "text/plain": [
       "Epoch 166/1000:   0%|          | 0/2 [00:00<?, ?it/s]"
      ]
     },
     "metadata": {},
     "output_type": "display_data"
    },
    {
     "data": {
      "application/vnd.jupyter.widget-view+json": {
       "model_id": "7073f4b78a814b93b29880c5a48c2271",
       "version_major": 2,
       "version_minor": 0
      },
      "text/plain": [
       "Epoch 167/1000:   0%|          | 0/2 [00:00<?, ?it/s]"
      ]
     },
     "metadata": {},
     "output_type": "display_data"
    },
    {
     "data": {
      "application/vnd.jupyter.widget-view+json": {
       "model_id": "ee006cae1f5b4ebd9948fe9fbd60469a",
       "version_major": 2,
       "version_minor": 0
      },
      "text/plain": [
       "Epoch 168/1000:   0%|          | 0/2 [00:00<?, ?it/s]"
      ]
     },
     "metadata": {},
     "output_type": "display_data"
    },
    {
     "data": {
      "application/vnd.jupyter.widget-view+json": {
       "model_id": "3c299535832741519e7ff087dfdcab32",
       "version_major": 2,
       "version_minor": 0
      },
      "text/plain": [
       "Epoch 169/1000:   0%|          | 0/2 [00:00<?, ?it/s]"
      ]
     },
     "metadata": {},
     "output_type": "display_data"
    },
    {
     "data": {
      "application/vnd.jupyter.widget-view+json": {
       "model_id": "18f6a8959d904ec790ab6ecfb46a2a40",
       "version_major": 2,
       "version_minor": 0
      },
      "text/plain": [
       "Epoch 170/1000:   0%|          | 0/2 [00:00<?, ?it/s]"
      ]
     },
     "metadata": {},
     "output_type": "display_data"
    },
    {
     "data": {
      "application/vnd.jupyter.widget-view+json": {
       "model_id": "b2024098c3d549c58d34cd534d380aeb",
       "version_major": 2,
       "version_minor": 0
      },
      "text/plain": [
       "Epoch 171/1000:   0%|          | 0/2 [00:00<?, ?it/s]"
      ]
     },
     "metadata": {},
     "output_type": "display_data"
    },
    {
     "data": {
      "application/vnd.jupyter.widget-view+json": {
       "model_id": "98f5b1072c5b42ebb5a587fcf6f12e58",
       "version_major": 2,
       "version_minor": 0
      },
      "text/plain": [
       "Epoch 172/1000:   0%|          | 0/2 [00:00<?, ?it/s]"
      ]
     },
     "metadata": {},
     "output_type": "display_data"
    },
    {
     "data": {
      "application/vnd.jupyter.widget-view+json": {
       "model_id": "6e45c07a07a24ce0abc0907b4c4d2779",
       "version_major": 2,
       "version_minor": 0
      },
      "text/plain": [
       "Epoch 173/1000:   0%|          | 0/2 [00:00<?, ?it/s]"
      ]
     },
     "metadata": {},
     "output_type": "display_data"
    },
    {
     "data": {
      "application/vnd.jupyter.widget-view+json": {
       "model_id": "99ae809b81ef4b22935657a9870188b5",
       "version_major": 2,
       "version_minor": 0
      },
      "text/plain": [
       "Epoch 174/1000:   0%|          | 0/2 [00:00<?, ?it/s]"
      ]
     },
     "metadata": {},
     "output_type": "display_data"
    },
    {
     "data": {
      "application/vnd.jupyter.widget-view+json": {
       "model_id": "b8da9094ce7c40488b3852c7ee7e9b6d",
       "version_major": 2,
       "version_minor": 0
      },
      "text/plain": [
       "Epoch 175/1000:   0%|          | 0/2 [00:00<?, ?it/s]"
      ]
     },
     "metadata": {},
     "output_type": "display_data"
    },
    {
     "data": {
      "application/vnd.jupyter.widget-view+json": {
       "model_id": "2ee647f8230d4269a2ebe28c8c75932c",
       "version_major": 2,
       "version_minor": 0
      },
      "text/plain": [
       "Epoch 176/1000:   0%|          | 0/2 [00:00<?, ?it/s]"
      ]
     },
     "metadata": {},
     "output_type": "display_data"
    },
    {
     "data": {
      "application/vnd.jupyter.widget-view+json": {
       "model_id": "fd3bb904619c4a5fbdc9bacb692b0a64",
       "version_major": 2,
       "version_minor": 0
      },
      "text/plain": [
       "Epoch 177/1000:   0%|          | 0/2 [00:00<?, ?it/s]"
      ]
     },
     "metadata": {},
     "output_type": "display_data"
    },
    {
     "data": {
      "application/vnd.jupyter.widget-view+json": {
       "model_id": "f1ab8d2c1c4343fba4a59be8cff04c2f",
       "version_major": 2,
       "version_minor": 0
      },
      "text/plain": [
       "Epoch 178/1000:   0%|          | 0/2 [00:00<?, ?it/s]"
      ]
     },
     "metadata": {},
     "output_type": "display_data"
    },
    {
     "data": {
      "application/vnd.jupyter.widget-view+json": {
       "model_id": "989218615350466e94f3470f331d745f",
       "version_major": 2,
       "version_minor": 0
      },
      "text/plain": [
       "Epoch 179/1000:   0%|          | 0/2 [00:00<?, ?it/s]"
      ]
     },
     "metadata": {},
     "output_type": "display_data"
    },
    {
     "data": {
      "application/vnd.jupyter.widget-view+json": {
       "model_id": "d274e5a082c9467693679dc89844d837",
       "version_major": 2,
       "version_minor": 0
      },
      "text/plain": [
       "Epoch 180/1000:   0%|          | 0/2 [00:00<?, ?it/s]"
      ]
     },
     "metadata": {},
     "output_type": "display_data"
    },
    {
     "data": {
      "application/vnd.jupyter.widget-view+json": {
       "model_id": "a6a3b6e0f6d042a687ebb297c3ac9c34",
       "version_major": 2,
       "version_minor": 0
      },
      "text/plain": [
       "Epoch 181/1000:   0%|          | 0/2 [00:00<?, ?it/s]"
      ]
     },
     "metadata": {},
     "output_type": "display_data"
    },
    {
     "data": {
      "application/vnd.jupyter.widget-view+json": {
       "model_id": "939dd66908f64d7d881c860b249338de",
       "version_major": 2,
       "version_minor": 0
      },
      "text/plain": [
       "Epoch 182/1000:   0%|          | 0/2 [00:00<?, ?it/s]"
      ]
     },
     "metadata": {},
     "output_type": "display_data"
    },
    {
     "data": {
      "application/vnd.jupyter.widget-view+json": {
       "model_id": "fd0eb7901a3943efb4cae4e1af9fcccd",
       "version_major": 2,
       "version_minor": 0
      },
      "text/plain": [
       "Epoch 183/1000:   0%|          | 0/2 [00:00<?, ?it/s]"
      ]
     },
     "metadata": {},
     "output_type": "display_data"
    },
    {
     "data": {
      "application/vnd.jupyter.widget-view+json": {
       "model_id": "84ac7ba3f30e4451a8dcc700006ca659",
       "version_major": 2,
       "version_minor": 0
      },
      "text/plain": [
       "Epoch 184/1000:   0%|          | 0/2 [00:00<?, ?it/s]"
      ]
     },
     "metadata": {},
     "output_type": "display_data"
    },
    {
     "data": {
      "application/vnd.jupyter.widget-view+json": {
       "model_id": "ef61610f507f4e6ca285c8bedc278bf5",
       "version_major": 2,
       "version_minor": 0
      },
      "text/plain": [
       "Epoch 185/1000:   0%|          | 0/2 [00:00<?, ?it/s]"
      ]
     },
     "metadata": {},
     "output_type": "display_data"
    },
    {
     "data": {
      "application/vnd.jupyter.widget-view+json": {
       "model_id": "1058c13ade1149af98ebce4af83d2443",
       "version_major": 2,
       "version_minor": 0
      },
      "text/plain": [
       "Epoch 186/1000:   0%|          | 0/2 [00:00<?, ?it/s]"
      ]
     },
     "metadata": {},
     "output_type": "display_data"
    },
    {
     "data": {
      "application/vnd.jupyter.widget-view+json": {
       "model_id": "b084dbb0439d402ca5926d847412343f",
       "version_major": 2,
       "version_minor": 0
      },
      "text/plain": [
       "Epoch 187/1000:   0%|          | 0/2 [00:00<?, ?it/s]"
      ]
     },
     "metadata": {},
     "output_type": "display_data"
    },
    {
     "data": {
      "application/vnd.jupyter.widget-view+json": {
       "model_id": "ceffe5b0b68d42e6b25c61f5a6ce6a80",
       "version_major": 2,
       "version_minor": 0
      },
      "text/plain": [
       "Epoch 188/1000:   0%|          | 0/2 [00:00<?, ?it/s]"
      ]
     },
     "metadata": {},
     "output_type": "display_data"
    },
    {
     "data": {
      "application/vnd.jupyter.widget-view+json": {
       "model_id": "d50563c670284f0d8829680ac13b3855",
       "version_major": 2,
       "version_minor": 0
      },
      "text/plain": [
       "Epoch 189/1000:   0%|          | 0/2 [00:00<?, ?it/s]"
      ]
     },
     "metadata": {},
     "output_type": "display_data"
    },
    {
     "data": {
      "application/vnd.jupyter.widget-view+json": {
       "model_id": "5eeccd6b9a324904aef700bd1395e06e",
       "version_major": 2,
       "version_minor": 0
      },
      "text/plain": [
       "Epoch 190/1000:   0%|          | 0/2 [00:00<?, ?it/s]"
      ]
     },
     "metadata": {},
     "output_type": "display_data"
    },
    {
     "data": {
      "application/vnd.jupyter.widget-view+json": {
       "model_id": "3895cda3b30d4fa080c86dcd6355aaee",
       "version_major": 2,
       "version_minor": 0
      },
      "text/plain": [
       "Epoch 191/1000:   0%|          | 0/2 [00:00<?, ?it/s]"
      ]
     },
     "metadata": {},
     "output_type": "display_data"
    },
    {
     "data": {
      "application/vnd.jupyter.widget-view+json": {
       "model_id": "6f21399a84a748ee92587288204bd5c3",
       "version_major": 2,
       "version_minor": 0
      },
      "text/plain": [
       "Epoch 192/1000:   0%|          | 0/2 [00:00<?, ?it/s]"
      ]
     },
     "metadata": {},
     "output_type": "display_data"
    },
    {
     "data": {
      "application/vnd.jupyter.widget-view+json": {
       "model_id": "a7a76b601b6e47bfb5b3b57e33c3f79e",
       "version_major": 2,
       "version_minor": 0
      },
      "text/plain": [
       "Epoch 193/1000:   0%|          | 0/2 [00:00<?, ?it/s]"
      ]
     },
     "metadata": {},
     "output_type": "display_data"
    },
    {
     "data": {
      "application/vnd.jupyter.widget-view+json": {
       "model_id": "329a58a4c96d42ecbcc5661f0a675186",
       "version_major": 2,
       "version_minor": 0
      },
      "text/plain": [
       "Epoch 194/1000:   0%|          | 0/2 [00:00<?, ?it/s]"
      ]
     },
     "metadata": {},
     "output_type": "display_data"
    },
    {
     "data": {
      "application/vnd.jupyter.widget-view+json": {
       "model_id": "91b7f188e7da44e4ba76d9fc58acbfa3",
       "version_major": 2,
       "version_minor": 0
      },
      "text/plain": [
       "Epoch 195/1000:   0%|          | 0/2 [00:00<?, ?it/s]"
      ]
     },
     "metadata": {},
     "output_type": "display_data"
    },
    {
     "data": {
      "application/vnd.jupyter.widget-view+json": {
       "model_id": "87e85227e82c483f8caaa6ba3bd1a627",
       "version_major": 2,
       "version_minor": 0
      },
      "text/plain": [
       "Epoch 196/1000:   0%|          | 0/2 [00:00<?, ?it/s]"
      ]
     },
     "metadata": {},
     "output_type": "display_data"
    },
    {
     "data": {
      "application/vnd.jupyter.widget-view+json": {
       "model_id": "f85244e0eb2a41b5a76e5fc19efbc6cc",
       "version_major": 2,
       "version_minor": 0
      },
      "text/plain": [
       "Epoch 197/1000:   0%|          | 0/2 [00:00<?, ?it/s]"
      ]
     },
     "metadata": {},
     "output_type": "display_data"
    },
    {
     "data": {
      "application/vnd.jupyter.widget-view+json": {
       "model_id": "fbb4841db1ef492998cb80e9b96dfbe3",
       "version_major": 2,
       "version_minor": 0
      },
      "text/plain": [
       "Epoch 198/1000:   0%|          | 0/2 [00:00<?, ?it/s]"
      ]
     },
     "metadata": {},
     "output_type": "display_data"
    },
    {
     "data": {
      "application/vnd.jupyter.widget-view+json": {
       "model_id": "8835c911f9fc42f6b0c08f56c43af2f2",
       "version_major": 2,
       "version_minor": 0
      },
      "text/plain": [
       "Epoch 199/1000:   0%|          | 0/2 [00:00<?, ?it/s]"
      ]
     },
     "metadata": {},
     "output_type": "display_data"
    },
    {
     "data": {
      "application/vnd.jupyter.widget-view+json": {
       "model_id": "3a5cc405b4214572a0a7c26149d0f80b",
       "version_major": 2,
       "version_minor": 0
      },
      "text/plain": [
       "Epoch 200/1000:   0%|          | 0/2 [00:00<?, ?it/s]"
      ]
     },
     "metadata": {},
     "output_type": "display_data"
    },
    {
     "name": "stdout",
     "output_type": "stream",
     "text": [
      "Epoch 200/1000\n",
      "  Avg Train Loss: 0.508265\n",
      "    Physics Loss: 0.000390\n",
      "    Data Loss   : 0.619360\n",
      "  Avg Val Loss  : 0.623127\n"
     ]
    },
    {
     "data": {
      "application/vnd.jupyter.widget-view+json": {
       "model_id": "6e4eac89d9814837993e5835aa9c8015",
       "version_major": 2,
       "version_minor": 0
      },
      "text/plain": [
       "Epoch 201/1000:   0%|          | 0/2 [00:00<?, ?it/s]"
      ]
     },
     "metadata": {},
     "output_type": "display_data"
    },
    {
     "data": {
      "application/vnd.jupyter.widget-view+json": {
       "model_id": "695f54a2e5a54be6ada50cd47436082d",
       "version_major": 2,
       "version_minor": 0
      },
      "text/plain": [
       "Epoch 202/1000:   0%|          | 0/2 [00:00<?, ?it/s]"
      ]
     },
     "metadata": {},
     "output_type": "display_data"
    },
    {
     "data": {
      "application/vnd.jupyter.widget-view+json": {
       "model_id": "86f8ecee8b2448e9891ee1bd9c3d5b45",
       "version_major": 2,
       "version_minor": 0
      },
      "text/plain": [
       "Epoch 203/1000:   0%|          | 0/2 [00:00<?, ?it/s]"
      ]
     },
     "metadata": {},
     "output_type": "display_data"
    },
    {
     "data": {
      "application/vnd.jupyter.widget-view+json": {
       "model_id": "e6fb3e0f18124416a571de1f0ddf1d60",
       "version_major": 2,
       "version_minor": 0
      },
      "text/plain": [
       "Epoch 204/1000:   0%|          | 0/2 [00:00<?, ?it/s]"
      ]
     },
     "metadata": {},
     "output_type": "display_data"
    },
    {
     "data": {
      "application/vnd.jupyter.widget-view+json": {
       "model_id": "034995f8404e4991b47ecb2357ff4916",
       "version_major": 2,
       "version_minor": 0
      },
      "text/plain": [
       "Epoch 205/1000:   0%|          | 0/2 [00:00<?, ?it/s]"
      ]
     },
     "metadata": {},
     "output_type": "display_data"
    },
    {
     "data": {
      "application/vnd.jupyter.widget-view+json": {
       "model_id": "d0ea16b5699a4700a7f7be89647e1312",
       "version_major": 2,
       "version_minor": 0
      },
      "text/plain": [
       "Epoch 206/1000:   0%|          | 0/2 [00:00<?, ?it/s]"
      ]
     },
     "metadata": {},
     "output_type": "display_data"
    },
    {
     "data": {
      "application/vnd.jupyter.widget-view+json": {
       "model_id": "1df05d66bae948999d1ef1e4f835becd",
       "version_major": 2,
       "version_minor": 0
      },
      "text/plain": [
       "Epoch 207/1000:   0%|          | 0/2 [00:00<?, ?it/s]"
      ]
     },
     "metadata": {},
     "output_type": "display_data"
    },
    {
     "data": {
      "application/vnd.jupyter.widget-view+json": {
       "model_id": "14f7570ec85b43ddac08f49c534ae2a6",
       "version_major": 2,
       "version_minor": 0
      },
      "text/plain": [
       "Epoch 208/1000:   0%|          | 0/2 [00:00<?, ?it/s]"
      ]
     },
     "metadata": {},
     "output_type": "display_data"
    },
    {
     "data": {
      "application/vnd.jupyter.widget-view+json": {
       "model_id": "bc50e44a2c13493e87a5caeaa5ca53c0",
       "version_major": 2,
       "version_minor": 0
      },
      "text/plain": [
       "Epoch 209/1000:   0%|          | 0/2 [00:00<?, ?it/s]"
      ]
     },
     "metadata": {},
     "output_type": "display_data"
    },
    {
     "data": {
      "application/vnd.jupyter.widget-view+json": {
       "model_id": "724b4785b9434623a5a4a40cd6800286",
       "version_major": 2,
       "version_minor": 0
      },
      "text/plain": [
       "Epoch 210/1000:   0%|          | 0/2 [00:00<?, ?it/s]"
      ]
     },
     "metadata": {},
     "output_type": "display_data"
    },
    {
     "data": {
      "application/vnd.jupyter.widget-view+json": {
       "model_id": "12a5ba4260eb4cf3ac474880f16c54a5",
       "version_major": 2,
       "version_minor": 0
      },
      "text/plain": [
       "Epoch 211/1000:   0%|          | 0/2 [00:00<?, ?it/s]"
      ]
     },
     "metadata": {},
     "output_type": "display_data"
    },
    {
     "data": {
      "application/vnd.jupyter.widget-view+json": {
       "model_id": "b10a09f03b5b44d785514118fcf55081",
       "version_major": 2,
       "version_minor": 0
      },
      "text/plain": [
       "Epoch 212/1000:   0%|          | 0/2 [00:00<?, ?it/s]"
      ]
     },
     "metadata": {},
     "output_type": "display_data"
    },
    {
     "data": {
      "application/vnd.jupyter.widget-view+json": {
       "model_id": "5cd304eb140e4c9fa748946bf460ba8f",
       "version_major": 2,
       "version_minor": 0
      },
      "text/plain": [
       "Epoch 213/1000:   0%|          | 0/2 [00:00<?, ?it/s]"
      ]
     },
     "metadata": {},
     "output_type": "display_data"
    },
    {
     "data": {
      "application/vnd.jupyter.widget-view+json": {
       "model_id": "1668d211f0af4a23b6e3953471173be3",
       "version_major": 2,
       "version_minor": 0
      },
      "text/plain": [
       "Epoch 214/1000:   0%|          | 0/2 [00:00<?, ?it/s]"
      ]
     },
     "metadata": {},
     "output_type": "display_data"
    },
    {
     "data": {
      "application/vnd.jupyter.widget-view+json": {
       "model_id": "f5d91f167ac847a28a30d1db2a1ca98c",
       "version_major": 2,
       "version_minor": 0
      },
      "text/plain": [
       "Epoch 215/1000:   0%|          | 0/2 [00:00<?, ?it/s]"
      ]
     },
     "metadata": {},
     "output_type": "display_data"
    },
    {
     "data": {
      "application/vnd.jupyter.widget-view+json": {
       "model_id": "f750edc477744f109282f4c11ccd1e94",
       "version_major": 2,
       "version_minor": 0
      },
      "text/plain": [
       "Epoch 216/1000:   0%|          | 0/2 [00:00<?, ?it/s]"
      ]
     },
     "metadata": {},
     "output_type": "display_data"
    },
    {
     "data": {
      "application/vnd.jupyter.widget-view+json": {
       "model_id": "ab7f6c22339a4182a812ce25cdea8a57",
       "version_major": 2,
       "version_minor": 0
      },
      "text/plain": [
       "Epoch 217/1000:   0%|          | 0/2 [00:00<?, ?it/s]"
      ]
     },
     "metadata": {},
     "output_type": "display_data"
    },
    {
     "data": {
      "application/vnd.jupyter.widget-view+json": {
       "model_id": "385f1a23b2774545af3bcd7bc928296c",
       "version_major": 2,
       "version_minor": 0
      },
      "text/plain": [
       "Epoch 218/1000:   0%|          | 0/2 [00:00<?, ?it/s]"
      ]
     },
     "metadata": {},
     "output_type": "display_data"
    },
    {
     "data": {
      "application/vnd.jupyter.widget-view+json": {
       "model_id": "67777243d1bc4ec4851a6ee2454f8ab6",
       "version_major": 2,
       "version_minor": 0
      },
      "text/plain": [
       "Epoch 219/1000:   0%|          | 0/2 [00:00<?, ?it/s]"
      ]
     },
     "metadata": {},
     "output_type": "display_data"
    },
    {
     "data": {
      "application/vnd.jupyter.widget-view+json": {
       "model_id": "97cf3dba1fb547939a219f74acb0cef3",
       "version_major": 2,
       "version_minor": 0
      },
      "text/plain": [
       "Epoch 220/1000:   0%|          | 0/2 [00:00<?, ?it/s]"
      ]
     },
     "metadata": {},
     "output_type": "display_data"
    },
    {
     "data": {
      "application/vnd.jupyter.widget-view+json": {
       "model_id": "8a881a415d3740c389d2c7294c8ecd9a",
       "version_major": 2,
       "version_minor": 0
      },
      "text/plain": [
       "Epoch 221/1000:   0%|          | 0/2 [00:00<?, ?it/s]"
      ]
     },
     "metadata": {},
     "output_type": "display_data"
    },
    {
     "data": {
      "application/vnd.jupyter.widget-view+json": {
       "model_id": "32e63c7736914bb694753920ca128757",
       "version_major": 2,
       "version_minor": 0
      },
      "text/plain": [
       "Epoch 222/1000:   0%|          | 0/2 [00:00<?, ?it/s]"
      ]
     },
     "metadata": {},
     "output_type": "display_data"
    },
    {
     "data": {
      "application/vnd.jupyter.widget-view+json": {
       "model_id": "f732f7c8b26044f6877111af7899b2a4",
       "version_major": 2,
       "version_minor": 0
      },
      "text/plain": [
       "Epoch 223/1000:   0%|          | 0/2 [00:00<?, ?it/s]"
      ]
     },
     "metadata": {},
     "output_type": "display_data"
    },
    {
     "data": {
      "application/vnd.jupyter.widget-view+json": {
       "model_id": "e3ac443f4a4144d3bd1fa4874cd1ff6e",
       "version_major": 2,
       "version_minor": 0
      },
      "text/plain": [
       "Epoch 224/1000:   0%|          | 0/2 [00:00<?, ?it/s]"
      ]
     },
     "metadata": {},
     "output_type": "display_data"
    },
    {
     "data": {
      "application/vnd.jupyter.widget-view+json": {
       "model_id": "54c99d37ed5944458055bb7bc22f22eb",
       "version_major": 2,
       "version_minor": 0
      },
      "text/plain": [
       "Epoch 225/1000:   0%|          | 0/2 [00:00<?, ?it/s]"
      ]
     },
     "metadata": {},
     "output_type": "display_data"
    },
    {
     "data": {
      "application/vnd.jupyter.widget-view+json": {
       "model_id": "208441942442488f893179ae2e3c0235",
       "version_major": 2,
       "version_minor": 0
      },
      "text/plain": [
       "Epoch 226/1000:   0%|          | 0/2 [00:00<?, ?it/s]"
      ]
     },
     "metadata": {},
     "output_type": "display_data"
    },
    {
     "data": {
      "application/vnd.jupyter.widget-view+json": {
       "model_id": "38053015627442f5a06573fad19ee331",
       "version_major": 2,
       "version_minor": 0
      },
      "text/plain": [
       "Epoch 227/1000:   0%|          | 0/2 [00:00<?, ?it/s]"
      ]
     },
     "metadata": {},
     "output_type": "display_data"
    },
    {
     "data": {
      "application/vnd.jupyter.widget-view+json": {
       "model_id": "f00fe7e2120946a3a58181e6e89934da",
       "version_major": 2,
       "version_minor": 0
      },
      "text/plain": [
       "Epoch 228/1000:   0%|          | 0/2 [00:00<?, ?it/s]"
      ]
     },
     "metadata": {},
     "output_type": "display_data"
    },
    {
     "data": {
      "application/vnd.jupyter.widget-view+json": {
       "model_id": "a385ee06050f446ba21ea511f6bd9645",
       "version_major": 2,
       "version_minor": 0
      },
      "text/plain": [
       "Epoch 229/1000:   0%|          | 0/2 [00:00<?, ?it/s]"
      ]
     },
     "metadata": {},
     "output_type": "display_data"
    },
    {
     "data": {
      "application/vnd.jupyter.widget-view+json": {
       "model_id": "91510a60b93042c6ad6d98797286b03d",
       "version_major": 2,
       "version_minor": 0
      },
      "text/plain": [
       "Epoch 230/1000:   0%|          | 0/2 [00:00<?, ?it/s]"
      ]
     },
     "metadata": {},
     "output_type": "display_data"
    },
    {
     "data": {
      "application/vnd.jupyter.widget-view+json": {
       "model_id": "ee5ee1397c90441ebcc7155bc84d0c8b",
       "version_major": 2,
       "version_minor": 0
      },
      "text/plain": [
       "Epoch 231/1000:   0%|          | 0/2 [00:00<?, ?it/s]"
      ]
     },
     "metadata": {},
     "output_type": "display_data"
    },
    {
     "data": {
      "application/vnd.jupyter.widget-view+json": {
       "model_id": "97c9b195f481457bbfa5f6ebe5fb14b4",
       "version_major": 2,
       "version_minor": 0
      },
      "text/plain": [
       "Epoch 232/1000:   0%|          | 0/2 [00:00<?, ?it/s]"
      ]
     },
     "metadata": {},
     "output_type": "display_data"
    },
    {
     "data": {
      "application/vnd.jupyter.widget-view+json": {
       "model_id": "7d8e34e375bc4537bcdcdb7a38d48a5e",
       "version_major": 2,
       "version_minor": 0
      },
      "text/plain": [
       "Epoch 233/1000:   0%|          | 0/2 [00:00<?, ?it/s]"
      ]
     },
     "metadata": {},
     "output_type": "display_data"
    },
    {
     "data": {
      "application/vnd.jupyter.widget-view+json": {
       "model_id": "5e1bf8dc95724aa1b89d8c54c74ac3c8",
       "version_major": 2,
       "version_minor": 0
      },
      "text/plain": [
       "Epoch 234/1000:   0%|          | 0/2 [00:00<?, ?it/s]"
      ]
     },
     "metadata": {},
     "output_type": "display_data"
    },
    {
     "data": {
      "application/vnd.jupyter.widget-view+json": {
       "model_id": "f00182e136334cd89eab6ef66c21cb81",
       "version_major": 2,
       "version_minor": 0
      },
      "text/plain": [
       "Epoch 235/1000:   0%|          | 0/2 [00:00<?, ?it/s]"
      ]
     },
     "metadata": {},
     "output_type": "display_data"
    },
    {
     "data": {
      "application/vnd.jupyter.widget-view+json": {
       "model_id": "ec9227135a2945daabadebfc79277cb0",
       "version_major": 2,
       "version_minor": 0
      },
      "text/plain": [
       "Epoch 236/1000:   0%|          | 0/2 [00:00<?, ?it/s]"
      ]
     },
     "metadata": {},
     "output_type": "display_data"
    },
    {
     "data": {
      "application/vnd.jupyter.widget-view+json": {
       "model_id": "3c9a2f77cc9648b7a312b9b93df399e0",
       "version_major": 2,
       "version_minor": 0
      },
      "text/plain": [
       "Epoch 237/1000:   0%|          | 0/2 [00:00<?, ?it/s]"
      ]
     },
     "metadata": {},
     "output_type": "display_data"
    },
    {
     "data": {
      "application/vnd.jupyter.widget-view+json": {
       "model_id": "2f54070c6805438e8368df81d69bb999",
       "version_major": 2,
       "version_minor": 0
      },
      "text/plain": [
       "Epoch 238/1000:   0%|          | 0/2 [00:00<?, ?it/s]"
      ]
     },
     "metadata": {},
     "output_type": "display_data"
    },
    {
     "data": {
      "application/vnd.jupyter.widget-view+json": {
       "model_id": "b44a9019efe44beb9b33ea3fbb40c3ad",
       "version_major": 2,
       "version_minor": 0
      },
      "text/plain": [
       "Epoch 239/1000:   0%|          | 0/2 [00:00<?, ?it/s]"
      ]
     },
     "metadata": {},
     "output_type": "display_data"
    },
    {
     "data": {
      "application/vnd.jupyter.widget-view+json": {
       "model_id": "ef01a0769d30419f86d926b638fb9855",
       "version_major": 2,
       "version_minor": 0
      },
      "text/plain": [
       "Epoch 240/1000:   0%|          | 0/2 [00:00<?, ?it/s]"
      ]
     },
     "metadata": {},
     "output_type": "display_data"
    },
    {
     "data": {
      "application/vnd.jupyter.widget-view+json": {
       "model_id": "7982bb86cec44707bb33788e0f4fe0b3",
       "version_major": 2,
       "version_minor": 0
      },
      "text/plain": [
       "Epoch 241/1000:   0%|          | 0/2 [00:00<?, ?it/s]"
      ]
     },
     "metadata": {},
     "output_type": "display_data"
    },
    {
     "data": {
      "application/vnd.jupyter.widget-view+json": {
       "model_id": "7a16d2bcea5743ba9fdc59560ba74cbb",
       "version_major": 2,
       "version_minor": 0
      },
      "text/plain": [
       "Epoch 242/1000:   0%|          | 0/2 [00:00<?, ?it/s]"
      ]
     },
     "metadata": {},
     "output_type": "display_data"
    },
    {
     "data": {
      "application/vnd.jupyter.widget-view+json": {
       "model_id": "5efe7a2c91274abea1d63c878a68fa27",
       "version_major": 2,
       "version_minor": 0
      },
      "text/plain": [
       "Epoch 243/1000:   0%|          | 0/2 [00:00<?, ?it/s]"
      ]
     },
     "metadata": {},
     "output_type": "display_data"
    },
    {
     "data": {
      "application/vnd.jupyter.widget-view+json": {
       "model_id": "dba1cbaa7af74ba3aa5959c85a31fc33",
       "version_major": 2,
       "version_minor": 0
      },
      "text/plain": [
       "Epoch 244/1000:   0%|          | 0/2 [00:00<?, ?it/s]"
      ]
     },
     "metadata": {},
     "output_type": "display_data"
    },
    {
     "data": {
      "application/vnd.jupyter.widget-view+json": {
       "model_id": "3f40e6b841844b6a8562a65cebb362a4",
       "version_major": 2,
       "version_minor": 0
      },
      "text/plain": [
       "Epoch 245/1000:   0%|          | 0/2 [00:00<?, ?it/s]"
      ]
     },
     "metadata": {},
     "output_type": "display_data"
    },
    {
     "data": {
      "application/vnd.jupyter.widget-view+json": {
       "model_id": "1711b946024647ed91367fac15ff7458",
       "version_major": 2,
       "version_minor": 0
      },
      "text/plain": [
       "Epoch 246/1000:   0%|          | 0/2 [00:00<?, ?it/s]"
      ]
     },
     "metadata": {},
     "output_type": "display_data"
    },
    {
     "data": {
      "application/vnd.jupyter.widget-view+json": {
       "model_id": "45e810eb744e4fda83a0b287c739cd2e",
       "version_major": 2,
       "version_minor": 0
      },
      "text/plain": [
       "Epoch 247/1000:   0%|          | 0/2 [00:00<?, ?it/s]"
      ]
     },
     "metadata": {},
     "output_type": "display_data"
    },
    {
     "data": {
      "application/vnd.jupyter.widget-view+json": {
       "model_id": "ab8c744499c444e78b36ea60d56da197",
       "version_major": 2,
       "version_minor": 0
      },
      "text/plain": [
       "Epoch 248/1000:   0%|          | 0/2 [00:00<?, ?it/s]"
      ]
     },
     "metadata": {},
     "output_type": "display_data"
    },
    {
     "data": {
      "application/vnd.jupyter.widget-view+json": {
       "model_id": "762a46bfdb1140d3acd460e553181c52",
       "version_major": 2,
       "version_minor": 0
      },
      "text/plain": [
       "Epoch 249/1000:   0%|          | 0/2 [00:00<?, ?it/s]"
      ]
     },
     "metadata": {},
     "output_type": "display_data"
    },
    {
     "data": {
      "application/vnd.jupyter.widget-view+json": {
       "model_id": "fbe7162b7e334f7088d5ddd98c76bc01",
       "version_major": 2,
       "version_minor": 0
      },
      "text/plain": [
       "Epoch 250/1000:   0%|          | 0/2 [00:00<?, ?it/s]"
      ]
     },
     "metadata": {},
     "output_type": "display_data"
    },
    {
     "name": "stdout",
     "output_type": "stream",
     "text": [
      "Epoch 250/1000\n",
      "  Avg Train Loss: 0.463616\n",
      "    Physics Loss: 0.000301\n",
      "    Data Loss   : 0.597826\n",
      "  Avg Val Loss  : 0.611893\n"
     ]
    },
    {
     "data": {
      "application/vnd.jupyter.widget-view+json": {
       "model_id": "eae7183ff91c4bbf90d4e70fc942ad2f",
       "version_major": 2,
       "version_minor": 0
      },
      "text/plain": [
       "Epoch 251/1000:   0%|          | 0/2 [00:00<?, ?it/s]"
      ]
     },
     "metadata": {},
     "output_type": "display_data"
    },
    {
     "data": {
      "application/vnd.jupyter.widget-view+json": {
       "model_id": "f043aa5c88594409907355ab5be33db6",
       "version_major": 2,
       "version_minor": 0
      },
      "text/plain": [
       "Epoch 252/1000:   0%|          | 0/2 [00:00<?, ?it/s]"
      ]
     },
     "metadata": {},
     "output_type": "display_data"
    },
    {
     "data": {
      "application/vnd.jupyter.widget-view+json": {
       "model_id": "c0e537e0e4df4283b68019d7720ae1a7",
       "version_major": 2,
       "version_minor": 0
      },
      "text/plain": [
       "Epoch 253/1000:   0%|          | 0/2 [00:00<?, ?it/s]"
      ]
     },
     "metadata": {},
     "output_type": "display_data"
    },
    {
     "data": {
      "application/vnd.jupyter.widget-view+json": {
       "model_id": "65bca5cad1d04574a0522016c6388abc",
       "version_major": 2,
       "version_minor": 0
      },
      "text/plain": [
       "Epoch 254/1000:   0%|          | 0/2 [00:00<?, ?it/s]"
      ]
     },
     "metadata": {},
     "output_type": "display_data"
    },
    {
     "data": {
      "application/vnd.jupyter.widget-view+json": {
       "model_id": "3237b0ba3eae4df791accf540e79b14e",
       "version_major": 2,
       "version_minor": 0
      },
      "text/plain": [
       "Epoch 255/1000:   0%|          | 0/2 [00:00<?, ?it/s]"
      ]
     },
     "metadata": {},
     "output_type": "display_data"
    },
    {
     "data": {
      "application/vnd.jupyter.widget-view+json": {
       "model_id": "8b7276ce2d8549978a6b925a57d05b50",
       "version_major": 2,
       "version_minor": 0
      },
      "text/plain": [
       "Epoch 256/1000:   0%|          | 0/2 [00:00<?, ?it/s]"
      ]
     },
     "metadata": {},
     "output_type": "display_data"
    },
    {
     "data": {
      "application/vnd.jupyter.widget-view+json": {
       "model_id": "7724395ac8e04223847fa3d27050e9bb",
       "version_major": 2,
       "version_minor": 0
      },
      "text/plain": [
       "Epoch 257/1000:   0%|          | 0/2 [00:00<?, ?it/s]"
      ]
     },
     "metadata": {},
     "output_type": "display_data"
    },
    {
     "data": {
      "application/vnd.jupyter.widget-view+json": {
       "model_id": "87dc74eeedf2447e93946d71629656e1",
       "version_major": 2,
       "version_minor": 0
      },
      "text/plain": [
       "Epoch 258/1000:   0%|          | 0/2 [00:00<?, ?it/s]"
      ]
     },
     "metadata": {},
     "output_type": "display_data"
    },
    {
     "data": {
      "application/vnd.jupyter.widget-view+json": {
       "model_id": "e8836629786a4959a06a816d2fd98a03",
       "version_major": 2,
       "version_minor": 0
      },
      "text/plain": [
       "Epoch 259/1000:   0%|          | 0/2 [00:00<?, ?it/s]"
      ]
     },
     "metadata": {},
     "output_type": "display_data"
    },
    {
     "data": {
      "application/vnd.jupyter.widget-view+json": {
       "model_id": "910ab204e7b443869d9261b0263fd010",
       "version_major": 2,
       "version_minor": 0
      },
      "text/plain": [
       "Epoch 260/1000:   0%|          | 0/2 [00:00<?, ?it/s]"
      ]
     },
     "metadata": {},
     "output_type": "display_data"
    },
    {
     "data": {
      "application/vnd.jupyter.widget-view+json": {
       "model_id": "75727492c0394f5e9576271c4ad38b30",
       "version_major": 2,
       "version_minor": 0
      },
      "text/plain": [
       "Epoch 261/1000:   0%|          | 0/2 [00:00<?, ?it/s]"
      ]
     },
     "metadata": {},
     "output_type": "display_data"
    },
    {
     "data": {
      "application/vnd.jupyter.widget-view+json": {
       "model_id": "520705956a0a43afb90cd8b0e02a23c9",
       "version_major": 2,
       "version_minor": 0
      },
      "text/plain": [
       "Epoch 262/1000:   0%|          | 0/2 [00:00<?, ?it/s]"
      ]
     },
     "metadata": {},
     "output_type": "display_data"
    },
    {
     "data": {
      "application/vnd.jupyter.widget-view+json": {
       "model_id": "655b8a5284da40238e4351b309688eb6",
       "version_major": 2,
       "version_minor": 0
      },
      "text/plain": [
       "Epoch 263/1000:   0%|          | 0/2 [00:00<?, ?it/s]"
      ]
     },
     "metadata": {},
     "output_type": "display_data"
    },
    {
     "data": {
      "application/vnd.jupyter.widget-view+json": {
       "model_id": "6bf444641a2740b9b3af5d1be85ca2a6",
       "version_major": 2,
       "version_minor": 0
      },
      "text/plain": [
       "Epoch 264/1000:   0%|          | 0/2 [00:00<?, ?it/s]"
      ]
     },
     "metadata": {},
     "output_type": "display_data"
    },
    {
     "data": {
      "application/vnd.jupyter.widget-view+json": {
       "model_id": "ee607bfa30254eeb82d14e9ae5466e31",
       "version_major": 2,
       "version_minor": 0
      },
      "text/plain": [
       "Epoch 265/1000:   0%|          | 0/2 [00:00<?, ?it/s]"
      ]
     },
     "metadata": {},
     "output_type": "display_data"
    },
    {
     "data": {
      "application/vnd.jupyter.widget-view+json": {
       "model_id": "305c7953ac5e4ca59886f5b9bbc1fc2a",
       "version_major": 2,
       "version_minor": 0
      },
      "text/plain": [
       "Epoch 266/1000:   0%|          | 0/2 [00:00<?, ?it/s]"
      ]
     },
     "metadata": {},
     "output_type": "display_data"
    },
    {
     "data": {
      "application/vnd.jupyter.widget-view+json": {
       "model_id": "ddda8bedd6014bc3adcbdde9527e64fc",
       "version_major": 2,
       "version_minor": 0
      },
      "text/plain": [
       "Epoch 267/1000:   0%|          | 0/2 [00:00<?, ?it/s]"
      ]
     },
     "metadata": {},
     "output_type": "display_data"
    },
    {
     "data": {
      "application/vnd.jupyter.widget-view+json": {
       "model_id": "f2f9fdf552a8499ca2ae4a1f5b863e80",
       "version_major": 2,
       "version_minor": 0
      },
      "text/plain": [
       "Epoch 268/1000:   0%|          | 0/2 [00:00<?, ?it/s]"
      ]
     },
     "metadata": {},
     "output_type": "display_data"
    },
    {
     "data": {
      "application/vnd.jupyter.widget-view+json": {
       "model_id": "8acd3df8b31a4ec483a8f8f4ccf2f1f0",
       "version_major": 2,
       "version_minor": 0
      },
      "text/plain": [
       "Epoch 269/1000:   0%|          | 0/2 [00:00<?, ?it/s]"
      ]
     },
     "metadata": {},
     "output_type": "display_data"
    },
    {
     "data": {
      "application/vnd.jupyter.widget-view+json": {
       "model_id": "abad46e1d43049b49664750fca261e1d",
       "version_major": 2,
       "version_minor": 0
      },
      "text/plain": [
       "Epoch 270/1000:   0%|          | 0/2 [00:00<?, ?it/s]"
      ]
     },
     "metadata": {},
     "output_type": "display_data"
    },
    {
     "data": {
      "application/vnd.jupyter.widget-view+json": {
       "model_id": "4f4b6e70f9e94862b164d0a8bdedb514",
       "version_major": 2,
       "version_minor": 0
      },
      "text/plain": [
       "Epoch 271/1000:   0%|          | 0/2 [00:00<?, ?it/s]"
      ]
     },
     "metadata": {},
     "output_type": "display_data"
    },
    {
     "data": {
      "application/vnd.jupyter.widget-view+json": {
       "model_id": "a41562f581f7448db421dec5a3fbe975",
       "version_major": 2,
       "version_minor": 0
      },
      "text/plain": [
       "Epoch 272/1000:   0%|          | 0/2 [00:00<?, ?it/s]"
      ]
     },
     "metadata": {},
     "output_type": "display_data"
    },
    {
     "data": {
      "application/vnd.jupyter.widget-view+json": {
       "model_id": "2c3130b01b98408c8819622c983b0b8c",
       "version_major": 2,
       "version_minor": 0
      },
      "text/plain": [
       "Epoch 273/1000:   0%|          | 0/2 [00:00<?, ?it/s]"
      ]
     },
     "metadata": {},
     "output_type": "display_data"
    },
    {
     "data": {
      "application/vnd.jupyter.widget-view+json": {
       "model_id": "69a776305de74adb9ac16b902a84d634",
       "version_major": 2,
       "version_minor": 0
      },
      "text/plain": [
       "Epoch 274/1000:   0%|          | 0/2 [00:00<?, ?it/s]"
      ]
     },
     "metadata": {},
     "output_type": "display_data"
    },
    {
     "data": {
      "application/vnd.jupyter.widget-view+json": {
       "model_id": "7c3d7974495444078ab78578601214d2",
       "version_major": 2,
       "version_minor": 0
      },
      "text/plain": [
       "Epoch 275/1000:   0%|          | 0/2 [00:00<?, ?it/s]"
      ]
     },
     "metadata": {},
     "output_type": "display_data"
    },
    {
     "data": {
      "application/vnd.jupyter.widget-view+json": {
       "model_id": "5347a8eb590e4e8eb36c1edc27eca123",
       "version_major": 2,
       "version_minor": 0
      },
      "text/plain": [
       "Epoch 276/1000:   0%|          | 0/2 [00:00<?, ?it/s]"
      ]
     },
     "metadata": {},
     "output_type": "display_data"
    },
    {
     "data": {
      "application/vnd.jupyter.widget-view+json": {
       "model_id": "d70083d026204dc38ce047f3cbea65f9",
       "version_major": 2,
       "version_minor": 0
      },
      "text/plain": [
       "Epoch 277/1000:   0%|          | 0/2 [00:00<?, ?it/s]"
      ]
     },
     "metadata": {},
     "output_type": "display_data"
    },
    {
     "data": {
      "application/vnd.jupyter.widget-view+json": {
       "model_id": "caf8c84f11b2458b87a9223d94f0e3cd",
       "version_major": 2,
       "version_minor": 0
      },
      "text/plain": [
       "Epoch 278/1000:   0%|          | 0/2 [00:00<?, ?it/s]"
      ]
     },
     "metadata": {},
     "output_type": "display_data"
    },
    {
     "data": {
      "application/vnd.jupyter.widget-view+json": {
       "model_id": "e96ebc3e17104976b922e8a27f01a03a",
       "version_major": 2,
       "version_minor": 0
      },
      "text/plain": [
       "Epoch 279/1000:   0%|          | 0/2 [00:00<?, ?it/s]"
      ]
     },
     "metadata": {},
     "output_type": "display_data"
    },
    {
     "data": {
      "application/vnd.jupyter.widget-view+json": {
       "model_id": "a083acb1240b47b19312d5fbdf14935f",
       "version_major": 2,
       "version_minor": 0
      },
      "text/plain": [
       "Epoch 280/1000:   0%|          | 0/2 [00:00<?, ?it/s]"
      ]
     },
     "metadata": {},
     "output_type": "display_data"
    },
    {
     "data": {
      "application/vnd.jupyter.widget-view+json": {
       "model_id": "5ec7ae8bb02e4ff1a306ccd518d77a2c",
       "version_major": 2,
       "version_minor": 0
      },
      "text/plain": [
       "Epoch 281/1000:   0%|          | 0/2 [00:00<?, ?it/s]"
      ]
     },
     "metadata": {},
     "output_type": "display_data"
    },
    {
     "data": {
      "application/vnd.jupyter.widget-view+json": {
       "model_id": "219b41bf3ae4477fa13f4bac7f86bfc5",
       "version_major": 2,
       "version_minor": 0
      },
      "text/plain": [
       "Epoch 282/1000:   0%|          | 0/2 [00:00<?, ?it/s]"
      ]
     },
     "metadata": {},
     "output_type": "display_data"
    },
    {
     "data": {
      "application/vnd.jupyter.widget-view+json": {
       "model_id": "51fba626d2a34d49a9f333086ad71f84",
       "version_major": 2,
       "version_minor": 0
      },
      "text/plain": [
       "Epoch 283/1000:   0%|          | 0/2 [00:00<?, ?it/s]"
      ]
     },
     "metadata": {},
     "output_type": "display_data"
    },
    {
     "data": {
      "application/vnd.jupyter.widget-view+json": {
       "model_id": "196ec4e99b154153a991b5f4260773b7",
       "version_major": 2,
       "version_minor": 0
      },
      "text/plain": [
       "Epoch 284/1000:   0%|          | 0/2 [00:00<?, ?it/s]"
      ]
     },
     "metadata": {},
     "output_type": "display_data"
    },
    {
     "data": {
      "application/vnd.jupyter.widget-view+json": {
       "model_id": "4c3feb657de64c86888df573e83ebf71",
       "version_major": 2,
       "version_minor": 0
      },
      "text/plain": [
       "Epoch 285/1000:   0%|          | 0/2 [00:00<?, ?it/s]"
      ]
     },
     "metadata": {},
     "output_type": "display_data"
    },
    {
     "data": {
      "application/vnd.jupyter.widget-view+json": {
       "model_id": "e742879d68174310a35bd86d59e2dab3",
       "version_major": 2,
       "version_minor": 0
      },
      "text/plain": [
       "Epoch 286/1000:   0%|          | 0/2 [00:00<?, ?it/s]"
      ]
     },
     "metadata": {},
     "output_type": "display_data"
    },
    {
     "data": {
      "application/vnd.jupyter.widget-view+json": {
       "model_id": "c6b9d1d89b3a48d78fa6e69e6eef6240",
       "version_major": 2,
       "version_minor": 0
      },
      "text/plain": [
       "Epoch 287/1000:   0%|          | 0/2 [00:00<?, ?it/s]"
      ]
     },
     "metadata": {},
     "output_type": "display_data"
    },
    {
     "data": {
      "application/vnd.jupyter.widget-view+json": {
       "model_id": "036db2d176554765a57f2d47591a43c8",
       "version_major": 2,
       "version_minor": 0
      },
      "text/plain": [
       "Epoch 288/1000:   0%|          | 0/2 [00:00<?, ?it/s]"
      ]
     },
     "metadata": {},
     "output_type": "display_data"
    },
    {
     "data": {
      "application/vnd.jupyter.widget-view+json": {
       "model_id": "dcbf6c6bfe8d47338328e7c28c8acfcf",
       "version_major": 2,
       "version_minor": 0
      },
      "text/plain": [
       "Epoch 289/1000:   0%|          | 0/2 [00:00<?, ?it/s]"
      ]
     },
     "metadata": {},
     "output_type": "display_data"
    },
    {
     "data": {
      "application/vnd.jupyter.widget-view+json": {
       "model_id": "44ef3c65c2c9402c87a3e6b9c86b6c6e",
       "version_major": 2,
       "version_minor": 0
      },
      "text/plain": [
       "Epoch 290/1000:   0%|          | 0/2 [00:00<?, ?it/s]"
      ]
     },
     "metadata": {},
     "output_type": "display_data"
    },
    {
     "data": {
      "application/vnd.jupyter.widget-view+json": {
       "model_id": "16a16c100c9b45328f2cb292d27ee7fc",
       "version_major": 2,
       "version_minor": 0
      },
      "text/plain": [
       "Epoch 291/1000:   0%|          | 0/2 [00:00<?, ?it/s]"
      ]
     },
     "metadata": {},
     "output_type": "display_data"
    },
    {
     "data": {
      "application/vnd.jupyter.widget-view+json": {
       "model_id": "7108ba0a6fb24d87be8665352ffa7ecf",
       "version_major": 2,
       "version_minor": 0
      },
      "text/plain": [
       "Epoch 292/1000:   0%|          | 0/2 [00:00<?, ?it/s]"
      ]
     },
     "metadata": {},
     "output_type": "display_data"
    },
    {
     "data": {
      "application/vnd.jupyter.widget-view+json": {
       "model_id": "d54471ace5ee423f827a5044622a9c21",
       "version_major": 2,
       "version_minor": 0
      },
      "text/plain": [
       "Epoch 293/1000:   0%|          | 0/2 [00:00<?, ?it/s]"
      ]
     },
     "metadata": {},
     "output_type": "display_data"
    },
    {
     "data": {
      "application/vnd.jupyter.widget-view+json": {
       "model_id": "fd4d322aa5ea41059512df3c3f28eb86",
       "version_major": 2,
       "version_minor": 0
      },
      "text/plain": [
       "Epoch 294/1000:   0%|          | 0/2 [00:00<?, ?it/s]"
      ]
     },
     "metadata": {},
     "output_type": "display_data"
    },
    {
     "data": {
      "application/vnd.jupyter.widget-view+json": {
       "model_id": "8b53f711d053440998cbc180c0f94cde",
       "version_major": 2,
       "version_minor": 0
      },
      "text/plain": [
       "Epoch 295/1000:   0%|          | 0/2 [00:00<?, ?it/s]"
      ]
     },
     "metadata": {},
     "output_type": "display_data"
    },
    {
     "data": {
      "application/vnd.jupyter.widget-view+json": {
       "model_id": "a19e4305f90e47d185b6d2897aced060",
       "version_major": 2,
       "version_minor": 0
      },
      "text/plain": [
       "Epoch 296/1000:   0%|          | 0/2 [00:00<?, ?it/s]"
      ]
     },
     "metadata": {},
     "output_type": "display_data"
    },
    {
     "data": {
      "application/vnd.jupyter.widget-view+json": {
       "model_id": "d76f58ef6c7347dcaad09b1765eca9a5",
       "version_major": 2,
       "version_minor": 0
      },
      "text/plain": [
       "Epoch 297/1000:   0%|          | 0/2 [00:00<?, ?it/s]"
      ]
     },
     "metadata": {},
     "output_type": "display_data"
    },
    {
     "data": {
      "application/vnd.jupyter.widget-view+json": {
       "model_id": "afbcc21b66e74f25adec866a3960aa54",
       "version_major": 2,
       "version_minor": 0
      },
      "text/plain": [
       "Epoch 298/1000:   0%|          | 0/2 [00:00<?, ?it/s]"
      ]
     },
     "metadata": {},
     "output_type": "display_data"
    },
    {
     "data": {
      "application/vnd.jupyter.widget-view+json": {
       "model_id": "8c1d309cd4c14073b0fea18b0a990764",
       "version_major": 2,
       "version_minor": 0
      },
      "text/plain": [
       "Epoch 299/1000:   0%|          | 0/2 [00:00<?, ?it/s]"
      ]
     },
     "metadata": {},
     "output_type": "display_data"
    },
    {
     "data": {
      "application/vnd.jupyter.widget-view+json": {
       "model_id": "efa78d0fb762440e9a4e0c53e998b0c2",
       "version_major": 2,
       "version_minor": 0
      },
      "text/plain": [
       "Epoch 300/1000:   0%|          | 0/2 [00:00<?, ?it/s]"
      ]
     },
     "metadata": {},
     "output_type": "display_data"
    },
    {
     "name": "stdout",
     "output_type": "stream",
     "text": [
      "Epoch 300/1000\n",
      "  Avg Train Loss: 0.438093\n",
      "    Physics Loss: 0.000233\n",
      "    Data Loss   : 0.599809\n",
      "  Avg Val Loss  : 0.600174\n"
     ]
    },
    {
     "data": {
      "application/vnd.jupyter.widget-view+json": {
       "model_id": "2ed40497635a47d98b8eeb6c2540a455",
       "version_major": 2,
       "version_minor": 0
      },
      "text/plain": [
       "Epoch 301/1000:   0%|          | 0/2 [00:00<?, ?it/s]"
      ]
     },
     "metadata": {},
     "output_type": "display_data"
    },
    {
     "data": {
      "application/vnd.jupyter.widget-view+json": {
       "model_id": "421138774f69436f895e9e810d3e3193",
       "version_major": 2,
       "version_minor": 0
      },
      "text/plain": [
       "Epoch 302/1000:   0%|          | 0/2 [00:00<?, ?it/s]"
      ]
     },
     "metadata": {},
     "output_type": "display_data"
    },
    {
     "data": {
      "application/vnd.jupyter.widget-view+json": {
       "model_id": "17dcac1af35f47a395bb719151abdf03",
       "version_major": 2,
       "version_minor": 0
      },
      "text/plain": [
       "Epoch 303/1000:   0%|          | 0/2 [00:00<?, ?it/s]"
      ]
     },
     "metadata": {},
     "output_type": "display_data"
    },
    {
     "data": {
      "application/vnd.jupyter.widget-view+json": {
       "model_id": "f4b4b2fa4d264577ab56026c4d011ab6",
       "version_major": 2,
       "version_minor": 0
      },
      "text/plain": [
       "Epoch 304/1000:   0%|          | 0/2 [00:00<?, ?it/s]"
      ]
     },
     "metadata": {},
     "output_type": "display_data"
    },
    {
     "data": {
      "application/vnd.jupyter.widget-view+json": {
       "model_id": "0a701c7c6fab4269ae4d80f02e5ff875",
       "version_major": 2,
       "version_minor": 0
      },
      "text/plain": [
       "Epoch 305/1000:   0%|          | 0/2 [00:00<?, ?it/s]"
      ]
     },
     "metadata": {},
     "output_type": "display_data"
    },
    {
     "data": {
      "application/vnd.jupyter.widget-view+json": {
       "model_id": "f88eb27b8dbb412c86e20aa85a7e0294",
       "version_major": 2,
       "version_minor": 0
      },
      "text/plain": [
       "Epoch 306/1000:   0%|          | 0/2 [00:00<?, ?it/s]"
      ]
     },
     "metadata": {},
     "output_type": "display_data"
    },
    {
     "data": {
      "application/vnd.jupyter.widget-view+json": {
       "model_id": "341c7e0565e64af5a794b6d31c74c051",
       "version_major": 2,
       "version_minor": 0
      },
      "text/plain": [
       "Epoch 307/1000:   0%|          | 0/2 [00:00<?, ?it/s]"
      ]
     },
     "metadata": {},
     "output_type": "display_data"
    },
    {
     "data": {
      "application/vnd.jupyter.widget-view+json": {
       "model_id": "0c9714c9d53d415e9e46dd683c7c7add",
       "version_major": 2,
       "version_minor": 0
      },
      "text/plain": [
       "Epoch 308/1000:   0%|          | 0/2 [00:00<?, ?it/s]"
      ]
     },
     "metadata": {},
     "output_type": "display_data"
    },
    {
     "data": {
      "application/vnd.jupyter.widget-view+json": {
       "model_id": "ed3db6e86b0543c9b89887ec2a136159",
       "version_major": 2,
       "version_minor": 0
      },
      "text/plain": [
       "Epoch 309/1000:   0%|          | 0/2 [00:00<?, ?it/s]"
      ]
     },
     "metadata": {},
     "output_type": "display_data"
    },
    {
     "data": {
      "application/vnd.jupyter.widget-view+json": {
       "model_id": "68e50e794d7344b4beb9fd1ccd9644fe",
       "version_major": 2,
       "version_minor": 0
      },
      "text/plain": [
       "Epoch 310/1000:   0%|          | 0/2 [00:00<?, ?it/s]"
      ]
     },
     "metadata": {},
     "output_type": "display_data"
    },
    {
     "data": {
      "application/vnd.jupyter.widget-view+json": {
       "model_id": "5c47e82e8d954409935a1830f4e35d66",
       "version_major": 2,
       "version_minor": 0
      },
      "text/plain": [
       "Epoch 311/1000:   0%|          | 0/2 [00:00<?, ?it/s]"
      ]
     },
     "metadata": {},
     "output_type": "display_data"
    },
    {
     "data": {
      "application/vnd.jupyter.widget-view+json": {
       "model_id": "4a5ca621f9784b86a8d744853d8cb4e5",
       "version_major": 2,
       "version_minor": 0
      },
      "text/plain": [
       "Epoch 312/1000:   0%|          | 0/2 [00:00<?, ?it/s]"
      ]
     },
     "metadata": {},
     "output_type": "display_data"
    },
    {
     "data": {
      "application/vnd.jupyter.widget-view+json": {
       "model_id": "a2eef321f178436aba3039f986f45a61",
       "version_major": 2,
       "version_minor": 0
      },
      "text/plain": [
       "Epoch 313/1000:   0%|          | 0/2 [00:00<?, ?it/s]"
      ]
     },
     "metadata": {},
     "output_type": "display_data"
    },
    {
     "data": {
      "application/vnd.jupyter.widget-view+json": {
       "model_id": "b6e5d0885f8e4877b5dc308b06246e9d",
       "version_major": 2,
       "version_minor": 0
      },
      "text/plain": [
       "Epoch 314/1000:   0%|          | 0/2 [00:00<?, ?it/s]"
      ]
     },
     "metadata": {},
     "output_type": "display_data"
    },
    {
     "data": {
      "application/vnd.jupyter.widget-view+json": {
       "model_id": "9bf6282f64f34b62860061b8a064d2f6",
       "version_major": 2,
       "version_minor": 0
      },
      "text/plain": [
       "Epoch 315/1000:   0%|          | 0/2 [00:00<?, ?it/s]"
      ]
     },
     "metadata": {},
     "output_type": "display_data"
    },
    {
     "data": {
      "application/vnd.jupyter.widget-view+json": {
       "model_id": "0bb55ac801634858a1b902493f05ce46",
       "version_major": 2,
       "version_minor": 0
      },
      "text/plain": [
       "Epoch 316/1000:   0%|          | 0/2 [00:00<?, ?it/s]"
      ]
     },
     "metadata": {},
     "output_type": "display_data"
    },
    {
     "data": {
      "application/vnd.jupyter.widget-view+json": {
       "model_id": "1455fa0e36674a4e8fa58c9f0f04108d",
       "version_major": 2,
       "version_minor": 0
      },
      "text/plain": [
       "Epoch 317/1000:   0%|          | 0/2 [00:00<?, ?it/s]"
      ]
     },
     "metadata": {},
     "output_type": "display_data"
    },
    {
     "data": {
      "application/vnd.jupyter.widget-view+json": {
       "model_id": "20a1bb5217274466a9bdd2fc7ae87dfc",
       "version_major": 2,
       "version_minor": 0
      },
      "text/plain": [
       "Epoch 318/1000:   0%|          | 0/2 [00:00<?, ?it/s]"
      ]
     },
     "metadata": {},
     "output_type": "display_data"
    },
    {
     "data": {
      "application/vnd.jupyter.widget-view+json": {
       "model_id": "afc4a2a0da0249618783992840e8086e",
       "version_major": 2,
       "version_minor": 0
      },
      "text/plain": [
       "Epoch 319/1000:   0%|          | 0/2 [00:00<?, ?it/s]"
      ]
     },
     "metadata": {},
     "output_type": "display_data"
    },
    {
     "data": {
      "application/vnd.jupyter.widget-view+json": {
       "model_id": "33e9e571da5f476790b98f791847e36a",
       "version_major": 2,
       "version_minor": 0
      },
      "text/plain": [
       "Epoch 320/1000:   0%|          | 0/2 [00:00<?, ?it/s]"
      ]
     },
     "metadata": {},
     "output_type": "display_data"
    },
    {
     "data": {
      "application/vnd.jupyter.widget-view+json": {
       "model_id": "a1beb5c85ac94a3388960b7848c3f478",
       "version_major": 2,
       "version_minor": 0
      },
      "text/plain": [
       "Epoch 321/1000:   0%|          | 0/2 [00:00<?, ?it/s]"
      ]
     },
     "metadata": {},
     "output_type": "display_data"
    },
    {
     "data": {
      "application/vnd.jupyter.widget-view+json": {
       "model_id": "51f76a301d9a4d9db91bdaf4c66ec435",
       "version_major": 2,
       "version_minor": 0
      },
      "text/plain": [
       "Epoch 322/1000:   0%|          | 0/2 [00:00<?, ?it/s]"
      ]
     },
     "metadata": {},
     "output_type": "display_data"
    },
    {
     "data": {
      "application/vnd.jupyter.widget-view+json": {
       "model_id": "12dbcbced3954aef91e40971bca892dd",
       "version_major": 2,
       "version_minor": 0
      },
      "text/plain": [
       "Epoch 323/1000:   0%|          | 0/2 [00:00<?, ?it/s]"
      ]
     },
     "metadata": {},
     "output_type": "display_data"
    },
    {
     "data": {
      "application/vnd.jupyter.widget-view+json": {
       "model_id": "91578a7cac6c4f448365d4e556a4c721",
       "version_major": 2,
       "version_minor": 0
      },
      "text/plain": [
       "Epoch 324/1000:   0%|          | 0/2 [00:00<?, ?it/s]"
      ]
     },
     "metadata": {},
     "output_type": "display_data"
    },
    {
     "data": {
      "application/vnd.jupyter.widget-view+json": {
       "model_id": "69b7ad23041a4218b0b36a8ea7b4d724",
       "version_major": 2,
       "version_minor": 0
      },
      "text/plain": [
       "Epoch 325/1000:   0%|          | 0/2 [00:00<?, ?it/s]"
      ]
     },
     "metadata": {},
     "output_type": "display_data"
    },
    {
     "data": {
      "application/vnd.jupyter.widget-view+json": {
       "model_id": "624b86bef1e44a78af95fd45724abac8",
       "version_major": 2,
       "version_minor": 0
      },
      "text/plain": [
       "Epoch 326/1000:   0%|          | 0/2 [00:00<?, ?it/s]"
      ]
     },
     "metadata": {},
     "output_type": "display_data"
    },
    {
     "data": {
      "application/vnd.jupyter.widget-view+json": {
       "model_id": "79a96c6128eb4ee2be71ed22395bc2c8",
       "version_major": 2,
       "version_minor": 0
      },
      "text/plain": [
       "Epoch 327/1000:   0%|          | 0/2 [00:00<?, ?it/s]"
      ]
     },
     "metadata": {},
     "output_type": "display_data"
    },
    {
     "data": {
      "application/vnd.jupyter.widget-view+json": {
       "model_id": "a11a1ac8d97d4ceb958f56bd438d3d0d",
       "version_major": 2,
       "version_minor": 0
      },
      "text/plain": [
       "Epoch 328/1000:   0%|          | 0/2 [00:00<?, ?it/s]"
      ]
     },
     "metadata": {},
     "output_type": "display_data"
    },
    {
     "data": {
      "application/vnd.jupyter.widget-view+json": {
       "model_id": "41ac633c8d8d436db3cd4db3ff46a8de",
       "version_major": 2,
       "version_minor": 0
      },
      "text/plain": [
       "Epoch 329/1000:   0%|          | 0/2 [00:00<?, ?it/s]"
      ]
     },
     "metadata": {},
     "output_type": "display_data"
    },
    {
     "data": {
      "application/vnd.jupyter.widget-view+json": {
       "model_id": "efee96dd1de0439997d0763ed6c62691",
       "version_major": 2,
       "version_minor": 0
      },
      "text/plain": [
       "Epoch 330/1000:   0%|          | 0/2 [00:00<?, ?it/s]"
      ]
     },
     "metadata": {},
     "output_type": "display_data"
    },
    {
     "data": {
      "application/vnd.jupyter.widget-view+json": {
       "model_id": "13655e3f0b9541c0bff111674de15df8",
       "version_major": 2,
       "version_minor": 0
      },
      "text/plain": [
       "Epoch 331/1000:   0%|          | 0/2 [00:00<?, ?it/s]"
      ]
     },
     "metadata": {},
     "output_type": "display_data"
    },
    {
     "data": {
      "application/vnd.jupyter.widget-view+json": {
       "model_id": "54c040ecaa3145eaa5e7477988f0d9c1",
       "version_major": 2,
       "version_minor": 0
      },
      "text/plain": [
       "Epoch 332/1000:   0%|          | 0/2 [00:00<?, ?it/s]"
      ]
     },
     "metadata": {},
     "output_type": "display_data"
    },
    {
     "data": {
      "application/vnd.jupyter.widget-view+json": {
       "model_id": "90f4769a54c64949bcf1736012ae374e",
       "version_major": 2,
       "version_minor": 0
      },
      "text/plain": [
       "Epoch 333/1000:   0%|          | 0/2 [00:00<?, ?it/s]"
      ]
     },
     "metadata": {},
     "output_type": "display_data"
    },
    {
     "data": {
      "application/vnd.jupyter.widget-view+json": {
       "model_id": "1c8f7b1a5a904ce5a2139d2b4b32b6c7",
       "version_major": 2,
       "version_minor": 0
      },
      "text/plain": [
       "Epoch 334/1000:   0%|          | 0/2 [00:00<?, ?it/s]"
      ]
     },
     "metadata": {},
     "output_type": "display_data"
    },
    {
     "data": {
      "application/vnd.jupyter.widget-view+json": {
       "model_id": "2a80396231e945cea4f5512b480334dd",
       "version_major": 2,
       "version_minor": 0
      },
      "text/plain": [
       "Epoch 335/1000:   0%|          | 0/2 [00:00<?, ?it/s]"
      ]
     },
     "metadata": {},
     "output_type": "display_data"
    },
    {
     "data": {
      "application/vnd.jupyter.widget-view+json": {
       "model_id": "1b6dbf1042b8418986ee8cd87a7859df",
       "version_major": 2,
       "version_minor": 0
      },
      "text/plain": [
       "Epoch 336/1000:   0%|          | 0/2 [00:00<?, ?it/s]"
      ]
     },
     "metadata": {},
     "output_type": "display_data"
    },
    {
     "data": {
      "application/vnd.jupyter.widget-view+json": {
       "model_id": "24410a40cfab4c859dc8300acbe7beb2",
       "version_major": 2,
       "version_minor": 0
      },
      "text/plain": [
       "Epoch 337/1000:   0%|          | 0/2 [00:00<?, ?it/s]"
      ]
     },
     "metadata": {},
     "output_type": "display_data"
    },
    {
     "data": {
      "application/vnd.jupyter.widget-view+json": {
       "model_id": "52d9aedd1671402f8268e1961448e4db",
       "version_major": 2,
       "version_minor": 0
      },
      "text/plain": [
       "Epoch 338/1000:   0%|          | 0/2 [00:00<?, ?it/s]"
      ]
     },
     "metadata": {},
     "output_type": "display_data"
    },
    {
     "data": {
      "application/vnd.jupyter.widget-view+json": {
       "model_id": "5da62152a86c447eb9bb3416b8f1b1a4",
       "version_major": 2,
       "version_minor": 0
      },
      "text/plain": [
       "Epoch 339/1000:   0%|          | 0/2 [00:00<?, ?it/s]"
      ]
     },
     "metadata": {},
     "output_type": "display_data"
    },
    {
     "data": {
      "application/vnd.jupyter.widget-view+json": {
       "model_id": "d28315a5ce0441029211eb1d23bf801d",
       "version_major": 2,
       "version_minor": 0
      },
      "text/plain": [
       "Epoch 340/1000:   0%|          | 0/2 [00:00<?, ?it/s]"
      ]
     },
     "metadata": {},
     "output_type": "display_data"
    },
    {
     "data": {
      "application/vnd.jupyter.widget-view+json": {
       "model_id": "826502505ad04508bbbdb38847b70782",
       "version_major": 2,
       "version_minor": 0
      },
      "text/plain": [
       "Epoch 341/1000:   0%|          | 0/2 [00:00<?, ?it/s]"
      ]
     },
     "metadata": {},
     "output_type": "display_data"
    },
    {
     "data": {
      "application/vnd.jupyter.widget-view+json": {
       "model_id": "e17b8af965874135a134931c3721e356",
       "version_major": 2,
       "version_minor": 0
      },
      "text/plain": [
       "Epoch 342/1000:   0%|          | 0/2 [00:00<?, ?it/s]"
      ]
     },
     "metadata": {},
     "output_type": "display_data"
    },
    {
     "data": {
      "application/vnd.jupyter.widget-view+json": {
       "model_id": "d16125da32b34b1b8135d628c7d180e6",
       "version_major": 2,
       "version_minor": 0
      },
      "text/plain": [
       "Epoch 343/1000:   0%|          | 0/2 [00:00<?, ?it/s]"
      ]
     },
     "metadata": {},
     "output_type": "display_data"
    },
    {
     "data": {
      "application/vnd.jupyter.widget-view+json": {
       "model_id": "8bf8b0257ec44dbd8783d586d6c53f7c",
       "version_major": 2,
       "version_minor": 0
      },
      "text/plain": [
       "Epoch 344/1000:   0%|          | 0/2 [00:00<?, ?it/s]"
      ]
     },
     "metadata": {},
     "output_type": "display_data"
    },
    {
     "data": {
      "application/vnd.jupyter.widget-view+json": {
       "model_id": "5035938039d2437a801af3afbcb3e6bb",
       "version_major": 2,
       "version_minor": 0
      },
      "text/plain": [
       "Epoch 345/1000:   0%|          | 0/2 [00:00<?, ?it/s]"
      ]
     },
     "metadata": {},
     "output_type": "display_data"
    },
    {
     "data": {
      "application/vnd.jupyter.widget-view+json": {
       "model_id": "cdb6984ae8ad467aad7095186df13d13",
       "version_major": 2,
       "version_minor": 0
      },
      "text/plain": [
       "Epoch 346/1000:   0%|          | 0/2 [00:00<?, ?it/s]"
      ]
     },
     "metadata": {},
     "output_type": "display_data"
    },
    {
     "data": {
      "application/vnd.jupyter.widget-view+json": {
       "model_id": "f18e454deb634a92851a18a138c23967",
       "version_major": 2,
       "version_minor": 0
      },
      "text/plain": [
       "Epoch 347/1000:   0%|          | 0/2 [00:00<?, ?it/s]"
      ]
     },
     "metadata": {},
     "output_type": "display_data"
    },
    {
     "data": {
      "application/vnd.jupyter.widget-view+json": {
       "model_id": "399753be771146029664db8fbdca8a2f",
       "version_major": 2,
       "version_minor": 0
      },
      "text/plain": [
       "Epoch 348/1000:   0%|          | 0/2 [00:00<?, ?it/s]"
      ]
     },
     "metadata": {},
     "output_type": "display_data"
    },
    {
     "data": {
      "application/vnd.jupyter.widget-view+json": {
       "model_id": "106c1ad952c645d6b0f7004e0dae32f1",
       "version_major": 2,
       "version_minor": 0
      },
      "text/plain": [
       "Epoch 349/1000:   0%|          | 0/2 [00:00<?, ?it/s]"
      ]
     },
     "metadata": {},
     "output_type": "display_data"
    },
    {
     "data": {
      "application/vnd.jupyter.widget-view+json": {
       "model_id": "979bea9bc3544ea4a1e11c7e1bca06f7",
       "version_major": 2,
       "version_minor": 0
      },
      "text/plain": [
       "Epoch 350/1000:   0%|          | 0/2 [00:00<?, ?it/s]"
      ]
     },
     "metadata": {},
     "output_type": "display_data"
    },
    {
     "name": "stdout",
     "output_type": "stream",
     "text": [
      "Epoch 350/1000\n",
      "  Avg Train Loss: 0.398341\n",
      "    Physics Loss: 0.000206\n",
      "    Data Loss   : 0.581219\n",
      "  Avg Val Loss  : 0.594102\n"
     ]
    },
    {
     "data": {
      "application/vnd.jupyter.widget-view+json": {
       "model_id": "e87075f4c4d1455f8b20843ffc83d607",
       "version_major": 2,
       "version_minor": 0
      },
      "text/plain": [
       "Epoch 351/1000:   0%|          | 0/2 [00:00<?, ?it/s]"
      ]
     },
     "metadata": {},
     "output_type": "display_data"
    },
    {
     "data": {
      "application/vnd.jupyter.widget-view+json": {
       "model_id": "205cec7ed2e548b582b6b61f1ef24874",
       "version_major": 2,
       "version_minor": 0
      },
      "text/plain": [
       "Epoch 352/1000:   0%|          | 0/2 [00:00<?, ?it/s]"
      ]
     },
     "metadata": {},
     "output_type": "display_data"
    },
    {
     "data": {
      "application/vnd.jupyter.widget-view+json": {
       "model_id": "82aec0388c97479ebb3310f93ba31efb",
       "version_major": 2,
       "version_minor": 0
      },
      "text/plain": [
       "Epoch 353/1000:   0%|          | 0/2 [00:00<?, ?it/s]"
      ]
     },
     "metadata": {},
     "output_type": "display_data"
    },
    {
     "data": {
      "application/vnd.jupyter.widget-view+json": {
       "model_id": "340d805bb1384578a065ee8f508655ff",
       "version_major": 2,
       "version_minor": 0
      },
      "text/plain": [
       "Epoch 354/1000:   0%|          | 0/2 [00:00<?, ?it/s]"
      ]
     },
     "metadata": {},
     "output_type": "display_data"
    },
    {
     "data": {
      "application/vnd.jupyter.widget-view+json": {
       "model_id": "2664e0c4e5f4471eb86d3354b6530ae6",
       "version_major": 2,
       "version_minor": 0
      },
      "text/plain": [
       "Epoch 355/1000:   0%|          | 0/2 [00:00<?, ?it/s]"
      ]
     },
     "metadata": {},
     "output_type": "display_data"
    },
    {
     "data": {
      "application/vnd.jupyter.widget-view+json": {
       "model_id": "defbac5b603f4ea7bbbb6355e7aa0230",
       "version_major": 2,
       "version_minor": 0
      },
      "text/plain": [
       "Epoch 356/1000:   0%|          | 0/2 [00:00<?, ?it/s]"
      ]
     },
     "metadata": {},
     "output_type": "display_data"
    },
    {
     "data": {
      "application/vnd.jupyter.widget-view+json": {
       "model_id": "ce42a495bf7d47629e8da77509778a2a",
       "version_major": 2,
       "version_minor": 0
      },
      "text/plain": [
       "Epoch 357/1000:   0%|          | 0/2 [00:00<?, ?it/s]"
      ]
     },
     "metadata": {},
     "output_type": "display_data"
    },
    {
     "data": {
      "application/vnd.jupyter.widget-view+json": {
       "model_id": "f572413240ab48009ac642d6736eaed2",
       "version_major": 2,
       "version_minor": 0
      },
      "text/plain": [
       "Epoch 358/1000:   0%|          | 0/2 [00:00<?, ?it/s]"
      ]
     },
     "metadata": {},
     "output_type": "display_data"
    },
    {
     "data": {
      "application/vnd.jupyter.widget-view+json": {
       "model_id": "6a7badff1b514a9ea3dee3eb618bc240",
       "version_major": 2,
       "version_minor": 0
      },
      "text/plain": [
       "Epoch 359/1000:   0%|          | 0/2 [00:00<?, ?it/s]"
      ]
     },
     "metadata": {},
     "output_type": "display_data"
    },
    {
     "data": {
      "application/vnd.jupyter.widget-view+json": {
       "model_id": "5cd0fd5505a84c87b4bc435de571e710",
       "version_major": 2,
       "version_minor": 0
      },
      "text/plain": [
       "Epoch 360/1000:   0%|          | 0/2 [00:00<?, ?it/s]"
      ]
     },
     "metadata": {},
     "output_type": "display_data"
    },
    {
     "data": {
      "application/vnd.jupyter.widget-view+json": {
       "model_id": "ce078b8f9f3b4d4c992eb6b2303ed513",
       "version_major": 2,
       "version_minor": 0
      },
      "text/plain": [
       "Epoch 361/1000:   0%|          | 0/2 [00:00<?, ?it/s]"
      ]
     },
     "metadata": {},
     "output_type": "display_data"
    },
    {
     "data": {
      "application/vnd.jupyter.widget-view+json": {
       "model_id": "376432dbbce84fe9b4d5f11af5c1159e",
       "version_major": 2,
       "version_minor": 0
      },
      "text/plain": [
       "Epoch 362/1000:   0%|          | 0/2 [00:00<?, ?it/s]"
      ]
     },
     "metadata": {},
     "output_type": "display_data"
    },
    {
     "data": {
      "application/vnd.jupyter.widget-view+json": {
       "model_id": "78a77af99865468f8d6ccc476639ff3c",
       "version_major": 2,
       "version_minor": 0
      },
      "text/plain": [
       "Epoch 363/1000:   0%|          | 0/2 [00:00<?, ?it/s]"
      ]
     },
     "metadata": {},
     "output_type": "display_data"
    },
    {
     "data": {
      "application/vnd.jupyter.widget-view+json": {
       "model_id": "aca54920ff7d4b8890b7ec86fd5af416",
       "version_major": 2,
       "version_minor": 0
      },
      "text/plain": [
       "Epoch 364/1000:   0%|          | 0/2 [00:00<?, ?it/s]"
      ]
     },
     "metadata": {},
     "output_type": "display_data"
    },
    {
     "data": {
      "application/vnd.jupyter.widget-view+json": {
       "model_id": "a9fa1fc187814bf6af6017b524e5d9af",
       "version_major": 2,
       "version_minor": 0
      },
      "text/plain": [
       "Epoch 365/1000:   0%|          | 0/2 [00:00<?, ?it/s]"
      ]
     },
     "metadata": {},
     "output_type": "display_data"
    },
    {
     "data": {
      "application/vnd.jupyter.widget-view+json": {
       "model_id": "1d4c47a3077c4fb4b5fc9bb9ec161905",
       "version_major": 2,
       "version_minor": 0
      },
      "text/plain": [
       "Epoch 366/1000:   0%|          | 0/2 [00:00<?, ?it/s]"
      ]
     },
     "metadata": {},
     "output_type": "display_data"
    },
    {
     "data": {
      "application/vnd.jupyter.widget-view+json": {
       "model_id": "2bcc63d94d1d4dad8f16b8ee80a41233",
       "version_major": 2,
       "version_minor": 0
      },
      "text/plain": [
       "Epoch 367/1000:   0%|          | 0/2 [00:00<?, ?it/s]"
      ]
     },
     "metadata": {},
     "output_type": "display_data"
    },
    {
     "data": {
      "application/vnd.jupyter.widget-view+json": {
       "model_id": "b6c5f0ce44ac49cf947fbe11a0bc1365",
       "version_major": 2,
       "version_minor": 0
      },
      "text/plain": [
       "Epoch 368/1000:   0%|          | 0/2 [00:00<?, ?it/s]"
      ]
     },
     "metadata": {},
     "output_type": "display_data"
    },
    {
     "data": {
      "application/vnd.jupyter.widget-view+json": {
       "model_id": "543a6cf125b84af2a789649364a0d11d",
       "version_major": 2,
       "version_minor": 0
      },
      "text/plain": [
       "Epoch 369/1000:   0%|          | 0/2 [00:00<?, ?it/s]"
      ]
     },
     "metadata": {},
     "output_type": "display_data"
    },
    {
     "data": {
      "application/vnd.jupyter.widget-view+json": {
       "model_id": "04e9699905f14953b3ec3870aaae7e9e",
       "version_major": 2,
       "version_minor": 0
      },
      "text/plain": [
       "Epoch 370/1000:   0%|          | 0/2 [00:00<?, ?it/s]"
      ]
     },
     "metadata": {},
     "output_type": "display_data"
    },
    {
     "data": {
      "application/vnd.jupyter.widget-view+json": {
       "model_id": "f5cec7dde6ef4c148e57ed703b3b4f1e",
       "version_major": 2,
       "version_minor": 0
      },
      "text/plain": [
       "Epoch 371/1000:   0%|          | 0/2 [00:00<?, ?it/s]"
      ]
     },
     "metadata": {},
     "output_type": "display_data"
    },
    {
     "data": {
      "application/vnd.jupyter.widget-view+json": {
       "model_id": "d76cd84f1e954b5db19e7b8f3c7f9ce9",
       "version_major": 2,
       "version_minor": 0
      },
      "text/plain": [
       "Epoch 372/1000:   0%|          | 0/2 [00:00<?, ?it/s]"
      ]
     },
     "metadata": {},
     "output_type": "display_data"
    },
    {
     "data": {
      "application/vnd.jupyter.widget-view+json": {
       "model_id": "aefa088ad7bb4777974aeb2f5be3cdf1",
       "version_major": 2,
       "version_minor": 0
      },
      "text/plain": [
       "Epoch 373/1000:   0%|          | 0/2 [00:00<?, ?it/s]"
      ]
     },
     "metadata": {},
     "output_type": "display_data"
    },
    {
     "data": {
      "application/vnd.jupyter.widget-view+json": {
       "model_id": "a704779f14d94ad3867dbe3dea2c5e1c",
       "version_major": 2,
       "version_minor": 0
      },
      "text/plain": [
       "Epoch 374/1000:   0%|          | 0/2 [00:00<?, ?it/s]"
      ]
     },
     "metadata": {},
     "output_type": "display_data"
    },
    {
     "data": {
      "application/vnd.jupyter.widget-view+json": {
       "model_id": "4f7bd4867fbf44b78b5c83fdf55c68fc",
       "version_major": 2,
       "version_minor": 0
      },
      "text/plain": [
       "Epoch 375/1000:   0%|          | 0/2 [00:00<?, ?it/s]"
      ]
     },
     "metadata": {},
     "output_type": "display_data"
    },
    {
     "data": {
      "application/vnd.jupyter.widget-view+json": {
       "model_id": "d2d2406fd74e468b9a1e29c1975fc733",
       "version_major": 2,
       "version_minor": 0
      },
      "text/plain": [
       "Epoch 376/1000:   0%|          | 0/2 [00:00<?, ?it/s]"
      ]
     },
     "metadata": {},
     "output_type": "display_data"
    },
    {
     "data": {
      "application/vnd.jupyter.widget-view+json": {
       "model_id": "bef8ff7da8b445acabe17532406df094",
       "version_major": 2,
       "version_minor": 0
      },
      "text/plain": [
       "Epoch 377/1000:   0%|          | 0/2 [00:00<?, ?it/s]"
      ]
     },
     "metadata": {},
     "output_type": "display_data"
    },
    {
     "data": {
      "application/vnd.jupyter.widget-view+json": {
       "model_id": "2c703225e2dd45cd81aebd79f3b38ac1",
       "version_major": 2,
       "version_minor": 0
      },
      "text/plain": [
       "Epoch 378/1000:   0%|          | 0/2 [00:00<?, ?it/s]"
      ]
     },
     "metadata": {},
     "output_type": "display_data"
    },
    {
     "data": {
      "application/vnd.jupyter.widget-view+json": {
       "model_id": "eb57b52a0a784b6d80a1ca0a35a261e0",
       "version_major": 2,
       "version_minor": 0
      },
      "text/plain": [
       "Epoch 379/1000:   0%|          | 0/2 [00:00<?, ?it/s]"
      ]
     },
     "metadata": {},
     "output_type": "display_data"
    },
    {
     "data": {
      "application/vnd.jupyter.widget-view+json": {
       "model_id": "1a95d221cb9644058c5edefe5d4863e7",
       "version_major": 2,
       "version_minor": 0
      },
      "text/plain": [
       "Epoch 380/1000:   0%|          | 0/2 [00:00<?, ?it/s]"
      ]
     },
     "metadata": {},
     "output_type": "display_data"
    },
    {
     "data": {
      "application/vnd.jupyter.widget-view+json": {
       "model_id": "8d43037625654f2eb5503ed44e065e6a",
       "version_major": 2,
       "version_minor": 0
      },
      "text/plain": [
       "Epoch 381/1000:   0%|          | 0/2 [00:00<?, ?it/s]"
      ]
     },
     "metadata": {},
     "output_type": "display_data"
    },
    {
     "data": {
      "application/vnd.jupyter.widget-view+json": {
       "model_id": "2c8169b81fd943968fdf3366902c6ae5",
       "version_major": 2,
       "version_minor": 0
      },
      "text/plain": [
       "Epoch 382/1000:   0%|          | 0/2 [00:00<?, ?it/s]"
      ]
     },
     "metadata": {},
     "output_type": "display_data"
    },
    {
     "data": {
      "application/vnd.jupyter.widget-view+json": {
       "model_id": "d733968430fb44f7a8e90569ff11e6d5",
       "version_major": 2,
       "version_minor": 0
      },
      "text/plain": [
       "Epoch 383/1000:   0%|          | 0/2 [00:00<?, ?it/s]"
      ]
     },
     "metadata": {},
     "output_type": "display_data"
    },
    {
     "data": {
      "application/vnd.jupyter.widget-view+json": {
       "model_id": "7e444cd5f84a4602b5714985bc239328",
       "version_major": 2,
       "version_minor": 0
      },
      "text/plain": [
       "Epoch 384/1000:   0%|          | 0/2 [00:00<?, ?it/s]"
      ]
     },
     "metadata": {},
     "output_type": "display_data"
    },
    {
     "data": {
      "application/vnd.jupyter.widget-view+json": {
       "model_id": "59e1585926014e8781cfc8c82ac56095",
       "version_major": 2,
       "version_minor": 0
      },
      "text/plain": [
       "Epoch 385/1000:   0%|          | 0/2 [00:00<?, ?it/s]"
      ]
     },
     "metadata": {},
     "output_type": "display_data"
    },
    {
     "data": {
      "application/vnd.jupyter.widget-view+json": {
       "model_id": "f3d98ba1e56b4579b9385a6f5709c180",
       "version_major": 2,
       "version_minor": 0
      },
      "text/plain": [
       "Epoch 386/1000:   0%|          | 0/2 [00:00<?, ?it/s]"
      ]
     },
     "metadata": {},
     "output_type": "display_data"
    },
    {
     "data": {
      "application/vnd.jupyter.widget-view+json": {
       "model_id": "1202e1646d4b4541a1c943994519fa1d",
       "version_major": 2,
       "version_minor": 0
      },
      "text/plain": [
       "Epoch 387/1000:   0%|          | 0/2 [00:00<?, ?it/s]"
      ]
     },
     "metadata": {},
     "output_type": "display_data"
    },
    {
     "data": {
      "application/vnd.jupyter.widget-view+json": {
       "model_id": "bff27a54fb614e80a88f00866e3c4194",
       "version_major": 2,
       "version_minor": 0
      },
      "text/plain": [
       "Epoch 388/1000:   0%|          | 0/2 [00:00<?, ?it/s]"
      ]
     },
     "metadata": {},
     "output_type": "display_data"
    },
    {
     "data": {
      "application/vnd.jupyter.widget-view+json": {
       "model_id": "d0156f9aaede482a8e4d6291d1ff104c",
       "version_major": 2,
       "version_minor": 0
      },
      "text/plain": [
       "Epoch 389/1000:   0%|          | 0/2 [00:00<?, ?it/s]"
      ]
     },
     "metadata": {},
     "output_type": "display_data"
    },
    {
     "data": {
      "application/vnd.jupyter.widget-view+json": {
       "model_id": "fb38e10ab37b4d14b06fc097cb229657",
       "version_major": 2,
       "version_minor": 0
      },
      "text/plain": [
       "Epoch 390/1000:   0%|          | 0/2 [00:00<?, ?it/s]"
      ]
     },
     "metadata": {},
     "output_type": "display_data"
    },
    {
     "data": {
      "application/vnd.jupyter.widget-view+json": {
       "model_id": "5d259d7840314b8fb4a39f4ecdfef168",
       "version_major": 2,
       "version_minor": 0
      },
      "text/plain": [
       "Epoch 391/1000:   0%|          | 0/2 [00:00<?, ?it/s]"
      ]
     },
     "metadata": {},
     "output_type": "display_data"
    },
    {
     "data": {
      "application/vnd.jupyter.widget-view+json": {
       "model_id": "4d197dd09e0a4e9f8f43a5197622a42a",
       "version_major": 2,
       "version_minor": 0
      },
      "text/plain": [
       "Epoch 392/1000:   0%|          | 0/2 [00:00<?, ?it/s]"
      ]
     },
     "metadata": {},
     "output_type": "display_data"
    },
    {
     "data": {
      "application/vnd.jupyter.widget-view+json": {
       "model_id": "108e5f160bc94811953fcba3d6115927",
       "version_major": 2,
       "version_minor": 0
      },
      "text/plain": [
       "Epoch 393/1000:   0%|          | 0/2 [00:00<?, ?it/s]"
      ]
     },
     "metadata": {},
     "output_type": "display_data"
    },
    {
     "data": {
      "application/vnd.jupyter.widget-view+json": {
       "model_id": "cbd205bbbd26441190591971c113eae9",
       "version_major": 2,
       "version_minor": 0
      },
      "text/plain": [
       "Epoch 394/1000:   0%|          | 0/2 [00:00<?, ?it/s]"
      ]
     },
     "metadata": {},
     "output_type": "display_data"
    },
    {
     "data": {
      "application/vnd.jupyter.widget-view+json": {
       "model_id": "0c4b613c47a04edab32f7bd4af611586",
       "version_major": 2,
       "version_minor": 0
      },
      "text/plain": [
       "Epoch 395/1000:   0%|          | 0/2 [00:00<?, ?it/s]"
      ]
     },
     "metadata": {},
     "output_type": "display_data"
    },
    {
     "data": {
      "application/vnd.jupyter.widget-view+json": {
       "model_id": "fd3f01b1d4784ed187d15c4513665acb",
       "version_major": 2,
       "version_minor": 0
      },
      "text/plain": [
       "Epoch 396/1000:   0%|          | 0/2 [00:00<?, ?it/s]"
      ]
     },
     "metadata": {},
     "output_type": "display_data"
    },
    {
     "data": {
      "application/vnd.jupyter.widget-view+json": {
       "model_id": "cd5680348fc74335ad8850534de336f8",
       "version_major": 2,
       "version_minor": 0
      },
      "text/plain": [
       "Epoch 397/1000:   0%|          | 0/2 [00:00<?, ?it/s]"
      ]
     },
     "metadata": {},
     "output_type": "display_data"
    },
    {
     "data": {
      "application/vnd.jupyter.widget-view+json": {
       "model_id": "da318f9e258d479e9ff8d82bed9af84d",
       "version_major": 2,
       "version_minor": 0
      },
      "text/plain": [
       "Epoch 398/1000:   0%|          | 0/2 [00:00<?, ?it/s]"
      ]
     },
     "metadata": {},
     "output_type": "display_data"
    },
    {
     "data": {
      "application/vnd.jupyter.widget-view+json": {
       "model_id": "2458aad6963e42c0a7465a87b4eff1b7",
       "version_major": 2,
       "version_minor": 0
      },
      "text/plain": [
       "Epoch 399/1000:   0%|          | 0/2 [00:00<?, ?it/s]"
      ]
     },
     "metadata": {},
     "output_type": "display_data"
    },
    {
     "data": {
      "application/vnd.jupyter.widget-view+json": {
       "model_id": "58ea8ace922c4d24ba08be909ade2527",
       "version_major": 2,
       "version_minor": 0
      },
      "text/plain": [
       "Epoch 400/1000:   0%|          | 0/2 [00:00<?, ?it/s]"
      ]
     },
     "metadata": {},
     "output_type": "display_data"
    },
    {
     "name": "stdout",
     "output_type": "stream",
     "text": [
      "Epoch 400/1000\n",
      "  Avg Train Loss: 0.376283\n",
      "    Physics Loss: 0.000215\n",
      "    Data Loss   : 0.587607\n",
      "  Avg Val Loss  : 0.587895\n"
     ]
    },
    {
     "data": {
      "application/vnd.jupyter.widget-view+json": {
       "model_id": "88b8f2953dbb476cb8cee83e6c838b3d",
       "version_major": 2,
       "version_minor": 0
      },
      "text/plain": [
       "Epoch 401/1000:   0%|          | 0/2 [00:00<?, ?it/s]"
      ]
     },
     "metadata": {},
     "output_type": "display_data"
    },
    {
     "data": {
      "application/vnd.jupyter.widget-view+json": {
       "model_id": "7dca33a8c4e64d44a58658ecf7c90782",
       "version_major": 2,
       "version_minor": 0
      },
      "text/plain": [
       "Epoch 402/1000:   0%|          | 0/2 [00:00<?, ?it/s]"
      ]
     },
     "metadata": {},
     "output_type": "display_data"
    },
    {
     "data": {
      "application/vnd.jupyter.widget-view+json": {
       "model_id": "75885a3ded32452db4f06bc6e27d5fcb",
       "version_major": 2,
       "version_minor": 0
      },
      "text/plain": [
       "Epoch 403/1000:   0%|          | 0/2 [00:00<?, ?it/s]"
      ]
     },
     "metadata": {},
     "output_type": "display_data"
    },
    {
     "data": {
      "application/vnd.jupyter.widget-view+json": {
       "model_id": "ba3bccd40e9f48b29824c130be19d0bb",
       "version_major": 2,
       "version_minor": 0
      },
      "text/plain": [
       "Epoch 404/1000:   0%|          | 0/2 [00:00<?, ?it/s]"
      ]
     },
     "metadata": {},
     "output_type": "display_data"
    },
    {
     "data": {
      "application/vnd.jupyter.widget-view+json": {
       "model_id": "06383113d7e147acb22ad5214b55d1cc",
       "version_major": 2,
       "version_minor": 0
      },
      "text/plain": [
       "Epoch 405/1000:   0%|          | 0/2 [00:00<?, ?it/s]"
      ]
     },
     "metadata": {},
     "output_type": "display_data"
    },
    {
     "data": {
      "application/vnd.jupyter.widget-view+json": {
       "model_id": "44196d0e2d4d4521b3f9b1ab65da0bca",
       "version_major": 2,
       "version_minor": 0
      },
      "text/plain": [
       "Epoch 406/1000:   0%|          | 0/2 [00:00<?, ?it/s]"
      ]
     },
     "metadata": {},
     "output_type": "display_data"
    },
    {
     "data": {
      "application/vnd.jupyter.widget-view+json": {
       "model_id": "208058ceee3f46f1a0c981d01f746c2a",
       "version_major": 2,
       "version_minor": 0
      },
      "text/plain": [
       "Epoch 407/1000:   0%|          | 0/2 [00:00<?, ?it/s]"
      ]
     },
     "metadata": {},
     "output_type": "display_data"
    },
    {
     "data": {
      "application/vnd.jupyter.widget-view+json": {
       "model_id": "48fb532d681149c99a0b694bd7e84592",
       "version_major": 2,
       "version_minor": 0
      },
      "text/plain": [
       "Epoch 408/1000:   0%|          | 0/2 [00:00<?, ?it/s]"
      ]
     },
     "metadata": {},
     "output_type": "display_data"
    },
    {
     "data": {
      "application/vnd.jupyter.widget-view+json": {
       "model_id": "170ca5236e7646bdbec6c046c6a77f41",
       "version_major": 2,
       "version_minor": 0
      },
      "text/plain": [
       "Epoch 409/1000:   0%|          | 0/2 [00:00<?, ?it/s]"
      ]
     },
     "metadata": {},
     "output_type": "display_data"
    },
    {
     "data": {
      "application/vnd.jupyter.widget-view+json": {
       "model_id": "2e23518bf30d4ac0bf4d503fb8082d1c",
       "version_major": 2,
       "version_minor": 0
      },
      "text/plain": [
       "Epoch 410/1000:   0%|          | 0/2 [00:00<?, ?it/s]"
      ]
     },
     "metadata": {},
     "output_type": "display_data"
    },
    {
     "data": {
      "application/vnd.jupyter.widget-view+json": {
       "model_id": "a72f75433f244e4f8ba63220bd754e23",
       "version_major": 2,
       "version_minor": 0
      },
      "text/plain": [
       "Epoch 411/1000:   0%|          | 0/2 [00:00<?, ?it/s]"
      ]
     },
     "metadata": {},
     "output_type": "display_data"
    },
    {
     "data": {
      "application/vnd.jupyter.widget-view+json": {
       "model_id": "1c7cb65f68ed47bca6e1358e6ecb123b",
       "version_major": 2,
       "version_minor": 0
      },
      "text/plain": [
       "Epoch 412/1000:   0%|          | 0/2 [00:00<?, ?it/s]"
      ]
     },
     "metadata": {},
     "output_type": "display_data"
    },
    {
     "data": {
      "application/vnd.jupyter.widget-view+json": {
       "model_id": "b6ae9ae1da7142daa987143c9f9f2e9a",
       "version_major": 2,
       "version_minor": 0
      },
      "text/plain": [
       "Epoch 413/1000:   0%|          | 0/2 [00:00<?, ?it/s]"
      ]
     },
     "metadata": {},
     "output_type": "display_data"
    },
    {
     "data": {
      "application/vnd.jupyter.widget-view+json": {
       "model_id": "67379f1bdcfd4988a06a5e1882ee6213",
       "version_major": 2,
       "version_minor": 0
      },
      "text/plain": [
       "Epoch 414/1000:   0%|          | 0/2 [00:00<?, ?it/s]"
      ]
     },
     "metadata": {},
     "output_type": "display_data"
    },
    {
     "data": {
      "application/vnd.jupyter.widget-view+json": {
       "model_id": "a63cefa335794313954645ac6d359b70",
       "version_major": 2,
       "version_minor": 0
      },
      "text/plain": [
       "Epoch 415/1000:   0%|          | 0/2 [00:00<?, ?it/s]"
      ]
     },
     "metadata": {},
     "output_type": "display_data"
    },
    {
     "data": {
      "application/vnd.jupyter.widget-view+json": {
       "model_id": "15c46dd56b354a469da40ec37ed9f718",
       "version_major": 2,
       "version_minor": 0
      },
      "text/plain": [
       "Epoch 416/1000:   0%|          | 0/2 [00:00<?, ?it/s]"
      ]
     },
     "metadata": {},
     "output_type": "display_data"
    },
    {
     "data": {
      "application/vnd.jupyter.widget-view+json": {
       "model_id": "f79ab3504c3c4b11893337b499574dca",
       "version_major": 2,
       "version_minor": 0
      },
      "text/plain": [
       "Epoch 417/1000:   0%|          | 0/2 [00:00<?, ?it/s]"
      ]
     },
     "metadata": {},
     "output_type": "display_data"
    },
    {
     "data": {
      "application/vnd.jupyter.widget-view+json": {
       "model_id": "9ea9891d53f047e2aa4b10163d971049",
       "version_major": 2,
       "version_minor": 0
      },
      "text/plain": [
       "Epoch 418/1000:   0%|          | 0/2 [00:00<?, ?it/s]"
      ]
     },
     "metadata": {},
     "output_type": "display_data"
    },
    {
     "data": {
      "application/vnd.jupyter.widget-view+json": {
       "model_id": "7d430a7184fa4c3581bbd5238491c3b0",
       "version_major": 2,
       "version_minor": 0
      },
      "text/plain": [
       "Epoch 419/1000:   0%|          | 0/2 [00:00<?, ?it/s]"
      ]
     },
     "metadata": {},
     "output_type": "display_data"
    },
    {
     "data": {
      "application/vnd.jupyter.widget-view+json": {
       "model_id": "48911f590a09438b8c370607cdc5bcc6",
       "version_major": 2,
       "version_minor": 0
      },
      "text/plain": [
       "Epoch 420/1000:   0%|          | 0/2 [00:00<?, ?it/s]"
      ]
     },
     "metadata": {},
     "output_type": "display_data"
    },
    {
     "data": {
      "application/vnd.jupyter.widget-view+json": {
       "model_id": "a87966a5197f4dfab5fa605b11540bed",
       "version_major": 2,
       "version_minor": 0
      },
      "text/plain": [
       "Epoch 421/1000:   0%|          | 0/2 [00:00<?, ?it/s]"
      ]
     },
     "metadata": {},
     "output_type": "display_data"
    },
    {
     "data": {
      "application/vnd.jupyter.widget-view+json": {
       "model_id": "77ad7001b84d461e8771792d0cbae8d5",
       "version_major": 2,
       "version_minor": 0
      },
      "text/plain": [
       "Epoch 422/1000:   0%|          | 0/2 [00:00<?, ?it/s]"
      ]
     },
     "metadata": {},
     "output_type": "display_data"
    },
    {
     "data": {
      "application/vnd.jupyter.widget-view+json": {
       "model_id": "d39a9fd265d74eea8fd9fb30b134fef2",
       "version_major": 2,
       "version_minor": 0
      },
      "text/plain": [
       "Epoch 423/1000:   0%|          | 0/2 [00:00<?, ?it/s]"
      ]
     },
     "metadata": {},
     "output_type": "display_data"
    },
    {
     "data": {
      "application/vnd.jupyter.widget-view+json": {
       "model_id": "34ba7b3c813c4175a576fcfc7a6f30bc",
       "version_major": 2,
       "version_minor": 0
      },
      "text/plain": [
       "Epoch 424/1000:   0%|          | 0/2 [00:00<?, ?it/s]"
      ]
     },
     "metadata": {},
     "output_type": "display_data"
    },
    {
     "data": {
      "application/vnd.jupyter.widget-view+json": {
       "model_id": "9a887c5289ce42afbfaddc16eaea7490",
       "version_major": 2,
       "version_minor": 0
      },
      "text/plain": [
       "Epoch 425/1000:   0%|          | 0/2 [00:00<?, ?it/s]"
      ]
     },
     "metadata": {},
     "output_type": "display_data"
    },
    {
     "data": {
      "application/vnd.jupyter.widget-view+json": {
       "model_id": "dacdb119f3654710bb8cedc5e12806b2",
       "version_major": 2,
       "version_minor": 0
      },
      "text/plain": [
       "Epoch 426/1000:   0%|          | 0/2 [00:00<?, ?it/s]"
      ]
     },
     "metadata": {},
     "output_type": "display_data"
    },
    {
     "data": {
      "application/vnd.jupyter.widget-view+json": {
       "model_id": "e92afc74565244dd91a47a2a69832a2c",
       "version_major": 2,
       "version_minor": 0
      },
      "text/plain": [
       "Epoch 427/1000:   0%|          | 0/2 [00:00<?, ?it/s]"
      ]
     },
     "metadata": {},
     "output_type": "display_data"
    },
    {
     "data": {
      "application/vnd.jupyter.widget-view+json": {
       "model_id": "1998f239882840d7a3305d41a0fb1f73",
       "version_major": 2,
       "version_minor": 0
      },
      "text/plain": [
       "Epoch 428/1000:   0%|          | 0/2 [00:00<?, ?it/s]"
      ]
     },
     "metadata": {},
     "output_type": "display_data"
    },
    {
     "data": {
      "application/vnd.jupyter.widget-view+json": {
       "model_id": "14cd152936bb487096ba734ada663bbf",
       "version_major": 2,
       "version_minor": 0
      },
      "text/plain": [
       "Epoch 429/1000:   0%|          | 0/2 [00:00<?, ?it/s]"
      ]
     },
     "metadata": {},
     "output_type": "display_data"
    },
    {
     "data": {
      "application/vnd.jupyter.widget-view+json": {
       "model_id": "0cf814cd32644fe1ae3229a9440a5333",
       "version_major": 2,
       "version_minor": 0
      },
      "text/plain": [
       "Epoch 430/1000:   0%|          | 0/2 [00:00<?, ?it/s]"
      ]
     },
     "metadata": {},
     "output_type": "display_data"
    },
    {
     "data": {
      "application/vnd.jupyter.widget-view+json": {
       "model_id": "4b0028bd59564b13a24431dd5ae3f1c6",
       "version_major": 2,
       "version_minor": 0
      },
      "text/plain": [
       "Epoch 431/1000:   0%|          | 0/2 [00:00<?, ?it/s]"
      ]
     },
     "metadata": {},
     "output_type": "display_data"
    },
    {
     "data": {
      "application/vnd.jupyter.widget-view+json": {
       "model_id": "4908cfb7ae1143d7be9cd7491e7099ea",
       "version_major": 2,
       "version_minor": 0
      },
      "text/plain": [
       "Epoch 432/1000:   0%|          | 0/2 [00:00<?, ?it/s]"
      ]
     },
     "metadata": {},
     "output_type": "display_data"
    },
    {
     "data": {
      "application/vnd.jupyter.widget-view+json": {
       "model_id": "73662d01cb0543079a9e4f901e1c51c1",
       "version_major": 2,
       "version_minor": 0
      },
      "text/plain": [
       "Epoch 433/1000:   0%|          | 0/2 [00:00<?, ?it/s]"
      ]
     },
     "metadata": {},
     "output_type": "display_data"
    },
    {
     "data": {
      "application/vnd.jupyter.widget-view+json": {
       "model_id": "4eaaaa3636b940abb3144205acd43b78",
       "version_major": 2,
       "version_minor": 0
      },
      "text/plain": [
       "Epoch 434/1000:   0%|          | 0/2 [00:00<?, ?it/s]"
      ]
     },
     "metadata": {},
     "output_type": "display_data"
    },
    {
     "data": {
      "application/vnd.jupyter.widget-view+json": {
       "model_id": "96c7716e7d744597a10063c5c81f2711",
       "version_major": 2,
       "version_minor": 0
      },
      "text/plain": [
       "Epoch 435/1000:   0%|          | 0/2 [00:00<?, ?it/s]"
      ]
     },
     "metadata": {},
     "output_type": "display_data"
    },
    {
     "data": {
      "application/vnd.jupyter.widget-view+json": {
       "model_id": "cba00df4ae77497e9dd3e5c344e473a2",
       "version_major": 2,
       "version_minor": 0
      },
      "text/plain": [
       "Epoch 436/1000:   0%|          | 0/2 [00:00<?, ?it/s]"
      ]
     },
     "metadata": {},
     "output_type": "display_data"
    },
    {
     "data": {
      "application/vnd.jupyter.widget-view+json": {
       "model_id": "f0ef83e2448845099a81fad6ede725c5",
       "version_major": 2,
       "version_minor": 0
      },
      "text/plain": [
       "Epoch 437/1000:   0%|          | 0/2 [00:00<?, ?it/s]"
      ]
     },
     "metadata": {},
     "output_type": "display_data"
    },
    {
     "data": {
      "application/vnd.jupyter.widget-view+json": {
       "model_id": "9e385e45c94d4a989e25e75539bf13fc",
       "version_major": 2,
       "version_minor": 0
      },
      "text/plain": [
       "Epoch 438/1000:   0%|          | 0/2 [00:00<?, ?it/s]"
      ]
     },
     "metadata": {},
     "output_type": "display_data"
    },
    {
     "data": {
      "application/vnd.jupyter.widget-view+json": {
       "model_id": "b90f4de16079476692d78079a91facbc",
       "version_major": 2,
       "version_minor": 0
      },
      "text/plain": [
       "Epoch 439/1000:   0%|          | 0/2 [00:00<?, ?it/s]"
      ]
     },
     "metadata": {},
     "output_type": "display_data"
    },
    {
     "data": {
      "application/vnd.jupyter.widget-view+json": {
       "model_id": "8375536a7dd54fdfac62fa8e05991bb8",
       "version_major": 2,
       "version_minor": 0
      },
      "text/plain": [
       "Epoch 440/1000:   0%|          | 0/2 [00:00<?, ?it/s]"
      ]
     },
     "metadata": {},
     "output_type": "display_data"
    },
    {
     "data": {
      "application/vnd.jupyter.widget-view+json": {
       "model_id": "564bba325fae420b83623bafcb59321d",
       "version_major": 2,
       "version_minor": 0
      },
      "text/plain": [
       "Epoch 441/1000:   0%|          | 0/2 [00:00<?, ?it/s]"
      ]
     },
     "metadata": {},
     "output_type": "display_data"
    },
    {
     "data": {
      "application/vnd.jupyter.widget-view+json": {
       "model_id": "becd3e0e68504b0ab25131a3baccd723",
       "version_major": 2,
       "version_minor": 0
      },
      "text/plain": [
       "Epoch 442/1000:   0%|          | 0/2 [00:00<?, ?it/s]"
      ]
     },
     "metadata": {},
     "output_type": "display_data"
    },
    {
     "data": {
      "application/vnd.jupyter.widget-view+json": {
       "model_id": "610ed4f1e4094ea89d4372c2e0c8ff6f",
       "version_major": 2,
       "version_minor": 0
      },
      "text/plain": [
       "Epoch 443/1000:   0%|          | 0/2 [00:00<?, ?it/s]"
      ]
     },
     "metadata": {},
     "output_type": "display_data"
    },
    {
     "data": {
      "application/vnd.jupyter.widget-view+json": {
       "model_id": "b1deb7db625e42b4be2a7e6736dc3908",
       "version_major": 2,
       "version_minor": 0
      },
      "text/plain": [
       "Epoch 444/1000:   0%|          | 0/2 [00:00<?, ?it/s]"
      ]
     },
     "metadata": {},
     "output_type": "display_data"
    },
    {
     "data": {
      "application/vnd.jupyter.widget-view+json": {
       "model_id": "5072f9f73de94a559f59b88c080e1cd4",
       "version_major": 2,
       "version_minor": 0
      },
      "text/plain": [
       "Epoch 445/1000:   0%|          | 0/2 [00:00<?, ?it/s]"
      ]
     },
     "metadata": {},
     "output_type": "display_data"
    },
    {
     "data": {
      "application/vnd.jupyter.widget-view+json": {
       "model_id": "0fb6c729e0dc48f48b6cd9dacb8b8831",
       "version_major": 2,
       "version_minor": 0
      },
      "text/plain": [
       "Epoch 446/1000:   0%|          | 0/2 [00:00<?, ?it/s]"
      ]
     },
     "metadata": {},
     "output_type": "display_data"
    },
    {
     "data": {
      "application/vnd.jupyter.widget-view+json": {
       "model_id": "cd12adb167e844fd9a6f3ced2ecac071",
       "version_major": 2,
       "version_minor": 0
      },
      "text/plain": [
       "Epoch 447/1000:   0%|          | 0/2 [00:00<?, ?it/s]"
      ]
     },
     "metadata": {},
     "output_type": "display_data"
    },
    {
     "data": {
      "application/vnd.jupyter.widget-view+json": {
       "model_id": "f75045a4f1e244dabf747b7182091686",
       "version_major": 2,
       "version_minor": 0
      },
      "text/plain": [
       "Epoch 448/1000:   0%|          | 0/2 [00:00<?, ?it/s]"
      ]
     },
     "metadata": {},
     "output_type": "display_data"
    },
    {
     "data": {
      "application/vnd.jupyter.widget-view+json": {
       "model_id": "42c0e41e33634ae6947624023dd3cffe",
       "version_major": 2,
       "version_minor": 0
      },
      "text/plain": [
       "Epoch 449/1000:   0%|          | 0/2 [00:00<?, ?it/s]"
      ]
     },
     "metadata": {},
     "output_type": "display_data"
    },
    {
     "data": {
      "application/vnd.jupyter.widget-view+json": {
       "model_id": "92016ed2f19d4581b1e87189a0389560",
       "version_major": 2,
       "version_minor": 0
      },
      "text/plain": [
       "Epoch 450/1000:   0%|          | 0/2 [00:00<?, ?it/s]"
      ]
     },
     "metadata": {},
     "output_type": "display_data"
    },
    {
     "name": "stdout",
     "output_type": "stream",
     "text": [
      "Epoch 450/1000\n",
      "  Avg Train Loss: 0.340434\n",
      "    Physics Loss: 0.000246\n",
      "    Data Loss   : 0.571745\n",
      "  Avg Val Loss  : 0.584785\n"
     ]
    },
    {
     "data": {
      "application/vnd.jupyter.widget-view+json": {
       "model_id": "ab9edda62a2448c0ae51fae9c7564c06",
       "version_major": 2,
       "version_minor": 0
      },
      "text/plain": [
       "Epoch 451/1000:   0%|          | 0/2 [00:00<?, ?it/s]"
      ]
     },
     "metadata": {},
     "output_type": "display_data"
    },
    {
     "data": {
      "application/vnd.jupyter.widget-view+json": {
       "model_id": "1ec8326e0c794c419422fbdb78ac3a94",
       "version_major": 2,
       "version_minor": 0
      },
      "text/plain": [
       "Epoch 452/1000:   0%|          | 0/2 [00:00<?, ?it/s]"
      ]
     },
     "metadata": {},
     "output_type": "display_data"
    },
    {
     "data": {
      "application/vnd.jupyter.widget-view+json": {
       "model_id": "db3b0d5bbe5647919133b3fd7d98dc08",
       "version_major": 2,
       "version_minor": 0
      },
      "text/plain": [
       "Epoch 453/1000:   0%|          | 0/2 [00:00<?, ?it/s]"
      ]
     },
     "metadata": {},
     "output_type": "display_data"
    },
    {
     "data": {
      "application/vnd.jupyter.widget-view+json": {
       "model_id": "9b13feb5a8c646379d5a48d9881b73cd",
       "version_major": 2,
       "version_minor": 0
      },
      "text/plain": [
       "Epoch 454/1000:   0%|          | 0/2 [00:00<?, ?it/s]"
      ]
     },
     "metadata": {},
     "output_type": "display_data"
    },
    {
     "data": {
      "application/vnd.jupyter.widget-view+json": {
       "model_id": "9633ea88d4fe4cf4a63faa83a1a35859",
       "version_major": 2,
       "version_minor": 0
      },
      "text/plain": [
       "Epoch 455/1000:   0%|          | 0/2 [00:00<?, ?it/s]"
      ]
     },
     "metadata": {},
     "output_type": "display_data"
    },
    {
     "data": {
      "application/vnd.jupyter.widget-view+json": {
       "model_id": "91a7c75bc51f4d688a85316dfe5468c1",
       "version_major": 2,
       "version_minor": 0
      },
      "text/plain": [
       "Epoch 456/1000:   0%|          | 0/2 [00:00<?, ?it/s]"
      ]
     },
     "metadata": {},
     "output_type": "display_data"
    },
    {
     "data": {
      "application/vnd.jupyter.widget-view+json": {
       "model_id": "963a491a81084e8a9d0c449b609ef3f4",
       "version_major": 2,
       "version_minor": 0
      },
      "text/plain": [
       "Epoch 457/1000:   0%|          | 0/2 [00:00<?, ?it/s]"
      ]
     },
     "metadata": {},
     "output_type": "display_data"
    },
    {
     "data": {
      "application/vnd.jupyter.widget-view+json": {
       "model_id": "61d2cd220e814d3daec69e6678f63f98",
       "version_major": 2,
       "version_minor": 0
      },
      "text/plain": [
       "Epoch 458/1000:   0%|          | 0/2 [00:00<?, ?it/s]"
      ]
     },
     "metadata": {},
     "output_type": "display_data"
    },
    {
     "data": {
      "application/vnd.jupyter.widget-view+json": {
       "model_id": "371f216dd2284580ab5f7ea50180cc3e",
       "version_major": 2,
       "version_minor": 0
      },
      "text/plain": [
       "Epoch 459/1000:   0%|          | 0/2 [00:00<?, ?it/s]"
      ]
     },
     "metadata": {},
     "output_type": "display_data"
    },
    {
     "data": {
      "application/vnd.jupyter.widget-view+json": {
       "model_id": "b87bbb99a98149718dad0e3d060df4f9",
       "version_major": 2,
       "version_minor": 0
      },
      "text/plain": [
       "Epoch 460/1000:   0%|          | 0/2 [00:00<?, ?it/s]"
      ]
     },
     "metadata": {},
     "output_type": "display_data"
    },
    {
     "data": {
      "application/vnd.jupyter.widget-view+json": {
       "model_id": "5daf99d23e1145dbbf7434afee517f55",
       "version_major": 2,
       "version_minor": 0
      },
      "text/plain": [
       "Epoch 461/1000:   0%|          | 0/2 [00:00<?, ?it/s]"
      ]
     },
     "metadata": {},
     "output_type": "display_data"
    },
    {
     "data": {
      "application/vnd.jupyter.widget-view+json": {
       "model_id": "7d561d354cb24037a6504931d5802181",
       "version_major": 2,
       "version_minor": 0
      },
      "text/plain": [
       "Epoch 462/1000:   0%|          | 0/2 [00:00<?, ?it/s]"
      ]
     },
     "metadata": {},
     "output_type": "display_data"
    },
    {
     "data": {
      "application/vnd.jupyter.widget-view+json": {
       "model_id": "280cd7c5b0834547a30fd7306ce08d2a",
       "version_major": 2,
       "version_minor": 0
      },
      "text/plain": [
       "Epoch 463/1000:   0%|          | 0/2 [00:00<?, ?it/s]"
      ]
     },
     "metadata": {},
     "output_type": "display_data"
    },
    {
     "data": {
      "application/vnd.jupyter.widget-view+json": {
       "model_id": "ae574754c919434a94146312106bfa4b",
       "version_major": 2,
       "version_minor": 0
      },
      "text/plain": [
       "Epoch 464/1000:   0%|          | 0/2 [00:00<?, ?it/s]"
      ]
     },
     "metadata": {},
     "output_type": "display_data"
    },
    {
     "data": {
      "application/vnd.jupyter.widget-view+json": {
       "model_id": "a9b6649c69404b6d8f3bae45854acf94",
       "version_major": 2,
       "version_minor": 0
      },
      "text/plain": [
       "Epoch 465/1000:   0%|          | 0/2 [00:00<?, ?it/s]"
      ]
     },
     "metadata": {},
     "output_type": "display_data"
    },
    {
     "data": {
      "application/vnd.jupyter.widget-view+json": {
       "model_id": "8e7e20c0621a4a1095a2741ccb059fa2",
       "version_major": 2,
       "version_minor": 0
      },
      "text/plain": [
       "Epoch 466/1000:   0%|          | 0/2 [00:00<?, ?it/s]"
      ]
     },
     "metadata": {},
     "output_type": "display_data"
    },
    {
     "data": {
      "application/vnd.jupyter.widget-view+json": {
       "model_id": "4be0bdaa6a87490f82da606720365394",
       "version_major": 2,
       "version_minor": 0
      },
      "text/plain": [
       "Epoch 467/1000:   0%|          | 0/2 [00:00<?, ?it/s]"
      ]
     },
     "metadata": {},
     "output_type": "display_data"
    },
    {
     "data": {
      "application/vnd.jupyter.widget-view+json": {
       "model_id": "bd3ccfa6165445d99a56082da57204b5",
       "version_major": 2,
       "version_minor": 0
      },
      "text/plain": [
       "Epoch 468/1000:   0%|          | 0/2 [00:00<?, ?it/s]"
      ]
     },
     "metadata": {},
     "output_type": "display_data"
    },
    {
     "data": {
      "application/vnd.jupyter.widget-view+json": {
       "model_id": "cbd34f53357f4ad5a1f7fc0baea592e1",
       "version_major": 2,
       "version_minor": 0
      },
      "text/plain": [
       "Epoch 469/1000:   0%|          | 0/2 [00:00<?, ?it/s]"
      ]
     },
     "metadata": {},
     "output_type": "display_data"
    },
    {
     "data": {
      "application/vnd.jupyter.widget-view+json": {
       "model_id": "7444916331854491b1fd8bf810a0365c",
       "version_major": 2,
       "version_minor": 0
      },
      "text/plain": [
       "Epoch 470/1000:   0%|          | 0/2 [00:00<?, ?it/s]"
      ]
     },
     "metadata": {},
     "output_type": "display_data"
    },
    {
     "data": {
      "application/vnd.jupyter.widget-view+json": {
       "model_id": "702595f668ee4b45a1f2335db436fac5",
       "version_major": 2,
       "version_minor": 0
      },
      "text/plain": [
       "Epoch 471/1000:   0%|          | 0/2 [00:00<?, ?it/s]"
      ]
     },
     "metadata": {},
     "output_type": "display_data"
    },
    {
     "data": {
      "application/vnd.jupyter.widget-view+json": {
       "model_id": "f143c3ff89c2447d99dfc4b5a4907fff",
       "version_major": 2,
       "version_minor": 0
      },
      "text/plain": [
       "Epoch 472/1000:   0%|          | 0/2 [00:00<?, ?it/s]"
      ]
     },
     "metadata": {},
     "output_type": "display_data"
    },
    {
     "data": {
      "application/vnd.jupyter.widget-view+json": {
       "model_id": "f1aec8f612db4653be0e31cd970ced76",
       "version_major": 2,
       "version_minor": 0
      },
      "text/plain": [
       "Epoch 473/1000:   0%|          | 0/2 [00:00<?, ?it/s]"
      ]
     },
     "metadata": {},
     "output_type": "display_data"
    },
    {
     "data": {
      "application/vnd.jupyter.widget-view+json": {
       "model_id": "54cd312aba4a40d08ce6db8fe318c260",
       "version_major": 2,
       "version_minor": 0
      },
      "text/plain": [
       "Epoch 474/1000:   0%|          | 0/2 [00:00<?, ?it/s]"
      ]
     },
     "metadata": {},
     "output_type": "display_data"
    },
    {
     "data": {
      "application/vnd.jupyter.widget-view+json": {
       "model_id": "10881744fca340268d2f8418a0e36281",
       "version_major": 2,
       "version_minor": 0
      },
      "text/plain": [
       "Epoch 475/1000:   0%|          | 0/2 [00:00<?, ?it/s]"
      ]
     },
     "metadata": {},
     "output_type": "display_data"
    },
    {
     "data": {
      "application/vnd.jupyter.widget-view+json": {
       "model_id": "2c8b9499e5bf4cf29a380983a413ddf1",
       "version_major": 2,
       "version_minor": 0
      },
      "text/plain": [
       "Epoch 476/1000:   0%|          | 0/2 [00:00<?, ?it/s]"
      ]
     },
     "metadata": {},
     "output_type": "display_data"
    },
    {
     "data": {
      "application/vnd.jupyter.widget-view+json": {
       "model_id": "d24f27154a59418abbbd029aaca76e1e",
       "version_major": 2,
       "version_minor": 0
      },
      "text/plain": [
       "Epoch 477/1000:   0%|          | 0/2 [00:00<?, ?it/s]"
      ]
     },
     "metadata": {},
     "output_type": "display_data"
    },
    {
     "data": {
      "application/vnd.jupyter.widget-view+json": {
       "model_id": "b3a5509dfa2a48e0b7156d38e5e78317",
       "version_major": 2,
       "version_minor": 0
      },
      "text/plain": [
       "Epoch 478/1000:   0%|          | 0/2 [00:00<?, ?it/s]"
      ]
     },
     "metadata": {},
     "output_type": "display_data"
    },
    {
     "data": {
      "application/vnd.jupyter.widget-view+json": {
       "model_id": "646bb0d47e8f44ed880b7860d26ca2dd",
       "version_major": 2,
       "version_minor": 0
      },
      "text/plain": [
       "Epoch 479/1000:   0%|          | 0/2 [00:00<?, ?it/s]"
      ]
     },
     "metadata": {},
     "output_type": "display_data"
    },
    {
     "data": {
      "application/vnd.jupyter.widget-view+json": {
       "model_id": "6c1f6d3311304911bcee96b174016781",
       "version_major": 2,
       "version_minor": 0
      },
      "text/plain": [
       "Epoch 480/1000:   0%|          | 0/2 [00:00<?, ?it/s]"
      ]
     },
     "metadata": {},
     "output_type": "display_data"
    },
    {
     "data": {
      "application/vnd.jupyter.widget-view+json": {
       "model_id": "a2a63c36971542d9b57bebabcedf7c10",
       "version_major": 2,
       "version_minor": 0
      },
      "text/plain": [
       "Epoch 481/1000:   0%|          | 0/2 [00:00<?, ?it/s]"
      ]
     },
     "metadata": {},
     "output_type": "display_data"
    },
    {
     "data": {
      "application/vnd.jupyter.widget-view+json": {
       "model_id": "c7a56a42ea6e435089a9f488587da6f6",
       "version_major": 2,
       "version_minor": 0
      },
      "text/plain": [
       "Epoch 482/1000:   0%|          | 0/2 [00:00<?, ?it/s]"
      ]
     },
     "metadata": {},
     "output_type": "display_data"
    },
    {
     "data": {
      "application/vnd.jupyter.widget-view+json": {
       "model_id": "873e500bf7b14be89f3386106dc3dc45",
       "version_major": 2,
       "version_minor": 0
      },
      "text/plain": [
       "Epoch 483/1000:   0%|          | 0/2 [00:00<?, ?it/s]"
      ]
     },
     "metadata": {},
     "output_type": "display_data"
    },
    {
     "data": {
      "application/vnd.jupyter.widget-view+json": {
       "model_id": "18c32e85c3b242c5826a4aa333177b34",
       "version_major": 2,
       "version_minor": 0
      },
      "text/plain": [
       "Epoch 484/1000:   0%|          | 0/2 [00:00<?, ?it/s]"
      ]
     },
     "metadata": {},
     "output_type": "display_data"
    },
    {
     "data": {
      "application/vnd.jupyter.widget-view+json": {
       "model_id": "bc06c45103ca4289a2cb4d8b320bf7b9",
       "version_major": 2,
       "version_minor": 0
      },
      "text/plain": [
       "Epoch 485/1000:   0%|          | 0/2 [00:00<?, ?it/s]"
      ]
     },
     "metadata": {},
     "output_type": "display_data"
    },
    {
     "data": {
      "application/vnd.jupyter.widget-view+json": {
       "model_id": "2985e28e5ea848e492302f6f76741084",
       "version_major": 2,
       "version_minor": 0
      },
      "text/plain": [
       "Epoch 486/1000:   0%|          | 0/2 [00:00<?, ?it/s]"
      ]
     },
     "metadata": {},
     "output_type": "display_data"
    },
    {
     "data": {
      "application/vnd.jupyter.widget-view+json": {
       "model_id": "ecd59a80076047c38fad30598f70a42c",
       "version_major": 2,
       "version_minor": 0
      },
      "text/plain": [
       "Epoch 487/1000:   0%|          | 0/2 [00:00<?, ?it/s]"
      ]
     },
     "metadata": {},
     "output_type": "display_data"
    },
    {
     "data": {
      "application/vnd.jupyter.widget-view+json": {
       "model_id": "849720c46107453ab766d3e08a88f7ea",
       "version_major": 2,
       "version_minor": 0
      },
      "text/plain": [
       "Epoch 488/1000:   0%|          | 0/2 [00:00<?, ?it/s]"
      ]
     },
     "metadata": {},
     "output_type": "display_data"
    },
    {
     "data": {
      "application/vnd.jupyter.widget-view+json": {
       "model_id": "1b4ff788d03046e8af51b3de70d88961",
       "version_major": 2,
       "version_minor": 0
      },
      "text/plain": [
       "Epoch 489/1000:   0%|          | 0/2 [00:00<?, ?it/s]"
      ]
     },
     "metadata": {},
     "output_type": "display_data"
    },
    {
     "data": {
      "application/vnd.jupyter.widget-view+json": {
       "model_id": "c9a0a90221d241dd8c4c1cafa1209e52",
       "version_major": 2,
       "version_minor": 0
      },
      "text/plain": [
       "Epoch 490/1000:   0%|          | 0/2 [00:00<?, ?it/s]"
      ]
     },
     "metadata": {},
     "output_type": "display_data"
    },
    {
     "data": {
      "application/vnd.jupyter.widget-view+json": {
       "model_id": "d337bd7615cb4c66abc054e6572f5e57",
       "version_major": 2,
       "version_minor": 0
      },
      "text/plain": [
       "Epoch 491/1000:   0%|          | 0/2 [00:00<?, ?it/s]"
      ]
     },
     "metadata": {},
     "output_type": "display_data"
    },
    {
     "data": {
      "application/vnd.jupyter.widget-view+json": {
       "model_id": "1bc583dec1184b65ba2e5f3d864ce185",
       "version_major": 2,
       "version_minor": 0
      },
      "text/plain": [
       "Epoch 492/1000:   0%|          | 0/2 [00:00<?, ?it/s]"
      ]
     },
     "metadata": {},
     "output_type": "display_data"
    },
    {
     "data": {
      "application/vnd.jupyter.widget-view+json": {
       "model_id": "43ea1bd984e048e7887ecaefb4af7623",
       "version_major": 2,
       "version_minor": 0
      },
      "text/plain": [
       "Epoch 493/1000:   0%|          | 0/2 [00:00<?, ?it/s]"
      ]
     },
     "metadata": {},
     "output_type": "display_data"
    },
    {
     "data": {
      "application/vnd.jupyter.widget-view+json": {
       "model_id": "eccb27558a254b06b8c063c1475b1852",
       "version_major": 2,
       "version_minor": 0
      },
      "text/plain": [
       "Epoch 494/1000:   0%|          | 0/2 [00:00<?, ?it/s]"
      ]
     },
     "metadata": {},
     "output_type": "display_data"
    },
    {
     "data": {
      "application/vnd.jupyter.widget-view+json": {
       "model_id": "b881ecd446b3427da24b219fe45eacc1",
       "version_major": 2,
       "version_minor": 0
      },
      "text/plain": [
       "Epoch 495/1000:   0%|          | 0/2 [00:00<?, ?it/s]"
      ]
     },
     "metadata": {},
     "output_type": "display_data"
    },
    {
     "data": {
      "application/vnd.jupyter.widget-view+json": {
       "model_id": "befbd60622a646fe908ab74eb9112a6f",
       "version_major": 2,
       "version_minor": 0
      },
      "text/plain": [
       "Epoch 496/1000:   0%|          | 0/2 [00:00<?, ?it/s]"
      ]
     },
     "metadata": {},
     "output_type": "display_data"
    },
    {
     "data": {
      "application/vnd.jupyter.widget-view+json": {
       "model_id": "1bb568c09c9848d885e45d0d4c211eb8",
       "version_major": 2,
       "version_minor": 0
      },
      "text/plain": [
       "Epoch 497/1000:   0%|          | 0/2 [00:00<?, ?it/s]"
      ]
     },
     "metadata": {},
     "output_type": "display_data"
    },
    {
     "data": {
      "application/vnd.jupyter.widget-view+json": {
       "model_id": "f3def98f243a48c59e9aa8f136db44bf",
       "version_major": 2,
       "version_minor": 0
      },
      "text/plain": [
       "Epoch 498/1000:   0%|          | 0/2 [00:00<?, ?it/s]"
      ]
     },
     "metadata": {},
     "output_type": "display_data"
    },
    {
     "data": {
      "application/vnd.jupyter.widget-view+json": {
       "model_id": "e2f43bab67834aedae82d28e83e8728e",
       "version_major": 2,
       "version_minor": 0
      },
      "text/plain": [
       "Epoch 499/1000:   0%|          | 0/2 [00:00<?, ?it/s]"
      ]
     },
     "metadata": {},
     "output_type": "display_data"
    },
    {
     "data": {
      "application/vnd.jupyter.widget-view+json": {
       "model_id": "3f2fdd17aa9a406ba20542db1661f9bd",
       "version_major": 2,
       "version_minor": 0
      },
      "text/plain": [
       "Epoch 500/1000:   0%|          | 0/2 [00:00<?, ?it/s]"
      ]
     },
     "metadata": {},
     "output_type": "display_data"
    },
    {
     "name": "stdout",
     "output_type": "stream",
     "text": [
      "Epoch 500/1000\n",
      "  Avg Train Loss: 0.314840\n",
      "    Physics Loss: 0.000291\n",
      "    Data Loss   : 0.571907\n",
      "  Avg Val Loss  : 0.581696\n"
     ]
    },
    {
     "data": {
      "application/vnd.jupyter.widget-view+json": {
       "model_id": "f9393385c9b046aa96416fe778f92fcf",
       "version_major": 2,
       "version_minor": 0
      },
      "text/plain": [
       "Epoch 501/1000:   0%|          | 0/2 [00:00<?, ?it/s]"
      ]
     },
     "metadata": {},
     "output_type": "display_data"
    },
    {
     "data": {
      "application/vnd.jupyter.widget-view+json": {
       "model_id": "f9238fbb97eb4f83b2f817c846db4010",
       "version_major": 2,
       "version_minor": 0
      },
      "text/plain": [
       "Epoch 502/1000:   0%|          | 0/2 [00:00<?, ?it/s]"
      ]
     },
     "metadata": {},
     "output_type": "display_data"
    },
    {
     "data": {
      "application/vnd.jupyter.widget-view+json": {
       "model_id": "1255a6937da243f2b3152dd440ade752",
       "version_major": 2,
       "version_minor": 0
      },
      "text/plain": [
       "Epoch 503/1000:   0%|          | 0/2 [00:00<?, ?it/s]"
      ]
     },
     "metadata": {},
     "output_type": "display_data"
    },
    {
     "data": {
      "application/vnd.jupyter.widget-view+json": {
       "model_id": "97320fe3176d4b4685baf78a8dfa229a",
       "version_major": 2,
       "version_minor": 0
      },
      "text/plain": [
       "Epoch 504/1000:   0%|          | 0/2 [00:00<?, ?it/s]"
      ]
     },
     "metadata": {},
     "output_type": "display_data"
    },
    {
     "data": {
      "application/vnd.jupyter.widget-view+json": {
       "model_id": "37ea55168fcd4e2fafcb19747349d14c",
       "version_major": 2,
       "version_minor": 0
      },
      "text/plain": [
       "Epoch 505/1000:   0%|          | 0/2 [00:00<?, ?it/s]"
      ]
     },
     "metadata": {},
     "output_type": "display_data"
    },
    {
     "data": {
      "application/vnd.jupyter.widget-view+json": {
       "model_id": "9eef0206dffe47df8c0ac7a9071282ea",
       "version_major": 2,
       "version_minor": 0
      },
      "text/plain": [
       "Epoch 506/1000:   0%|          | 0/2 [00:00<?, ?it/s]"
      ]
     },
     "metadata": {},
     "output_type": "display_data"
    },
    {
     "data": {
      "application/vnd.jupyter.widget-view+json": {
       "model_id": "e602a446df154db89a102ed1420968c1",
       "version_major": 2,
       "version_minor": 0
      },
      "text/plain": [
       "Epoch 507/1000:   0%|          | 0/2 [00:00<?, ?it/s]"
      ]
     },
     "metadata": {},
     "output_type": "display_data"
    },
    {
     "data": {
      "application/vnd.jupyter.widget-view+json": {
       "model_id": "201882ec423f4256a258a32351ec4253",
       "version_major": 2,
       "version_minor": 0
      },
      "text/plain": [
       "Epoch 508/1000:   0%|          | 0/2 [00:00<?, ?it/s]"
      ]
     },
     "metadata": {},
     "output_type": "display_data"
    },
    {
     "data": {
      "application/vnd.jupyter.widget-view+json": {
       "model_id": "b6551867411e4c82887252dea883d7d4",
       "version_major": 2,
       "version_minor": 0
      },
      "text/plain": [
       "Epoch 509/1000:   0%|          | 0/2 [00:00<?, ?it/s]"
      ]
     },
     "metadata": {},
     "output_type": "display_data"
    },
    {
     "data": {
      "application/vnd.jupyter.widget-view+json": {
       "model_id": "40f35c72ce5f469fa5affd3b6ba3fcd8",
       "version_major": 2,
       "version_minor": 0
      },
      "text/plain": [
       "Epoch 510/1000:   0%|          | 0/2 [00:00<?, ?it/s]"
      ]
     },
     "metadata": {},
     "output_type": "display_data"
    },
    {
     "data": {
      "application/vnd.jupyter.widget-view+json": {
       "model_id": "1c7fe508f67b4fe3b4886eb5b1d8516b",
       "version_major": 2,
       "version_minor": 0
      },
      "text/plain": [
       "Epoch 511/1000:   0%|          | 0/2 [00:00<?, ?it/s]"
      ]
     },
     "metadata": {},
     "output_type": "display_data"
    },
    {
     "data": {
      "application/vnd.jupyter.widget-view+json": {
       "model_id": "672b2e4833fe46c482c5e22a2b4fd196",
       "version_major": 2,
       "version_minor": 0
      },
      "text/plain": [
       "Epoch 512/1000:   0%|          | 0/2 [00:00<?, ?it/s]"
      ]
     },
     "metadata": {},
     "output_type": "display_data"
    },
    {
     "data": {
      "application/vnd.jupyter.widget-view+json": {
       "model_id": "190383f0162b48478230018b59518b54",
       "version_major": 2,
       "version_minor": 0
      },
      "text/plain": [
       "Epoch 513/1000:   0%|          | 0/2 [00:00<?, ?it/s]"
      ]
     },
     "metadata": {},
     "output_type": "display_data"
    },
    {
     "data": {
      "application/vnd.jupyter.widget-view+json": {
       "model_id": "866189287cb24b7da2c3a5de1adffa73",
       "version_major": 2,
       "version_minor": 0
      },
      "text/plain": [
       "Epoch 514/1000:   0%|          | 0/2 [00:00<?, ?it/s]"
      ]
     },
     "metadata": {},
     "output_type": "display_data"
    },
    {
     "data": {
      "application/vnd.jupyter.widget-view+json": {
       "model_id": "b22d4f5b6b404584918b0087fca81ac6",
       "version_major": 2,
       "version_minor": 0
      },
      "text/plain": [
       "Epoch 515/1000:   0%|          | 0/2 [00:00<?, ?it/s]"
      ]
     },
     "metadata": {},
     "output_type": "display_data"
    },
    {
     "data": {
      "application/vnd.jupyter.widget-view+json": {
       "model_id": "56fce2103af149b4be6d72baf899a024",
       "version_major": 2,
       "version_minor": 0
      },
      "text/plain": [
       "Epoch 516/1000:   0%|          | 0/2 [00:00<?, ?it/s]"
      ]
     },
     "metadata": {},
     "output_type": "display_data"
    },
    {
     "data": {
      "application/vnd.jupyter.widget-view+json": {
       "model_id": "08ffc21da9f14c5ea3e82aaf3033c3ad",
       "version_major": 2,
       "version_minor": 0
      },
      "text/plain": [
       "Epoch 517/1000:   0%|          | 0/2 [00:00<?, ?it/s]"
      ]
     },
     "metadata": {},
     "output_type": "display_data"
    },
    {
     "data": {
      "application/vnd.jupyter.widget-view+json": {
       "model_id": "15639d94f43e4d95852f325d3f5e75e0",
       "version_major": 2,
       "version_minor": 0
      },
      "text/plain": [
       "Epoch 518/1000:   0%|          | 0/2 [00:00<?, ?it/s]"
      ]
     },
     "metadata": {},
     "output_type": "display_data"
    },
    {
     "data": {
      "application/vnd.jupyter.widget-view+json": {
       "model_id": "00e00e8670c5492cad8989e7fda4477e",
       "version_major": 2,
       "version_minor": 0
      },
      "text/plain": [
       "Epoch 519/1000:   0%|          | 0/2 [00:00<?, ?it/s]"
      ]
     },
     "metadata": {},
     "output_type": "display_data"
    },
    {
     "data": {
      "application/vnd.jupyter.widget-view+json": {
       "model_id": "33e0192ec2cf41aeb5d53c9b3dcd1fa8",
       "version_major": 2,
       "version_minor": 0
      },
      "text/plain": [
       "Epoch 520/1000:   0%|          | 0/2 [00:00<?, ?it/s]"
      ]
     },
     "metadata": {},
     "output_type": "display_data"
    },
    {
     "data": {
      "application/vnd.jupyter.widget-view+json": {
       "model_id": "b382f4e3eb934b359e8ca0422a23e081",
       "version_major": 2,
       "version_minor": 0
      },
      "text/plain": [
       "Epoch 521/1000:   0%|          | 0/2 [00:00<?, ?it/s]"
      ]
     },
     "metadata": {},
     "output_type": "display_data"
    },
    {
     "data": {
      "application/vnd.jupyter.widget-view+json": {
       "model_id": "770ec17d21dc4cac85e8379c20c58a7a",
       "version_major": 2,
       "version_minor": 0
      },
      "text/plain": [
       "Epoch 522/1000:   0%|          | 0/2 [00:00<?, ?it/s]"
      ]
     },
     "metadata": {},
     "output_type": "display_data"
    },
    {
     "data": {
      "application/vnd.jupyter.widget-view+json": {
       "model_id": "6da98044e0554cf380fc76b145e93035",
       "version_major": 2,
       "version_minor": 0
      },
      "text/plain": [
       "Epoch 523/1000:   0%|          | 0/2 [00:00<?, ?it/s]"
      ]
     },
     "metadata": {},
     "output_type": "display_data"
    },
    {
     "data": {
      "application/vnd.jupyter.widget-view+json": {
       "model_id": "97bebe92500947fe8b9ac7ee9396118a",
       "version_major": 2,
       "version_minor": 0
      },
      "text/plain": [
       "Epoch 524/1000:   0%|          | 0/2 [00:00<?, ?it/s]"
      ]
     },
     "metadata": {},
     "output_type": "display_data"
    },
    {
     "data": {
      "application/vnd.jupyter.widget-view+json": {
       "model_id": "afd2f77da4564d8f81764a3959c07697",
       "version_major": 2,
       "version_minor": 0
      },
      "text/plain": [
       "Epoch 525/1000:   0%|          | 0/2 [00:00<?, ?it/s]"
      ]
     },
     "metadata": {},
     "output_type": "display_data"
    },
    {
     "data": {
      "application/vnd.jupyter.widget-view+json": {
       "model_id": "a9bdbb89543549618b8ba9f0249adc86",
       "version_major": 2,
       "version_minor": 0
      },
      "text/plain": [
       "Epoch 526/1000:   0%|          | 0/2 [00:00<?, ?it/s]"
      ]
     },
     "metadata": {},
     "output_type": "display_data"
    },
    {
     "data": {
      "application/vnd.jupyter.widget-view+json": {
       "model_id": "b098b464f8e24788a41b377415233995",
       "version_major": 2,
       "version_minor": 0
      },
      "text/plain": [
       "Epoch 527/1000:   0%|          | 0/2 [00:00<?, ?it/s]"
      ]
     },
     "metadata": {},
     "output_type": "display_data"
    },
    {
     "data": {
      "application/vnd.jupyter.widget-view+json": {
       "model_id": "f80aaf25ecc946fdb0cb647a6ff9d897",
       "version_major": 2,
       "version_minor": 0
      },
      "text/plain": [
       "Epoch 528/1000:   0%|          | 0/2 [00:00<?, ?it/s]"
      ]
     },
     "metadata": {},
     "output_type": "display_data"
    },
    {
     "data": {
      "application/vnd.jupyter.widget-view+json": {
       "model_id": "b7a0d8162f824975bf57655c099d2321",
       "version_major": 2,
       "version_minor": 0
      },
      "text/plain": [
       "Epoch 529/1000:   0%|          | 0/2 [00:00<?, ?it/s]"
      ]
     },
     "metadata": {},
     "output_type": "display_data"
    },
    {
     "data": {
      "application/vnd.jupyter.widget-view+json": {
       "model_id": "171ecadc2611463b92e2aafdbdcc95cd",
       "version_major": 2,
       "version_minor": 0
      },
      "text/plain": [
       "Epoch 530/1000:   0%|          | 0/2 [00:00<?, ?it/s]"
      ]
     },
     "metadata": {},
     "output_type": "display_data"
    },
    {
     "data": {
      "application/vnd.jupyter.widget-view+json": {
       "model_id": "5d76cd02396d41ab90dc3b0acc48642c",
       "version_major": 2,
       "version_minor": 0
      },
      "text/plain": [
       "Epoch 531/1000:   0%|          | 0/2 [00:00<?, ?it/s]"
      ]
     },
     "metadata": {},
     "output_type": "display_data"
    },
    {
     "data": {
      "application/vnd.jupyter.widget-view+json": {
       "model_id": "843e68ba0e504921abf8b323af3409ea",
       "version_major": 2,
       "version_minor": 0
      },
      "text/plain": [
       "Epoch 532/1000:   0%|          | 0/2 [00:00<?, ?it/s]"
      ]
     },
     "metadata": {},
     "output_type": "display_data"
    },
    {
     "data": {
      "application/vnd.jupyter.widget-view+json": {
       "model_id": "c4b8863e341048379777eb6903e662de",
       "version_major": 2,
       "version_minor": 0
      },
      "text/plain": [
       "Epoch 533/1000:   0%|          | 0/2 [00:00<?, ?it/s]"
      ]
     },
     "metadata": {},
     "output_type": "display_data"
    },
    {
     "data": {
      "application/vnd.jupyter.widget-view+json": {
       "model_id": "337444d6cf6747f2a5de322b18ecb23c",
       "version_major": 2,
       "version_minor": 0
      },
      "text/plain": [
       "Epoch 534/1000:   0%|          | 0/2 [00:00<?, ?it/s]"
      ]
     },
     "metadata": {},
     "output_type": "display_data"
    },
    {
     "data": {
      "application/vnd.jupyter.widget-view+json": {
       "model_id": "d4b39f8e137d4bceb4297d14229cf88f",
       "version_major": 2,
       "version_minor": 0
      },
      "text/plain": [
       "Epoch 535/1000:   0%|          | 0/2 [00:00<?, ?it/s]"
      ]
     },
     "metadata": {},
     "output_type": "display_data"
    },
    {
     "data": {
      "application/vnd.jupyter.widget-view+json": {
       "model_id": "d2b1ffbc2a394f5bb3e955356e37f6dc",
       "version_major": 2,
       "version_minor": 0
      },
      "text/plain": [
       "Epoch 536/1000:   0%|          | 0/2 [00:00<?, ?it/s]"
      ]
     },
     "metadata": {},
     "output_type": "display_data"
    },
    {
     "data": {
      "application/vnd.jupyter.widget-view+json": {
       "model_id": "2418eb98befb482d918f9d7dd30e45e2",
       "version_major": 2,
       "version_minor": 0
      },
      "text/plain": [
       "Epoch 537/1000:   0%|          | 0/2 [00:00<?, ?it/s]"
      ]
     },
     "metadata": {},
     "output_type": "display_data"
    },
    {
     "data": {
      "application/vnd.jupyter.widget-view+json": {
       "model_id": "d25c9522b5e64291b974185868cc9ce6",
       "version_major": 2,
       "version_minor": 0
      },
      "text/plain": [
       "Epoch 538/1000:   0%|          | 0/2 [00:00<?, ?it/s]"
      ]
     },
     "metadata": {},
     "output_type": "display_data"
    },
    {
     "data": {
      "application/vnd.jupyter.widget-view+json": {
       "model_id": "fd07fa878ba146bfaaeb9408677f6b30",
       "version_major": 2,
       "version_minor": 0
      },
      "text/plain": [
       "Epoch 539/1000:   0%|          | 0/2 [00:00<?, ?it/s]"
      ]
     },
     "metadata": {},
     "output_type": "display_data"
    },
    {
     "data": {
      "application/vnd.jupyter.widget-view+json": {
       "model_id": "60e5158cc9ab42e79fb0bccb7d3ee092",
       "version_major": 2,
       "version_minor": 0
      },
      "text/plain": [
       "Epoch 540/1000:   0%|          | 0/2 [00:00<?, ?it/s]"
      ]
     },
     "metadata": {},
     "output_type": "display_data"
    },
    {
     "data": {
      "application/vnd.jupyter.widget-view+json": {
       "model_id": "7c772879bbaa4b45bec54021f2c01ad2",
       "version_major": 2,
       "version_minor": 0
      },
      "text/plain": [
       "Epoch 541/1000:   0%|          | 0/2 [00:00<?, ?it/s]"
      ]
     },
     "metadata": {},
     "output_type": "display_data"
    },
    {
     "data": {
      "application/vnd.jupyter.widget-view+json": {
       "model_id": "1cddb4ab8f83450fb173b8b299e73810",
       "version_major": 2,
       "version_minor": 0
      },
      "text/plain": [
       "Epoch 542/1000:   0%|          | 0/2 [00:00<?, ?it/s]"
      ]
     },
     "metadata": {},
     "output_type": "display_data"
    },
    {
     "data": {
      "application/vnd.jupyter.widget-view+json": {
       "model_id": "831c9cbe38454d0699445fe5840086a9",
       "version_major": 2,
       "version_minor": 0
      },
      "text/plain": [
       "Epoch 543/1000:   0%|          | 0/2 [00:00<?, ?it/s]"
      ]
     },
     "metadata": {},
     "output_type": "display_data"
    },
    {
     "data": {
      "application/vnd.jupyter.widget-view+json": {
       "model_id": "cf751f7f05764519ab270ca8ba196ba7",
       "version_major": 2,
       "version_minor": 0
      },
      "text/plain": [
       "Epoch 544/1000:   0%|          | 0/2 [00:00<?, ?it/s]"
      ]
     },
     "metadata": {},
     "output_type": "display_data"
    },
    {
     "data": {
      "application/vnd.jupyter.widget-view+json": {
       "model_id": "fce535edad8643f695eb82450e5382e0",
       "version_major": 2,
       "version_minor": 0
      },
      "text/plain": [
       "Epoch 545/1000:   0%|          | 0/2 [00:00<?, ?it/s]"
      ]
     },
     "metadata": {},
     "output_type": "display_data"
    },
    {
     "data": {
      "application/vnd.jupyter.widget-view+json": {
       "model_id": "b3110c9da52b4724a30091aa14ccfcb8",
       "version_major": 2,
       "version_minor": 0
      },
      "text/plain": [
       "Epoch 546/1000:   0%|          | 0/2 [00:00<?, ?it/s]"
      ]
     },
     "metadata": {},
     "output_type": "display_data"
    },
    {
     "data": {
      "application/vnd.jupyter.widget-view+json": {
       "model_id": "3ae9b8cac3f24d7686e2104e83faf789",
       "version_major": 2,
       "version_minor": 0
      },
      "text/plain": [
       "Epoch 547/1000:   0%|          | 0/2 [00:00<?, ?it/s]"
      ]
     },
     "metadata": {},
     "output_type": "display_data"
    },
    {
     "data": {
      "application/vnd.jupyter.widget-view+json": {
       "model_id": "0df86c1b9bc7434387b61c07d2ba2054",
       "version_major": 2,
       "version_minor": 0
      },
      "text/plain": [
       "Epoch 548/1000:   0%|          | 0/2 [00:00<?, ?it/s]"
      ]
     },
     "metadata": {},
     "output_type": "display_data"
    },
    {
     "data": {
      "application/vnd.jupyter.widget-view+json": {
       "model_id": "0229c457b621410bae8ee9acbc5a8bdc",
       "version_major": 2,
       "version_minor": 0
      },
      "text/plain": [
       "Epoch 549/1000:   0%|          | 0/2 [00:00<?, ?it/s]"
      ]
     },
     "metadata": {},
     "output_type": "display_data"
    },
    {
     "data": {
      "application/vnd.jupyter.widget-view+json": {
       "model_id": "39658b27735e48e6a2f4d38db40cbab7",
       "version_major": 2,
       "version_minor": 0
      },
      "text/plain": [
       "Epoch 550/1000:   0%|          | 0/2 [00:00<?, ?it/s]"
      ]
     },
     "metadata": {},
     "output_type": "display_data"
    },
    {
     "name": "stdout",
     "output_type": "stream",
     "text": [
      "Epoch 550/1000\n",
      "  Avg Train Loss: 0.287364\n",
      "    Physics Loss: 0.000302\n",
      "    Data Loss   : 0.568441\n",
      "  Avg Val Loss  : 0.580172\n"
     ]
    },
    {
     "data": {
      "application/vnd.jupyter.widget-view+json": {
       "model_id": "5edd28362ead46f79b6575dffa06dcb3",
       "version_major": 2,
       "version_minor": 0
      },
      "text/plain": [
       "Epoch 551/1000:   0%|          | 0/2 [00:00<?, ?it/s]"
      ]
     },
     "metadata": {},
     "output_type": "display_data"
    },
    {
     "data": {
      "application/vnd.jupyter.widget-view+json": {
       "model_id": "8db47d58d19e4f2f96b4d3c16756bfb6",
       "version_major": 2,
       "version_minor": 0
      },
      "text/plain": [
       "Epoch 552/1000:   0%|          | 0/2 [00:00<?, ?it/s]"
      ]
     },
     "metadata": {},
     "output_type": "display_data"
    },
    {
     "data": {
      "application/vnd.jupyter.widget-view+json": {
       "model_id": "2f4fcabbe6d94b7bbf8178dfa93f0fb0",
       "version_major": 2,
       "version_minor": 0
      },
      "text/plain": [
       "Epoch 553/1000:   0%|          | 0/2 [00:00<?, ?it/s]"
      ]
     },
     "metadata": {},
     "output_type": "display_data"
    },
    {
     "data": {
      "application/vnd.jupyter.widget-view+json": {
       "model_id": "42452173a4c14988b9ee384f9236f59b",
       "version_major": 2,
       "version_minor": 0
      },
      "text/plain": [
       "Epoch 554/1000:   0%|          | 0/2 [00:00<?, ?it/s]"
      ]
     },
     "metadata": {},
     "output_type": "display_data"
    },
    {
     "data": {
      "application/vnd.jupyter.widget-view+json": {
       "model_id": "365a1ee92e554744b69f391bd8ba4154",
       "version_major": 2,
       "version_minor": 0
      },
      "text/plain": [
       "Epoch 555/1000:   0%|          | 0/2 [00:00<?, ?it/s]"
      ]
     },
     "metadata": {},
     "output_type": "display_data"
    },
    {
     "data": {
      "application/vnd.jupyter.widget-view+json": {
       "model_id": "edd1c3eb031445aa996169da69671ffb",
       "version_major": 2,
       "version_minor": 0
      },
      "text/plain": [
       "Epoch 556/1000:   0%|          | 0/2 [00:00<?, ?it/s]"
      ]
     },
     "metadata": {},
     "output_type": "display_data"
    },
    {
     "data": {
      "application/vnd.jupyter.widget-view+json": {
       "model_id": "0f95574ed960458f826cdf4427a8b753",
       "version_major": 2,
       "version_minor": 0
      },
      "text/plain": [
       "Epoch 557/1000:   0%|          | 0/2 [00:00<?, ?it/s]"
      ]
     },
     "metadata": {},
     "output_type": "display_data"
    },
    {
     "data": {
      "application/vnd.jupyter.widget-view+json": {
       "model_id": "1771599afff74392b290cad3d8c631d0",
       "version_major": 2,
       "version_minor": 0
      },
      "text/plain": [
       "Epoch 558/1000:   0%|          | 0/2 [00:00<?, ?it/s]"
      ]
     },
     "metadata": {},
     "output_type": "display_data"
    },
    {
     "data": {
      "application/vnd.jupyter.widget-view+json": {
       "model_id": "4c6ab196a34d453791c326a8eb0ea917",
       "version_major": 2,
       "version_minor": 0
      },
      "text/plain": [
       "Epoch 559/1000:   0%|          | 0/2 [00:00<?, ?it/s]"
      ]
     },
     "metadata": {},
     "output_type": "display_data"
    },
    {
     "data": {
      "application/vnd.jupyter.widget-view+json": {
       "model_id": "0cd83f932d4540088f2ec8bc56a2361b",
       "version_major": 2,
       "version_minor": 0
      },
      "text/plain": [
       "Epoch 560/1000:   0%|          | 0/2 [00:00<?, ?it/s]"
      ]
     },
     "metadata": {},
     "output_type": "display_data"
    },
    {
     "data": {
      "application/vnd.jupyter.widget-view+json": {
       "model_id": "d218453fc1204cddb59e2b371be24d96",
       "version_major": 2,
       "version_minor": 0
      },
      "text/plain": [
       "Epoch 561/1000:   0%|          | 0/2 [00:00<?, ?it/s]"
      ]
     },
     "metadata": {},
     "output_type": "display_data"
    },
    {
     "data": {
      "application/vnd.jupyter.widget-view+json": {
       "model_id": "4c02ad023b1748c0b327a1863c08a0ce",
       "version_major": 2,
       "version_minor": 0
      },
      "text/plain": [
       "Epoch 562/1000:   0%|          | 0/2 [00:00<?, ?it/s]"
      ]
     },
     "metadata": {},
     "output_type": "display_data"
    },
    {
     "data": {
      "application/vnd.jupyter.widget-view+json": {
       "model_id": "c46fc9164f5e4fe687f7fe5961814738",
       "version_major": 2,
       "version_minor": 0
      },
      "text/plain": [
       "Epoch 563/1000:   0%|          | 0/2 [00:00<?, ?it/s]"
      ]
     },
     "metadata": {},
     "output_type": "display_data"
    },
    {
     "data": {
      "application/vnd.jupyter.widget-view+json": {
       "model_id": "bc3016657b1e422cb953c35481139f6e",
       "version_major": 2,
       "version_minor": 0
      },
      "text/plain": [
       "Epoch 564/1000:   0%|          | 0/2 [00:00<?, ?it/s]"
      ]
     },
     "metadata": {},
     "output_type": "display_data"
    },
    {
     "data": {
      "application/vnd.jupyter.widget-view+json": {
       "model_id": "d009727c981c41f79fe9c4126b886dc7",
       "version_major": 2,
       "version_minor": 0
      },
      "text/plain": [
       "Epoch 565/1000:   0%|          | 0/2 [00:00<?, ?it/s]"
      ]
     },
     "metadata": {},
     "output_type": "display_data"
    },
    {
     "data": {
      "application/vnd.jupyter.widget-view+json": {
       "model_id": "360ee96bfc7d4a119bce56f74c4787b4",
       "version_major": 2,
       "version_minor": 0
      },
      "text/plain": [
       "Epoch 566/1000:   0%|          | 0/2 [00:00<?, ?it/s]"
      ]
     },
     "metadata": {},
     "output_type": "display_data"
    },
    {
     "data": {
      "application/vnd.jupyter.widget-view+json": {
       "model_id": "c50c764009314f3aa40e78ab7f2333df",
       "version_major": 2,
       "version_minor": 0
      },
      "text/plain": [
       "Epoch 567/1000:   0%|          | 0/2 [00:00<?, ?it/s]"
      ]
     },
     "metadata": {},
     "output_type": "display_data"
    },
    {
     "data": {
      "application/vnd.jupyter.widget-view+json": {
       "model_id": "c0f7bbc0d7c6408e864d28fd9abb2672",
       "version_major": 2,
       "version_minor": 0
      },
      "text/plain": [
       "Epoch 568/1000:   0%|          | 0/2 [00:00<?, ?it/s]"
      ]
     },
     "metadata": {},
     "output_type": "display_data"
    },
    {
     "data": {
      "application/vnd.jupyter.widget-view+json": {
       "model_id": "949f297f954b4d4f856a21ebb3934d7f",
       "version_major": 2,
       "version_minor": 0
      },
      "text/plain": [
       "Epoch 569/1000:   0%|          | 0/2 [00:00<?, ?it/s]"
      ]
     },
     "metadata": {},
     "output_type": "display_data"
    },
    {
     "data": {
      "application/vnd.jupyter.widget-view+json": {
       "model_id": "52d9d991386b43258941775f5c318d7d",
       "version_major": 2,
       "version_minor": 0
      },
      "text/plain": [
       "Epoch 570/1000:   0%|          | 0/2 [00:00<?, ?it/s]"
      ]
     },
     "metadata": {},
     "output_type": "display_data"
    },
    {
     "data": {
      "application/vnd.jupyter.widget-view+json": {
       "model_id": "2ce6d4a5dd564401a40f7351f0213b82",
       "version_major": 2,
       "version_minor": 0
      },
      "text/plain": [
       "Epoch 571/1000:   0%|          | 0/2 [00:00<?, ?it/s]"
      ]
     },
     "metadata": {},
     "output_type": "display_data"
    },
    {
     "data": {
      "application/vnd.jupyter.widget-view+json": {
       "model_id": "1c1f1b6bc4f14badb1b8121bebf969f5",
       "version_major": 2,
       "version_minor": 0
      },
      "text/plain": [
       "Epoch 572/1000:   0%|          | 0/2 [00:00<?, ?it/s]"
      ]
     },
     "metadata": {},
     "output_type": "display_data"
    },
    {
     "data": {
      "application/vnd.jupyter.widget-view+json": {
       "model_id": "56f3ff4b49604187951b449186cd4df0",
       "version_major": 2,
       "version_minor": 0
      },
      "text/plain": [
       "Epoch 573/1000:   0%|          | 0/2 [00:00<?, ?it/s]"
      ]
     },
     "metadata": {},
     "output_type": "display_data"
    },
    {
     "data": {
      "application/vnd.jupyter.widget-view+json": {
       "model_id": "879d67bc8a114675b9a374e6ca0254dc",
       "version_major": 2,
       "version_minor": 0
      },
      "text/plain": [
       "Epoch 574/1000:   0%|          | 0/2 [00:00<?, ?it/s]"
      ]
     },
     "metadata": {},
     "output_type": "display_data"
    },
    {
     "data": {
      "application/vnd.jupyter.widget-view+json": {
       "model_id": "3816fa90aab74907a952f0a413cf52bf",
       "version_major": 2,
       "version_minor": 0
      },
      "text/plain": [
       "Epoch 575/1000:   0%|          | 0/2 [00:00<?, ?it/s]"
      ]
     },
     "metadata": {},
     "output_type": "display_data"
    },
    {
     "data": {
      "application/vnd.jupyter.widget-view+json": {
       "model_id": "2b2cff168b954428968e83d1e8761eef",
       "version_major": 2,
       "version_minor": 0
      },
      "text/plain": [
       "Epoch 576/1000:   0%|          | 0/2 [00:00<?, ?it/s]"
      ]
     },
     "metadata": {},
     "output_type": "display_data"
    },
    {
     "data": {
      "application/vnd.jupyter.widget-view+json": {
       "model_id": "8b48fb7bf26e40e592179ffebeca240f",
       "version_major": 2,
       "version_minor": 0
      },
      "text/plain": [
       "Epoch 577/1000:   0%|          | 0/2 [00:00<?, ?it/s]"
      ]
     },
     "metadata": {},
     "output_type": "display_data"
    },
    {
     "data": {
      "application/vnd.jupyter.widget-view+json": {
       "model_id": "cf365625783f47bb8e8004cf4faf6e02",
       "version_major": 2,
       "version_minor": 0
      },
      "text/plain": [
       "Epoch 578/1000:   0%|          | 0/2 [00:00<?, ?it/s]"
      ]
     },
     "metadata": {},
     "output_type": "display_data"
    },
    {
     "data": {
      "application/vnd.jupyter.widget-view+json": {
       "model_id": "436655ce988c4e95af9719ec68abf46d",
       "version_major": 2,
       "version_minor": 0
      },
      "text/plain": [
       "Epoch 579/1000:   0%|          | 0/2 [00:00<?, ?it/s]"
      ]
     },
     "metadata": {},
     "output_type": "display_data"
    },
    {
     "data": {
      "application/vnd.jupyter.widget-view+json": {
       "model_id": "9b3ba6e8767044c793933985440e2a8e",
       "version_major": 2,
       "version_minor": 0
      },
      "text/plain": [
       "Epoch 580/1000:   0%|          | 0/2 [00:00<?, ?it/s]"
      ]
     },
     "metadata": {},
     "output_type": "display_data"
    },
    {
     "data": {
      "application/vnd.jupyter.widget-view+json": {
       "model_id": "b2494c41f1fa44ca91c005835e7141de",
       "version_major": 2,
       "version_minor": 0
      },
      "text/plain": [
       "Epoch 581/1000:   0%|          | 0/2 [00:00<?, ?it/s]"
      ]
     },
     "metadata": {},
     "output_type": "display_data"
    },
    {
     "data": {
      "application/vnd.jupyter.widget-view+json": {
       "model_id": "945a8702ee7d4cf7988a3f13087bed9f",
       "version_major": 2,
       "version_minor": 0
      },
      "text/plain": [
       "Epoch 582/1000:   0%|          | 0/2 [00:00<?, ?it/s]"
      ]
     },
     "metadata": {},
     "output_type": "display_data"
    },
    {
     "data": {
      "application/vnd.jupyter.widget-view+json": {
       "model_id": "598c83ce900b4d7280a42d8cb30e4c54",
       "version_major": 2,
       "version_minor": 0
      },
      "text/plain": [
       "Epoch 583/1000:   0%|          | 0/2 [00:00<?, ?it/s]"
      ]
     },
     "metadata": {},
     "output_type": "display_data"
    },
    {
     "data": {
      "application/vnd.jupyter.widget-view+json": {
       "model_id": "912a81abe47946e69f5895f0ad602b38",
       "version_major": 2,
       "version_minor": 0
      },
      "text/plain": [
       "Epoch 584/1000:   0%|          | 0/2 [00:00<?, ?it/s]"
      ]
     },
     "metadata": {},
     "output_type": "display_data"
    },
    {
     "data": {
      "application/vnd.jupyter.widget-view+json": {
       "model_id": "79159ae0a96a460c8024f11d4349bc9f",
       "version_major": 2,
       "version_minor": 0
      },
      "text/plain": [
       "Epoch 585/1000:   0%|          | 0/2 [00:00<?, ?it/s]"
      ]
     },
     "metadata": {},
     "output_type": "display_data"
    },
    {
     "data": {
      "application/vnd.jupyter.widget-view+json": {
       "model_id": "c53e518bd1dd4972a5af289a8febc3f6",
       "version_major": 2,
       "version_minor": 0
      },
      "text/plain": [
       "Epoch 586/1000:   0%|          | 0/2 [00:00<?, ?it/s]"
      ]
     },
     "metadata": {},
     "output_type": "display_data"
    },
    {
     "data": {
      "application/vnd.jupyter.widget-view+json": {
       "model_id": "2619fd3734204981ae592531a6c146f5",
       "version_major": 2,
       "version_minor": 0
      },
      "text/plain": [
       "Epoch 587/1000:   0%|          | 0/2 [00:00<?, ?it/s]"
      ]
     },
     "metadata": {},
     "output_type": "display_data"
    },
    {
     "data": {
      "application/vnd.jupyter.widget-view+json": {
       "model_id": "af889cf095844aa7aaf8853c89bd1749",
       "version_major": 2,
       "version_minor": 0
      },
      "text/plain": [
       "Epoch 588/1000:   0%|          | 0/2 [00:00<?, ?it/s]"
      ]
     },
     "metadata": {},
     "output_type": "display_data"
    },
    {
     "data": {
      "application/vnd.jupyter.widget-view+json": {
       "model_id": "bdedb30b87844aaf8ec7ae4df36189b3",
       "version_major": 2,
       "version_minor": 0
      },
      "text/plain": [
       "Epoch 589/1000:   0%|          | 0/2 [00:00<?, ?it/s]"
      ]
     },
     "metadata": {},
     "output_type": "display_data"
    },
    {
     "data": {
      "application/vnd.jupyter.widget-view+json": {
       "model_id": "e0f5bcac443946a28bfa916f7737d9d8",
       "version_major": 2,
       "version_minor": 0
      },
      "text/plain": [
       "Epoch 590/1000:   0%|          | 0/2 [00:00<?, ?it/s]"
      ]
     },
     "metadata": {},
     "output_type": "display_data"
    },
    {
     "data": {
      "application/vnd.jupyter.widget-view+json": {
       "model_id": "da01f2c103f44c8192585ec665d596a5",
       "version_major": 2,
       "version_minor": 0
      },
      "text/plain": [
       "Epoch 591/1000:   0%|          | 0/2 [00:00<?, ?it/s]"
      ]
     },
     "metadata": {},
     "output_type": "display_data"
    },
    {
     "data": {
      "application/vnd.jupyter.widget-view+json": {
       "model_id": "e5e823149a1546eea946bf26d617d870",
       "version_major": 2,
       "version_minor": 0
      },
      "text/plain": [
       "Epoch 592/1000:   0%|          | 0/2 [00:00<?, ?it/s]"
      ]
     },
     "metadata": {},
     "output_type": "display_data"
    },
    {
     "data": {
      "application/vnd.jupyter.widget-view+json": {
       "model_id": "b117449009a8404782b998aaa3debd2f",
       "version_major": 2,
       "version_minor": 0
      },
      "text/plain": [
       "Epoch 593/1000:   0%|          | 0/2 [00:00<?, ?it/s]"
      ]
     },
     "metadata": {},
     "output_type": "display_data"
    },
    {
     "data": {
      "application/vnd.jupyter.widget-view+json": {
       "model_id": "2f8c8c39892b4988bd5eb5608be8db1f",
       "version_major": 2,
       "version_minor": 0
      },
      "text/plain": [
       "Epoch 594/1000:   0%|          | 0/2 [00:00<?, ?it/s]"
      ]
     },
     "metadata": {},
     "output_type": "display_data"
    },
    {
     "data": {
      "application/vnd.jupyter.widget-view+json": {
       "model_id": "6dd5fe141a9f48d7a22aafe1e6c6aded",
       "version_major": 2,
       "version_minor": 0
      },
      "text/plain": [
       "Epoch 595/1000:   0%|          | 0/2 [00:00<?, ?it/s]"
      ]
     },
     "metadata": {},
     "output_type": "display_data"
    },
    {
     "data": {
      "application/vnd.jupyter.widget-view+json": {
       "model_id": "a6534f874c4b431bbde4cd73161581ba",
       "version_major": 2,
       "version_minor": 0
      },
      "text/plain": [
       "Epoch 596/1000:   0%|          | 0/2 [00:00<?, ?it/s]"
      ]
     },
     "metadata": {},
     "output_type": "display_data"
    },
    {
     "data": {
      "application/vnd.jupyter.widget-view+json": {
       "model_id": "591b4b36987f4347a611fbe6dff1b9ef",
       "version_major": 2,
       "version_minor": 0
      },
      "text/plain": [
       "Epoch 597/1000:   0%|          | 0/2 [00:00<?, ?it/s]"
      ]
     },
     "metadata": {},
     "output_type": "display_data"
    },
    {
     "data": {
      "application/vnd.jupyter.widget-view+json": {
       "model_id": "e8da9541f4ac4bbea276ee6f02c4471e",
       "version_major": 2,
       "version_minor": 0
      },
      "text/plain": [
       "Epoch 598/1000:   0%|          | 0/2 [00:00<?, ?it/s]"
      ]
     },
     "metadata": {},
     "output_type": "display_data"
    },
    {
     "data": {
      "application/vnd.jupyter.widget-view+json": {
       "model_id": "19f65db9fef049a399574136e2a8b409",
       "version_major": 2,
       "version_minor": 0
      },
      "text/plain": [
       "Epoch 599/1000:   0%|          | 0/2 [00:00<?, ?it/s]"
      ]
     },
     "metadata": {},
     "output_type": "display_data"
    },
    {
     "data": {
      "application/vnd.jupyter.widget-view+json": {
       "model_id": "5af8a3e94655456095d5df9cbfd8a5c2",
       "version_major": 2,
       "version_minor": 0
      },
      "text/plain": [
       "Epoch 600/1000:   0%|          | 0/2 [00:00<?, ?it/s]"
      ]
     },
     "metadata": {},
     "output_type": "display_data"
    },
    {
     "name": "stdout",
     "output_type": "stream",
     "text": [
      "Epoch 600/1000\n",
      "  Avg Train Loss: 0.269087\n",
      "    Physics Loss: 0.000307\n",
      "    Data Loss   : 0.584305\n",
      "  Avg Val Loss  : 0.578676\n"
     ]
    },
    {
     "data": {
      "application/vnd.jupyter.widget-view+json": {
       "model_id": "f7e8eda294a64b088e66ebbaf3146d9e",
       "version_major": 2,
       "version_minor": 0
      },
      "text/plain": [
       "Epoch 601/1000:   0%|          | 0/2 [00:00<?, ?it/s]"
      ]
     },
     "metadata": {},
     "output_type": "display_data"
    },
    {
     "data": {
      "application/vnd.jupyter.widget-view+json": {
       "model_id": "21bc5adeba7e4c35806d8a97f7c24fc4",
       "version_major": 2,
       "version_minor": 0
      },
      "text/plain": [
       "Epoch 602/1000:   0%|          | 0/2 [00:00<?, ?it/s]"
      ]
     },
     "metadata": {},
     "output_type": "display_data"
    },
    {
     "data": {
      "application/vnd.jupyter.widget-view+json": {
       "model_id": "f7bc34efe62d4e0ea04acb8d9ebfb98e",
       "version_major": 2,
       "version_minor": 0
      },
      "text/plain": [
       "Epoch 603/1000:   0%|          | 0/2 [00:00<?, ?it/s]"
      ]
     },
     "metadata": {},
     "output_type": "display_data"
    },
    {
     "data": {
      "application/vnd.jupyter.widget-view+json": {
       "model_id": "6af51959cd534a3394e46121b2e7faca",
       "version_major": 2,
       "version_minor": 0
      },
      "text/plain": [
       "Epoch 604/1000:   0%|          | 0/2 [00:00<?, ?it/s]"
      ]
     },
     "metadata": {},
     "output_type": "display_data"
    },
    {
     "data": {
      "application/vnd.jupyter.widget-view+json": {
       "model_id": "95cd916cefc24322ba612f1ace26296b",
       "version_major": 2,
       "version_minor": 0
      },
      "text/plain": [
       "Epoch 605/1000:   0%|          | 0/2 [00:00<?, ?it/s]"
      ]
     },
     "metadata": {},
     "output_type": "display_data"
    },
    {
     "data": {
      "application/vnd.jupyter.widget-view+json": {
       "model_id": "edf9123ee3294e4394a1e659eb18be17",
       "version_major": 2,
       "version_minor": 0
      },
      "text/plain": [
       "Epoch 606/1000:   0%|          | 0/2 [00:00<?, ?it/s]"
      ]
     },
     "metadata": {},
     "output_type": "display_data"
    },
    {
     "data": {
      "application/vnd.jupyter.widget-view+json": {
       "model_id": "fbc2574475454d6193d037a54e72b819",
       "version_major": 2,
       "version_minor": 0
      },
      "text/plain": [
       "Epoch 607/1000:   0%|          | 0/2 [00:00<?, ?it/s]"
      ]
     },
     "metadata": {},
     "output_type": "display_data"
    },
    {
     "data": {
      "application/vnd.jupyter.widget-view+json": {
       "model_id": "792119589bb647e2b7b668531b5c9328",
       "version_major": 2,
       "version_minor": 0
      },
      "text/plain": [
       "Epoch 608/1000:   0%|          | 0/2 [00:00<?, ?it/s]"
      ]
     },
     "metadata": {},
     "output_type": "display_data"
    },
    {
     "data": {
      "application/vnd.jupyter.widget-view+json": {
       "model_id": "9ccc6754571a4a8a872af2561e8d274b",
       "version_major": 2,
       "version_minor": 0
      },
      "text/plain": [
       "Epoch 609/1000:   0%|          | 0/2 [00:00<?, ?it/s]"
      ]
     },
     "metadata": {},
     "output_type": "display_data"
    },
    {
     "data": {
      "application/vnd.jupyter.widget-view+json": {
       "model_id": "78d0455b49634f9e9fb750afabb9f357",
       "version_major": 2,
       "version_minor": 0
      },
      "text/plain": [
       "Epoch 610/1000:   0%|          | 0/2 [00:00<?, ?it/s]"
      ]
     },
     "metadata": {},
     "output_type": "display_data"
    },
    {
     "data": {
      "application/vnd.jupyter.widget-view+json": {
       "model_id": "6bbf9998882c41fb84d9947578afdc76",
       "version_major": 2,
       "version_minor": 0
      },
      "text/plain": [
       "Epoch 611/1000:   0%|          | 0/2 [00:00<?, ?it/s]"
      ]
     },
     "metadata": {},
     "output_type": "display_data"
    },
    {
     "data": {
      "application/vnd.jupyter.widget-view+json": {
       "model_id": "42ebb7c3d64c488382ef78e29c21321c",
       "version_major": 2,
       "version_minor": 0
      },
      "text/plain": [
       "Epoch 612/1000:   0%|          | 0/2 [00:00<?, ?it/s]"
      ]
     },
     "metadata": {},
     "output_type": "display_data"
    },
    {
     "data": {
      "application/vnd.jupyter.widget-view+json": {
       "model_id": "6bfce4758d9541a49e8a6cc3b4509a97",
       "version_major": 2,
       "version_minor": 0
      },
      "text/plain": [
       "Epoch 613/1000:   0%|          | 0/2 [00:00<?, ?it/s]"
      ]
     },
     "metadata": {},
     "output_type": "display_data"
    },
    {
     "data": {
      "application/vnd.jupyter.widget-view+json": {
       "model_id": "5091e437065d40bd94a5033bcd697370",
       "version_major": 2,
       "version_minor": 0
      },
      "text/plain": [
       "Epoch 614/1000:   0%|          | 0/2 [00:00<?, ?it/s]"
      ]
     },
     "metadata": {},
     "output_type": "display_data"
    },
    {
     "data": {
      "application/vnd.jupyter.widget-view+json": {
       "model_id": "40be13974b2b449e866c35ae042ef778",
       "version_major": 2,
       "version_minor": 0
      },
      "text/plain": [
       "Epoch 615/1000:   0%|          | 0/2 [00:00<?, ?it/s]"
      ]
     },
     "metadata": {},
     "output_type": "display_data"
    },
    {
     "data": {
      "application/vnd.jupyter.widget-view+json": {
       "model_id": "c2e4358deaeb45619f9e9f905a9a2ce8",
       "version_major": 2,
       "version_minor": 0
      },
      "text/plain": [
       "Epoch 616/1000:   0%|          | 0/2 [00:00<?, ?it/s]"
      ]
     },
     "metadata": {},
     "output_type": "display_data"
    },
    {
     "data": {
      "application/vnd.jupyter.widget-view+json": {
       "model_id": "31f5eab55e294552a9271f65c91f5632",
       "version_major": 2,
       "version_minor": 0
      },
      "text/plain": [
       "Epoch 617/1000:   0%|          | 0/2 [00:00<?, ?it/s]"
      ]
     },
     "metadata": {},
     "output_type": "display_data"
    },
    {
     "data": {
      "application/vnd.jupyter.widget-view+json": {
       "model_id": "dba3eaf567714db5bfa1e2d3a739758d",
       "version_major": 2,
       "version_minor": 0
      },
      "text/plain": [
       "Epoch 618/1000:   0%|          | 0/2 [00:00<?, ?it/s]"
      ]
     },
     "metadata": {},
     "output_type": "display_data"
    },
    {
     "data": {
      "application/vnd.jupyter.widget-view+json": {
       "model_id": "aac4074cdd194313b38b4fbaa82d1b08",
       "version_major": 2,
       "version_minor": 0
      },
      "text/plain": [
       "Epoch 619/1000:   0%|          | 0/2 [00:00<?, ?it/s]"
      ]
     },
     "metadata": {},
     "output_type": "display_data"
    },
    {
     "data": {
      "application/vnd.jupyter.widget-view+json": {
       "model_id": "95afcffdde9b4c8eb9a7aa1784e89b0c",
       "version_major": 2,
       "version_minor": 0
      },
      "text/plain": [
       "Epoch 620/1000:   0%|          | 0/2 [00:00<?, ?it/s]"
      ]
     },
     "metadata": {},
     "output_type": "display_data"
    },
    {
     "data": {
      "application/vnd.jupyter.widget-view+json": {
       "model_id": "7baa50f0b1ed4e4f848886ef51eb4522",
       "version_major": 2,
       "version_minor": 0
      },
      "text/plain": [
       "Epoch 621/1000:   0%|          | 0/2 [00:00<?, ?it/s]"
      ]
     },
     "metadata": {},
     "output_type": "display_data"
    },
    {
     "data": {
      "application/vnd.jupyter.widget-view+json": {
       "model_id": "c6c8dd738fcf4a12915bdd36dd35c2d6",
       "version_major": 2,
       "version_minor": 0
      },
      "text/plain": [
       "Epoch 622/1000:   0%|          | 0/2 [00:00<?, ?it/s]"
      ]
     },
     "metadata": {},
     "output_type": "display_data"
    },
    {
     "data": {
      "application/vnd.jupyter.widget-view+json": {
       "model_id": "bf8e342038d74919887c7880c0c903a9",
       "version_major": 2,
       "version_minor": 0
      },
      "text/plain": [
       "Epoch 623/1000:   0%|          | 0/2 [00:00<?, ?it/s]"
      ]
     },
     "metadata": {},
     "output_type": "display_data"
    },
    {
     "data": {
      "application/vnd.jupyter.widget-view+json": {
       "model_id": "53509ddbee0f41f081f0472ea76c0867",
       "version_major": 2,
       "version_minor": 0
      },
      "text/plain": [
       "Epoch 624/1000:   0%|          | 0/2 [00:00<?, ?it/s]"
      ]
     },
     "metadata": {},
     "output_type": "display_data"
    },
    {
     "data": {
      "application/vnd.jupyter.widget-view+json": {
       "model_id": "3f6cec2889aa4844876961c5ffd92c54",
       "version_major": 2,
       "version_minor": 0
      },
      "text/plain": [
       "Epoch 625/1000:   0%|          | 0/2 [00:00<?, ?it/s]"
      ]
     },
     "metadata": {},
     "output_type": "display_data"
    },
    {
     "data": {
      "application/vnd.jupyter.widget-view+json": {
       "model_id": "8825674d3ad540388640ddc415c70f6a",
       "version_major": 2,
       "version_minor": 0
      },
      "text/plain": [
       "Epoch 626/1000:   0%|          | 0/2 [00:00<?, ?it/s]"
      ]
     },
     "metadata": {},
     "output_type": "display_data"
    },
    {
     "data": {
      "application/vnd.jupyter.widget-view+json": {
       "model_id": "cbd6f691b543440db20da689b98880e6",
       "version_major": 2,
       "version_minor": 0
      },
      "text/plain": [
       "Epoch 627/1000:   0%|          | 0/2 [00:00<?, ?it/s]"
      ]
     },
     "metadata": {},
     "output_type": "display_data"
    },
    {
     "data": {
      "application/vnd.jupyter.widget-view+json": {
       "model_id": "0e63a47cfb2c4665b1a1d5c2b5a7b99b",
       "version_major": 2,
       "version_minor": 0
      },
      "text/plain": [
       "Epoch 628/1000:   0%|          | 0/2 [00:00<?, ?it/s]"
      ]
     },
     "metadata": {},
     "output_type": "display_data"
    },
    {
     "data": {
      "application/vnd.jupyter.widget-view+json": {
       "model_id": "17c39d610288473abca95dd868974ad0",
       "version_major": 2,
       "version_minor": 0
      },
      "text/plain": [
       "Epoch 629/1000:   0%|          | 0/2 [00:00<?, ?it/s]"
      ]
     },
     "metadata": {},
     "output_type": "display_data"
    },
    {
     "data": {
      "application/vnd.jupyter.widget-view+json": {
       "model_id": "1f71d45c41a94592b4c3562b9a94f702",
       "version_major": 2,
       "version_minor": 0
      },
      "text/plain": [
       "Epoch 630/1000:   0%|          | 0/2 [00:00<?, ?it/s]"
      ]
     },
     "metadata": {},
     "output_type": "display_data"
    },
    {
     "data": {
      "application/vnd.jupyter.widget-view+json": {
       "model_id": "7cbcf544cda145d2afce78f0891ea458",
       "version_major": 2,
       "version_minor": 0
      },
      "text/plain": [
       "Epoch 631/1000:   0%|          | 0/2 [00:00<?, ?it/s]"
      ]
     },
     "metadata": {},
     "output_type": "display_data"
    },
    {
     "data": {
      "application/vnd.jupyter.widget-view+json": {
       "model_id": "8547fb087c8e49d18ebf021c9f069511",
       "version_major": 2,
       "version_minor": 0
      },
      "text/plain": [
       "Epoch 632/1000:   0%|          | 0/2 [00:00<?, ?it/s]"
      ]
     },
     "metadata": {},
     "output_type": "display_data"
    },
    {
     "data": {
      "application/vnd.jupyter.widget-view+json": {
       "model_id": "41c8af1ee3f14a219b71eac5d3498bc0",
       "version_major": 2,
       "version_minor": 0
      },
      "text/plain": [
       "Epoch 633/1000:   0%|          | 0/2 [00:00<?, ?it/s]"
      ]
     },
     "metadata": {},
     "output_type": "display_data"
    },
    {
     "data": {
      "application/vnd.jupyter.widget-view+json": {
       "model_id": "fad7e78b5411474da950ac621266bd5d",
       "version_major": 2,
       "version_minor": 0
      },
      "text/plain": [
       "Epoch 634/1000:   0%|          | 0/2 [00:00<?, ?it/s]"
      ]
     },
     "metadata": {},
     "output_type": "display_data"
    },
    {
     "data": {
      "application/vnd.jupyter.widget-view+json": {
       "model_id": "208b92b5c7d14528a46ad6b37d517d3e",
       "version_major": 2,
       "version_minor": 0
      },
      "text/plain": [
       "Epoch 635/1000:   0%|          | 0/2 [00:00<?, ?it/s]"
      ]
     },
     "metadata": {},
     "output_type": "display_data"
    },
    {
     "data": {
      "application/vnd.jupyter.widget-view+json": {
       "model_id": "9c15e77b9e064049a714f98afb333011",
       "version_major": 2,
       "version_minor": 0
      },
      "text/plain": [
       "Epoch 636/1000:   0%|          | 0/2 [00:00<?, ?it/s]"
      ]
     },
     "metadata": {},
     "output_type": "display_data"
    },
    {
     "data": {
      "application/vnd.jupyter.widget-view+json": {
       "model_id": "2e2f8226b1424ccb87ec227536ab52c6",
       "version_major": 2,
       "version_minor": 0
      },
      "text/plain": [
       "Epoch 637/1000:   0%|          | 0/2 [00:00<?, ?it/s]"
      ]
     },
     "metadata": {},
     "output_type": "display_data"
    },
    {
     "data": {
      "application/vnd.jupyter.widget-view+json": {
       "model_id": "9e3bda098ecd4740a40ce8b6d58c2c0b",
       "version_major": 2,
       "version_minor": 0
      },
      "text/plain": [
       "Epoch 638/1000:   0%|          | 0/2 [00:00<?, ?it/s]"
      ]
     },
     "metadata": {},
     "output_type": "display_data"
    },
    {
     "data": {
      "application/vnd.jupyter.widget-view+json": {
       "model_id": "cc188384b4b2474cb52c7d6a181c3780",
       "version_major": 2,
       "version_minor": 0
      },
      "text/plain": [
       "Epoch 639/1000:   0%|          | 0/2 [00:00<?, ?it/s]"
      ]
     },
     "metadata": {},
     "output_type": "display_data"
    },
    {
     "data": {
      "application/vnd.jupyter.widget-view+json": {
       "model_id": "6d8e1e79844d42798fa116a1e0b53e0f",
       "version_major": 2,
       "version_minor": 0
      },
      "text/plain": [
       "Epoch 640/1000:   0%|          | 0/2 [00:00<?, ?it/s]"
      ]
     },
     "metadata": {},
     "output_type": "display_data"
    },
    {
     "data": {
      "application/vnd.jupyter.widget-view+json": {
       "model_id": "1c5979d96af94ad48baec18f7eb48a26",
       "version_major": 2,
       "version_minor": 0
      },
      "text/plain": [
       "Epoch 641/1000:   0%|          | 0/2 [00:00<?, ?it/s]"
      ]
     },
     "metadata": {},
     "output_type": "display_data"
    },
    {
     "data": {
      "application/vnd.jupyter.widget-view+json": {
       "model_id": "756ee8d67e8b4055bfaa62cc5a7504b0",
       "version_major": 2,
       "version_minor": 0
      },
      "text/plain": [
       "Epoch 642/1000:   0%|          | 0/2 [00:00<?, ?it/s]"
      ]
     },
     "metadata": {},
     "output_type": "display_data"
    },
    {
     "data": {
      "application/vnd.jupyter.widget-view+json": {
       "model_id": "00159a35fcda4645b504b240b8253c82",
       "version_major": 2,
       "version_minor": 0
      },
      "text/plain": [
       "Epoch 643/1000:   0%|          | 0/2 [00:00<?, ?it/s]"
      ]
     },
     "metadata": {},
     "output_type": "display_data"
    },
    {
     "data": {
      "application/vnd.jupyter.widget-view+json": {
       "model_id": "fcc9f70623c44c9f9dd32e85da9bf901",
       "version_major": 2,
       "version_minor": 0
      },
      "text/plain": [
       "Epoch 644/1000:   0%|          | 0/2 [00:00<?, ?it/s]"
      ]
     },
     "metadata": {},
     "output_type": "display_data"
    },
    {
     "data": {
      "application/vnd.jupyter.widget-view+json": {
       "model_id": "f421dfa5ecd84c578c5db49428268f4b",
       "version_major": 2,
       "version_minor": 0
      },
      "text/plain": [
       "Epoch 645/1000:   0%|          | 0/2 [00:00<?, ?it/s]"
      ]
     },
     "metadata": {},
     "output_type": "display_data"
    },
    {
     "data": {
      "application/vnd.jupyter.widget-view+json": {
       "model_id": "ff4b855ba1bb47a695118cc3d6135fa6",
       "version_major": 2,
       "version_minor": 0
      },
      "text/plain": [
       "Epoch 646/1000:   0%|          | 0/2 [00:00<?, ?it/s]"
      ]
     },
     "metadata": {},
     "output_type": "display_data"
    },
    {
     "data": {
      "application/vnd.jupyter.widget-view+json": {
       "model_id": "6593fe9f74584447b4312d2df2874bff",
       "version_major": 2,
       "version_minor": 0
      },
      "text/plain": [
       "Epoch 647/1000:   0%|          | 0/2 [00:00<?, ?it/s]"
      ]
     },
     "metadata": {},
     "output_type": "display_data"
    },
    {
     "data": {
      "application/vnd.jupyter.widget-view+json": {
       "model_id": "75a85d1a19dc4fc8b44690771b05dbf9",
       "version_major": 2,
       "version_minor": 0
      },
      "text/plain": [
       "Epoch 648/1000:   0%|          | 0/2 [00:00<?, ?it/s]"
      ]
     },
     "metadata": {},
     "output_type": "display_data"
    },
    {
     "data": {
      "application/vnd.jupyter.widget-view+json": {
       "model_id": "4b33ce668f8648e19666a533f1da5e40",
       "version_major": 2,
       "version_minor": 0
      },
      "text/plain": [
       "Epoch 649/1000:   0%|          | 0/2 [00:00<?, ?it/s]"
      ]
     },
     "metadata": {},
     "output_type": "display_data"
    },
    {
     "data": {
      "application/vnd.jupyter.widget-view+json": {
       "model_id": "c75043bdd10a48b49f50fa0fb5dee45c",
       "version_major": 2,
       "version_minor": 0
      },
      "text/plain": [
       "Epoch 650/1000:   0%|          | 0/2 [00:00<?, ?it/s]"
      ]
     },
     "metadata": {},
     "output_type": "display_data"
    },
    {
     "name": "stdout",
     "output_type": "stream",
     "text": [
      "Epoch 650/1000\n",
      "  Avg Train Loss: 0.237638\n",
      "    Physics Loss: 0.000302\n",
      "    Data Loss   : 0.571894\n",
      "  Avg Val Loss  : 0.577953\n"
     ]
    },
    {
     "data": {
      "application/vnd.jupyter.widget-view+json": {
       "model_id": "d2c6ff86b57343b69428b0d91829b4e1",
       "version_major": 2,
       "version_minor": 0
      },
      "text/plain": [
       "Epoch 651/1000:   0%|          | 0/2 [00:00<?, ?it/s]"
      ]
     },
     "metadata": {},
     "output_type": "display_data"
    },
    {
     "data": {
      "application/vnd.jupyter.widget-view+json": {
       "model_id": "5ab49d1bd061426ab97c7a427b8b611a",
       "version_major": 2,
       "version_minor": 0
      },
      "text/plain": [
       "Epoch 652/1000:   0%|          | 0/2 [00:00<?, ?it/s]"
      ]
     },
     "metadata": {},
     "output_type": "display_data"
    },
    {
     "data": {
      "application/vnd.jupyter.widget-view+json": {
       "model_id": "3c0553d8a9e44727950ab225293594ee",
       "version_major": 2,
       "version_minor": 0
      },
      "text/plain": [
       "Epoch 653/1000:   0%|          | 0/2 [00:00<?, ?it/s]"
      ]
     },
     "metadata": {},
     "output_type": "display_data"
    },
    {
     "data": {
      "application/vnd.jupyter.widget-view+json": {
       "model_id": "2cd7f632802b4711b80e6a5ec3ba46b2",
       "version_major": 2,
       "version_minor": 0
      },
      "text/plain": [
       "Epoch 654/1000:   0%|          | 0/2 [00:00<?, ?it/s]"
      ]
     },
     "metadata": {},
     "output_type": "display_data"
    },
    {
     "data": {
      "application/vnd.jupyter.widget-view+json": {
       "model_id": "8f2c00471ee4467ea2bd532fae7a4300",
       "version_major": 2,
       "version_minor": 0
      },
      "text/plain": [
       "Epoch 655/1000:   0%|          | 0/2 [00:00<?, ?it/s]"
      ]
     },
     "metadata": {},
     "output_type": "display_data"
    },
    {
     "data": {
      "application/vnd.jupyter.widget-view+json": {
       "model_id": "3a0117dd1bb24b2da79ab6d431495a80",
       "version_major": 2,
       "version_minor": 0
      },
      "text/plain": [
       "Epoch 656/1000:   0%|          | 0/2 [00:00<?, ?it/s]"
      ]
     },
     "metadata": {},
     "output_type": "display_data"
    },
    {
     "data": {
      "application/vnd.jupyter.widget-view+json": {
       "model_id": "cc424fbc0c444cb3a2896359d1174bd3",
       "version_major": 2,
       "version_minor": 0
      },
      "text/plain": [
       "Epoch 657/1000:   0%|          | 0/2 [00:00<?, ?it/s]"
      ]
     },
     "metadata": {},
     "output_type": "display_data"
    },
    {
     "data": {
      "application/vnd.jupyter.widget-view+json": {
       "model_id": "6cdddfe3a052472bafc3200ca9915be8",
       "version_major": 2,
       "version_minor": 0
      },
      "text/plain": [
       "Epoch 658/1000:   0%|          | 0/2 [00:00<?, ?it/s]"
      ]
     },
     "metadata": {},
     "output_type": "display_data"
    },
    {
     "data": {
      "application/vnd.jupyter.widget-view+json": {
       "model_id": "4cbe78e954ef458da9f6bf126f21c16c",
       "version_major": 2,
       "version_minor": 0
      },
      "text/plain": [
       "Epoch 659/1000:   0%|          | 0/2 [00:00<?, ?it/s]"
      ]
     },
     "metadata": {},
     "output_type": "display_data"
    },
    {
     "data": {
      "application/vnd.jupyter.widget-view+json": {
       "model_id": "c64d1244e77f400ea45862dd363ee362",
       "version_major": 2,
       "version_minor": 0
      },
      "text/plain": [
       "Epoch 660/1000:   0%|          | 0/2 [00:00<?, ?it/s]"
      ]
     },
     "metadata": {},
     "output_type": "display_data"
    },
    {
     "data": {
      "application/vnd.jupyter.widget-view+json": {
       "model_id": "d3f04938ad0143de899d4ebec2650f05",
       "version_major": 2,
       "version_minor": 0
      },
      "text/plain": [
       "Epoch 661/1000:   0%|          | 0/2 [00:00<?, ?it/s]"
      ]
     },
     "metadata": {},
     "output_type": "display_data"
    },
    {
     "data": {
      "application/vnd.jupyter.widget-view+json": {
       "model_id": "1fba3751ea0b4a1186f6575f850e4505",
       "version_major": 2,
       "version_minor": 0
      },
      "text/plain": [
       "Epoch 662/1000:   0%|          | 0/2 [00:00<?, ?it/s]"
      ]
     },
     "metadata": {},
     "output_type": "display_data"
    },
    {
     "data": {
      "application/vnd.jupyter.widget-view+json": {
       "model_id": "10eb9faf055a4c60a37001f7c474314e",
       "version_major": 2,
       "version_minor": 0
      },
      "text/plain": [
       "Epoch 663/1000:   0%|          | 0/2 [00:00<?, ?it/s]"
      ]
     },
     "metadata": {},
     "output_type": "display_data"
    },
    {
     "data": {
      "application/vnd.jupyter.widget-view+json": {
       "model_id": "481fa9b258bc4957b1ba4bc9e8bc599a",
       "version_major": 2,
       "version_minor": 0
      },
      "text/plain": [
       "Epoch 664/1000:   0%|          | 0/2 [00:00<?, ?it/s]"
      ]
     },
     "metadata": {},
     "output_type": "display_data"
    },
    {
     "data": {
      "application/vnd.jupyter.widget-view+json": {
       "model_id": "c2f4e9d20c5e4425a97d821ff833667c",
       "version_major": 2,
       "version_minor": 0
      },
      "text/plain": [
       "Epoch 665/1000:   0%|          | 0/2 [00:00<?, ?it/s]"
      ]
     },
     "metadata": {},
     "output_type": "display_data"
    },
    {
     "data": {
      "application/vnd.jupyter.widget-view+json": {
       "model_id": "340a42080fb9470098f13ea51dcd2d77",
       "version_major": 2,
       "version_minor": 0
      },
      "text/plain": [
       "Epoch 666/1000:   0%|          | 0/2 [00:00<?, ?it/s]"
      ]
     },
     "metadata": {},
     "output_type": "display_data"
    },
    {
     "data": {
      "application/vnd.jupyter.widget-view+json": {
       "model_id": "47930675514446509f4c338a59c225ac",
       "version_major": 2,
       "version_minor": 0
      },
      "text/plain": [
       "Epoch 667/1000:   0%|          | 0/2 [00:00<?, ?it/s]"
      ]
     },
     "metadata": {},
     "output_type": "display_data"
    },
    {
     "data": {
      "application/vnd.jupyter.widget-view+json": {
       "model_id": "40d155628dc7418d930ef85b1592c7f5",
       "version_major": 2,
       "version_minor": 0
      },
      "text/plain": [
       "Epoch 668/1000:   0%|          | 0/2 [00:00<?, ?it/s]"
      ]
     },
     "metadata": {},
     "output_type": "display_data"
    },
    {
     "data": {
      "application/vnd.jupyter.widget-view+json": {
       "model_id": "0eb8f50b3d244f0ea32dcfe3e88581b4",
       "version_major": 2,
       "version_minor": 0
      },
      "text/plain": [
       "Epoch 669/1000:   0%|          | 0/2 [00:00<?, ?it/s]"
      ]
     },
     "metadata": {},
     "output_type": "display_data"
    },
    {
     "data": {
      "application/vnd.jupyter.widget-view+json": {
       "model_id": "bb0155997f91494aa6554045a920751f",
       "version_major": 2,
       "version_minor": 0
      },
      "text/plain": [
       "Epoch 670/1000:   0%|          | 0/2 [00:00<?, ?it/s]"
      ]
     },
     "metadata": {},
     "output_type": "display_data"
    },
    {
     "data": {
      "application/vnd.jupyter.widget-view+json": {
       "model_id": "1730d40168024589beeb92af8b9f67db",
       "version_major": 2,
       "version_minor": 0
      },
      "text/plain": [
       "Epoch 671/1000:   0%|          | 0/2 [00:00<?, ?it/s]"
      ]
     },
     "metadata": {},
     "output_type": "display_data"
    },
    {
     "data": {
      "application/vnd.jupyter.widget-view+json": {
       "model_id": "c87e27eb251f4dfea8d29c05c03a519f",
       "version_major": 2,
       "version_minor": 0
      },
      "text/plain": [
       "Epoch 672/1000:   0%|          | 0/2 [00:00<?, ?it/s]"
      ]
     },
     "metadata": {},
     "output_type": "display_data"
    },
    {
     "data": {
      "application/vnd.jupyter.widget-view+json": {
       "model_id": "675794d6ae9c47c7ac359a24fedfebba",
       "version_major": 2,
       "version_minor": 0
      },
      "text/plain": [
       "Epoch 673/1000:   0%|          | 0/2 [00:00<?, ?it/s]"
      ]
     },
     "metadata": {},
     "output_type": "display_data"
    },
    {
     "data": {
      "application/vnd.jupyter.widget-view+json": {
       "model_id": "e54bb4e8d4f9443b875ec18feb8584ec",
       "version_major": 2,
       "version_minor": 0
      },
      "text/plain": [
       "Epoch 674/1000:   0%|          | 0/2 [00:00<?, ?it/s]"
      ]
     },
     "metadata": {},
     "output_type": "display_data"
    },
    {
     "data": {
      "application/vnd.jupyter.widget-view+json": {
       "model_id": "44ac44bd39ff41cf992c4fb8ac0e6d9a",
       "version_major": 2,
       "version_minor": 0
      },
      "text/plain": [
       "Epoch 675/1000:   0%|          | 0/2 [00:00<?, ?it/s]"
      ]
     },
     "metadata": {},
     "output_type": "display_data"
    },
    {
     "data": {
      "application/vnd.jupyter.widget-view+json": {
       "model_id": "09a769d50ff346f68812b427cec0773e",
       "version_major": 2,
       "version_minor": 0
      },
      "text/plain": [
       "Epoch 676/1000:   0%|          | 0/2 [00:00<?, ?it/s]"
      ]
     },
     "metadata": {},
     "output_type": "display_data"
    },
    {
     "data": {
      "application/vnd.jupyter.widget-view+json": {
       "model_id": "3ad1b35534054a56b865498c2a16b81b",
       "version_major": 2,
       "version_minor": 0
      },
      "text/plain": [
       "Epoch 677/1000:   0%|          | 0/2 [00:00<?, ?it/s]"
      ]
     },
     "metadata": {},
     "output_type": "display_data"
    },
    {
     "data": {
      "application/vnd.jupyter.widget-view+json": {
       "model_id": "9b21b462e97d4ee488d4b0e496ec4484",
       "version_major": 2,
       "version_minor": 0
      },
      "text/plain": [
       "Epoch 678/1000:   0%|          | 0/2 [00:00<?, ?it/s]"
      ]
     },
     "metadata": {},
     "output_type": "display_data"
    },
    {
     "data": {
      "application/vnd.jupyter.widget-view+json": {
       "model_id": "1fb253b04908409b84ab1b9e7885c73f",
       "version_major": 2,
       "version_minor": 0
      },
      "text/plain": [
       "Epoch 679/1000:   0%|          | 0/2 [00:00<?, ?it/s]"
      ]
     },
     "metadata": {},
     "output_type": "display_data"
    },
    {
     "data": {
      "application/vnd.jupyter.widget-view+json": {
       "model_id": "46e36e24b6cb4c9b8928a96bd03ce83a",
       "version_major": 2,
       "version_minor": 0
      },
      "text/plain": [
       "Epoch 680/1000:   0%|          | 0/2 [00:00<?, ?it/s]"
      ]
     },
     "metadata": {},
     "output_type": "display_data"
    },
    {
     "data": {
      "application/vnd.jupyter.widget-view+json": {
       "model_id": "4924c32f474b4a6cba665f5a3d38613e",
       "version_major": 2,
       "version_minor": 0
      },
      "text/plain": [
       "Epoch 681/1000:   0%|          | 0/2 [00:00<?, ?it/s]"
      ]
     },
     "metadata": {},
     "output_type": "display_data"
    },
    {
     "data": {
      "application/vnd.jupyter.widget-view+json": {
       "model_id": "e04a9435ce854544b8259ed4de5a7e22",
       "version_major": 2,
       "version_minor": 0
      },
      "text/plain": [
       "Epoch 682/1000:   0%|          | 0/2 [00:00<?, ?it/s]"
      ]
     },
     "metadata": {},
     "output_type": "display_data"
    },
    {
     "data": {
      "application/vnd.jupyter.widget-view+json": {
       "model_id": "b819b1876d754033829986aefdf3c282",
       "version_major": 2,
       "version_minor": 0
      },
      "text/plain": [
       "Epoch 683/1000:   0%|          | 0/2 [00:00<?, ?it/s]"
      ]
     },
     "metadata": {},
     "output_type": "display_data"
    },
    {
     "data": {
      "application/vnd.jupyter.widget-view+json": {
       "model_id": "ae6e047980bf49efb01a6700b287492b",
       "version_major": 2,
       "version_minor": 0
      },
      "text/plain": [
       "Epoch 684/1000:   0%|          | 0/2 [00:00<?, ?it/s]"
      ]
     },
     "metadata": {},
     "output_type": "display_data"
    },
    {
     "data": {
      "application/vnd.jupyter.widget-view+json": {
       "model_id": "35181d6ec1854db8908d84d6ecc58c48",
       "version_major": 2,
       "version_minor": 0
      },
      "text/plain": [
       "Epoch 685/1000:   0%|          | 0/2 [00:00<?, ?it/s]"
      ]
     },
     "metadata": {},
     "output_type": "display_data"
    },
    {
     "data": {
      "application/vnd.jupyter.widget-view+json": {
       "model_id": "63444e68cfb34cdba254607463d9ac33",
       "version_major": 2,
       "version_minor": 0
      },
      "text/plain": [
       "Epoch 686/1000:   0%|          | 0/2 [00:00<?, ?it/s]"
      ]
     },
     "metadata": {},
     "output_type": "display_data"
    },
    {
     "data": {
      "application/vnd.jupyter.widget-view+json": {
       "model_id": "10f4bb8a1f1b49b9a2b47caa7181021c",
       "version_major": 2,
       "version_minor": 0
      },
      "text/plain": [
       "Epoch 687/1000:   0%|          | 0/2 [00:00<?, ?it/s]"
      ]
     },
     "metadata": {},
     "output_type": "display_data"
    },
    {
     "data": {
      "application/vnd.jupyter.widget-view+json": {
       "model_id": "a366757e1f694c1e81f9f205c6d7554a",
       "version_major": 2,
       "version_minor": 0
      },
      "text/plain": [
       "Epoch 688/1000:   0%|          | 0/2 [00:00<?, ?it/s]"
      ]
     },
     "metadata": {},
     "output_type": "display_data"
    },
    {
     "data": {
      "application/vnd.jupyter.widget-view+json": {
       "model_id": "93b31513d9ba454e9863867bde0204d2",
       "version_major": 2,
       "version_minor": 0
      },
      "text/plain": [
       "Epoch 689/1000:   0%|          | 0/2 [00:00<?, ?it/s]"
      ]
     },
     "metadata": {},
     "output_type": "display_data"
    },
    {
     "data": {
      "application/vnd.jupyter.widget-view+json": {
       "model_id": "53d1a336e3c24c0a8e38d8cd0fccb74f",
       "version_major": 2,
       "version_minor": 0
      },
      "text/plain": [
       "Epoch 690/1000:   0%|          | 0/2 [00:00<?, ?it/s]"
      ]
     },
     "metadata": {},
     "output_type": "display_data"
    },
    {
     "data": {
      "application/vnd.jupyter.widget-view+json": {
       "model_id": "77ea711e9bd24563bcade468c813c5ca",
       "version_major": 2,
       "version_minor": 0
      },
      "text/plain": [
       "Epoch 691/1000:   0%|          | 0/2 [00:00<?, ?it/s]"
      ]
     },
     "metadata": {},
     "output_type": "display_data"
    },
    {
     "data": {
      "application/vnd.jupyter.widget-view+json": {
       "model_id": "14a0a830a4514cc4a1f3ef8ff92f9122",
       "version_major": 2,
       "version_minor": 0
      },
      "text/plain": [
       "Epoch 692/1000:   0%|          | 0/2 [00:00<?, ?it/s]"
      ]
     },
     "metadata": {},
     "output_type": "display_data"
    },
    {
     "data": {
      "application/vnd.jupyter.widget-view+json": {
       "model_id": "1b19607c60af4666909f5a75edb8a2eb",
       "version_major": 2,
       "version_minor": 0
      },
      "text/plain": [
       "Epoch 693/1000:   0%|          | 0/2 [00:00<?, ?it/s]"
      ]
     },
     "metadata": {},
     "output_type": "display_data"
    },
    {
     "data": {
      "application/vnd.jupyter.widget-view+json": {
       "model_id": "a3a5af13fa554124ba06557ddcec0c82",
       "version_major": 2,
       "version_minor": 0
      },
      "text/plain": [
       "Epoch 694/1000:   0%|          | 0/2 [00:00<?, ?it/s]"
      ]
     },
     "metadata": {},
     "output_type": "display_data"
    },
    {
     "data": {
      "application/vnd.jupyter.widget-view+json": {
       "model_id": "cdfa0485e3ad493090ff7b586d010336",
       "version_major": 2,
       "version_minor": 0
      },
      "text/plain": [
       "Epoch 695/1000:   0%|          | 0/2 [00:00<?, ?it/s]"
      ]
     },
     "metadata": {},
     "output_type": "display_data"
    },
    {
     "data": {
      "application/vnd.jupyter.widget-view+json": {
       "model_id": "3ab3ceda0dcf42f6b16fa0ee8ee772c9",
       "version_major": 2,
       "version_minor": 0
      },
      "text/plain": [
       "Epoch 696/1000:   0%|          | 0/2 [00:00<?, ?it/s]"
      ]
     },
     "metadata": {},
     "output_type": "display_data"
    },
    {
     "data": {
      "application/vnd.jupyter.widget-view+json": {
       "model_id": "563e955d43504835b50652a003dac4db",
       "version_major": 2,
       "version_minor": 0
      },
      "text/plain": [
       "Epoch 697/1000:   0%|          | 0/2 [00:00<?, ?it/s]"
      ]
     },
     "metadata": {},
     "output_type": "display_data"
    },
    {
     "data": {
      "application/vnd.jupyter.widget-view+json": {
       "model_id": "cd98c65c62ab45bea638c9bca1793b13",
       "version_major": 2,
       "version_minor": 0
      },
      "text/plain": [
       "Epoch 698/1000:   0%|          | 0/2 [00:00<?, ?it/s]"
      ]
     },
     "metadata": {},
     "output_type": "display_data"
    },
    {
     "data": {
      "application/vnd.jupyter.widget-view+json": {
       "model_id": "4b03de08e4794b1b8095399d5e736ff2",
       "version_major": 2,
       "version_minor": 0
      },
      "text/plain": [
       "Epoch 699/1000:   0%|          | 0/2 [00:00<?, ?it/s]"
      ]
     },
     "metadata": {},
     "output_type": "display_data"
    },
    {
     "data": {
      "application/vnd.jupyter.widget-view+json": {
       "model_id": "5b3435ccbc5e4a1bb423cb2e63e6c4dd",
       "version_major": 2,
       "version_minor": 0
      },
      "text/plain": [
       "Epoch 700/1000:   0%|          | 0/2 [00:00<?, ?it/s]"
      ]
     },
     "metadata": {},
     "output_type": "display_data"
    },
    {
     "name": "stdout",
     "output_type": "stream",
     "text": [
      "Epoch 700/1000\n",
      "  Avg Train Loss: 0.217906\n",
      "    Physics Loss: 0.000292\n",
      "    Data Loss   : 0.588144\n",
      "  Avg Val Loss  : 0.577267\n"
     ]
    },
    {
     "data": {
      "application/vnd.jupyter.widget-view+json": {
       "model_id": "3708e39fcdc64e938cacd652c1ee1c30",
       "version_major": 2,
       "version_minor": 0
      },
      "text/plain": [
       "Epoch 701/1000:   0%|          | 0/2 [00:00<?, ?it/s]"
      ]
     },
     "metadata": {},
     "output_type": "display_data"
    },
    {
     "data": {
      "application/vnd.jupyter.widget-view+json": {
       "model_id": "fefe1e351ab14e0598e825b969b0bfd6",
       "version_major": 2,
       "version_minor": 0
      },
      "text/plain": [
       "Epoch 702/1000:   0%|          | 0/2 [00:00<?, ?it/s]"
      ]
     },
     "metadata": {},
     "output_type": "display_data"
    },
    {
     "data": {
      "application/vnd.jupyter.widget-view+json": {
       "model_id": "cea07ded15f448c2a627a2ae1d63370b",
       "version_major": 2,
       "version_minor": 0
      },
      "text/plain": [
       "Epoch 703/1000:   0%|          | 0/2 [00:00<?, ?it/s]"
      ]
     },
     "metadata": {},
     "output_type": "display_data"
    },
    {
     "data": {
      "application/vnd.jupyter.widget-view+json": {
       "model_id": "7f910870c3b44cedb6feff11b46d34dc",
       "version_major": 2,
       "version_minor": 0
      },
      "text/plain": [
       "Epoch 704/1000:   0%|          | 0/2 [00:00<?, ?it/s]"
      ]
     },
     "metadata": {},
     "output_type": "display_data"
    },
    {
     "data": {
      "application/vnd.jupyter.widget-view+json": {
       "model_id": "c223377b104f4022a1ae0a89951d2936",
       "version_major": 2,
       "version_minor": 0
      },
      "text/plain": [
       "Epoch 705/1000:   0%|          | 0/2 [00:00<?, ?it/s]"
      ]
     },
     "metadata": {},
     "output_type": "display_data"
    },
    {
     "data": {
      "application/vnd.jupyter.widget-view+json": {
       "model_id": "25119a2e81fe4e0a82be508f30d29458",
       "version_major": 2,
       "version_minor": 0
      },
      "text/plain": [
       "Epoch 706/1000:   0%|          | 0/2 [00:00<?, ?it/s]"
      ]
     },
     "metadata": {},
     "output_type": "display_data"
    },
    {
     "data": {
      "application/vnd.jupyter.widget-view+json": {
       "model_id": "ded65e45149f408485011de8501bc61a",
       "version_major": 2,
       "version_minor": 0
      },
      "text/plain": [
       "Epoch 707/1000:   0%|          | 0/2 [00:00<?, ?it/s]"
      ]
     },
     "metadata": {},
     "output_type": "display_data"
    },
    {
     "data": {
      "application/vnd.jupyter.widget-view+json": {
       "model_id": "9467bb8e7ab0464cadf551c4d2d14b10",
       "version_major": 2,
       "version_minor": 0
      },
      "text/plain": [
       "Epoch 708/1000:   0%|          | 0/2 [00:00<?, ?it/s]"
      ]
     },
     "metadata": {},
     "output_type": "display_data"
    },
    {
     "data": {
      "application/vnd.jupyter.widget-view+json": {
       "model_id": "37e4b81a0a1b4c6889a8f9f1869adf62",
       "version_major": 2,
       "version_minor": 0
      },
      "text/plain": [
       "Epoch 709/1000:   0%|          | 0/2 [00:00<?, ?it/s]"
      ]
     },
     "metadata": {},
     "output_type": "display_data"
    },
    {
     "data": {
      "application/vnd.jupyter.widget-view+json": {
       "model_id": "3efe80c4f45045e8923c483496982430",
       "version_major": 2,
       "version_minor": 0
      },
      "text/plain": [
       "Epoch 710/1000:   0%|          | 0/2 [00:00<?, ?it/s]"
      ]
     },
     "metadata": {},
     "output_type": "display_data"
    },
    {
     "data": {
      "application/vnd.jupyter.widget-view+json": {
       "model_id": "8592b4fd0d174c92bc07d4d974724cd2",
       "version_major": 2,
       "version_minor": 0
      },
      "text/plain": [
       "Epoch 711/1000:   0%|          | 0/2 [00:00<?, ?it/s]"
      ]
     },
     "metadata": {},
     "output_type": "display_data"
    },
    {
     "data": {
      "application/vnd.jupyter.widget-view+json": {
       "model_id": "4ddb45a29b8548fd872e2ae95ab23852",
       "version_major": 2,
       "version_minor": 0
      },
      "text/plain": [
       "Epoch 712/1000:   0%|          | 0/2 [00:00<?, ?it/s]"
      ]
     },
     "metadata": {},
     "output_type": "display_data"
    },
    {
     "data": {
      "application/vnd.jupyter.widget-view+json": {
       "model_id": "43d0f605fa5e43009a71352644f0ebb4",
       "version_major": 2,
       "version_minor": 0
      },
      "text/plain": [
       "Epoch 713/1000:   0%|          | 0/2 [00:00<?, ?it/s]"
      ]
     },
     "metadata": {},
     "output_type": "display_data"
    },
    {
     "data": {
      "application/vnd.jupyter.widget-view+json": {
       "model_id": "41d75f894330414ea2fb3575d3d2ccd9",
       "version_major": 2,
       "version_minor": 0
      },
      "text/plain": [
       "Epoch 714/1000:   0%|          | 0/2 [00:00<?, ?it/s]"
      ]
     },
     "metadata": {},
     "output_type": "display_data"
    },
    {
     "data": {
      "application/vnd.jupyter.widget-view+json": {
       "model_id": "7f3dcfd469c84800b27a51f62a176c3d",
       "version_major": 2,
       "version_minor": 0
      },
      "text/plain": [
       "Epoch 715/1000:   0%|          | 0/2 [00:00<?, ?it/s]"
      ]
     },
     "metadata": {},
     "output_type": "display_data"
    },
    {
     "data": {
      "application/vnd.jupyter.widget-view+json": {
       "model_id": "b5e87d31d93a49b1aaf3b867b5170e9f",
       "version_major": 2,
       "version_minor": 0
      },
      "text/plain": [
       "Epoch 716/1000:   0%|          | 0/2 [00:00<?, ?it/s]"
      ]
     },
     "metadata": {},
     "output_type": "display_data"
    },
    {
     "data": {
      "application/vnd.jupyter.widget-view+json": {
       "model_id": "0c1f1e2de81f4e66ae4448eb03ac7870",
       "version_major": 2,
       "version_minor": 0
      },
      "text/plain": [
       "Epoch 717/1000:   0%|          | 0/2 [00:00<?, ?it/s]"
      ]
     },
     "metadata": {},
     "output_type": "display_data"
    },
    {
     "data": {
      "application/vnd.jupyter.widget-view+json": {
       "model_id": "aed2f4a953754be38408b091f02f16d6",
       "version_major": 2,
       "version_minor": 0
      },
      "text/plain": [
       "Epoch 718/1000:   0%|          | 0/2 [00:00<?, ?it/s]"
      ]
     },
     "metadata": {},
     "output_type": "display_data"
    },
    {
     "data": {
      "application/vnd.jupyter.widget-view+json": {
       "model_id": "f02e1efce3084684a0bba99a3b526122",
       "version_major": 2,
       "version_minor": 0
      },
      "text/plain": [
       "Epoch 719/1000:   0%|          | 0/2 [00:00<?, ?it/s]"
      ]
     },
     "metadata": {},
     "output_type": "display_data"
    },
    {
     "data": {
      "application/vnd.jupyter.widget-view+json": {
       "model_id": "f4edcdb5a1a74d02bf17d9a129049eb3",
       "version_major": 2,
       "version_minor": 0
      },
      "text/plain": [
       "Epoch 720/1000:   0%|          | 0/2 [00:00<?, ?it/s]"
      ]
     },
     "metadata": {},
     "output_type": "display_data"
    },
    {
     "data": {
      "application/vnd.jupyter.widget-view+json": {
       "model_id": "bcab3741171947d49a320983dd984b83",
       "version_major": 2,
       "version_minor": 0
      },
      "text/plain": [
       "Epoch 721/1000:   0%|          | 0/2 [00:00<?, ?it/s]"
      ]
     },
     "metadata": {},
     "output_type": "display_data"
    },
    {
     "data": {
      "application/vnd.jupyter.widget-view+json": {
       "model_id": "154527d82dab4a72aba6b3e14098ff5d",
       "version_major": 2,
       "version_minor": 0
      },
      "text/plain": [
       "Epoch 722/1000:   0%|          | 0/2 [00:00<?, ?it/s]"
      ]
     },
     "metadata": {},
     "output_type": "display_data"
    },
    {
     "data": {
      "application/vnd.jupyter.widget-view+json": {
       "model_id": "564e78dd56994d62bd038035cb074921",
       "version_major": 2,
       "version_minor": 0
      },
      "text/plain": [
       "Epoch 723/1000:   0%|          | 0/2 [00:00<?, ?it/s]"
      ]
     },
     "metadata": {},
     "output_type": "display_data"
    },
    {
     "data": {
      "application/vnd.jupyter.widget-view+json": {
       "model_id": "42b40876ac614938815908c9cdc05022",
       "version_major": 2,
       "version_minor": 0
      },
      "text/plain": [
       "Epoch 724/1000:   0%|          | 0/2 [00:00<?, ?it/s]"
      ]
     },
     "metadata": {},
     "output_type": "display_data"
    },
    {
     "data": {
      "application/vnd.jupyter.widget-view+json": {
       "model_id": "e3a01db724b54566b85984f44aab6f67",
       "version_major": 2,
       "version_minor": 0
      },
      "text/plain": [
       "Epoch 725/1000:   0%|          | 0/2 [00:00<?, ?it/s]"
      ]
     },
     "metadata": {},
     "output_type": "display_data"
    },
    {
     "data": {
      "application/vnd.jupyter.widget-view+json": {
       "model_id": "7ffbc357adfb4cf28271fb3eee8e1b06",
       "version_major": 2,
       "version_minor": 0
      },
      "text/plain": [
       "Epoch 726/1000:   0%|          | 0/2 [00:00<?, ?it/s]"
      ]
     },
     "metadata": {},
     "output_type": "display_data"
    },
    {
     "data": {
      "application/vnd.jupyter.widget-view+json": {
       "model_id": "c9f2b09e2cb7416fb5dea456e95551ab",
       "version_major": 2,
       "version_minor": 0
      },
      "text/plain": [
       "Epoch 727/1000:   0%|          | 0/2 [00:00<?, ?it/s]"
      ]
     },
     "metadata": {},
     "output_type": "display_data"
    },
    {
     "data": {
      "application/vnd.jupyter.widget-view+json": {
       "model_id": "8f82431cbb4a42288a5a7d9f4e1ea1c3",
       "version_major": 2,
       "version_minor": 0
      },
      "text/plain": [
       "Epoch 728/1000:   0%|          | 0/2 [00:00<?, ?it/s]"
      ]
     },
     "metadata": {},
     "output_type": "display_data"
    },
    {
     "data": {
      "application/vnd.jupyter.widget-view+json": {
       "model_id": "3237b4e4be50481c82e50927812695c8",
       "version_major": 2,
       "version_minor": 0
      },
      "text/plain": [
       "Epoch 729/1000:   0%|          | 0/2 [00:00<?, ?it/s]"
      ]
     },
     "metadata": {},
     "output_type": "display_data"
    },
    {
     "data": {
      "application/vnd.jupyter.widget-view+json": {
       "model_id": "eea469209464445da40490e82183f5b8",
       "version_major": 2,
       "version_minor": 0
      },
      "text/plain": [
       "Epoch 730/1000:   0%|          | 0/2 [00:00<?, ?it/s]"
      ]
     },
     "metadata": {},
     "output_type": "display_data"
    },
    {
     "data": {
      "application/vnd.jupyter.widget-view+json": {
       "model_id": "685f834a5f9842b5ba1bf45385611db0",
       "version_major": 2,
       "version_minor": 0
      },
      "text/plain": [
       "Epoch 731/1000:   0%|          | 0/2 [00:00<?, ?it/s]"
      ]
     },
     "metadata": {},
     "output_type": "display_data"
    },
    {
     "data": {
      "application/vnd.jupyter.widget-view+json": {
       "model_id": "1bf19f5d3dbf4f87bd343578296c3809",
       "version_major": 2,
       "version_minor": 0
      },
      "text/plain": [
       "Epoch 732/1000:   0%|          | 0/2 [00:00<?, ?it/s]"
      ]
     },
     "metadata": {},
     "output_type": "display_data"
    },
    {
     "data": {
      "application/vnd.jupyter.widget-view+json": {
       "model_id": "608bae6bc9de47668063557edd5799c2",
       "version_major": 2,
       "version_minor": 0
      },
      "text/plain": [
       "Epoch 733/1000:   0%|          | 0/2 [00:00<?, ?it/s]"
      ]
     },
     "metadata": {},
     "output_type": "display_data"
    },
    {
     "data": {
      "application/vnd.jupyter.widget-view+json": {
       "model_id": "1cd8551d2e7d4f84aaaebe1f8b1a2d07",
       "version_major": 2,
       "version_minor": 0
      },
      "text/plain": [
       "Epoch 734/1000:   0%|          | 0/2 [00:00<?, ?it/s]"
      ]
     },
     "metadata": {},
     "output_type": "display_data"
    },
    {
     "data": {
      "application/vnd.jupyter.widget-view+json": {
       "model_id": "b5c8dd2fe08446708e8f8317a5af6a73",
       "version_major": 2,
       "version_minor": 0
      },
      "text/plain": [
       "Epoch 735/1000:   0%|          | 0/2 [00:00<?, ?it/s]"
      ]
     },
     "metadata": {},
     "output_type": "display_data"
    },
    {
     "data": {
      "application/vnd.jupyter.widget-view+json": {
       "model_id": "9c2fee1c88bf402fafa8a64ce5ac99e5",
       "version_major": 2,
       "version_minor": 0
      },
      "text/plain": [
       "Epoch 736/1000:   0%|          | 0/2 [00:00<?, ?it/s]"
      ]
     },
     "metadata": {},
     "output_type": "display_data"
    },
    {
     "data": {
      "application/vnd.jupyter.widget-view+json": {
       "model_id": "e690099afb6a47b28ce308ed3b95f4b9",
       "version_major": 2,
       "version_minor": 0
      },
      "text/plain": [
       "Epoch 737/1000:   0%|          | 0/2 [00:00<?, ?it/s]"
      ]
     },
     "metadata": {},
     "output_type": "display_data"
    },
    {
     "data": {
      "application/vnd.jupyter.widget-view+json": {
       "model_id": "4d79ef973dcc44269cafb7b4d8ab1e0b",
       "version_major": 2,
       "version_minor": 0
      },
      "text/plain": [
       "Epoch 738/1000:   0%|          | 0/2 [00:00<?, ?it/s]"
      ]
     },
     "metadata": {},
     "output_type": "display_data"
    },
    {
     "data": {
      "application/vnd.jupyter.widget-view+json": {
       "model_id": "903461dfd2a94cc5b29388d1b3767490",
       "version_major": 2,
       "version_minor": 0
      },
      "text/plain": [
       "Epoch 739/1000:   0%|          | 0/2 [00:00<?, ?it/s]"
      ]
     },
     "metadata": {},
     "output_type": "display_data"
    },
    {
     "data": {
      "application/vnd.jupyter.widget-view+json": {
       "model_id": "0f1c136c53654fe79b9b52628ee07c7a",
       "version_major": 2,
       "version_minor": 0
      },
      "text/plain": [
       "Epoch 740/1000:   0%|          | 0/2 [00:00<?, ?it/s]"
      ]
     },
     "metadata": {},
     "output_type": "display_data"
    },
    {
     "data": {
      "application/vnd.jupyter.widget-view+json": {
       "model_id": "f1957ecb2dfc4a8aa4f41f1b98893fc1",
       "version_major": 2,
       "version_minor": 0
      },
      "text/plain": [
       "Epoch 741/1000:   0%|          | 0/2 [00:00<?, ?it/s]"
      ]
     },
     "metadata": {},
     "output_type": "display_data"
    },
    {
     "data": {
      "application/vnd.jupyter.widget-view+json": {
       "model_id": "91b40daaa1b84a5685439c8cf4b44f6a",
       "version_major": 2,
       "version_minor": 0
      },
      "text/plain": [
       "Epoch 742/1000:   0%|          | 0/2 [00:00<?, ?it/s]"
      ]
     },
     "metadata": {},
     "output_type": "display_data"
    },
    {
     "data": {
      "application/vnd.jupyter.widget-view+json": {
       "model_id": "ee8547aaafea4d688145d3f5cba8c63f",
       "version_major": 2,
       "version_minor": 0
      },
      "text/plain": [
       "Epoch 743/1000:   0%|          | 0/2 [00:00<?, ?it/s]"
      ]
     },
     "metadata": {},
     "output_type": "display_data"
    },
    {
     "data": {
      "application/vnd.jupyter.widget-view+json": {
       "model_id": "fe8c71aeba9c4bd69c1ac62645b0a94f",
       "version_major": 2,
       "version_minor": 0
      },
      "text/plain": [
       "Epoch 744/1000:   0%|          | 0/2 [00:00<?, ?it/s]"
      ]
     },
     "metadata": {},
     "output_type": "display_data"
    },
    {
     "data": {
      "application/vnd.jupyter.widget-view+json": {
       "model_id": "1df0c6316f764aaaa1cf6fe323fc4918",
       "version_major": 2,
       "version_minor": 0
      },
      "text/plain": [
       "Epoch 745/1000:   0%|          | 0/2 [00:00<?, ?it/s]"
      ]
     },
     "metadata": {},
     "output_type": "display_data"
    },
    {
     "data": {
      "application/vnd.jupyter.widget-view+json": {
       "model_id": "4465742742a746a9a739d646c2afaed3",
       "version_major": 2,
       "version_minor": 0
      },
      "text/plain": [
       "Epoch 746/1000:   0%|          | 0/2 [00:00<?, ?it/s]"
      ]
     },
     "metadata": {},
     "output_type": "display_data"
    },
    {
     "data": {
      "application/vnd.jupyter.widget-view+json": {
       "model_id": "8d4bb4838be64140807e4ea017db9820",
       "version_major": 2,
       "version_minor": 0
      },
      "text/plain": [
       "Epoch 747/1000:   0%|          | 0/2 [00:00<?, ?it/s]"
      ]
     },
     "metadata": {},
     "output_type": "display_data"
    },
    {
     "data": {
      "application/vnd.jupyter.widget-view+json": {
       "model_id": "2443bd4e1aa74b66aef8f92f813102dc",
       "version_major": 2,
       "version_minor": 0
      },
      "text/plain": [
       "Epoch 748/1000:   0%|          | 0/2 [00:00<?, ?it/s]"
      ]
     },
     "metadata": {},
     "output_type": "display_data"
    },
    {
     "data": {
      "application/vnd.jupyter.widget-view+json": {
       "model_id": "8f4b833b473443d5bfab5dae5271f352",
       "version_major": 2,
       "version_minor": 0
      },
      "text/plain": [
       "Epoch 749/1000:   0%|          | 0/2 [00:00<?, ?it/s]"
      ]
     },
     "metadata": {},
     "output_type": "display_data"
    },
    {
     "data": {
      "application/vnd.jupyter.widget-view+json": {
       "model_id": "3d7399deaeef414c9dd5be7aa2eb7821",
       "version_major": 2,
       "version_minor": 0
      },
      "text/plain": [
       "Epoch 750/1000:   0%|          | 0/2 [00:00<?, ?it/s]"
      ]
     },
     "metadata": {},
     "output_type": "display_data"
    },
    {
     "name": "stdout",
     "output_type": "stream",
     "text": [
      "Epoch 750/1000\n",
      "  Avg Train Loss: 0.176231\n",
      "    Physics Loss: 0.000286\n",
      "    Data Loss   : 0.541370\n",
      "  Avg Val Loss  : 0.576946\n"
     ]
    },
    {
     "data": {
      "application/vnd.jupyter.widget-view+json": {
       "model_id": "ee9e62a25ed247bca061eb289eedab89",
       "version_major": 2,
       "version_minor": 0
      },
      "text/plain": [
       "Epoch 751/1000:   0%|          | 0/2 [00:00<?, ?it/s]"
      ]
     },
     "metadata": {},
     "output_type": "display_data"
    },
    {
     "data": {
      "application/vnd.jupyter.widget-view+json": {
       "model_id": "f37e711e00594db58338c61ecc8f170d",
       "version_major": 2,
       "version_minor": 0
      },
      "text/plain": [
       "Epoch 752/1000:   0%|          | 0/2 [00:00<?, ?it/s]"
      ]
     },
     "metadata": {},
     "output_type": "display_data"
    },
    {
     "data": {
      "application/vnd.jupyter.widget-view+json": {
       "model_id": "5397d023b26f460fa3f52fd2dba80957",
       "version_major": 2,
       "version_minor": 0
      },
      "text/plain": [
       "Epoch 753/1000:   0%|          | 0/2 [00:00<?, ?it/s]"
      ]
     },
     "metadata": {},
     "output_type": "display_data"
    },
    {
     "data": {
      "application/vnd.jupyter.widget-view+json": {
       "model_id": "26acf2ed42f140918fab92e4f131671d",
       "version_major": 2,
       "version_minor": 0
      },
      "text/plain": [
       "Epoch 754/1000:   0%|          | 0/2 [00:00<?, ?it/s]"
      ]
     },
     "metadata": {},
     "output_type": "display_data"
    },
    {
     "data": {
      "application/vnd.jupyter.widget-view+json": {
       "model_id": "a601fde99c0c4293971e9cc1f1237189",
       "version_major": 2,
       "version_minor": 0
      },
      "text/plain": [
       "Epoch 755/1000:   0%|          | 0/2 [00:00<?, ?it/s]"
      ]
     },
     "metadata": {},
     "output_type": "display_data"
    },
    {
     "data": {
      "application/vnd.jupyter.widget-view+json": {
       "model_id": "b61a2cd21fb64584839a42999ef0205c",
       "version_major": 2,
       "version_minor": 0
      },
      "text/plain": [
       "Epoch 756/1000:   0%|          | 0/2 [00:00<?, ?it/s]"
      ]
     },
     "metadata": {},
     "output_type": "display_data"
    },
    {
     "data": {
      "application/vnd.jupyter.widget-view+json": {
       "model_id": "abc8326a887b4b359c76c14c73ea363e",
       "version_major": 2,
       "version_minor": 0
      },
      "text/plain": [
       "Epoch 757/1000:   0%|          | 0/2 [00:00<?, ?it/s]"
      ]
     },
     "metadata": {},
     "output_type": "display_data"
    },
    {
     "data": {
      "application/vnd.jupyter.widget-view+json": {
       "model_id": "719451c0bc9643998c4c862a9544cd20",
       "version_major": 2,
       "version_minor": 0
      },
      "text/plain": [
       "Epoch 758/1000:   0%|          | 0/2 [00:00<?, ?it/s]"
      ]
     },
     "metadata": {},
     "output_type": "display_data"
    },
    {
     "data": {
      "application/vnd.jupyter.widget-view+json": {
       "model_id": "4062536bb34240d694e11fdbbcf08848",
       "version_major": 2,
       "version_minor": 0
      },
      "text/plain": [
       "Epoch 759/1000:   0%|          | 0/2 [00:00<?, ?it/s]"
      ]
     },
     "metadata": {},
     "output_type": "display_data"
    },
    {
     "data": {
      "application/vnd.jupyter.widget-view+json": {
       "model_id": "0169e1d5273d4d819e78d93f3d1354b5",
       "version_major": 2,
       "version_minor": 0
      },
      "text/plain": [
       "Epoch 760/1000:   0%|          | 0/2 [00:00<?, ?it/s]"
      ]
     },
     "metadata": {},
     "output_type": "display_data"
    },
    {
     "data": {
      "application/vnd.jupyter.widget-view+json": {
       "model_id": "2e35e8f928d34457b7a7c0948684ac48",
       "version_major": 2,
       "version_minor": 0
      },
      "text/plain": [
       "Epoch 761/1000:   0%|          | 0/2 [00:00<?, ?it/s]"
      ]
     },
     "metadata": {},
     "output_type": "display_data"
    },
    {
     "data": {
      "application/vnd.jupyter.widget-view+json": {
       "model_id": "135b6710353747a29ef0e64eb1ba2cf8",
       "version_major": 2,
       "version_minor": 0
      },
      "text/plain": [
       "Epoch 762/1000:   0%|          | 0/2 [00:00<?, ?it/s]"
      ]
     },
     "metadata": {},
     "output_type": "display_data"
    },
    {
     "data": {
      "application/vnd.jupyter.widget-view+json": {
       "model_id": "88e8aa6fe1ad44fd9a65a976a84dccf2",
       "version_major": 2,
       "version_minor": 0
      },
      "text/plain": [
       "Epoch 763/1000:   0%|          | 0/2 [00:00<?, ?it/s]"
      ]
     },
     "metadata": {},
     "output_type": "display_data"
    },
    {
     "data": {
      "application/vnd.jupyter.widget-view+json": {
       "model_id": "c6c06de6f2504ea9abf6967736b4798d",
       "version_major": 2,
       "version_minor": 0
      },
      "text/plain": [
       "Epoch 764/1000:   0%|          | 0/2 [00:00<?, ?it/s]"
      ]
     },
     "metadata": {},
     "output_type": "display_data"
    },
    {
     "data": {
      "application/vnd.jupyter.widget-view+json": {
       "model_id": "2a0b5ba8466d46dc8345d493fe171d13",
       "version_major": 2,
       "version_minor": 0
      },
      "text/plain": [
       "Epoch 765/1000:   0%|          | 0/2 [00:00<?, ?it/s]"
      ]
     },
     "metadata": {},
     "output_type": "display_data"
    },
    {
     "data": {
      "application/vnd.jupyter.widget-view+json": {
       "model_id": "d8f28ddcfba14cb9866351904783ac9e",
       "version_major": 2,
       "version_minor": 0
      },
      "text/plain": [
       "Epoch 766/1000:   0%|          | 0/2 [00:00<?, ?it/s]"
      ]
     },
     "metadata": {},
     "output_type": "display_data"
    },
    {
     "data": {
      "application/vnd.jupyter.widget-view+json": {
       "model_id": "de91bfb1642d4f8981e6ff0f7b8e8e6d",
       "version_major": 2,
       "version_minor": 0
      },
      "text/plain": [
       "Epoch 767/1000:   0%|          | 0/2 [00:00<?, ?it/s]"
      ]
     },
     "metadata": {},
     "output_type": "display_data"
    },
    {
     "data": {
      "application/vnd.jupyter.widget-view+json": {
       "model_id": "6fd79f1ecb7a40d4980dde6de06b67fd",
       "version_major": 2,
       "version_minor": 0
      },
      "text/plain": [
       "Epoch 768/1000:   0%|          | 0/2 [00:00<?, ?it/s]"
      ]
     },
     "metadata": {},
     "output_type": "display_data"
    },
    {
     "data": {
      "application/vnd.jupyter.widget-view+json": {
       "model_id": "2ec34cb4ba3043cfb73c9522c29a16d4",
       "version_major": 2,
       "version_minor": 0
      },
      "text/plain": [
       "Epoch 769/1000:   0%|          | 0/2 [00:00<?, ?it/s]"
      ]
     },
     "metadata": {},
     "output_type": "display_data"
    },
    {
     "data": {
      "application/vnd.jupyter.widget-view+json": {
       "model_id": "708a984860b34e31932d8be33c137d86",
       "version_major": 2,
       "version_minor": 0
      },
      "text/plain": [
       "Epoch 770/1000:   0%|          | 0/2 [00:00<?, ?it/s]"
      ]
     },
     "metadata": {},
     "output_type": "display_data"
    },
    {
     "data": {
      "application/vnd.jupyter.widget-view+json": {
       "model_id": "369a600a6a8c49638a3aef6ec71ac17b",
       "version_major": 2,
       "version_minor": 0
      },
      "text/plain": [
       "Epoch 771/1000:   0%|          | 0/2 [00:00<?, ?it/s]"
      ]
     },
     "metadata": {},
     "output_type": "display_data"
    },
    {
     "data": {
      "application/vnd.jupyter.widget-view+json": {
       "model_id": "dd04c41f356f41c1935fc62430081bb0",
       "version_major": 2,
       "version_minor": 0
      },
      "text/plain": [
       "Epoch 772/1000:   0%|          | 0/2 [00:00<?, ?it/s]"
      ]
     },
     "metadata": {},
     "output_type": "display_data"
    },
    {
     "data": {
      "application/vnd.jupyter.widget-view+json": {
       "model_id": "cae1ae46362f4a0d87e34406c619458f",
       "version_major": 2,
       "version_minor": 0
      },
      "text/plain": [
       "Epoch 773/1000:   0%|          | 0/2 [00:00<?, ?it/s]"
      ]
     },
     "metadata": {},
     "output_type": "display_data"
    },
    {
     "data": {
      "application/vnd.jupyter.widget-view+json": {
       "model_id": "fbf0882241244166a578da400bc1f1e1",
       "version_major": 2,
       "version_minor": 0
      },
      "text/plain": [
       "Epoch 774/1000:   0%|          | 0/2 [00:00<?, ?it/s]"
      ]
     },
     "metadata": {},
     "output_type": "display_data"
    },
    {
     "data": {
      "application/vnd.jupyter.widget-view+json": {
       "model_id": "7c936d8bbe6c4fc0b76b3168716183c8",
       "version_major": 2,
       "version_minor": 0
      },
      "text/plain": [
       "Epoch 775/1000:   0%|          | 0/2 [00:00<?, ?it/s]"
      ]
     },
     "metadata": {},
     "output_type": "display_data"
    },
    {
     "data": {
      "application/vnd.jupyter.widget-view+json": {
       "model_id": "c8576f60a9e24fefb04c5b74809574db",
       "version_major": 2,
       "version_minor": 0
      },
      "text/plain": [
       "Epoch 776/1000:   0%|          | 0/2 [00:00<?, ?it/s]"
      ]
     },
     "metadata": {},
     "output_type": "display_data"
    },
    {
     "data": {
      "application/vnd.jupyter.widget-view+json": {
       "model_id": "66b4102d023546fdb2062ce8734a9aa7",
       "version_major": 2,
       "version_minor": 0
      },
      "text/plain": [
       "Epoch 777/1000:   0%|          | 0/2 [00:00<?, ?it/s]"
      ]
     },
     "metadata": {},
     "output_type": "display_data"
    },
    {
     "data": {
      "application/vnd.jupyter.widget-view+json": {
       "model_id": "5100b928cf2547a79e839689acc029e6",
       "version_major": 2,
       "version_minor": 0
      },
      "text/plain": [
       "Epoch 778/1000:   0%|          | 0/2 [00:00<?, ?it/s]"
      ]
     },
     "metadata": {},
     "output_type": "display_data"
    },
    {
     "data": {
      "application/vnd.jupyter.widget-view+json": {
       "model_id": "f47d990cb38c460a8096096ab06f772d",
       "version_major": 2,
       "version_minor": 0
      },
      "text/plain": [
       "Epoch 779/1000:   0%|          | 0/2 [00:00<?, ?it/s]"
      ]
     },
     "metadata": {},
     "output_type": "display_data"
    },
    {
     "data": {
      "application/vnd.jupyter.widget-view+json": {
       "model_id": "3029ccb98c8a47b8be7e1364e6a60529",
       "version_major": 2,
       "version_minor": 0
      },
      "text/plain": [
       "Epoch 780/1000:   0%|          | 0/2 [00:00<?, ?it/s]"
      ]
     },
     "metadata": {},
     "output_type": "display_data"
    },
    {
     "data": {
      "application/vnd.jupyter.widget-view+json": {
       "model_id": "aa93ae6478bf4be5bee70340a11301ec",
       "version_major": 2,
       "version_minor": 0
      },
      "text/plain": [
       "Epoch 781/1000:   0%|          | 0/2 [00:00<?, ?it/s]"
      ]
     },
     "metadata": {},
     "output_type": "display_data"
    },
    {
     "data": {
      "application/vnd.jupyter.widget-view+json": {
       "model_id": "ac0201032ff24e10984697d672875ea7",
       "version_major": 2,
       "version_minor": 0
      },
      "text/plain": [
       "Epoch 782/1000:   0%|          | 0/2 [00:00<?, ?it/s]"
      ]
     },
     "metadata": {},
     "output_type": "display_data"
    },
    {
     "data": {
      "application/vnd.jupyter.widget-view+json": {
       "model_id": "ac47f62ec4e2471fa5263fa6bd9bac84",
       "version_major": 2,
       "version_minor": 0
      },
      "text/plain": [
       "Epoch 783/1000:   0%|          | 0/2 [00:00<?, ?it/s]"
      ]
     },
     "metadata": {},
     "output_type": "display_data"
    },
    {
     "data": {
      "application/vnd.jupyter.widget-view+json": {
       "model_id": "df9f7f8a4207442dad1113eb59e6d47c",
       "version_major": 2,
       "version_minor": 0
      },
      "text/plain": [
       "Epoch 784/1000:   0%|          | 0/2 [00:00<?, ?it/s]"
      ]
     },
     "metadata": {},
     "output_type": "display_data"
    },
    {
     "data": {
      "application/vnd.jupyter.widget-view+json": {
       "model_id": "f0e2eac63a4643e1a46e71cf7fd5d84b",
       "version_major": 2,
       "version_minor": 0
      },
      "text/plain": [
       "Epoch 785/1000:   0%|          | 0/2 [00:00<?, ?it/s]"
      ]
     },
     "metadata": {},
     "output_type": "display_data"
    },
    {
     "data": {
      "application/vnd.jupyter.widget-view+json": {
       "model_id": "98ca67a111f14b49b91983bb8d1bbf9f",
       "version_major": 2,
       "version_minor": 0
      },
      "text/plain": [
       "Epoch 786/1000:   0%|          | 0/2 [00:00<?, ?it/s]"
      ]
     },
     "metadata": {},
     "output_type": "display_data"
    },
    {
     "data": {
      "application/vnd.jupyter.widget-view+json": {
       "model_id": "318e7097dc4c4e24879fbe1637abbc57",
       "version_major": 2,
       "version_minor": 0
      },
      "text/plain": [
       "Epoch 787/1000:   0%|          | 0/2 [00:00<?, ?it/s]"
      ]
     },
     "metadata": {},
     "output_type": "display_data"
    },
    {
     "data": {
      "application/vnd.jupyter.widget-view+json": {
       "model_id": "be180c4baa0f414c9508c5462a4effb3",
       "version_major": 2,
       "version_minor": 0
      },
      "text/plain": [
       "Epoch 788/1000:   0%|          | 0/2 [00:00<?, ?it/s]"
      ]
     },
     "metadata": {},
     "output_type": "display_data"
    },
    {
     "data": {
      "application/vnd.jupyter.widget-view+json": {
       "model_id": "30482be67c724548a4c5eacd4835be95",
       "version_major": 2,
       "version_minor": 0
      },
      "text/plain": [
       "Epoch 789/1000:   0%|          | 0/2 [00:00<?, ?it/s]"
      ]
     },
     "metadata": {},
     "output_type": "display_data"
    },
    {
     "data": {
      "application/vnd.jupyter.widget-view+json": {
       "model_id": "b02d02e045564556acc97a9f0d76e857",
       "version_major": 2,
       "version_minor": 0
      },
      "text/plain": [
       "Epoch 790/1000:   0%|          | 0/2 [00:00<?, ?it/s]"
      ]
     },
     "metadata": {},
     "output_type": "display_data"
    },
    {
     "data": {
      "application/vnd.jupyter.widget-view+json": {
       "model_id": "ba46fa269a19491c8212cf3e3b0a6411",
       "version_major": 2,
       "version_minor": 0
      },
      "text/plain": [
       "Epoch 791/1000:   0%|          | 0/2 [00:00<?, ?it/s]"
      ]
     },
     "metadata": {},
     "output_type": "display_data"
    },
    {
     "data": {
      "application/vnd.jupyter.widget-view+json": {
       "model_id": "f8cd1ff5c5f147e4ab42414af62af5ab",
       "version_major": 2,
       "version_minor": 0
      },
      "text/plain": [
       "Epoch 792/1000:   0%|          | 0/2 [00:00<?, ?it/s]"
      ]
     },
     "metadata": {},
     "output_type": "display_data"
    },
    {
     "data": {
      "application/vnd.jupyter.widget-view+json": {
       "model_id": "497b4633c06b4d4bbc0734773aed274a",
       "version_major": 2,
       "version_minor": 0
      },
      "text/plain": [
       "Epoch 793/1000:   0%|          | 0/2 [00:00<?, ?it/s]"
      ]
     },
     "metadata": {},
     "output_type": "display_data"
    },
    {
     "data": {
      "application/vnd.jupyter.widget-view+json": {
       "model_id": "1793d0addbb341f1ac50f0d6a61051a2",
       "version_major": 2,
       "version_minor": 0
      },
      "text/plain": [
       "Epoch 794/1000:   0%|          | 0/2 [00:00<?, ?it/s]"
      ]
     },
     "metadata": {},
     "output_type": "display_data"
    },
    {
     "data": {
      "application/vnd.jupyter.widget-view+json": {
       "model_id": "2c17a6951825486887f1c8d6a235e952",
       "version_major": 2,
       "version_minor": 0
      },
      "text/plain": [
       "Epoch 795/1000:   0%|          | 0/2 [00:00<?, ?it/s]"
      ]
     },
     "metadata": {},
     "output_type": "display_data"
    },
    {
     "data": {
      "application/vnd.jupyter.widget-view+json": {
       "model_id": "2ff0a59611684051bb31d6899f7c02e8",
       "version_major": 2,
       "version_minor": 0
      },
      "text/plain": [
       "Epoch 796/1000:   0%|          | 0/2 [00:00<?, ?it/s]"
      ]
     },
     "metadata": {},
     "output_type": "display_data"
    },
    {
     "data": {
      "application/vnd.jupyter.widget-view+json": {
       "model_id": "05cc5f7c5b2148ec9afc6ae1a99c841f",
       "version_major": 2,
       "version_minor": 0
      },
      "text/plain": [
       "Epoch 797/1000:   0%|          | 0/2 [00:00<?, ?it/s]"
      ]
     },
     "metadata": {},
     "output_type": "display_data"
    },
    {
     "data": {
      "application/vnd.jupyter.widget-view+json": {
       "model_id": "25cdeccfd234477a92c276414e8c57c9",
       "version_major": 2,
       "version_minor": 0
      },
      "text/plain": [
       "Epoch 798/1000:   0%|          | 0/2 [00:00<?, ?it/s]"
      ]
     },
     "metadata": {},
     "output_type": "display_data"
    },
    {
     "data": {
      "application/vnd.jupyter.widget-view+json": {
       "model_id": "2f574ce9fcbd40d8a734a3461200b8d4",
       "version_major": 2,
       "version_minor": 0
      },
      "text/plain": [
       "Epoch 799/1000:   0%|          | 0/2 [00:00<?, ?it/s]"
      ]
     },
     "metadata": {},
     "output_type": "display_data"
    },
    {
     "data": {
      "application/vnd.jupyter.widget-view+json": {
       "model_id": "e37e6fa2da594c9497bb3fd2063b2628",
       "version_major": 2,
       "version_minor": 0
      },
      "text/plain": [
       "Epoch 800/1000:   0%|          | 0/2 [00:00<?, ?it/s]"
      ]
     },
     "metadata": {},
     "output_type": "display_data"
    },
    {
     "name": "stdout",
     "output_type": "stream",
     "text": [
      "Epoch 800/1000\n",
      "  Avg Train Loss: 0.161025\n",
      "    Physics Loss: 0.000274\n",
      "    Data Loss   : 0.574108\n",
      "  Avg Val Loss  : 0.576654\n"
     ]
    },
    {
     "data": {
      "application/vnd.jupyter.widget-view+json": {
       "model_id": "b5009fd1459c4cca83c43963bb7ac8d4",
       "version_major": 2,
       "version_minor": 0
      },
      "text/plain": [
       "Epoch 801/1000:   0%|          | 0/2 [00:00<?, ?it/s]"
      ]
     },
     "metadata": {},
     "output_type": "display_data"
    },
    {
     "data": {
      "application/vnd.jupyter.widget-view+json": {
       "model_id": "dd4db8a31de242e1ad7e4be656754820",
       "version_major": 2,
       "version_minor": 0
      },
      "text/plain": [
       "Epoch 802/1000:   0%|          | 0/2 [00:00<?, ?it/s]"
      ]
     },
     "metadata": {},
     "output_type": "display_data"
    },
    {
     "data": {
      "application/vnd.jupyter.widget-view+json": {
       "model_id": "196b6457f3a542f5ae037c1e75ba8d6f",
       "version_major": 2,
       "version_minor": 0
      },
      "text/plain": [
       "Epoch 803/1000:   0%|          | 0/2 [00:00<?, ?it/s]"
      ]
     },
     "metadata": {},
     "output_type": "display_data"
    },
    {
     "data": {
      "application/vnd.jupyter.widget-view+json": {
       "model_id": "cff1eee3c0774b5c9e2ebad654fb931a",
       "version_major": 2,
       "version_minor": 0
      },
      "text/plain": [
       "Epoch 804/1000:   0%|          | 0/2 [00:00<?, ?it/s]"
      ]
     },
     "metadata": {},
     "output_type": "display_data"
    },
    {
     "data": {
      "application/vnd.jupyter.widget-view+json": {
       "model_id": "fb468ad5334f4da48320554fa0e04d97",
       "version_major": 2,
       "version_minor": 0
      },
      "text/plain": [
       "Epoch 805/1000:   0%|          | 0/2 [00:00<?, ?it/s]"
      ]
     },
     "metadata": {},
     "output_type": "display_data"
    },
    {
     "data": {
      "application/vnd.jupyter.widget-view+json": {
       "model_id": "9a3700d8896e452d92f3f073da143767",
       "version_major": 2,
       "version_minor": 0
      },
      "text/plain": [
       "Epoch 806/1000:   0%|          | 0/2 [00:00<?, ?it/s]"
      ]
     },
     "metadata": {},
     "output_type": "display_data"
    },
    {
     "data": {
      "application/vnd.jupyter.widget-view+json": {
       "model_id": "65333c8f42b64a03a99cccc8b9b22e10",
       "version_major": 2,
       "version_minor": 0
      },
      "text/plain": [
       "Epoch 807/1000:   0%|          | 0/2 [00:00<?, ?it/s]"
      ]
     },
     "metadata": {},
     "output_type": "display_data"
    },
    {
     "data": {
      "application/vnd.jupyter.widget-view+json": {
       "model_id": "f2728a99507840e1aa2870371c6b0264",
       "version_major": 2,
       "version_minor": 0
      },
      "text/plain": [
       "Epoch 808/1000:   0%|          | 0/2 [00:00<?, ?it/s]"
      ]
     },
     "metadata": {},
     "output_type": "display_data"
    },
    {
     "data": {
      "application/vnd.jupyter.widget-view+json": {
       "model_id": "74d0d162748942daa2a5d79752fcfd13",
       "version_major": 2,
       "version_minor": 0
      },
      "text/plain": [
       "Epoch 809/1000:   0%|          | 0/2 [00:00<?, ?it/s]"
      ]
     },
     "metadata": {},
     "output_type": "display_data"
    },
    {
     "data": {
      "application/vnd.jupyter.widget-view+json": {
       "model_id": "b74b56396a074b9aab9e7222a816fc37",
       "version_major": 2,
       "version_minor": 0
      },
      "text/plain": [
       "Epoch 810/1000:   0%|          | 0/2 [00:00<?, ?it/s]"
      ]
     },
     "metadata": {},
     "output_type": "display_data"
    },
    {
     "data": {
      "application/vnd.jupyter.widget-view+json": {
       "model_id": "ed89ca9387684baeabb4094cddc9017e",
       "version_major": 2,
       "version_minor": 0
      },
      "text/plain": [
       "Epoch 811/1000:   0%|          | 0/2 [00:00<?, ?it/s]"
      ]
     },
     "metadata": {},
     "output_type": "display_data"
    },
    {
     "data": {
      "application/vnd.jupyter.widget-view+json": {
       "model_id": "0ec7c1e905554e6ab101434a80edd22b",
       "version_major": 2,
       "version_minor": 0
      },
      "text/plain": [
       "Epoch 812/1000:   0%|          | 0/2 [00:00<?, ?it/s]"
      ]
     },
     "metadata": {},
     "output_type": "display_data"
    },
    {
     "data": {
      "application/vnd.jupyter.widget-view+json": {
       "model_id": "f93274ad73a141ca94bbaf5533846f5e",
       "version_major": 2,
       "version_minor": 0
      },
      "text/plain": [
       "Epoch 813/1000:   0%|          | 0/2 [00:00<?, ?it/s]"
      ]
     },
     "metadata": {},
     "output_type": "display_data"
    },
    {
     "data": {
      "application/vnd.jupyter.widget-view+json": {
       "model_id": "120880c316e54eebb65c438655f77cef",
       "version_major": 2,
       "version_minor": 0
      },
      "text/plain": [
       "Epoch 814/1000:   0%|          | 0/2 [00:00<?, ?it/s]"
      ]
     },
     "metadata": {},
     "output_type": "display_data"
    },
    {
     "data": {
      "application/vnd.jupyter.widget-view+json": {
       "model_id": "3e0c4489805a4c2cb879e238391502b8",
       "version_major": 2,
       "version_minor": 0
      },
      "text/plain": [
       "Epoch 815/1000:   0%|          | 0/2 [00:00<?, ?it/s]"
      ]
     },
     "metadata": {},
     "output_type": "display_data"
    },
    {
     "data": {
      "application/vnd.jupyter.widget-view+json": {
       "model_id": "537ea7ac519c4609aec3e9e799d4f5f5",
       "version_major": 2,
       "version_minor": 0
      },
      "text/plain": [
       "Epoch 816/1000:   0%|          | 0/2 [00:00<?, ?it/s]"
      ]
     },
     "metadata": {},
     "output_type": "display_data"
    },
    {
     "data": {
      "application/vnd.jupyter.widget-view+json": {
       "model_id": "a2a2ca5986ab4602be10931c34032f88",
       "version_major": 2,
       "version_minor": 0
      },
      "text/plain": [
       "Epoch 817/1000:   0%|          | 0/2 [00:00<?, ?it/s]"
      ]
     },
     "metadata": {},
     "output_type": "display_data"
    },
    {
     "data": {
      "application/vnd.jupyter.widget-view+json": {
       "model_id": "1eaa1ba916b344f78d20cb6327bf13ab",
       "version_major": 2,
       "version_minor": 0
      },
      "text/plain": [
       "Epoch 818/1000:   0%|          | 0/2 [00:00<?, ?it/s]"
      ]
     },
     "metadata": {},
     "output_type": "display_data"
    },
    {
     "data": {
      "application/vnd.jupyter.widget-view+json": {
       "model_id": "3967d2ba6fc34c7aa94a325143449b22",
       "version_major": 2,
       "version_minor": 0
      },
      "text/plain": [
       "Epoch 819/1000:   0%|          | 0/2 [00:00<?, ?it/s]"
      ]
     },
     "metadata": {},
     "output_type": "display_data"
    },
    {
     "data": {
      "application/vnd.jupyter.widget-view+json": {
       "model_id": "1976529ef8e94330975fff0ba58b5ce5",
       "version_major": 2,
       "version_minor": 0
      },
      "text/plain": [
       "Epoch 820/1000:   0%|          | 0/2 [00:00<?, ?it/s]"
      ]
     },
     "metadata": {},
     "output_type": "display_data"
    },
    {
     "data": {
      "application/vnd.jupyter.widget-view+json": {
       "model_id": "2c57a22abfb24c52bae7029f2cb111a2",
       "version_major": 2,
       "version_minor": 0
      },
      "text/plain": [
       "Epoch 821/1000:   0%|          | 0/2 [00:00<?, ?it/s]"
      ]
     },
     "metadata": {},
     "output_type": "display_data"
    },
    {
     "data": {
      "application/vnd.jupyter.widget-view+json": {
       "model_id": "28959d038d604206a6e9d64636235493",
       "version_major": 2,
       "version_minor": 0
      },
      "text/plain": [
       "Epoch 822/1000:   0%|          | 0/2 [00:00<?, ?it/s]"
      ]
     },
     "metadata": {},
     "output_type": "display_data"
    },
    {
     "data": {
      "application/vnd.jupyter.widget-view+json": {
       "model_id": "75a19a095f464914b47f515af6f7c902",
       "version_major": 2,
       "version_minor": 0
      },
      "text/plain": [
       "Epoch 823/1000:   0%|          | 0/2 [00:00<?, ?it/s]"
      ]
     },
     "metadata": {},
     "output_type": "display_data"
    },
    {
     "data": {
      "application/vnd.jupyter.widget-view+json": {
       "model_id": "f9cfcb07b29442b9a8a8fdaacec64dbb",
       "version_major": 2,
       "version_minor": 0
      },
      "text/plain": [
       "Epoch 824/1000:   0%|          | 0/2 [00:00<?, ?it/s]"
      ]
     },
     "metadata": {},
     "output_type": "display_data"
    },
    {
     "data": {
      "application/vnd.jupyter.widget-view+json": {
       "model_id": "4773e5c8c26946c596f6eaecd4a58bab",
       "version_major": 2,
       "version_minor": 0
      },
      "text/plain": [
       "Epoch 825/1000:   0%|          | 0/2 [00:00<?, ?it/s]"
      ]
     },
     "metadata": {},
     "output_type": "display_data"
    },
    {
     "data": {
      "application/vnd.jupyter.widget-view+json": {
       "model_id": "ade77d3553924bd99d60fc700f20e56b",
       "version_major": 2,
       "version_minor": 0
      },
      "text/plain": [
       "Epoch 826/1000:   0%|          | 0/2 [00:00<?, ?it/s]"
      ]
     },
     "metadata": {},
     "output_type": "display_data"
    },
    {
     "data": {
      "application/vnd.jupyter.widget-view+json": {
       "model_id": "090bab328c12466da0061b02d87f6daa",
       "version_major": 2,
       "version_minor": 0
      },
      "text/plain": [
       "Epoch 827/1000:   0%|          | 0/2 [00:00<?, ?it/s]"
      ]
     },
     "metadata": {},
     "output_type": "display_data"
    },
    {
     "data": {
      "application/vnd.jupyter.widget-view+json": {
       "model_id": "535de9068b3a4c31abdd3d7e82ef95aa",
       "version_major": 2,
       "version_minor": 0
      },
      "text/plain": [
       "Epoch 828/1000:   0%|          | 0/2 [00:00<?, ?it/s]"
      ]
     },
     "metadata": {},
     "output_type": "display_data"
    },
    {
     "data": {
      "application/vnd.jupyter.widget-view+json": {
       "model_id": "00f4a022fc694d219f9924f0f8cd5e77",
       "version_major": 2,
       "version_minor": 0
      },
      "text/plain": [
       "Epoch 829/1000:   0%|          | 0/2 [00:00<?, ?it/s]"
      ]
     },
     "metadata": {},
     "output_type": "display_data"
    },
    {
     "data": {
      "application/vnd.jupyter.widget-view+json": {
       "model_id": "6fa77d62f717415aaa952b6d41045e51",
       "version_major": 2,
       "version_minor": 0
      },
      "text/plain": [
       "Epoch 830/1000:   0%|          | 0/2 [00:00<?, ?it/s]"
      ]
     },
     "metadata": {},
     "output_type": "display_data"
    },
    {
     "data": {
      "application/vnd.jupyter.widget-view+json": {
       "model_id": "043786dacee84223b4affeedf6396540",
       "version_major": 2,
       "version_minor": 0
      },
      "text/plain": [
       "Epoch 831/1000:   0%|          | 0/2 [00:00<?, ?it/s]"
      ]
     },
     "metadata": {},
     "output_type": "display_data"
    },
    {
     "data": {
      "application/vnd.jupyter.widget-view+json": {
       "model_id": "48e3d8f9a1bf4a7a94e5adf20892a252",
       "version_major": 2,
       "version_minor": 0
      },
      "text/plain": [
       "Epoch 832/1000:   0%|          | 0/2 [00:00<?, ?it/s]"
      ]
     },
     "metadata": {},
     "output_type": "display_data"
    },
    {
     "data": {
      "application/vnd.jupyter.widget-view+json": {
       "model_id": "68224a85b3314ef4b47e5a02ced30836",
       "version_major": 2,
       "version_minor": 0
      },
      "text/plain": [
       "Epoch 833/1000:   0%|          | 0/2 [00:00<?, ?it/s]"
      ]
     },
     "metadata": {},
     "output_type": "display_data"
    },
    {
     "data": {
      "application/vnd.jupyter.widget-view+json": {
       "model_id": "7106d60594114921ba10f385b053bb22",
       "version_major": 2,
       "version_minor": 0
      },
      "text/plain": [
       "Epoch 834/1000:   0%|          | 0/2 [00:00<?, ?it/s]"
      ]
     },
     "metadata": {},
     "output_type": "display_data"
    },
    {
     "data": {
      "application/vnd.jupyter.widget-view+json": {
       "model_id": "21fc09bf3f5249eba4f8edf02e49a042",
       "version_major": 2,
       "version_minor": 0
      },
      "text/plain": [
       "Epoch 835/1000:   0%|          | 0/2 [00:00<?, ?it/s]"
      ]
     },
     "metadata": {},
     "output_type": "display_data"
    },
    {
     "data": {
      "application/vnd.jupyter.widget-view+json": {
       "model_id": "9b36e0e009554d56b98d425f12d678a6",
       "version_major": 2,
       "version_minor": 0
      },
      "text/plain": [
       "Epoch 836/1000:   0%|          | 0/2 [00:00<?, ?it/s]"
      ]
     },
     "metadata": {},
     "output_type": "display_data"
    },
    {
     "data": {
      "application/vnd.jupyter.widget-view+json": {
       "model_id": "d2ea47dabf2941649a62d6a2aa7b50cb",
       "version_major": 2,
       "version_minor": 0
      },
      "text/plain": [
       "Epoch 837/1000:   0%|          | 0/2 [00:00<?, ?it/s]"
      ]
     },
     "metadata": {},
     "output_type": "display_data"
    },
    {
     "data": {
      "application/vnd.jupyter.widget-view+json": {
       "model_id": "4504e523f1814e2d969f0a3a3d9c936d",
       "version_major": 2,
       "version_minor": 0
      },
      "text/plain": [
       "Epoch 838/1000:   0%|          | 0/2 [00:00<?, ?it/s]"
      ]
     },
     "metadata": {},
     "output_type": "display_data"
    },
    {
     "data": {
      "application/vnd.jupyter.widget-view+json": {
       "model_id": "1edb4194452244dc875d3e6c8b7f5b7c",
       "version_major": 2,
       "version_minor": 0
      },
      "text/plain": [
       "Epoch 839/1000:   0%|          | 0/2 [00:00<?, ?it/s]"
      ]
     },
     "metadata": {},
     "output_type": "display_data"
    },
    {
     "data": {
      "application/vnd.jupyter.widget-view+json": {
       "model_id": "80208c39291e41e280b384d4e2f8df51",
       "version_major": 2,
       "version_minor": 0
      },
      "text/plain": [
       "Epoch 840/1000:   0%|          | 0/2 [00:00<?, ?it/s]"
      ]
     },
     "metadata": {},
     "output_type": "display_data"
    },
    {
     "data": {
      "application/vnd.jupyter.widget-view+json": {
       "model_id": "6f4aeb87249b4026b066635783d28d3e",
       "version_major": 2,
       "version_minor": 0
      },
      "text/plain": [
       "Epoch 841/1000:   0%|          | 0/2 [00:00<?, ?it/s]"
      ]
     },
     "metadata": {},
     "output_type": "display_data"
    },
    {
     "data": {
      "application/vnd.jupyter.widget-view+json": {
       "model_id": "118c23a2eb5c423a896fb6ab6f8896dd",
       "version_major": 2,
       "version_minor": 0
      },
      "text/plain": [
       "Epoch 842/1000:   0%|          | 0/2 [00:00<?, ?it/s]"
      ]
     },
     "metadata": {},
     "output_type": "display_data"
    },
    {
     "data": {
      "application/vnd.jupyter.widget-view+json": {
       "model_id": "70fbf1b86f3045a2826691e3330d6932",
       "version_major": 2,
       "version_minor": 0
      },
      "text/plain": [
       "Epoch 843/1000:   0%|          | 0/2 [00:00<?, ?it/s]"
      ]
     },
     "metadata": {},
     "output_type": "display_data"
    },
    {
     "data": {
      "application/vnd.jupyter.widget-view+json": {
       "model_id": "796b1135e1da45cb9504b19dc9bda98c",
       "version_major": 2,
       "version_minor": 0
      },
      "text/plain": [
       "Epoch 844/1000:   0%|          | 0/2 [00:00<?, ?it/s]"
      ]
     },
     "metadata": {},
     "output_type": "display_data"
    },
    {
     "data": {
      "application/vnd.jupyter.widget-view+json": {
       "model_id": "b6fedba9923043e0bf5724f51ef8f30d",
       "version_major": 2,
       "version_minor": 0
      },
      "text/plain": [
       "Epoch 845/1000:   0%|          | 0/2 [00:00<?, ?it/s]"
      ]
     },
     "metadata": {},
     "output_type": "display_data"
    },
    {
     "data": {
      "application/vnd.jupyter.widget-view+json": {
       "model_id": "1710065362cf404baa36a01c86f125a7",
       "version_major": 2,
       "version_minor": 0
      },
      "text/plain": [
       "Epoch 846/1000:   0%|          | 0/2 [00:00<?, ?it/s]"
      ]
     },
     "metadata": {},
     "output_type": "display_data"
    },
    {
     "data": {
      "application/vnd.jupyter.widget-view+json": {
       "model_id": "21ddd211e35c410c9297e897e185fabb",
       "version_major": 2,
       "version_minor": 0
      },
      "text/plain": [
       "Epoch 847/1000:   0%|          | 0/2 [00:00<?, ?it/s]"
      ]
     },
     "metadata": {},
     "output_type": "display_data"
    },
    {
     "data": {
      "application/vnd.jupyter.widget-view+json": {
       "model_id": "0b3e906765e245298c919a5f61463755",
       "version_major": 2,
       "version_minor": 0
      },
      "text/plain": [
       "Epoch 848/1000:   0%|          | 0/2 [00:00<?, ?it/s]"
      ]
     },
     "metadata": {},
     "output_type": "display_data"
    },
    {
     "data": {
      "application/vnd.jupyter.widget-view+json": {
       "model_id": "d694a84641534775b9664f5b5c526100",
       "version_major": 2,
       "version_minor": 0
      },
      "text/plain": [
       "Epoch 849/1000:   0%|          | 0/2 [00:00<?, ?it/s]"
      ]
     },
     "metadata": {},
     "output_type": "display_data"
    },
    {
     "data": {
      "application/vnd.jupyter.widget-view+json": {
       "model_id": "fe8b0043c7654a9e8f37c8e4d299154c",
       "version_major": 2,
       "version_minor": 0
      },
      "text/plain": [
       "Epoch 850/1000:   0%|          | 0/2 [00:00<?, ?it/s]"
      ]
     },
     "metadata": {},
     "output_type": "display_data"
    },
    {
     "name": "stdout",
     "output_type": "stream",
     "text": [
      "Epoch 850/1000\n",
      "  Avg Train Loss: 0.139721\n",
      "    Physics Loss: 0.000269\n",
      "    Data Loss   : 0.593411\n",
      "  Avg Val Loss  : 0.576527\n"
     ]
    },
    {
     "data": {
      "application/vnd.jupyter.widget-view+json": {
       "model_id": "27c91187646a4a59afc6918643384d29",
       "version_major": 2,
       "version_minor": 0
      },
      "text/plain": [
       "Epoch 851/1000:   0%|          | 0/2 [00:00<?, ?it/s]"
      ]
     },
     "metadata": {},
     "output_type": "display_data"
    },
    {
     "data": {
      "application/vnd.jupyter.widget-view+json": {
       "model_id": "01f259efd40e43efb00b1b8b2e45c96e",
       "version_major": 2,
       "version_minor": 0
      },
      "text/plain": [
       "Epoch 852/1000:   0%|          | 0/2 [00:00<?, ?it/s]"
      ]
     },
     "metadata": {},
     "output_type": "display_data"
    },
    {
     "data": {
      "application/vnd.jupyter.widget-view+json": {
       "model_id": "88588f59687543e38b0df933103371be",
       "version_major": 2,
       "version_minor": 0
      },
      "text/plain": [
       "Epoch 853/1000:   0%|          | 0/2 [00:00<?, ?it/s]"
      ]
     },
     "metadata": {},
     "output_type": "display_data"
    },
    {
     "data": {
      "application/vnd.jupyter.widget-view+json": {
       "model_id": "f7649f5a37074e2985ed1898fd64891f",
       "version_major": 2,
       "version_minor": 0
      },
      "text/plain": [
       "Epoch 854/1000:   0%|          | 0/2 [00:00<?, ?it/s]"
      ]
     },
     "metadata": {},
     "output_type": "display_data"
    },
    {
     "data": {
      "application/vnd.jupyter.widget-view+json": {
       "model_id": "53c0f3fd122b46a28b80d23fd7880c87",
       "version_major": 2,
       "version_minor": 0
      },
      "text/plain": [
       "Epoch 855/1000:   0%|          | 0/2 [00:00<?, ?it/s]"
      ]
     },
     "metadata": {},
     "output_type": "display_data"
    },
    {
     "data": {
      "application/vnd.jupyter.widget-view+json": {
       "model_id": "0284d4dbac08472dbd8efd0520c5055f",
       "version_major": 2,
       "version_minor": 0
      },
      "text/plain": [
       "Epoch 856/1000:   0%|          | 0/2 [00:00<?, ?it/s]"
      ]
     },
     "metadata": {},
     "output_type": "display_data"
    },
    {
     "data": {
      "application/vnd.jupyter.widget-view+json": {
       "model_id": "ac934df1072f4859b7a7d780d61cc21f",
       "version_major": 2,
       "version_minor": 0
      },
      "text/plain": [
       "Epoch 857/1000:   0%|          | 0/2 [00:00<?, ?it/s]"
      ]
     },
     "metadata": {},
     "output_type": "display_data"
    },
    {
     "data": {
      "application/vnd.jupyter.widget-view+json": {
       "model_id": "7a0b0d4db71943d198502fcb162032a8",
       "version_major": 2,
       "version_minor": 0
      },
      "text/plain": [
       "Epoch 858/1000:   0%|          | 0/2 [00:00<?, ?it/s]"
      ]
     },
     "metadata": {},
     "output_type": "display_data"
    },
    {
     "data": {
      "application/vnd.jupyter.widget-view+json": {
       "model_id": "01e299466e3543618cb6dd2f89f6c934",
       "version_major": 2,
       "version_minor": 0
      },
      "text/plain": [
       "Epoch 859/1000:   0%|          | 0/2 [00:00<?, ?it/s]"
      ]
     },
     "metadata": {},
     "output_type": "display_data"
    },
    {
     "data": {
      "application/vnd.jupyter.widget-view+json": {
       "model_id": "e10ccc7f21ee4dd494383bc50006a846",
       "version_major": 2,
       "version_minor": 0
      },
      "text/plain": [
       "Epoch 860/1000:   0%|          | 0/2 [00:00<?, ?it/s]"
      ]
     },
     "metadata": {},
     "output_type": "display_data"
    },
    {
     "data": {
      "application/vnd.jupyter.widget-view+json": {
       "model_id": "d50e8253c21c4e629e447e24dab515e8",
       "version_major": 2,
       "version_minor": 0
      },
      "text/plain": [
       "Epoch 861/1000:   0%|          | 0/2 [00:00<?, ?it/s]"
      ]
     },
     "metadata": {},
     "output_type": "display_data"
    },
    {
     "data": {
      "application/vnd.jupyter.widget-view+json": {
       "model_id": "7e1bbf18510b4bfda968cd9a1f4d4c9d",
       "version_major": 2,
       "version_minor": 0
      },
      "text/plain": [
       "Epoch 862/1000:   0%|          | 0/2 [00:00<?, ?it/s]"
      ]
     },
     "metadata": {},
     "output_type": "display_data"
    },
    {
     "data": {
      "application/vnd.jupyter.widget-view+json": {
       "model_id": "3233344fe0aa4654a138b5a6fabab3e7",
       "version_major": 2,
       "version_minor": 0
      },
      "text/plain": [
       "Epoch 863/1000:   0%|          | 0/2 [00:00<?, ?it/s]"
      ]
     },
     "metadata": {},
     "output_type": "display_data"
    },
    {
     "data": {
      "application/vnd.jupyter.widget-view+json": {
       "model_id": "ac802beb702741a9816d68ebeec31494",
       "version_major": 2,
       "version_minor": 0
      },
      "text/plain": [
       "Epoch 864/1000:   0%|          | 0/2 [00:00<?, ?it/s]"
      ]
     },
     "metadata": {},
     "output_type": "display_data"
    },
    {
     "data": {
      "application/vnd.jupyter.widget-view+json": {
       "model_id": "70044bfebc744ab6abd8d2229047a549",
       "version_major": 2,
       "version_minor": 0
      },
      "text/plain": [
       "Epoch 865/1000:   0%|          | 0/2 [00:00<?, ?it/s]"
      ]
     },
     "metadata": {},
     "output_type": "display_data"
    },
    {
     "data": {
      "application/vnd.jupyter.widget-view+json": {
       "model_id": "3307fdda29484953b255662684a1d943",
       "version_major": 2,
       "version_minor": 0
      },
      "text/plain": [
       "Epoch 866/1000:   0%|          | 0/2 [00:00<?, ?it/s]"
      ]
     },
     "metadata": {},
     "output_type": "display_data"
    },
    {
     "data": {
      "application/vnd.jupyter.widget-view+json": {
       "model_id": "397e39529c47488785016a68315060a6",
       "version_major": 2,
       "version_minor": 0
      },
      "text/plain": [
       "Epoch 867/1000:   0%|          | 0/2 [00:00<?, ?it/s]"
      ]
     },
     "metadata": {},
     "output_type": "display_data"
    },
    {
     "data": {
      "application/vnd.jupyter.widget-view+json": {
       "model_id": "9d6ceb403be1464baa19defbc8d9768e",
       "version_major": 2,
       "version_minor": 0
      },
      "text/plain": [
       "Epoch 868/1000:   0%|          | 0/2 [00:00<?, ?it/s]"
      ]
     },
     "metadata": {},
     "output_type": "display_data"
    },
    {
     "data": {
      "application/vnd.jupyter.widget-view+json": {
       "model_id": "a93e4d9f216646eca6f4d61e4b371355",
       "version_major": 2,
       "version_minor": 0
      },
      "text/plain": [
       "Epoch 869/1000:   0%|          | 0/2 [00:00<?, ?it/s]"
      ]
     },
     "metadata": {},
     "output_type": "display_data"
    },
    {
     "data": {
      "application/vnd.jupyter.widget-view+json": {
       "model_id": "66aa55abe5a745f5a4bec8f29d46c2b0",
       "version_major": 2,
       "version_minor": 0
      },
      "text/plain": [
       "Epoch 870/1000:   0%|          | 0/2 [00:00<?, ?it/s]"
      ]
     },
     "metadata": {},
     "output_type": "display_data"
    },
    {
     "data": {
      "application/vnd.jupyter.widget-view+json": {
       "model_id": "64b9bb4922aa4e1ba5b86219aa657cdc",
       "version_major": 2,
       "version_minor": 0
      },
      "text/plain": [
       "Epoch 871/1000:   0%|          | 0/2 [00:00<?, ?it/s]"
      ]
     },
     "metadata": {},
     "output_type": "display_data"
    },
    {
     "data": {
      "application/vnd.jupyter.widget-view+json": {
       "model_id": "394f5d960fab49509330f738299cb032",
       "version_major": 2,
       "version_minor": 0
      },
      "text/plain": [
       "Epoch 872/1000:   0%|          | 0/2 [00:00<?, ?it/s]"
      ]
     },
     "metadata": {},
     "output_type": "display_data"
    },
    {
     "data": {
      "application/vnd.jupyter.widget-view+json": {
       "model_id": "9cd8a767cd2c40a38a9c4ac08ff64587",
       "version_major": 2,
       "version_minor": 0
      },
      "text/plain": [
       "Epoch 873/1000:   0%|          | 0/2 [00:00<?, ?it/s]"
      ]
     },
     "metadata": {},
     "output_type": "display_data"
    },
    {
     "data": {
      "application/vnd.jupyter.widget-view+json": {
       "model_id": "30f3f4d571684bd78db306575a53b278",
       "version_major": 2,
       "version_minor": 0
      },
      "text/plain": [
       "Epoch 874/1000:   0%|          | 0/2 [00:00<?, ?it/s]"
      ]
     },
     "metadata": {},
     "output_type": "display_data"
    },
    {
     "data": {
      "application/vnd.jupyter.widget-view+json": {
       "model_id": "56b8f5ecd0bc405d865e809fd5af1eca",
       "version_major": 2,
       "version_minor": 0
      },
      "text/plain": [
       "Epoch 875/1000:   0%|          | 0/2 [00:00<?, ?it/s]"
      ]
     },
     "metadata": {},
     "output_type": "display_data"
    },
    {
     "data": {
      "application/vnd.jupyter.widget-view+json": {
       "model_id": "f1cd4ec052484f2195ec28f5f4d87da9",
       "version_major": 2,
       "version_minor": 0
      },
      "text/plain": [
       "Epoch 876/1000:   0%|          | 0/2 [00:00<?, ?it/s]"
      ]
     },
     "metadata": {},
     "output_type": "display_data"
    },
    {
     "data": {
      "application/vnd.jupyter.widget-view+json": {
       "model_id": "a02e73d2e8734c6dad7137af633861a2",
       "version_major": 2,
       "version_minor": 0
      },
      "text/plain": [
       "Epoch 877/1000:   0%|          | 0/2 [00:00<?, ?it/s]"
      ]
     },
     "metadata": {},
     "output_type": "display_data"
    },
    {
     "data": {
      "application/vnd.jupyter.widget-view+json": {
       "model_id": "6eec48bb491b4799b49045b4896e58d0",
       "version_major": 2,
       "version_minor": 0
      },
      "text/plain": [
       "Epoch 878/1000:   0%|          | 0/2 [00:00<?, ?it/s]"
      ]
     },
     "metadata": {},
     "output_type": "display_data"
    },
    {
     "data": {
      "application/vnd.jupyter.widget-view+json": {
       "model_id": "0c5a0baa54a749a88302186962c98a0c",
       "version_major": 2,
       "version_minor": 0
      },
      "text/plain": [
       "Epoch 879/1000:   0%|          | 0/2 [00:00<?, ?it/s]"
      ]
     },
     "metadata": {},
     "output_type": "display_data"
    },
    {
     "data": {
      "application/vnd.jupyter.widget-view+json": {
       "model_id": "550b6520d48c4cb7b90052a6efc8b0eb",
       "version_major": 2,
       "version_minor": 0
      },
      "text/plain": [
       "Epoch 880/1000:   0%|          | 0/2 [00:00<?, ?it/s]"
      ]
     },
     "metadata": {},
     "output_type": "display_data"
    },
    {
     "data": {
      "application/vnd.jupyter.widget-view+json": {
       "model_id": "6b74fac4fb5b4ecc9f8ac53c9f2b2399",
       "version_major": 2,
       "version_minor": 0
      },
      "text/plain": [
       "Epoch 881/1000:   0%|          | 0/2 [00:00<?, ?it/s]"
      ]
     },
     "metadata": {},
     "output_type": "display_data"
    },
    {
     "data": {
      "application/vnd.jupyter.widget-view+json": {
       "model_id": "8194ab2cc8594e1ca0aaf22690abb69b",
       "version_major": 2,
       "version_minor": 0
      },
      "text/plain": [
       "Epoch 882/1000:   0%|          | 0/2 [00:00<?, ?it/s]"
      ]
     },
     "metadata": {},
     "output_type": "display_data"
    },
    {
     "data": {
      "application/vnd.jupyter.widget-view+json": {
       "model_id": "ef2f53f1b7434407baa0a90da7aedb75",
       "version_major": 2,
       "version_minor": 0
      },
      "text/plain": [
       "Epoch 883/1000:   0%|          | 0/2 [00:00<?, ?it/s]"
      ]
     },
     "metadata": {},
     "output_type": "display_data"
    },
    {
     "data": {
      "application/vnd.jupyter.widget-view+json": {
       "model_id": "dab9a840796a4bb88a07cebc1e48631b",
       "version_major": 2,
       "version_minor": 0
      },
      "text/plain": [
       "Epoch 884/1000:   0%|          | 0/2 [00:00<?, ?it/s]"
      ]
     },
     "metadata": {},
     "output_type": "display_data"
    },
    {
     "data": {
      "application/vnd.jupyter.widget-view+json": {
       "model_id": "c4e54351d6d144b389db30de35bf4d41",
       "version_major": 2,
       "version_minor": 0
      },
      "text/plain": [
       "Epoch 885/1000:   0%|          | 0/2 [00:00<?, ?it/s]"
      ]
     },
     "metadata": {},
     "output_type": "display_data"
    },
    {
     "data": {
      "application/vnd.jupyter.widget-view+json": {
       "model_id": "157c3ca7a3ea42c3af6ab9a37b97c415",
       "version_major": 2,
       "version_minor": 0
      },
      "text/plain": [
       "Epoch 886/1000:   0%|          | 0/2 [00:00<?, ?it/s]"
      ]
     },
     "metadata": {},
     "output_type": "display_data"
    },
    {
     "data": {
      "application/vnd.jupyter.widget-view+json": {
       "model_id": "4575ea67cbfb4e4387e0139f5573b741",
       "version_major": 2,
       "version_minor": 0
      },
      "text/plain": [
       "Epoch 887/1000:   0%|          | 0/2 [00:00<?, ?it/s]"
      ]
     },
     "metadata": {},
     "output_type": "display_data"
    },
    {
     "data": {
      "application/vnd.jupyter.widget-view+json": {
       "model_id": "f1f8c41f5f174490bc105f98d26490d5",
       "version_major": 2,
       "version_minor": 0
      },
      "text/plain": [
       "Epoch 888/1000:   0%|          | 0/2 [00:00<?, ?it/s]"
      ]
     },
     "metadata": {},
     "output_type": "display_data"
    },
    {
     "data": {
      "application/vnd.jupyter.widget-view+json": {
       "model_id": "93a9b003d18e4b339a57408d8e99a583",
       "version_major": 2,
       "version_minor": 0
      },
      "text/plain": [
       "Epoch 889/1000:   0%|          | 0/2 [00:00<?, ?it/s]"
      ]
     },
     "metadata": {},
     "output_type": "display_data"
    },
    {
     "data": {
      "application/vnd.jupyter.widget-view+json": {
       "model_id": "ad9eb21e18614683be19bb1b89a95f2a",
       "version_major": 2,
       "version_minor": 0
      },
      "text/plain": [
       "Epoch 890/1000:   0%|          | 0/2 [00:00<?, ?it/s]"
      ]
     },
     "metadata": {},
     "output_type": "display_data"
    },
    {
     "data": {
      "application/vnd.jupyter.widget-view+json": {
       "model_id": "1d30d389e32b4de689ec15c991505c42",
       "version_major": 2,
       "version_minor": 0
      },
      "text/plain": [
       "Epoch 891/1000:   0%|          | 0/2 [00:00<?, ?it/s]"
      ]
     },
     "metadata": {},
     "output_type": "display_data"
    },
    {
     "data": {
      "application/vnd.jupyter.widget-view+json": {
       "model_id": "fee07dacdf6c4627a4f06f9b878df087",
       "version_major": 2,
       "version_minor": 0
      },
      "text/plain": [
       "Epoch 892/1000:   0%|          | 0/2 [00:00<?, ?it/s]"
      ]
     },
     "metadata": {},
     "output_type": "display_data"
    },
    {
     "data": {
      "application/vnd.jupyter.widget-view+json": {
       "model_id": "015cdec7378844e8b169686ecd8b66bb",
       "version_major": 2,
       "version_minor": 0
      },
      "text/plain": [
       "Epoch 893/1000:   0%|          | 0/2 [00:00<?, ?it/s]"
      ]
     },
     "metadata": {},
     "output_type": "display_data"
    },
    {
     "data": {
      "application/vnd.jupyter.widget-view+json": {
       "model_id": "d5b18ffc139e4523b25ed1a48e970e38",
       "version_major": 2,
       "version_minor": 0
      },
      "text/plain": [
       "Epoch 894/1000:   0%|          | 0/2 [00:00<?, ?it/s]"
      ]
     },
     "metadata": {},
     "output_type": "display_data"
    },
    {
     "data": {
      "application/vnd.jupyter.widget-view+json": {
       "model_id": "e9a1817a38b54a92aef202b5cf20f268",
       "version_major": 2,
       "version_minor": 0
      },
      "text/plain": [
       "Epoch 895/1000:   0%|          | 0/2 [00:00<?, ?it/s]"
      ]
     },
     "metadata": {},
     "output_type": "display_data"
    },
    {
     "data": {
      "application/vnd.jupyter.widget-view+json": {
       "model_id": "7f2f978e48d64b1db7a2bb64f9dc0013",
       "version_major": 2,
       "version_minor": 0
      },
      "text/plain": [
       "Epoch 896/1000:   0%|          | 0/2 [00:00<?, ?it/s]"
      ]
     },
     "metadata": {},
     "output_type": "display_data"
    },
    {
     "data": {
      "application/vnd.jupyter.widget-view+json": {
       "model_id": "b50399b53c4e48a5aad3cde11f008d07",
       "version_major": 2,
       "version_minor": 0
      },
      "text/plain": [
       "Epoch 897/1000:   0%|          | 0/2 [00:00<?, ?it/s]"
      ]
     },
     "metadata": {},
     "output_type": "display_data"
    },
    {
     "data": {
      "application/vnd.jupyter.widget-view+json": {
       "model_id": "852eeeaaf4bb40c8a68cccd37d1a2afc",
       "version_major": 2,
       "version_minor": 0
      },
      "text/plain": [
       "Epoch 898/1000:   0%|          | 0/2 [00:00<?, ?it/s]"
      ]
     },
     "metadata": {},
     "output_type": "display_data"
    },
    {
     "data": {
      "application/vnd.jupyter.widget-view+json": {
       "model_id": "c307f4baa3cb4f47b5ed1b3579c60110",
       "version_major": 2,
       "version_minor": 0
      },
      "text/plain": [
       "Epoch 899/1000:   0%|          | 0/2 [00:00<?, ?it/s]"
      ]
     },
     "metadata": {},
     "output_type": "display_data"
    },
    {
     "data": {
      "application/vnd.jupyter.widget-view+json": {
       "model_id": "3804b805c5304366b00eac69a6cac8f0",
       "version_major": 2,
       "version_minor": 0
      },
      "text/plain": [
       "Epoch 900/1000:   0%|          | 0/2 [00:00<?, ?it/s]"
      ]
     },
     "metadata": {},
     "output_type": "display_data"
    },
    {
     "name": "stdout",
     "output_type": "stream",
     "text": [
      "Epoch 900/1000\n",
      "  Avg Train Loss: 0.107831\n",
      "    Physics Loss: 0.000257\n",
      "    Data Loss   : 0.566177\n",
      "  Avg Val Loss  : 0.576421\n"
     ]
    },
    {
     "data": {
      "application/vnd.jupyter.widget-view+json": {
       "model_id": "ad7037349d65402199f8b28b8896f5d1",
       "version_major": 2,
       "version_minor": 0
      },
      "text/plain": [
       "Epoch 901/1000:   0%|          | 0/2 [00:00<?, ?it/s]"
      ]
     },
     "metadata": {},
     "output_type": "display_data"
    },
    {
     "data": {
      "application/vnd.jupyter.widget-view+json": {
       "model_id": "df379e974ca343229943e2da8afe99e4",
       "version_major": 2,
       "version_minor": 0
      },
      "text/plain": [
       "Epoch 902/1000:   0%|          | 0/2 [00:00<?, ?it/s]"
      ]
     },
     "metadata": {},
     "output_type": "display_data"
    },
    {
     "data": {
      "application/vnd.jupyter.widget-view+json": {
       "model_id": "2b0b160daad84444b97dd1f54ed392da",
       "version_major": 2,
       "version_minor": 0
      },
      "text/plain": [
       "Epoch 903/1000:   0%|          | 0/2 [00:00<?, ?it/s]"
      ]
     },
     "metadata": {},
     "output_type": "display_data"
    },
    {
     "data": {
      "application/vnd.jupyter.widget-view+json": {
       "model_id": "1300027fbcab40c6b858e9056912a41b",
       "version_major": 2,
       "version_minor": 0
      },
      "text/plain": [
       "Epoch 904/1000:   0%|          | 0/2 [00:00<?, ?it/s]"
      ]
     },
     "metadata": {},
     "output_type": "display_data"
    },
    {
     "data": {
      "application/vnd.jupyter.widget-view+json": {
       "model_id": "d5aa4c29271841438da46dd3ce94295d",
       "version_major": 2,
       "version_minor": 0
      },
      "text/plain": [
       "Epoch 905/1000:   0%|          | 0/2 [00:00<?, ?it/s]"
      ]
     },
     "metadata": {},
     "output_type": "display_data"
    },
    {
     "data": {
      "application/vnd.jupyter.widget-view+json": {
       "model_id": "1c31d121ce034af182bd31b5b7a4ee0a",
       "version_major": 2,
       "version_minor": 0
      },
      "text/plain": [
       "Epoch 906/1000:   0%|          | 0/2 [00:00<?, ?it/s]"
      ]
     },
     "metadata": {},
     "output_type": "display_data"
    },
    {
     "data": {
      "application/vnd.jupyter.widget-view+json": {
       "model_id": "0057dfd48d454c0081801b3d6ba067cb",
       "version_major": 2,
       "version_minor": 0
      },
      "text/plain": [
       "Epoch 907/1000:   0%|          | 0/2 [00:00<?, ?it/s]"
      ]
     },
     "metadata": {},
     "output_type": "display_data"
    },
    {
     "data": {
      "application/vnd.jupyter.widget-view+json": {
       "model_id": "f0cfc0a1a5814cc687cb144b7998b3b2",
       "version_major": 2,
       "version_minor": 0
      },
      "text/plain": [
       "Epoch 908/1000:   0%|          | 0/2 [00:00<?, ?it/s]"
      ]
     },
     "metadata": {},
     "output_type": "display_data"
    },
    {
     "data": {
      "application/vnd.jupyter.widget-view+json": {
       "model_id": "048b6f7d87cc4830962426571df11fe5",
       "version_major": 2,
       "version_minor": 0
      },
      "text/plain": [
       "Epoch 909/1000:   0%|          | 0/2 [00:00<?, ?it/s]"
      ]
     },
     "metadata": {},
     "output_type": "display_data"
    },
    {
     "data": {
      "application/vnd.jupyter.widget-view+json": {
       "model_id": "704ca060f00c4832906e4ea8f93844ac",
       "version_major": 2,
       "version_minor": 0
      },
      "text/plain": [
       "Epoch 910/1000:   0%|          | 0/2 [00:00<?, ?it/s]"
      ]
     },
     "metadata": {},
     "output_type": "display_data"
    },
    {
     "data": {
      "application/vnd.jupyter.widget-view+json": {
       "model_id": "9c33fe6bd51a4b8dbad7226d3fd8bc53",
       "version_major": 2,
       "version_minor": 0
      },
      "text/plain": [
       "Epoch 911/1000:   0%|          | 0/2 [00:00<?, ?it/s]"
      ]
     },
     "metadata": {},
     "output_type": "display_data"
    },
    {
     "data": {
      "application/vnd.jupyter.widget-view+json": {
       "model_id": "b02fed7033634ffca6fd5a6e6942c158",
       "version_major": 2,
       "version_minor": 0
      },
      "text/plain": [
       "Epoch 912/1000:   0%|          | 0/2 [00:00<?, ?it/s]"
      ]
     },
     "metadata": {},
     "output_type": "display_data"
    },
    {
     "data": {
      "application/vnd.jupyter.widget-view+json": {
       "model_id": "3c6bedeb62a54fbdaa02f8605cc103c8",
       "version_major": 2,
       "version_minor": 0
      },
      "text/plain": [
       "Epoch 913/1000:   0%|          | 0/2 [00:00<?, ?it/s]"
      ]
     },
     "metadata": {},
     "output_type": "display_data"
    },
    {
     "data": {
      "application/vnd.jupyter.widget-view+json": {
       "model_id": "d1cf59581c084a7593055a195f484ae9",
       "version_major": 2,
       "version_minor": 0
      },
      "text/plain": [
       "Epoch 914/1000:   0%|          | 0/2 [00:00<?, ?it/s]"
      ]
     },
     "metadata": {},
     "output_type": "display_data"
    },
    {
     "data": {
      "application/vnd.jupyter.widget-view+json": {
       "model_id": "859da75fc902496c810a792e1e69f39a",
       "version_major": 2,
       "version_minor": 0
      },
      "text/plain": [
       "Epoch 915/1000:   0%|          | 0/2 [00:00<?, ?it/s]"
      ]
     },
     "metadata": {},
     "output_type": "display_data"
    },
    {
     "data": {
      "application/vnd.jupyter.widget-view+json": {
       "model_id": "72d43cfc01074aacb4a239297ae1a4f3",
       "version_major": 2,
       "version_minor": 0
      },
      "text/plain": [
       "Epoch 916/1000:   0%|          | 0/2 [00:00<?, ?it/s]"
      ]
     },
     "metadata": {},
     "output_type": "display_data"
    },
    {
     "data": {
      "application/vnd.jupyter.widget-view+json": {
       "model_id": "94c8dbc7c8aa43c793aa1af09e1399de",
       "version_major": 2,
       "version_minor": 0
      },
      "text/plain": [
       "Epoch 917/1000:   0%|          | 0/2 [00:00<?, ?it/s]"
      ]
     },
     "metadata": {},
     "output_type": "display_data"
    },
    {
     "data": {
      "application/vnd.jupyter.widget-view+json": {
       "model_id": "30b08f1a67c94d1a9bf123a6947e9994",
       "version_major": 2,
       "version_minor": 0
      },
      "text/plain": [
       "Epoch 918/1000:   0%|          | 0/2 [00:00<?, ?it/s]"
      ]
     },
     "metadata": {},
     "output_type": "display_data"
    },
    {
     "data": {
      "application/vnd.jupyter.widget-view+json": {
       "model_id": "a6312e47b3ec4ce6bd3e57142412d043",
       "version_major": 2,
       "version_minor": 0
      },
      "text/plain": [
       "Epoch 919/1000:   0%|          | 0/2 [00:00<?, ?it/s]"
      ]
     },
     "metadata": {},
     "output_type": "display_data"
    },
    {
     "data": {
      "application/vnd.jupyter.widget-view+json": {
       "model_id": "bac6479ae0d349f4b06b009358192bd4",
       "version_major": 2,
       "version_minor": 0
      },
      "text/plain": [
       "Epoch 920/1000:   0%|          | 0/2 [00:00<?, ?it/s]"
      ]
     },
     "metadata": {},
     "output_type": "display_data"
    },
    {
     "data": {
      "application/vnd.jupyter.widget-view+json": {
       "model_id": "02576ab7f2e04aa2a54c9cf6feec06c5",
       "version_major": 2,
       "version_minor": 0
      },
      "text/plain": [
       "Epoch 921/1000:   0%|          | 0/2 [00:00<?, ?it/s]"
      ]
     },
     "metadata": {},
     "output_type": "display_data"
    },
    {
     "data": {
      "application/vnd.jupyter.widget-view+json": {
       "model_id": "cd11e53c70d149a2b973053f9a5b8bec",
       "version_major": 2,
       "version_minor": 0
      },
      "text/plain": [
       "Epoch 922/1000:   0%|          | 0/2 [00:00<?, ?it/s]"
      ]
     },
     "metadata": {},
     "output_type": "display_data"
    },
    {
     "data": {
      "application/vnd.jupyter.widget-view+json": {
       "model_id": "0715f6f85ae241d18960a0ae789ada80",
       "version_major": 2,
       "version_minor": 0
      },
      "text/plain": [
       "Epoch 923/1000:   0%|          | 0/2 [00:00<?, ?it/s]"
      ]
     },
     "metadata": {},
     "output_type": "display_data"
    },
    {
     "data": {
      "application/vnd.jupyter.widget-view+json": {
       "model_id": "6358e35146ae43419aa56f2266f975e3",
       "version_major": 2,
       "version_minor": 0
      },
      "text/plain": [
       "Epoch 924/1000:   0%|          | 0/2 [00:00<?, ?it/s]"
      ]
     },
     "metadata": {},
     "output_type": "display_data"
    },
    {
     "data": {
      "application/vnd.jupyter.widget-view+json": {
       "model_id": "ba8c995f568549c6b637fa39e81a6f4c",
       "version_major": 2,
       "version_minor": 0
      },
      "text/plain": [
       "Epoch 925/1000:   0%|          | 0/2 [00:00<?, ?it/s]"
      ]
     },
     "metadata": {},
     "output_type": "display_data"
    },
    {
     "data": {
      "application/vnd.jupyter.widget-view+json": {
       "model_id": "719cc5d486d745c285df38e6974af90e",
       "version_major": 2,
       "version_minor": 0
      },
      "text/plain": [
       "Epoch 926/1000:   0%|          | 0/2 [00:00<?, ?it/s]"
      ]
     },
     "metadata": {},
     "output_type": "display_data"
    },
    {
     "data": {
      "application/vnd.jupyter.widget-view+json": {
       "model_id": "fc197ba41641415e8b6f87e8cfd2ee51",
       "version_major": 2,
       "version_minor": 0
      },
      "text/plain": [
       "Epoch 927/1000:   0%|          | 0/2 [00:00<?, ?it/s]"
      ]
     },
     "metadata": {},
     "output_type": "display_data"
    },
    {
     "data": {
      "application/vnd.jupyter.widget-view+json": {
       "model_id": "dcac97cfb1e54971a8a58e4c85c1ac16",
       "version_major": 2,
       "version_minor": 0
      },
      "text/plain": [
       "Epoch 928/1000:   0%|          | 0/2 [00:00<?, ?it/s]"
      ]
     },
     "metadata": {},
     "output_type": "display_data"
    },
    {
     "data": {
      "application/vnd.jupyter.widget-view+json": {
       "model_id": "09d0afd8c978430fa9ab235482473cd6",
       "version_major": 2,
       "version_minor": 0
      },
      "text/plain": [
       "Epoch 929/1000:   0%|          | 0/2 [00:00<?, ?it/s]"
      ]
     },
     "metadata": {},
     "output_type": "display_data"
    },
    {
     "data": {
      "application/vnd.jupyter.widget-view+json": {
       "model_id": "bc161cca59f6497191a937cffe2018f2",
       "version_major": 2,
       "version_minor": 0
      },
      "text/plain": [
       "Epoch 930/1000:   0%|          | 0/2 [00:00<?, ?it/s]"
      ]
     },
     "metadata": {},
     "output_type": "display_data"
    },
    {
     "data": {
      "application/vnd.jupyter.widget-view+json": {
       "model_id": "582427d2723f402e847e40f59e2a272c",
       "version_major": 2,
       "version_minor": 0
      },
      "text/plain": [
       "Epoch 931/1000:   0%|          | 0/2 [00:00<?, ?it/s]"
      ]
     },
     "metadata": {},
     "output_type": "display_data"
    },
    {
     "data": {
      "application/vnd.jupyter.widget-view+json": {
       "model_id": "0ad5b0a01acb4a63a61b36503ef14aee",
       "version_major": 2,
       "version_minor": 0
      },
      "text/plain": [
       "Epoch 932/1000:   0%|          | 0/2 [00:00<?, ?it/s]"
      ]
     },
     "metadata": {},
     "output_type": "display_data"
    },
    {
     "data": {
      "application/vnd.jupyter.widget-view+json": {
       "model_id": "3e19c3b25a2742718c65b09232c97de3",
       "version_major": 2,
       "version_minor": 0
      },
      "text/plain": [
       "Epoch 933/1000:   0%|          | 0/2 [00:00<?, ?it/s]"
      ]
     },
     "metadata": {},
     "output_type": "display_data"
    },
    {
     "data": {
      "application/vnd.jupyter.widget-view+json": {
       "model_id": "c23b5a29228d4e32a141614b89498b67",
       "version_major": 2,
       "version_minor": 0
      },
      "text/plain": [
       "Epoch 934/1000:   0%|          | 0/2 [00:00<?, ?it/s]"
      ]
     },
     "metadata": {},
     "output_type": "display_data"
    },
    {
     "data": {
      "application/vnd.jupyter.widget-view+json": {
       "model_id": "1207b0230e044ff8b238beb53c94530d",
       "version_major": 2,
       "version_minor": 0
      },
      "text/plain": [
       "Epoch 935/1000:   0%|          | 0/2 [00:00<?, ?it/s]"
      ]
     },
     "metadata": {},
     "output_type": "display_data"
    },
    {
     "data": {
      "application/vnd.jupyter.widget-view+json": {
       "model_id": "1e703d3232594f3a8ab0e6e52472881a",
       "version_major": 2,
       "version_minor": 0
      },
      "text/plain": [
       "Epoch 936/1000:   0%|          | 0/2 [00:00<?, ?it/s]"
      ]
     },
     "metadata": {},
     "output_type": "display_data"
    },
    {
     "data": {
      "application/vnd.jupyter.widget-view+json": {
       "model_id": "82e8a736419a44c894c872d16db67133",
       "version_major": 2,
       "version_minor": 0
      },
      "text/plain": [
       "Epoch 937/1000:   0%|          | 0/2 [00:00<?, ?it/s]"
      ]
     },
     "metadata": {},
     "output_type": "display_data"
    },
    {
     "data": {
      "application/vnd.jupyter.widget-view+json": {
       "model_id": "67a381416eff425889c05746c01a2e62",
       "version_major": 2,
       "version_minor": 0
      },
      "text/plain": [
       "Epoch 938/1000:   0%|          | 0/2 [00:00<?, ?it/s]"
      ]
     },
     "metadata": {},
     "output_type": "display_data"
    },
    {
     "data": {
      "application/vnd.jupyter.widget-view+json": {
       "model_id": "0390925e493f460f914ee11fede9e9d8",
       "version_major": 2,
       "version_minor": 0
      },
      "text/plain": [
       "Epoch 939/1000:   0%|          | 0/2 [00:00<?, ?it/s]"
      ]
     },
     "metadata": {},
     "output_type": "display_data"
    },
    {
     "data": {
      "application/vnd.jupyter.widget-view+json": {
       "model_id": "6d27dce9f82f4d1192d28b23fd1cd0c7",
       "version_major": 2,
       "version_minor": 0
      },
      "text/plain": [
       "Epoch 940/1000:   0%|          | 0/2 [00:00<?, ?it/s]"
      ]
     },
     "metadata": {},
     "output_type": "display_data"
    },
    {
     "data": {
      "application/vnd.jupyter.widget-view+json": {
       "model_id": "01ea9c8821ba438f9de58b620acdf5d8",
       "version_major": 2,
       "version_minor": 0
      },
      "text/plain": [
       "Epoch 941/1000:   0%|          | 0/2 [00:00<?, ?it/s]"
      ]
     },
     "metadata": {},
     "output_type": "display_data"
    },
    {
     "data": {
      "application/vnd.jupyter.widget-view+json": {
       "model_id": "236aec37e59e4640832d15eff81c9f02",
       "version_major": 2,
       "version_minor": 0
      },
      "text/plain": [
       "Epoch 942/1000:   0%|          | 0/2 [00:00<?, ?it/s]"
      ]
     },
     "metadata": {},
     "output_type": "display_data"
    },
    {
     "data": {
      "application/vnd.jupyter.widget-view+json": {
       "model_id": "e7459a293dfc401794a661fea6cf4aca",
       "version_major": 2,
       "version_minor": 0
      },
      "text/plain": [
       "Epoch 943/1000:   0%|          | 0/2 [00:00<?, ?it/s]"
      ]
     },
     "metadata": {},
     "output_type": "display_data"
    },
    {
     "data": {
      "application/vnd.jupyter.widget-view+json": {
       "model_id": "0d3d727dc6194f95933e1eb1ff1f61b0",
       "version_major": 2,
       "version_minor": 0
      },
      "text/plain": [
       "Epoch 944/1000:   0%|          | 0/2 [00:00<?, ?it/s]"
      ]
     },
     "metadata": {},
     "output_type": "display_data"
    },
    {
     "data": {
      "application/vnd.jupyter.widget-view+json": {
       "model_id": "34c7db8d5c0a40ee9e2b021084e11a24",
       "version_major": 2,
       "version_minor": 0
      },
      "text/plain": [
       "Epoch 945/1000:   0%|          | 0/2 [00:00<?, ?it/s]"
      ]
     },
     "metadata": {},
     "output_type": "display_data"
    },
    {
     "data": {
      "application/vnd.jupyter.widget-view+json": {
       "model_id": "756dcba034a44c9db0c0a6f04e373a9c",
       "version_major": 2,
       "version_minor": 0
      },
      "text/plain": [
       "Epoch 946/1000:   0%|          | 0/2 [00:00<?, ?it/s]"
      ]
     },
     "metadata": {},
     "output_type": "display_data"
    },
    {
     "data": {
      "application/vnd.jupyter.widget-view+json": {
       "model_id": "0db1c2fd6a5c4271907039d123eb4af3",
       "version_major": 2,
       "version_minor": 0
      },
      "text/plain": [
       "Epoch 947/1000:   0%|          | 0/2 [00:00<?, ?it/s]"
      ]
     },
     "metadata": {},
     "output_type": "display_data"
    },
    {
     "data": {
      "application/vnd.jupyter.widget-view+json": {
       "model_id": "e662a4dfdaea445c8baade030d4cb759",
       "version_major": 2,
       "version_minor": 0
      },
      "text/plain": [
       "Epoch 948/1000:   0%|          | 0/2 [00:00<?, ?it/s]"
      ]
     },
     "metadata": {},
     "output_type": "display_data"
    },
    {
     "data": {
      "application/vnd.jupyter.widget-view+json": {
       "model_id": "c53e9a73e4bb4f289079a6173e44b9e9",
       "version_major": 2,
       "version_minor": 0
      },
      "text/plain": [
       "Epoch 949/1000:   0%|          | 0/2 [00:00<?, ?it/s]"
      ]
     },
     "metadata": {},
     "output_type": "display_data"
    },
    {
     "data": {
      "application/vnd.jupyter.widget-view+json": {
       "model_id": "51f82e2166074fb88a88867eafac204f",
       "version_major": 2,
       "version_minor": 0
      },
      "text/plain": [
       "Epoch 950/1000:   0%|          | 0/2 [00:00<?, ?it/s]"
      ]
     },
     "metadata": {},
     "output_type": "display_data"
    },
    {
     "name": "stdout",
     "output_type": "stream",
     "text": [
      "Epoch 950/1000\n",
      "  Avg Train Loss: 0.084281\n",
      "    Physics Loss: 0.000256\n",
      "    Data Loss   : 0.579482\n",
      "  Avg Val Loss  : 0.576383\n"
     ]
    },
    {
     "data": {
      "application/vnd.jupyter.widget-view+json": {
       "model_id": "f0ae808bdba540b0b680168190ba7972",
       "version_major": 2,
       "version_minor": 0
      },
      "text/plain": [
       "Epoch 951/1000:   0%|          | 0/2 [00:00<?, ?it/s]"
      ]
     },
     "metadata": {},
     "output_type": "display_data"
    },
    {
     "data": {
      "application/vnd.jupyter.widget-view+json": {
       "model_id": "48e6c99181c04598be60c2c49b483e50",
       "version_major": 2,
       "version_minor": 0
      },
      "text/plain": [
       "Epoch 952/1000:   0%|          | 0/2 [00:00<?, ?it/s]"
      ]
     },
     "metadata": {},
     "output_type": "display_data"
    },
    {
     "data": {
      "application/vnd.jupyter.widget-view+json": {
       "model_id": "677ae13fe7ec4df28f6afa0fc764f5d7",
       "version_major": 2,
       "version_minor": 0
      },
      "text/plain": [
       "Epoch 953/1000:   0%|          | 0/2 [00:00<?, ?it/s]"
      ]
     },
     "metadata": {},
     "output_type": "display_data"
    },
    {
     "data": {
      "application/vnd.jupyter.widget-view+json": {
       "model_id": "dbe7e0884d92487aab97370d334dcb61",
       "version_major": 2,
       "version_minor": 0
      },
      "text/plain": [
       "Epoch 954/1000:   0%|          | 0/2 [00:00<?, ?it/s]"
      ]
     },
     "metadata": {},
     "output_type": "display_data"
    },
    {
     "data": {
      "application/vnd.jupyter.widget-view+json": {
       "model_id": "a34553333586405b81d517d0380f7634",
       "version_major": 2,
       "version_minor": 0
      },
      "text/plain": [
       "Epoch 955/1000:   0%|          | 0/2 [00:00<?, ?it/s]"
      ]
     },
     "metadata": {},
     "output_type": "display_data"
    },
    {
     "data": {
      "application/vnd.jupyter.widget-view+json": {
       "model_id": "fed08e49f4194d918957bf6eaa933d50",
       "version_major": 2,
       "version_minor": 0
      },
      "text/plain": [
       "Epoch 956/1000:   0%|          | 0/2 [00:00<?, ?it/s]"
      ]
     },
     "metadata": {},
     "output_type": "display_data"
    },
    {
     "data": {
      "application/vnd.jupyter.widget-view+json": {
       "model_id": "119e0100530c4a018b0d0907ebb30bc4",
       "version_major": 2,
       "version_minor": 0
      },
      "text/plain": [
       "Epoch 957/1000:   0%|          | 0/2 [00:00<?, ?it/s]"
      ]
     },
     "metadata": {},
     "output_type": "display_data"
    },
    {
     "data": {
      "application/vnd.jupyter.widget-view+json": {
       "model_id": "7d1e71bffaa847199bf90c309e61d842",
       "version_major": 2,
       "version_minor": 0
      },
      "text/plain": [
       "Epoch 958/1000:   0%|          | 0/2 [00:00<?, ?it/s]"
      ]
     },
     "metadata": {},
     "output_type": "display_data"
    },
    {
     "data": {
      "application/vnd.jupyter.widget-view+json": {
       "model_id": "d5fad328fd6c488aab7df4ad3fff7059",
       "version_major": 2,
       "version_minor": 0
      },
      "text/plain": [
       "Epoch 959/1000:   0%|          | 0/2 [00:00<?, ?it/s]"
      ]
     },
     "metadata": {},
     "output_type": "display_data"
    },
    {
     "data": {
      "application/vnd.jupyter.widget-view+json": {
       "model_id": "c5be42687abf4ae6bbeb1094b8c80a39",
       "version_major": 2,
       "version_minor": 0
      },
      "text/plain": [
       "Epoch 960/1000:   0%|          | 0/2 [00:00<?, ?it/s]"
      ]
     },
     "metadata": {},
     "output_type": "display_data"
    },
    {
     "data": {
      "application/vnd.jupyter.widget-view+json": {
       "model_id": "51cdd36338234700964f5548c0442d5f",
       "version_major": 2,
       "version_minor": 0
      },
      "text/plain": [
       "Epoch 961/1000:   0%|          | 0/2 [00:00<?, ?it/s]"
      ]
     },
     "metadata": {},
     "output_type": "display_data"
    },
    {
     "data": {
      "application/vnd.jupyter.widget-view+json": {
       "model_id": "0b42fe4c97af4352a73a499d23d48d5c",
       "version_major": 2,
       "version_minor": 0
      },
      "text/plain": [
       "Epoch 962/1000:   0%|          | 0/2 [00:00<?, ?it/s]"
      ]
     },
     "metadata": {},
     "output_type": "display_data"
    },
    {
     "data": {
      "application/vnd.jupyter.widget-view+json": {
       "model_id": "0964a442bbb9423caaa5a086706b6206",
       "version_major": 2,
       "version_minor": 0
      },
      "text/plain": [
       "Epoch 963/1000:   0%|          | 0/2 [00:00<?, ?it/s]"
      ]
     },
     "metadata": {},
     "output_type": "display_data"
    },
    {
     "data": {
      "application/vnd.jupyter.widget-view+json": {
       "model_id": "e3a3c9ea385841dfa48c72081df852c1",
       "version_major": 2,
       "version_minor": 0
      },
      "text/plain": [
       "Epoch 964/1000:   0%|          | 0/2 [00:00<?, ?it/s]"
      ]
     },
     "metadata": {},
     "output_type": "display_data"
    },
    {
     "data": {
      "application/vnd.jupyter.widget-view+json": {
       "model_id": "8873b10728fb49d1b77dbc47abe2dca1",
       "version_major": 2,
       "version_minor": 0
      },
      "text/plain": [
       "Epoch 965/1000:   0%|          | 0/2 [00:00<?, ?it/s]"
      ]
     },
     "metadata": {},
     "output_type": "display_data"
    },
    {
     "data": {
      "application/vnd.jupyter.widget-view+json": {
       "model_id": "d3933cb602ca4168a1d1270b4a1a4924",
       "version_major": 2,
       "version_minor": 0
      },
      "text/plain": [
       "Epoch 966/1000:   0%|          | 0/2 [00:00<?, ?it/s]"
      ]
     },
     "metadata": {},
     "output_type": "display_data"
    },
    {
     "data": {
      "application/vnd.jupyter.widget-view+json": {
       "model_id": "fb6ff634733543b6b99ee2e1773cabb8",
       "version_major": 2,
       "version_minor": 0
      },
      "text/plain": [
       "Epoch 967/1000:   0%|          | 0/2 [00:00<?, ?it/s]"
      ]
     },
     "metadata": {},
     "output_type": "display_data"
    },
    {
     "data": {
      "application/vnd.jupyter.widget-view+json": {
       "model_id": "7596e4ff648648fa85221ee2fffed983",
       "version_major": 2,
       "version_minor": 0
      },
      "text/plain": [
       "Epoch 968/1000:   0%|          | 0/2 [00:00<?, ?it/s]"
      ]
     },
     "metadata": {},
     "output_type": "display_data"
    },
    {
     "data": {
      "application/vnd.jupyter.widget-view+json": {
       "model_id": "320ae1d1310a42a9a64daefc890c3fa8",
       "version_major": 2,
       "version_minor": 0
      },
      "text/plain": [
       "Epoch 969/1000:   0%|          | 0/2 [00:00<?, ?it/s]"
      ]
     },
     "metadata": {},
     "output_type": "display_data"
    },
    {
     "data": {
      "application/vnd.jupyter.widget-view+json": {
       "model_id": "f258cab7efc34702924912c9875d2bcf",
       "version_major": 2,
       "version_minor": 0
      },
      "text/plain": [
       "Epoch 970/1000:   0%|          | 0/2 [00:00<?, ?it/s]"
      ]
     },
     "metadata": {},
     "output_type": "display_data"
    },
    {
     "data": {
      "application/vnd.jupyter.widget-view+json": {
       "model_id": "e5ff1222c5034078986b236f8c7a6093",
       "version_major": 2,
       "version_minor": 0
      },
      "text/plain": [
       "Epoch 971/1000:   0%|          | 0/2 [00:00<?, ?it/s]"
      ]
     },
     "metadata": {},
     "output_type": "display_data"
    },
    {
     "data": {
      "application/vnd.jupyter.widget-view+json": {
       "model_id": "ed9cc1c3bec54441aedd12a65a106246",
       "version_major": 2,
       "version_minor": 0
      },
      "text/plain": [
       "Epoch 972/1000:   0%|          | 0/2 [00:00<?, ?it/s]"
      ]
     },
     "metadata": {},
     "output_type": "display_data"
    },
    {
     "data": {
      "application/vnd.jupyter.widget-view+json": {
       "model_id": "16fb1c97903c405c86eb3a7410b96983",
       "version_major": 2,
       "version_minor": 0
      },
      "text/plain": [
       "Epoch 973/1000:   0%|          | 0/2 [00:00<?, ?it/s]"
      ]
     },
     "metadata": {},
     "output_type": "display_data"
    },
    {
     "data": {
      "application/vnd.jupyter.widget-view+json": {
       "model_id": "24daa6521e5f4b788052d6b24480f002",
       "version_major": 2,
       "version_minor": 0
      },
      "text/plain": [
       "Epoch 974/1000:   0%|          | 0/2 [00:00<?, ?it/s]"
      ]
     },
     "metadata": {},
     "output_type": "display_data"
    },
    {
     "data": {
      "application/vnd.jupyter.widget-view+json": {
       "model_id": "3c9f72d5bdf447aeaa55d4846b6c20be",
       "version_major": 2,
       "version_minor": 0
      },
      "text/plain": [
       "Epoch 975/1000:   0%|          | 0/2 [00:00<?, ?it/s]"
      ]
     },
     "metadata": {},
     "output_type": "display_data"
    },
    {
     "data": {
      "application/vnd.jupyter.widget-view+json": {
       "model_id": "f676986facb34a028f9864636a69f070",
       "version_major": 2,
       "version_minor": 0
      },
      "text/plain": [
       "Epoch 976/1000:   0%|          | 0/2 [00:00<?, ?it/s]"
      ]
     },
     "metadata": {},
     "output_type": "display_data"
    },
    {
     "data": {
      "application/vnd.jupyter.widget-view+json": {
       "model_id": "2fa4331df3174e8f89296b6e84733048",
       "version_major": 2,
       "version_minor": 0
      },
      "text/plain": [
       "Epoch 977/1000:   0%|          | 0/2 [00:00<?, ?it/s]"
      ]
     },
     "metadata": {},
     "output_type": "display_data"
    },
    {
     "data": {
      "application/vnd.jupyter.widget-view+json": {
       "model_id": "97ce5f9885d24eefb518be7e5daca584",
       "version_major": 2,
       "version_minor": 0
      },
      "text/plain": [
       "Epoch 978/1000:   0%|          | 0/2 [00:00<?, ?it/s]"
      ]
     },
     "metadata": {},
     "output_type": "display_data"
    },
    {
     "data": {
      "application/vnd.jupyter.widget-view+json": {
       "model_id": "c1948215604e4b1a8deb672f9283a384",
       "version_major": 2,
       "version_minor": 0
      },
      "text/plain": [
       "Epoch 979/1000:   0%|          | 0/2 [00:00<?, ?it/s]"
      ]
     },
     "metadata": {},
     "output_type": "display_data"
    },
    {
     "data": {
      "application/vnd.jupyter.widget-view+json": {
       "model_id": "be102a030c034e8a91bed4838b6b9dff",
       "version_major": 2,
       "version_minor": 0
      },
      "text/plain": [
       "Epoch 980/1000:   0%|          | 0/2 [00:00<?, ?it/s]"
      ]
     },
     "metadata": {},
     "output_type": "display_data"
    },
    {
     "data": {
      "application/vnd.jupyter.widget-view+json": {
       "model_id": "755cacf8c31a4aa99d2b1d0a2877935d",
       "version_major": 2,
       "version_minor": 0
      },
      "text/plain": [
       "Epoch 981/1000:   0%|          | 0/2 [00:00<?, ?it/s]"
      ]
     },
     "metadata": {},
     "output_type": "display_data"
    },
    {
     "data": {
      "application/vnd.jupyter.widget-view+json": {
       "model_id": "3acdde9a1f184c32b50ecf505945d562",
       "version_major": 2,
       "version_minor": 0
      },
      "text/plain": [
       "Epoch 982/1000:   0%|          | 0/2 [00:00<?, ?it/s]"
      ]
     },
     "metadata": {},
     "output_type": "display_data"
    },
    {
     "data": {
      "application/vnd.jupyter.widget-view+json": {
       "model_id": "3f163e38f11b4036bfab27cbe83de93c",
       "version_major": 2,
       "version_minor": 0
      },
      "text/plain": [
       "Epoch 983/1000:   0%|          | 0/2 [00:00<?, ?it/s]"
      ]
     },
     "metadata": {},
     "output_type": "display_data"
    },
    {
     "data": {
      "application/vnd.jupyter.widget-view+json": {
       "model_id": "b61eaa4a78aa4cca913573e5eb0f8db2",
       "version_major": 2,
       "version_minor": 0
      },
      "text/plain": [
       "Epoch 984/1000:   0%|          | 0/2 [00:00<?, ?it/s]"
      ]
     },
     "metadata": {},
     "output_type": "display_data"
    },
    {
     "data": {
      "application/vnd.jupyter.widget-view+json": {
       "model_id": "8c8aa5dbb2b64c89adbb40e5ab35a472",
       "version_major": 2,
       "version_minor": 0
      },
      "text/plain": [
       "Epoch 985/1000:   0%|          | 0/2 [00:00<?, ?it/s]"
      ]
     },
     "metadata": {},
     "output_type": "display_data"
    },
    {
     "data": {
      "application/vnd.jupyter.widget-view+json": {
       "model_id": "7a3d2c276b8642258a1982ed782b98a7",
       "version_major": 2,
       "version_minor": 0
      },
      "text/plain": [
       "Epoch 986/1000:   0%|          | 0/2 [00:00<?, ?it/s]"
      ]
     },
     "metadata": {},
     "output_type": "display_data"
    },
    {
     "data": {
      "application/vnd.jupyter.widget-view+json": {
       "model_id": "53b7a82cd05d4a66a6dfaa91296b8905",
       "version_major": 2,
       "version_minor": 0
      },
      "text/plain": [
       "Epoch 987/1000:   0%|          | 0/2 [00:00<?, ?it/s]"
      ]
     },
     "metadata": {},
     "output_type": "display_data"
    },
    {
     "data": {
      "application/vnd.jupyter.widget-view+json": {
       "model_id": "cc77175290c34857ac3ea09ff1454b46",
       "version_major": 2,
       "version_minor": 0
      },
      "text/plain": [
       "Epoch 988/1000:   0%|          | 0/2 [00:00<?, ?it/s]"
      ]
     },
     "metadata": {},
     "output_type": "display_data"
    },
    {
     "data": {
      "application/vnd.jupyter.widget-view+json": {
       "model_id": "f4f8cc87fb9f4e00976ed05597c46209",
       "version_major": 2,
       "version_minor": 0
      },
      "text/plain": [
       "Epoch 989/1000:   0%|          | 0/2 [00:00<?, ?it/s]"
      ]
     },
     "metadata": {},
     "output_type": "display_data"
    },
    {
     "data": {
      "application/vnd.jupyter.widget-view+json": {
       "model_id": "1acf5d4f04924633beee5fdeb8c12efa",
       "version_major": 2,
       "version_minor": 0
      },
      "text/plain": [
       "Epoch 990/1000:   0%|          | 0/2 [00:00<?, ?it/s]"
      ]
     },
     "metadata": {},
     "output_type": "display_data"
    },
    {
     "data": {
      "application/vnd.jupyter.widget-view+json": {
       "model_id": "01b97ff6f4884555bbf75fd167aa0e9e",
       "version_major": 2,
       "version_minor": 0
      },
      "text/plain": [
       "Epoch 991/1000:   0%|          | 0/2 [00:00<?, ?it/s]"
      ]
     },
     "metadata": {},
     "output_type": "display_data"
    },
    {
     "data": {
      "application/vnd.jupyter.widget-view+json": {
       "model_id": "fd8f4a8a57824841a4cd2fe6d94b0f8e",
       "version_major": 2,
       "version_minor": 0
      },
      "text/plain": [
       "Epoch 992/1000:   0%|          | 0/2 [00:00<?, ?it/s]"
      ]
     },
     "metadata": {},
     "output_type": "display_data"
    },
    {
     "data": {
      "application/vnd.jupyter.widget-view+json": {
       "model_id": "886534c567c54017ac834f756a7bffe8",
       "version_major": 2,
       "version_minor": 0
      },
      "text/plain": [
       "Epoch 993/1000:   0%|          | 0/2 [00:00<?, ?it/s]"
      ]
     },
     "metadata": {},
     "output_type": "display_data"
    },
    {
     "data": {
      "application/vnd.jupyter.widget-view+json": {
       "model_id": "50c6c6ca9063442490563a47c9e5521b",
       "version_major": 2,
       "version_minor": 0
      },
      "text/plain": [
       "Epoch 994/1000:   0%|          | 0/2 [00:00<?, ?it/s]"
      ]
     },
     "metadata": {},
     "output_type": "display_data"
    },
    {
     "data": {
      "application/vnd.jupyter.widget-view+json": {
       "model_id": "2655892bf75d46e782f054a157dfb64f",
       "version_major": 2,
       "version_minor": 0
      },
      "text/plain": [
       "Epoch 995/1000:   0%|          | 0/2 [00:00<?, ?it/s]"
      ]
     },
     "metadata": {},
     "output_type": "display_data"
    },
    {
     "data": {
      "application/vnd.jupyter.widget-view+json": {
       "model_id": "81311a0c185547d09f37c025b65bed4f",
       "version_major": 2,
       "version_minor": 0
      },
      "text/plain": [
       "Epoch 996/1000:   0%|          | 0/2 [00:00<?, ?it/s]"
      ]
     },
     "metadata": {},
     "output_type": "display_data"
    },
    {
     "data": {
      "application/vnd.jupyter.widget-view+json": {
       "model_id": "620c990c523c47e0b3bc5a6f99e59048",
       "version_major": 2,
       "version_minor": 0
      },
      "text/plain": [
       "Epoch 997/1000:   0%|          | 0/2 [00:00<?, ?it/s]"
      ]
     },
     "metadata": {},
     "output_type": "display_data"
    },
    {
     "data": {
      "application/vnd.jupyter.widget-view+json": {
       "model_id": "bd75858c6a284e249b7689ba20f42eb0",
       "version_major": 2,
       "version_minor": 0
      },
      "text/plain": [
       "Epoch 998/1000:   0%|          | 0/2 [00:00<?, ?it/s]"
      ]
     },
     "metadata": {},
     "output_type": "display_data"
    },
    {
     "data": {
      "application/vnd.jupyter.widget-view+json": {
       "model_id": "698dae5d39a44cab819f7ad78494d5d6",
       "version_major": 2,
       "version_minor": 0
      },
      "text/plain": [
       "Epoch 999/1000:   0%|          | 0/2 [00:00<?, ?it/s]"
      ]
     },
     "metadata": {},
     "output_type": "display_data"
    },
    {
     "data": {
      "application/vnd.jupyter.widget-view+json": {
       "model_id": "e6087a096c0b4769ae4ba4691e486377",
       "version_major": 2,
       "version_minor": 0
      },
      "text/plain": [
       "Epoch 1000/1000:   0%|          | 0/2 [00:00<?, ?it/s]"
      ]
     },
     "metadata": {},
     "output_type": "display_data"
    },
    {
     "name": "stdout",
     "output_type": "stream",
     "text": [
      "Epoch 1000/1000\n",
      "  Avg Train Loss: 0.056079\n",
      "    Physics Loss: 0.000251\n",
      "    Data Loss   : 0.558280\n",
      "  Avg Val Loss  : 0.576359\n",
      "Total training time: 2333.47 seconds\n",
      "Training phase complete.\n",
      "Model saved to ns_34_3.pt\n"
     ]
    },
    {
     "ename": "FileNotFoundError",
     "evalue": "Model file './models/ns_34_3_best.pt' not found.",
     "output_type": "error",
     "traceback": [
      "\u001b[0;31m---------------------------------------------------------------------------\u001b[0m",
      "\u001b[0;31mFileNotFoundError\u001b[0m                         Traceback (most recent call last)",
      "File \u001b[1;32m/home/olarinoyem/Project/PINN-wss/aneurysm_pinns/ns_34_v4.py:404\u001b[0m\n\u001b[1;32m    401\u001b[0m \u001b[39mfrom\u001b[39;00m \u001b[39msklearn\u001b[39;00m\u001b[39m.\u001b[39;00m\u001b[39mmetrics\u001b[39;00m \u001b[39mimport\u001b[39;00m mean_squared_error, r2_score\n\u001b[1;32m    403\u001b[0m \u001b[39m# Load the best saved model\u001b[39;00m\n\u001b[0;32m--> 404\u001b[0m model, _, _, _ \u001b[39m=\u001b[39m load_model(\u001b[39mf\u001b[39;49m\u001b[39m'\u001b[39;49m\u001b[39m./models/\u001b[39;49m\u001b[39m{\u001b[39;49;00msave_fn\u001b[39m}\u001b[39;49;00m\u001b[39m_best.pt\u001b[39;49m\u001b[39m'\u001b[39;49m, model)\n\u001b[1;32m    405\u001b[0m model\u001b[39m.\u001b[39meval()\n\u001b[1;32m    407\u001b[0m \u001b[39m# Evaluate the model on the entire CFD data\u001b[39;00m\n",
      "File \u001b[1;32m/home/olarinoyem/Project/PINN-wss/aneurysm_pinns/ns_34_v4.py:25\u001b[0m\n\u001b[1;32m     23\u001b[0m \u001b[39mdef\u001b[39;00m \u001b[39mload_model\u001b[39m(path, model, optimizer\u001b[39m=\u001b[39m\u001b[39mNone\u001b[39;00m, scheduler\u001b[39m=\u001b[39m\u001b[39mNone\u001b[39;00m):\n\u001b[1;32m     24\u001b[0m     \u001b[39mif\u001b[39;00m \u001b[39mnot\u001b[39;00m os\u001b[39m.\u001b[39mpath\u001b[39m.\u001b[39mexists(path):\n\u001b[0;32m---> 25\u001b[0m         \u001b[39mraise\u001b[39;00m \u001b[39mFileNotFoundError\u001b[39;00m(\u001b[39mf\u001b[39m\u001b[39m\"\u001b[39m\u001b[39mModel file \u001b[39m\u001b[39m'\u001b[39m\u001b[39m{\u001b[39;00mpath\u001b[39m}\u001b[39;00m\u001b[39m'\u001b[39m\u001b[39m not found.\u001b[39m\u001b[39m\"\u001b[39m)\n\u001b[1;32m     26\u001b[0m     checkpoint \u001b[39m=\u001b[39m torch\u001b[39m.\u001b[39mload(path)\n\u001b[1;32m     27\u001b[0m     model\u001b[39m.\u001b[39mload_state_dict(checkpoint[\u001b[39m'\u001b[39m\u001b[39mmodel_state_dict\u001b[39m\u001b[39m'\u001b[39m])\n",
      "\u001b[0;31mFileNotFoundError\u001b[0m: Model file './models/ns_34_3_best.pt' not found."
     ]
    }
   ],
   "source": [
    "# -*- coding: utf-8 -*-\n",
    "\"\"\"\n",
    "ns_34_v3_rewritten_no_boundary_with_all_features.py\n",
    "\n",
    "This script trains a Physics-Informed Neural Network (PINN) to solve the Navier-Stokes equations\n",
    "for aneurysmal flow dynamics, handles the absence of boundary data, measures training time,\n",
    "evaluates the model, saves training parameters, and plots loss and prediction comparisons.\n",
    "\"\"\"\n",
    "\n",
    "import torch\n",
    "import torch.nn as nn\n",
    "import torch.optim as optim\n",
    "from torch.utils.data import TensorDataset, DataLoader, random_split\n",
    "from torch.optim.lr_scheduler import StepLR\n",
    "import numpy as np\n",
    "from tqdm.auto import tqdm  # For progress bars\n",
    "import time  # For tracking training time\n",
    "import matplotlib.pyplot as plt  # For plotting\n",
    "import os  # For file path operations\n",
    "import json  # For saving parameters\n",
    "\n",
    "###################################### Helper functions for loading and saving trained models\n",
    "def load_model(path, model, optimizer=None, scheduler=None):\n",
    "    if not os.path.exists(path):\n",
    "        raise FileNotFoundError(f\"Model file '{path}' not found.\")\n",
    "    checkpoint = torch.load(path)\n",
    "    model.load_state_dict(checkpoint['model_state_dict'])\n",
    "    if optimizer is not None and 'optimizer_state_dict' in checkpoint and checkpoint['optimizer_state_dict'] is not None:\n",
    "        optimizer.load_state_dict(checkpoint['optimizer_state_dict'])\n",
    "    if scheduler is not None and 'scheduler_state_dict' in checkpoint and checkpoint['scheduler_state_dict'] is not None:\n",
    "        scheduler.load_state_dict(checkpoint['scheduler_state_dict'])\n",
    "    training_params = checkpoint.get('training_params', None)  # Retrieve training parameters if available\n",
    "    return model, optimizer, scheduler, training_params\n",
    "\n",
    "def save_model(path, model, optimizer=None, scheduler=None, training_params=None):\n",
    "    data = {\n",
    "        'model_state_dict': model.state_dict(),\n",
    "        'optimizer_state_dict': optimizer.state_dict() if optimizer is not None else None,\n",
    "        'scheduler_state_dict': scheduler.state_dict() if scheduler is not None else None,\n",
    "        'training_params': training_params  # Include training parameters\n",
    "    }\n",
    "    torch.save(data, path)\n",
    "\n",
    "###################################### Helper functions for retrieving CSV data (mesh, CFD results)\n",
    "def parse_csv_data(path, category, device):\n",
    "    if not os.path.exists(path):\n",
    "        raise FileNotFoundError(f\"Data file '{path}' not found.\")\n",
    "    \n",
    "    if category == 'mesh':\n",
    "        data = np.loadtxt(path, delimiter=',', unpack=True)\n",
    "        if data.shape[0] != 3:\n",
    "            raise ValueError(f\"Expected 3 columns for 'mesh', got {data.shape[0]} columns.\")\n",
    "        x, y, z = data\n",
    "        x = torch.tensor(x, dtype=torch.float32, device=device).reshape(-1,1).requires_grad_(True)\n",
    "        y = torch.tensor(y, dtype=torch.float32, device=device).reshape(-1,1).requires_grad_(True)\n",
    "        z = torch.tensor(z, dtype=torch.float32, device=device).reshape(-1,1).requires_grad_(True)\n",
    "        dataset = TensorDataset(x, y, z)\n",
    "        return dataset\n",
    "    \n",
    "    elif category == 'cfd':\n",
    "        data = np.loadtxt(path, delimiter=',', unpack=True)\n",
    "        if data.shape[0] != 7:\n",
    "            raise ValueError(f\"Expected 7 columns for 'cfd', got {data.shape[0]} columns.\")\n",
    "        x, y, z, p, u, v, w = data\n",
    "        x = torch.tensor(x, dtype=torch.float32, device=device).reshape(-1,1)\n",
    "        y = torch.tensor(y, dtype=torch.float32, device=device).reshape(-1,1)\n",
    "        z = torch.tensor(z, dtype=torch.float32, device=device).reshape(-1,1)\n",
    "        p = torch.tensor(p, dtype=torch.float32, device=device).reshape(-1,1)\n",
    "        u = torch.tensor(u, dtype=torch.float32, device=device).reshape(-1,1)\n",
    "        v = torch.tensor(v, dtype=torch.float32, device=device).reshape(-1,1)\n",
    "        w = torch.tensor(w, dtype=torch.float32, device=device).reshape(-1,1)\n",
    "        dataset = TensorDataset(x, y, z, p, u, v, w)\n",
    "        return dataset\n",
    "    \n",
    "    else:\n",
    "        raise ValueError(f\"Unknown category: {category}\")\n",
    "\n",
    "###################################### The neural network with configurable parameters\n",
    "class NSNeuralNet(nn.Module):\n",
    "    def __init__(self, input_size=3, output_size=4, num_layers=12, units_per_layer=256, activation='silu'):\n",
    "        super().__init__()\n",
    "        layers = []\n",
    "        activation_function = self.get_activation_function(activation)\n",
    "        # Input layer\n",
    "        layers.append(nn.Linear(input_size, units_per_layer))\n",
    "        layers.append(activation_function)\n",
    "        # Hidden layers\n",
    "        for _ in range(num_layers - 2):\n",
    "            layers.append(nn.Linear(units_per_layer, units_per_layer))\n",
    "            layers.append(activation_function)\n",
    "        # Output layer\n",
    "        layers.append(nn.Linear(units_per_layer, output_size))\n",
    "        self.main = nn.Sequential(*layers)\n",
    "    \n",
    "    def forward(self, x, y, z):\n",
    "        return self.main(torch.cat([x, y, z], axis=1))\n",
    "    \n",
    "    def get_activation_function(self, activation):\n",
    "        activation = activation.lower()\n",
    "        if activation == 'relu':\n",
    "            return nn.ReLU()\n",
    "        elif activation == 'tanh':\n",
    "            return nn.Tanh()\n",
    "        elif activation == 'silu':\n",
    "            return nn.SiLU()\n",
    "        elif activation == 'elu':\n",
    "            return nn.ELU()\n",
    "        elif activation == 'leaky_relu':\n",
    "            return nn.LeakyReLU()\n",
    "        else:\n",
    "            raise ValueError(f\"Unsupported activation function: {activation}\")\n",
    "\n",
    "###################################### Define the loss functions\n",
    "loss_func = nn.MSELoss()\n",
    "\n",
    "def loss_physics(net, x, y, z):\n",
    "    # Physics-informed loss enforcing Navier-Stokes equations\n",
    "    qq = net(x, y, z)\n",
    "    p = qq[:,0].reshape(-1,1)\n",
    "    u = qq[:,1].reshape(-1,1)\n",
    "    v = qq[:,2].reshape(-1,1)\n",
    "    w = qq[:,3].reshape(-1,1)\n",
    "    del qq\n",
    "\n",
    "    # First-order derivatives\n",
    "    p_x = torch.autograd.grad(p, x, grad_outputs=torch.ones_like(p), create_graph=True)[0]\n",
    "    p_y = torch.autograd.grad(p, y, grad_outputs=torch.ones_like(p), create_graph=True)[0]\n",
    "    p_z = torch.autograd.grad(p, z, grad_outputs=torch.ones_like(p), create_graph=True)[0]\n",
    "\n",
    "    u_x = torch.autograd.grad(u, x, grad_outputs=torch.ones_like(u), create_graph=True)[0]\n",
    "    u_y = torch.autograd.grad(u, y, grad_outputs=torch.ones_like(u), create_graph=True)[0]\n",
    "    u_z = torch.autograd.grad(u, z, grad_outputs=torch.ones_like(u), create_graph=True)[0]\n",
    "\n",
    "    v_x = torch.autograd.grad(v, x, grad_outputs=torch.ones_like(v), create_graph=True)[0]\n",
    "    v_y = torch.autograd.grad(v, y, grad_outputs=torch.ones_like(v), create_graph=True)[0]\n",
    "    v_z = torch.autograd.grad(v, z, grad_outputs=torch.ones_like(v), create_graph=True)[0]\n",
    "\n",
    "    w_x = torch.autograd.grad(w, x, grad_outputs=torch.ones_like(w), create_graph=True)[0]\n",
    "    w_y = torch.autograd.grad(w, y, grad_outputs=torch.ones_like(w), create_graph=True)[0]\n",
    "    w_z = torch.autograd.grad(w, z, grad_outputs=torch.ones_like(w), create_graph=True)[0]\n",
    "\n",
    "    # Second-order derivatives\n",
    "    u_xx = torch.autograd.grad(u_x, x, grad_outputs=torch.ones_like(u_x), create_graph=True)[0]\n",
    "    u_yy = torch.autograd.grad(u_y, y, grad_outputs=torch.ones_like(u_y), create_graph=True)[0]\n",
    "    u_zz = torch.autograd.grad(u_z, z, grad_outputs=torch.ones_like(u_z), create_graph=True)[0]\n",
    "\n",
    "    v_xx = torch.autograd.grad(v_x, x, grad_outputs=torch.ones_like(v_x), create_graph=True)[0]\n",
    "    v_yy = torch.autograd.grad(v_y, y, grad_outputs=torch.ones_like(v_y), create_graph=True)[0]\n",
    "    v_zz = torch.autograd.grad(v_z, z, grad_outputs=torch.ones_like(v_z), create_graph=True)[0]\n",
    "\n",
    "    w_xx = torch.autograd.grad(w_x, x, grad_outputs=torch.ones_like(w_x), create_graph=True)[0]\n",
    "    w_yy = torch.autograd.grad(w_y, y, grad_outputs=torch.ones_like(w_y), create_graph=True)[0]\n",
    "    w_zz = torch.autograd.grad(w_z, z, grad_outputs=torch.ones_like(w_z), create_graph=True)[0]\n",
    "\n",
    "    rho = 1050  # density\n",
    "    mu = 0.0035  # viscosity\n",
    "\n",
    "    # Navier-Stokes equations\n",
    "    eqn_x = p_x + rho * (u*u_x + v*u_y + w*u_z) - mu * (u_xx + u_yy + u_zz)\n",
    "    eqn_y = p_y + rho * (u*v_x + v*v_y + w*v_z) - mu * (v_xx + v_yy + v_zz)\n",
    "    eqn_z = p_z + rho * (u*w_x + v*w_y + w*w_z) - mu * (w_xx + w_yy + w_zz)\n",
    "    eqn_c = u_x + v_y + w_z  # Continuity equation\n",
    "\n",
    "    # Concatenate all residuals\n",
    "    dt = torch.cat([eqn_x, eqn_y, eqn_z, eqn_c], axis=1)\n",
    "    return loss_func(dt, torch.zeros_like(dt))\n",
    "\n",
    "def loss_data(net, x, y, z, p, u, v, w):\n",
    "    # Data loss comparing network predictions with CFD data\n",
    "    predictions = net(x, y, z)\n",
    "    targets = torch.cat([p, u, v, w], axis=1)\n",
    "    return loss_func(predictions, targets)\n",
    "\n",
    "###################################### CONFIGURABLE PARAMETERS\n",
    "device = torch.device(\"cuda:1\" if torch.cuda.is_available() else \"cpu\")\n",
    "input_size = 3  # x, y, z\n",
    "output_size = 4  # p, u, v, w\n",
    "num_layers = 12\n",
    "units_per_layer = 256\n",
    "activation_function = 'silu'  # Options: 'relu', 'tanh', 'silu', 'elu', 'leaky_relu'\n",
    "\n",
    "epochs = 1000\n",
    "\n",
    "load_previous = False\n",
    "save_end = True\n",
    "load_fn = 'ns_34_3'\n",
    "save_fn = 'ns_34_3'\n",
    "\n",
    "print_every = 50\n",
    "save_every = 100\n",
    "\n",
    "learning_rate = 1e-3\n",
    "lr_steps = 100\n",
    "lr_gamma = 0.5\n",
    "\n",
    "# Adaptive weighting parameters\n",
    "lambda_data_initial = 1.0\n",
    "lambda_data_final = 0.1\n",
    "\n",
    "file_mesh = 'mesh_1_s.csv'\n",
    "file_cfd = 'train_1.csv'\n",
    "\n",
    "batch_mesh = 5000\n",
    "batch_cfd = 2500\n",
    "\n",
    "patience = 20  # For early stopping\n",
    "\n",
    "# Collect and save training parameters\n",
    "training_params = {\n",
    "    'device': str(device),\n",
    "    'input_size': input_size,\n",
    "    'output_size': output_size,\n",
    "    'num_layers': num_layers,\n",
    "    'units_per_layer': units_per_layer,\n",
    "    'activation_function': activation_function,\n",
    "    'epochs': epochs,\n",
    "    'load_previous': load_previous,\n",
    "    'save_end': save_end,\n",
    "    'load_fn': load_fn,\n",
    "    'save_fn': save_fn,\n",
    "    'print_every': print_every,\n",
    "    'save_every': save_every,\n",
    "    'learning_rate': learning_rate,\n",
    "    'lr_steps': lr_steps,\n",
    "    'lr_gamma': lr_gamma,\n",
    "    'lambda_data_initial': lambda_data_initial,\n",
    "    'lambda_data_final': lambda_data_final,\n",
    "    'file_mesh': file_mesh,\n",
    "    'file_cfd': file_cfd,\n",
    "    'batch_mesh': batch_mesh,\n",
    "    'batch_cfd': batch_cfd,\n",
    "    'patience': patience,\n",
    "}\n",
    "\n",
    "# Save the parameters to a JSON file\n",
    "params_filename = f'{save_fn}_params.json'\n",
    "with open(params_filename, 'w') as f:\n",
    "    json.dump(training_params, f, indent=4)\n",
    "\n",
    "print(f'Training parameters saved to {params_filename}')\n",
    "\n",
    "###################################### Initialize the Neural Network\n",
    "model = NSNeuralNet(\n",
    "    input_size=input_size,\n",
    "    output_size=output_size,\n",
    "    num_layers=num_layers,\n",
    "    units_per_layer=units_per_layer,\n",
    "    activation=activation_function\n",
    ").to(device)\n",
    "model.apply(lambda m: nn.init.kaiming_normal_(m.weight) if isinstance(m, nn.Linear) else None)\n",
    "\n",
    "###################################### Initialize Optimizer and Scheduler\n",
    "optimizer = optim.Adam(model.parameters(), lr=learning_rate)\n",
    "scheduler = StepLR(optimizer, step_size=lr_steps, gamma=lr_gamma)\n",
    "\n",
    "# Load previous model if specified\n",
    "if load_previous:\n",
    "    model, optimizer, scheduler, loaded_params = load_model(f'{load_fn}.pt', model, optimizer, scheduler)\n",
    "    if loaded_params is not None:\n",
    "        print(f\"Loaded training parameters from {load_fn}.pt\")\n",
    "else:\n",
    "    loaded_params = None\n",
    "\n",
    "###################################### TRAIN THE MODEL\n",
    "print(f'Starting training on {device}...')\n",
    "\n",
    "# Load datasets\n",
    "mesh_dataset = parse_csv_data(file_mesh, 'mesh', device)\n",
    "cfd_dataset = parse_csv_data(file_cfd, 'cfd', device)\n",
    "\n",
    "# Split CFD data into training and validation sets\n",
    "train_size = int(0.8 * len(cfd_dataset))\n",
    "val_size = len(cfd_dataset) - train_size\n",
    "cfd_train_dataset, cfd_val_dataset = random_split(cfd_dataset, [train_size, val_size])\n",
    "\n",
    "# Create DataLoaders\n",
    "mesh_loader = DataLoader(mesh_dataset, batch_size=batch_mesh, shuffle=True)\n",
    "cfd_train_loader = DataLoader(cfd_train_dataset, batch_size=batch_cfd, shuffle=True)\n",
    "cfd_val_loader = DataLoader(cfd_val_dataset, batch_size=batch_cfd, shuffle=False)\n",
    "\n",
    "best_val_loss = float('inf')\n",
    "patience_counter = 0\n",
    "\n",
    "# Initialize lists to store loss values for plotting\n",
    "train_losses = []\n",
    "physics_losses = []\n",
    "data_losses = []\n",
    "val_losses = []\n",
    "\n",
    "# Function to adjust lambda values adaptively\n",
    "def adjust_lambda(epoch, total_epochs, initial_value, final_value):\n",
    "    return initial_value + (final_value - initial_value) * (epoch / total_epochs)\n",
    "\n",
    "# Start timer\n",
    "start_time = time.time()  # Record start time\n",
    "\n",
    "for epoch in range(1, epochs + 1):\n",
    "    model.train()\n",
    "    # Adjust adaptive weights\n",
    "    lambda_data = adjust_lambda(epoch, epochs, lambda_data_initial, lambda_data_final)\n",
    "\n",
    "    # Initialize accumulators for losses\n",
    "    total_loss = 0.0\n",
    "    total_physics_loss = 0.0\n",
    "    total_data_loss = 0.0\n",
    "    total_batches = 0\n",
    "\n",
    "    # Create iterator for mesh data\n",
    "    mesh_iter = iter(mesh_loader)\n",
    "\n",
    "    # Loop over CFD training data\n",
    "    for xd, yd, zd, pd, ud, vd, wd in tqdm(cfd_train_loader, desc=f\"Epoch {epoch}/{epochs}\", leave=False):\n",
    "        # Get next batch from mesh_loader\n",
    "        try:\n",
    "            xm, ym, zm = next(mesh_iter)\n",
    "        except StopIteration:\n",
    "            mesh_iter = iter(mesh_loader)\n",
    "            xm, ym, zm = next(mesh_iter)\n",
    "\n",
    "        # Zero gradients\n",
    "        optimizer.zero_grad()\n",
    "\n",
    "        # Compute losses\n",
    "        l_phys = loss_physics(model, xm, ym, zm)\n",
    "        l_data = loss_data(model, xd, yd, zd, pd, ud, vd, wd)\n",
    "\n",
    "        # Total loss with adaptive weighting\n",
    "        l_total = l_phys + lambda_data * l_data\n",
    "\n",
    "        # Backward pass and optimization\n",
    "        l_total.backward()\n",
    "        optimizer.step()\n",
    "\n",
    "        # Accumulate losses\n",
    "        total_loss += l_total.item()\n",
    "        total_physics_loss += l_phys.item()\n",
    "        total_data_loss += l_data.item()\n",
    "        total_batches += 1\n",
    "\n",
    "    # Scheduler step\n",
    "    scheduler.step()\n",
    "\n",
    "    # Compute average losses\n",
    "    avg_loss = total_loss / total_batches\n",
    "    avg_physics_loss = total_physics_loss / total_batches\n",
    "    avg_data_loss = total_data_loss / total_batches\n",
    "\n",
    "    # Validation\n",
    "    model.eval()\n",
    "    val_loss = 0.0\n",
    "    val_batches = 0\n",
    "    with torch.no_grad():\n",
    "        for xd_val, yd_val, zd_val, pd_val, ud_val, vd_val, wd_val in cfd_val_loader:\n",
    "            l_val = loss_data(model, xd_val, yd_val, zd_val, pd_val, ud_val, vd_val, wd_val)\n",
    "            val_loss += l_val.item()\n",
    "            val_batches += 1\n",
    "    avg_val_loss = val_loss / val_batches\n",
    "\n",
    "    # Store loss values for plotting\n",
    "    train_losses.append(avg_loss)\n",
    "    physics_losses.append(avg_physics_loss)\n",
    "    data_losses.append(avg_data_loss)\n",
    "    val_losses.append(avg_val_loss)\n",
    "\n",
    "    # Check for early stopping\n",
    "    if avg_val_loss < best_val_loss:\n",
    "        best_val_loss = avg_val_loss\n",
    "        patience_counter = 0\n",
    "        # Save the best model\n",
    "        save_model(f'{save_fn}_best.pt', model, optimizer, scheduler, training_params)\n",
    "    else:\n",
    "        patience_counter += 1\n",
    "        if patience_counter >= patience:\n",
    "            print(f\"Early stopping at epoch {epoch}\")\n",
    "            break\n",
    "\n",
    "    # Print progress\n",
    "    if epoch % print_every == 0 or epoch == 1:\n",
    "        print(f\"Epoch {epoch}/{epochs}\")\n",
    "        print(f\"  Avg Train Loss: {avg_loss:.6f}\")\n",
    "        print(f\"    Physics Loss: {avg_physics_loss:.6f}\")\n",
    "        print(f\"    Data Loss   : {avg_data_loss:.6f}\")\n",
    "        print(f\"  Avg Val Loss  : {avg_val_loss:.6f}\")\n",
    "\n",
    "# End timer\n",
    "end_time = time.time()  # Record end time\n",
    "\n",
    "# Calculate and display total training time\n",
    "total_training_time = end_time - start_time\n",
    "print(f'Total training time: {total_training_time:.2f} seconds')\n",
    "\n",
    "print('Training phase complete.')\n",
    "\n",
    "###################################### SAVE THE TRAINED MODEL\n",
    "if save_end:\n",
    "    save_model(f'{save_fn}.pt', model, optimizer, scheduler, training_params)\n",
    "    print(f'Model saved to {save_fn}.pt')\n",
    "    \n",
    "###################################### EVALUATE THE MODEL AND PLOT PRESSURE FIELD COMPARISON\n",
    "\n",
    "from sklearn.metrics import mean_squared_error, r2_score\n",
    "\n",
    "# Load the best saved model\n",
    "model, _, _, _ = load_model(f'./models/{save_fn}_best.pt', model)\n",
    "model.eval()\n",
    "\n",
    "# Evaluate the model on the entire CFD data\n",
    "x_cfd_full = torch.cat([xd for xd, _, _, _, _, _, _ in cfd_val_loader], dim=0)\n",
    "y_cfd_full = torch.cat([yd for _, yd, _, _, _, _, _ in cfd_val_loader], dim=0)\n",
    "z_cfd_full = torch.cat([zd for _, _, zd, _, _, _, _ in cfd_val_loader], dim=0)\n",
    "p_cfd_full = torch.cat([pd for _, _, _, pd, _, _, _ in cfd_val_loader], dim=0)\n",
    "\n",
    "with torch.no_grad():\n",
    "    qq_pred = model(x_cfd_full, y_cfd_full, z_cfd_full)\n",
    "    p_pred = qq_pred[:, 0].reshape(-1, 1)\n",
    "\n",
    "# Move data to CPU and convert to numpy\n",
    "x_val_cpu = x_cfd_full.cpu().numpy().flatten()\n",
    "y_val_cpu = y_cfd_full.cpu().numpy().flatten()\n",
    "z_val_cpu = z_cfd_full.cpu().numpy().flatten()\n",
    "p_val_cpu = p_cfd_full.cpu().numpy().flatten()\n",
    "p_pred_cpu = p_pred.cpu().numpy().flatten()\n",
    "\n",
    "# Compute evaluation metrics for pressure\n",
    "mse_p = mean_squared_error(p_val_cpu, p_pred_cpu)\n",
    "r2_p = r2_score(p_val_cpu, p_pred_cpu)\n",
    "\n",
    "print(f\"\\nMean Squared Error on Validation Set (Pressure): {mse_p:.6f}\")\n",
    "print(f\"R^2 Score on Validation Set (Pressure): {r2_p:.6f}\")\n",
    "\n",
    "# Prepare data for full simulation visualization\n",
    "\n",
    "# CFD Data\n",
    "x_cfd_val = x_val_cpu\n",
    "y_cfd_val = y_val_cpu\n",
    "z_cfd_val = z_val_cpu\n",
    "p_cfd_val = p_val_cpu\n",
    "\n",
    "# PINN Predictions\n",
    "x_pinn_val = x_val_cpu\n",
    "y_pinn_val = y_val_cpu\n",
    "z_pinn_val = z_val_cpu\n",
    "p_pinn_val = p_pred_cpu\n",
    "\n",
    "# Plotting\n",
    "fig, ax = plt.subplots(nrows=2, ncols=2, figsize=(14, 10), constrained_layout=True)\n",
    "\n",
    "# CFD Pressure Field in x-y plane\n",
    "sc0 = ax[0, 0].scatter(x_cfd_val, y_cfd_val, c=-p_cfd_val, cmap='RdBu', rasterized=True, marker='o')\n",
    "ax[0, 0].set(aspect='equal', xlabel='x', ylabel='y', title='CFD Pressure Field (x-y Plane)')\n",
    "fig.colorbar(sc0, ax=ax[0, 0], fraction=0.046, pad=0.04)\n",
    "\n",
    "# PINN Pressure Field in x-y plane\n",
    "sc1 = ax[1, 0].scatter(x_pinn_val, y_pinn_val, c=-p_pinn_val, cmap='RdBu', rasterized=True, marker='o')\n",
    "ax[1, 0].set(aspect='equal', xlabel='x', ylabel='y', title='PINN Predicted Pressure Field (x-y Plane)')\n",
    "fig.colorbar(sc1, ax=ax[1, 0], fraction=0.046, pad=0.04)\n",
    "\n",
    "# CFD Pressure Field in x-z plane\n",
    "sc2 = ax[0, 1].scatter(x_cfd_val, z_cfd_val, c=-p_cfd_val, cmap='RdBu', rasterized=True, marker='o')\n",
    "ax[0, 1].set(aspect='equal', xlabel='x', ylabel='z', title='CFD Pressure Field (x-z Plane)')\n",
    "fig.colorbar(sc2, ax=ax[0, 1], fraction=0.046, pad=0.04)\n",
    "\n",
    "# PINN Pressure Field in x-z plane\n",
    "sc3 = ax[1, 1].scatter(x_pinn_val, z_pinn_val, c=-p_pinn_val, cmap='RdBu', rasterized=True, marker='o')\n",
    "ax[1, 1].set(aspect='equal', xlabel='x', ylabel='z', title='PINN Predicted Pressure Field (x-z Plane)')\n",
    "fig.colorbar(sc3, ax=ax[1, 1], fraction=0.046, pad=0.04)\n",
    "\n",
    "# Set the case number for the title and filename\n",
    "sc = 1  # Case 1\n",
    "\n",
    "fig.suptitle(f'Pressure Field Comparison: Case {sc}', fontsize=16)\n",
    "plt.savefig(f'./plots/p_case_{sc}test.png')\n",
    "plt.show()"
   ]
  }
 ],
 "metadata": {
  "language_info": {
   "codemirror_mode": {
    "name": "ipython",
    "version": 3
   },
   "file_extension": ".py",
   "mimetype": "text/x-python",
   "name": "python",
   "nbconvert_exporter": "python",
   "pygments_lexer": "ipython3",
   "version": 3
  }
 },
 "nbformat": 4,
 "nbformat_minor": 2
}
